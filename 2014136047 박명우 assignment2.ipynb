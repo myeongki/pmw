{
 "cells": [
  {
   "cell_type": "markdown",
   "metadata": {},
   "source": [
    "## 문제1\n",
    "- 다음 6 개의 Expression에 대해 Evaluation 결과 값을 출력하고, 해당 결과가 나온 이유에 대해 설명하시오\n",
    "- 1 and 2 and 3 and 4\n",
    "- 1 or 2 or 3 or 4\n",
    "- 1 and 2 or 3 and 4\n",
    "- (1 and 2) or (3 and 4)\n",
    "- 1 or 2 and 3 or 4\n",
    "- (1 or 2) and (3 or 4)"
   ]
  },
  {
   "cell_type": "code",
   "execution_count": 1,
   "metadata": {},
   "outputs": [
    {
     "name": "stdout",
     "output_type": "stream",
     "text": [
      "4\n"
     ]
    }
   ],
   "source": [
    "print(1 and 2 and 3 and 4)"
   ]
  },
  {
   "cell_type": "markdown",
   "metadata": {},
   "source": [
    "and연산이므로 맨앞의 1이 true이므로 맨뒤의 숫자인 4가 출력된다."
   ]
  },
  {
   "cell_type": "code",
   "execution_count": 2,
   "metadata": {},
   "outputs": [
    {
     "name": "stdout",
     "output_type": "stream",
     "text": [
      "1\n"
     ]
    }
   ],
   "source": [
    "print(1 or 2 or 3 or 4)"
   ]
  },
  {
   "cell_type": "markdown",
   "metadata": {},
   "source": [
    "or연산이므로 맨앞이 true이면 뒤의 숫자들을 볼 필요가 없기 때문에 1이 출력되었다."
   ]
  },
  {
   "cell_type": "code",
   "execution_count": 3,
   "metadata": {},
   "outputs": [
    {
     "name": "stdout",
     "output_type": "stream",
     "text": [
      "2\n"
     ]
    }
   ],
   "source": [
    "print(1 and 2 or 3 and 4)"
   ]
  },
  {
   "cell_type": "markdown",
   "metadata": {},
   "source": [
    "and 연산자가 or연산자보다 우선순위 이므로 먼저 실행되고 그다음에 or연산자가 되기 때문에 2 or 4이다. 따라서 앞에가 true이므로 2가 출력된다."
   ]
  },
  {
   "cell_type": "code",
   "execution_count": 4,
   "metadata": {},
   "outputs": [
    {
     "name": "stdout",
     "output_type": "stream",
     "text": [
      "2\n"
     ]
    }
   ],
   "source": [
    "print((1 and 2) or (3 and 4))"
   ]
  },
  {
   "cell_type": "markdown",
   "metadata": {},
   "source": [
    "괄호가 우선순위가 제일 높으므로 괄호안의 계산들을 하고 or 연산을 하면 2가 출력된다."
   ]
  },
  {
   "cell_type": "code",
   "execution_count": 5,
   "metadata": {},
   "outputs": [
    {
     "name": "stdout",
     "output_type": "stream",
     "text": [
      "1\n"
     ]
    }
   ],
   "source": [
    "print(1 or 2 and 3 or 4)"
   ]
  },
  {
   "cell_type": "markdown",
   "metadata": {},
   "source": [
    "and연산자가 우선순위가 높기 때문에 2 and 3 이 되고 나머지는 or 연산자이므로 맨 앞의 1이 출력된다."
   ]
  },
  {
   "cell_type": "code",
   "execution_count": 6,
   "metadata": {},
   "outputs": [
    {
     "name": "stdout",
     "output_type": "stream",
     "text": [
      "3\n"
     ]
    }
   ],
   "source": [
    "print((1 or 2) and (3 or 4))"
   ]
  },
  {
   "cell_type": "markdown",
   "metadata": {},
   "source": [
    "괄호 안의 식을 연산하고 and를 하기 때문에 1 and 3 이므로 1이 true이므로 뒤의 숫자인 3이 출력된다."
   ]
  },
  {
   "cell_type": "markdown",
   "metadata": {},
   "source": [
    "## 문제2\n",
    "- 경로에 해당하는 문자열 1개를 입력 받아 그 안에 디렉토리 경로명과 파일명을 분리하여 리스트로 반환하는 함수 div_path(s)를 작성하시오.\n",
    "- 인자로 전달하는 문자열은 경로만 들어간다고 가정한다.\n",
    "- 각 디렉토리와 파일을 구분하는 문자는 '/'로 가정한다.\n",
    "- 반환하는 리스트의 첫번째 원소는 디렉토리이고 두번째 원소는 파일명이다.\n",
    "- 다음과 같은 실행 및 출력 결과가 도출되어야 한다.\n",
    "  - div_path('/usr/local/bin/python')\n",
    "   - ['/usr/local/bin', 'python']\n",
    "  - div_path('/home/chulsoo/test.txt')\n",
    "    - ['/home/chulsoo', 'test.txt']\n",
    "- [참고] 리스트(l) 내에 새로운 정수값 (예를 들어 10)을 넣는 방법은 l.append(10) 이다."
   ]
  },
  {
   "cell_type": "code",
   "execution_count": 8,
   "metadata": {},
   "outputs": [
    {
     "name": "stdout",
     "output_type": "stream",
     "text": [
      "/home/chulsoo/test.txt\n",
      "['/home/chulsoo', 'test.txt']\n"
     ]
    }
   ],
   "source": [
    "def div_path(n) :\n",
    "    a=0\n",
    "    while True :\n",
    "        if a==-1 :\n",
    "            break\n",
    "        b = a\n",
    "        a=n.find('/',a+1)\n",
    "    s = n[:b]\n",
    "    s2 = n[b+1:]\n",
    "    i = []\n",
    "    i.append(s)\n",
    "    i.append(s2)\n",
    "    return i\n",
    "c = input()\n",
    "print(div_path(c))"
   ]
  },
  {
   "cell_type": "code",
   "execution_count": 9,
   "metadata": {},
   "outputs": [
    {
     "name": "stdout",
     "output_type": "stream",
     "text": [
      "/usr/local/bin/python\n",
      "['/usr/local/bin', 'python']\n"
     ]
    }
   ],
   "source": [
    "def div_path(n) :\n",
    "    a=0\n",
    "    while True :\n",
    "        if a==-1 :\n",
    "            break\n",
    "        b = a\n",
    "        a=n.find('/',a+1)\n",
    "    s = n[:b]\n",
    "    s2 = n[b+1:]\n",
    "    i = []\n",
    "    i.append(s)\n",
    "    i.append(s2)\n",
    "    return i\n",
    "c = input()\n",
    "print(div_path(c))"
   ]
  },
  {
   "cell_type": "markdown",
   "metadata": {},
   "source": [
    "/의 처음위치를 찾고 다음 위치를 찾아서 마지막 없을 때까지 찾아서 -1 을 반환하면 그 전의 값을 슬라이싱을 사용하여 나눠서 append함수를 이용하여 리스트에 넣었다."
   ]
  },
  {
   "cell_type": "markdown",
   "metadata": {},
   "source": [
    "## 문제3\n",
    "- 두 개의 리스트를 인자로 받아서 그 두 개의 리스트에 대한 '합집합'을 반환하는 함수 list_union(lista, listb)를 작성하시오.\n",
    " - 인자로 전달하는 리스트 2 개에는 정수값만 들어간다고 가정하자.\n",
    " - 함수 내에서 새로운 리스트를 만들어 그 리스트 내에 인자로 받은 두 리스트의 모든 원소를 넣어 반환한다.\n",
    " - 반환하는 리스트에는 절대로 중복된 원소가 들어 있으면 안된다 (집합의 조건).\n",
    " - 반환하는 리스트는 정렬이 되어 있어야 한다.\n",
    " - 다음과 같은 실행 및 출력 결과가 도출되어야 한다.\n",
    "   - list_union([1, 2, 3], [1, 2, 4])\n",
    "     - [1, 2, 3, 4]\n",
    "   - list_union([-10, -5, 0, -1], [100, 9, 0, 9])\n",
    "     - [-10, -5, -1, 0, 9, 100]\n",
    "   - list_union([0, 1, 2], [0, 1, 2])\n",
    "     - [0, 1, 2]\n",
    " - [참고] 리스트(l) 내에 새로운 정수값 (예를 들어 10)을 넣는 방법은 l.append(10) 이다.\n",
    " - [참고] 임의의 정수값 (x)이 리스트 (l) 내에 존재하는지 판단하는 방법은 x in l 이다."
   ]
  },
  {
   "cell_type": "code",
   "execution_count": 1,
   "metadata": {},
   "outputs": [
    {
     "name": "stdout",
     "output_type": "stream",
     "text": [
      "[1, 2, 3, 4]\n",
      "[-10, -5, -1, 0, 9, 100]\n",
      "[0, 1, 2]\n"
     ]
    }
   ],
   "source": [
    "a = [1,2,3]\n",
    "b = [1,2,4]\n",
    "d = [-10, -5, 0, -1] \n",
    "e = [100, 9, 0, 9]\n",
    "f = [0, 1, 2]\n",
    "g = [0, 1, 2]\n",
    "def list_union(a,b):\n",
    "    c = a+b\n",
    "    c.sort()\n",
    "    l = len(c)\n",
    "    d=0\n",
    "    count = 0\n",
    "    for d in range(l-1):\n",
    "        if d+1 > l :\n",
    "            break\n",
    "        elif c[d] == c[d+1] :\n",
    "            c[d] = 0\n",
    "            count+=1\n",
    "    f=0\n",
    "    for f in range(count) :\n",
    "        c.remove(0)\n",
    "    c.sort()\n",
    "    return c\n",
    "print(list_union(a,b))\n",
    "print(list_union(d,e))\n",
    "print(list_union(f,g))"
   ]
  },
  {
   "cell_type": "markdown",
   "metadata": {},
   "source": [
    "a,b,d,e,f,g의 리스트를 주었고 두개의 리스트를 더한 값을 c에 넣었다. c를 정렬한 후 뒤에 수와 비교했을 때 같으면 그자리에 0을 채워 넣었고  count도 하나씩 세었다. 0의 개수는 count의 개수가 되어서 remove(0)을 count만큼만 돌려주면 0을 채워넣었던 자리에 있던 것들이 제거되고 다시 sort를 사용하여 정렬하면 합집합의 함수가 된다."
   ]
  },
  {
   "cell_type": "markdown",
   "metadata": {},
   "source": [
    "## 문제4\n",
    "- [ACM-ICPC 문제 1110번]\n",
    "  - 더하기 사이클 \n",
    "  https://www.acmicpc.net/problem/1110"
   ]
  },
  {
   "attachments": {},
   "cell_type": "markdown",
   "metadata": {},
   "source": [
    "![baek_1110.png](img/baek_1110.png)"
   ]
  },
  {
   "cell_type": "markdown",
   "metadata": {},
   "source": [
    "## 문제5\n",
    "- [Incremental Project] 웹 URL로 지정된 웹페이지를 문자열로 가져와 1) 모든 HTML 태그를 제외한 순수 텍스트 문자열만을 걸러내고, 2) 그 순수 텍스트 문자열 안에 존재하는 단어가 총 몇개인지 출력하는 프로그램을 작성하시오.\n",
    "  - HTML 태그는 다음 조건을 가지는 것이다.\n",
    "    - < 로 시작하여 >로 끝난다.\n",
    "    - 예를 들어, 아래와 같은 HTML 내용 내에 한 줄이 있다고 가정하자.\n",
    "    \n",
    "    <label for=\"keep_signed\">로그인 유지</label>\n",
    "    - 위 소스에서 HTML 태그를 제외한 순수 텍스트 문자열은 아래와 같다.\n",
    "   \n",
    "    로그인 유지\n",
    "    - 한편, 아래와 같은 HTML 한 줄이 있다고 가정하자.\n",
    "    \n",
    "    \n",
    "    \"<link rel=\"stylesheet\" href=\"/common/css/xe.min.css?20150910092654\" >\"\n",
    "    - 위 소스는 HTML 태그로만 구성된 것이며 걸러낼 수 있는 순수 텍스 문자열은 존재하지 않는다.\n",
    "  - 단어를 나누는 기준은 오로지 공백문자 (whitespace)이다.\n",
    "    - 즉, 위 순수 텍스트 문자열인 \"로그인 유지\"에서 분리한 단어는 \"로그인\"과 \"유지\"이다.\n",
    "  - 중복을 고려하지 않고 무조건 모든 단어의 개수를 세어서 출력한다.\n",
    "  - 본 숙제를 위하여 HTML 파싱과 관련된 모듈 (예. BeautifulSoup) 사용 금지\n",
    "  - 다음은 URL로 지정된 웹페이지를 특정 문자열로 가져오는 코드이다.\n",
    "    - 즉, 숙제 코드는 아래 코드로 부터 시작해야 한다."
   ]
  },
  {
   "cell_type": "code",
   "execution_count": 1,
   "metadata": {},
   "outputs": [
    {
     "name": "stdout",
     "output_type": "stream",
     "text": [
      "['컴퓨터공학부', '//', 'Schoolfun', '-', 'Study', 'and', 'Fun', '로그인', '로그인', '아이디', '비밀번호', '로그인', '유지', '브라우저를', '닫더라도', '로그인이', '계속', '유지될', '수', '있습니다.', '로그인', '유지', '기능을', '사용할', '경우', '다음', '접속부터는', '로그인할', '필요가', '없습니다.', '단,', '게임방,', '학교', '등', '공공장소에서', '이용', '시', '개인정보가', '유출될', '수', '있으니', '꼭', '로그아웃을', '해주세요.', '회원가입', 'ID/PW', '찾기', 'IT', '교육의', '글로벌', '메카!', '한국기술교육대학교', '컴퓨터공학부', 'Close', '소개', '구성원소개', '학사안내', '입학', '학부', '대학원', '학부광장', '자료실', '대학원', '공학교육인증', '학부서비스', 'Registration', '컴퓨터공학부', 'School', 'of', 'Computer', 'Science', 'and', 'Engineering', 'IT', '융합소프트웨어', '인력양성사업', 'CK', '(Creative', 'Korea)-I', '교육역량강화사업', '온라인', '컨텐츠', 'Online', 'Contents', 'for', 'Education', 'Capability', 'Empowerment', 'IT', '교육의', '글로벌', '메카', '한국기술교육대학교', '컴퓨터공학부', '홈페이지에', '오신', '것을', '환영합니다!', 'IT', '융합소프트웨어', '인력양성사업', '글로벌', '수준의', 'IT전문인력', '양성', 'IT융합분야에', '대한', '국제적인', '경쟁력', '고취', '바로가기', '교육역량강화사업', '컨텐츠', '교육역량강화사업', '온라인', '컨텐츠를', '소개합니다.', '바로가기', '공지사항', '[특성화]', 'G-STAR', '2017', '전시회', '학생', '모집', '공고', '2017-10-19', '14:46', '14:46', '[특성화]프레젠테이션', '실무', '자격증', '반', '특강', '2017-10-17', '17:41', '17:41', '2017년', '졸업작품', '영어발표', '경진대회', '및', '공학설계', '아이...', '2017-10-11', '09:24', '09:24', '[특성화]', '2017', 'IT융합', '프로그래밍', '경시대회', '모집', '공고', '2017-10-10', '15:49', '15:49', '[특성화]', 'ICTS', '2017', '중국', '전시회', '선발학생', '공고', '2017-09-28', '10:18', '10:18', '자유게시판', 'PaaS', '&amp;amp;', 'IaaS', '오라클데이', '개최', '(천안)', '2017-10-19', '08:58', '08:58', '제6회', '레몬', '정보보호', '세미나', '개최', '2017-10-06', '23:40', '23:40', '예비역', '훈련', '및', '뒤풀이', '공지!', '2017-09-19', '21:16', '21:16', '모의토익비를', '지원해드립니다.^^', '2017-09-17', '20:08', '20:08', '4공학관', 'B동', '입구', '담배피우는', '문제로', '글을', '올립니다.', '2017-09-11', '22:13', '22:13', '취업게시판', '[평택]', '애디언트오토모티브인테리어코리아_IT팀', '신입사...', '2017-10-19', '08:45', '08:45', '[천안]', '(주)ABB코리아', '채용', '공고문', '-', '로봇사업부', '채용(...', '2017-09-29', '11:29', '11:29', '영풍전자(주)', '-', '[안산]_직무별[제조기술/품질/개발/마...', '2017-09-25', '10:04', '10:04', '[용인-수원(내년', '통합예정)]', '㈜라온옵틱스', '신입,', '경력...', '2017-09-25', '09:21', '09:21', '엑시콘', '산학공동연구소', '연구원', '모집(~9/18)', '2017-09-08', '13:46', '13:46', 'Platum', '[현장]', '창업자,”스타트업', '전반', '분위기', '64점”,', '정부', '점...', '2017-10-19', '14:02', '14:02', '3D', '프린팅', '의료기업', '‘애니메디솔루션’,', '15억', '원', '투자유치', '2017-10-19', '12:29', '12:29', '넥스트플로어,', '스튜디오포립', '전략적', '투자', '2017-10-19', '12:19', '12:19', '메쉬코리아,', '올', '3분기', '누적', '거래액', '515억', '2017-10-19', '12:13', '12:13', '맹목적', '글로벌', '진출을', '목표로', '해서는', '안된다.', '2017-10-19', '12:03', '12:03', '전자신문', 'SK텔레콤', '양자기술,', '美서', '극찬', '\"정말', '잘', '만든', '멋...', '2017-10-19', '17:00', '17:00', '커넥티드카,', '5G+와이파이', '동시활용', '길', '열린다…글...', '2017-10-19', '17:00', '17:00', '[ICT시사용어]논스탠드얼론', '5G(NSA', '5G)', '2017-10-19', '16:13', '16:13', '中', 'ZTE', '접이식', '스마트폰', \"'액손M'\", '출시', '2017-10-19', '16:07', '16:07', '유영민', '장관,', '4차', '산업혁명', '대비', '아이디어', '기반', '...', '2017-10-19', '15:20', '15:20', 'TechCrunch', 'London-based', 'on-demand', 'delivery', 'startup', 'Jinn', 's...', '2017-10-19', '18:46', '18:46', 'Hiya,', 'a', 'Whitepages', 'spinout,', 'nabs', '$18M', 'to', 'for', 'i...', '2017-10-19', '16:24', '16:24', 'European', 'house', 'removals', 'platform', 'Movinga', 'raise...', '2017-10-19', '15:45', '15:45', 'Safaricom', 'launches', 'innovation', 'center', 'to', 'move', 'b...', '2017-10-19', '15:30', '15:30', 'Tony', 'Fadell’s', 'newest', 'product?', 'An', 'investing', 'and...', '2017-10-19', '15:15', '15:15', 'Back', 'to', 'Top', 'Leading', 'Together', 'for', 'Brighter', 'Future', 'Quick', 'Navigation', '한국기술교육대학교', '홈페이지', '한국기술교육대학교', 'WEBMAIL', '한국기술교육대학교', '온라인', '평생교육원', 'IT', '융합소프트웨어', '인력양성사업', '컴퓨터공학부', '교직원', '업무', '자료실', '컴퓨터공학부', '포트폴리오', 'Campus', 'Location', 'Contact', 'CSE', '충청남도', '천안시', '동남구', '병천면', '충절로', '1600', '한국기술교육대학교', '컴퓨터공학부', '학과사무실', 'TEL', '(041)', '560', '1460', '~', '1461', 'FAX', '(041)', '560', '1462', 'Facebook', 'Twitter', 'Google', 'Plus', 'Linkedin', '(31253)', '충청남도', '천안시', '동남구', '병천면', '충절로', '1600', '(가전리,', '한국기술교육대학교)', '컴퓨터공학부', 'Copyright', '©', '2015.', 'All', 'rights', 'reserved']\n"
     ]
    }
   ],
   "source": [
    "from urllib import request \n",
    " \n",
    "url = 'http://cse.koreatech.ac.kr'\n",
    "f = request.urlopen(url)\n",
    "source_bytes = f.read()\n",
    "source = source_bytes.decode('utf-8')\n",
    "source.strip()\n",
    "l = len(source)\n",
    "num = []\n",
    "sw= True\n",
    "count = 0\n",
    "for c in range(l) :\n",
    "    if source[c] == '<' :\n",
    "        sw = False\n",
    "        count+=1\n",
    "        continue\n",
    "    if source[c] == '>' :\n",
    "        sw = True\n",
    "        num.append(' ')\n",
    "        continue\n",
    "    if sw == True:\n",
    "        num.append(source[c])\n",
    "        \n",
    "c= 0\n",
    "for c in range(num.count('\\t')):\n",
    "    num.remove('\\t')\n",
    "\n",
    "st = ''.join(num)\n",
    "#print(st)\n",
    "key  =st.replace('//', ' ')\n",
    "key = st.replace('--', ' ')\n",
    "print(key.split())"
   ]
  },
  {
   "cell_type": "markdown",
   "metadata": {},
   "source": [
    "<가 나왔을 때 다음 > 나올 때까지 전부 건너 띄고 그 외의 것들을 출력하게 했다. 처음에는 append()를 사용하여 list로 했고 \\t 코드를 remove를 사용하여 없애고 list를 문자열로 만들어서 split()함수를 사용하여 단어로 구분하였다."
   ]
  },
  {
   "cell_type": "markdown",
   "metadata": {},
   "source": [
    "### 소감\n",
    "- 리스트랑 문자열을 사용해서 풀어서 시간이 좀 걸렸지만 풀었다는 것에 만족한다\n",
    "- 매번 이러닝을 듣고가서 수업시간에 집중이 더 잘된다."
   ]
  },
  {
   "cell_type": "code",
   "execution_count": null,
   "metadata": {
    "collapsed": true
   },
   "outputs": [],
   "source": []
  }
 ],
 "metadata": {
  "kernelspec": {
   "display_name": "Python 3",
   "language": "python",
   "name": "python3"
  },
  "language_info": {
   "codemirror_mode": {
    "name": "ipython",
    "version": 3
   },
   "file_extension": ".py",
   "mimetype": "text/x-python",
   "name": "python",
   "nbconvert_exporter": "python",
   "pygments_lexer": "ipython3",
   "version": "3.6.1"
  }
 },
 "nbformat": 4,
 "nbformat_minor": 2
}
