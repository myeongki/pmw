{
 "cells": [
  {
   "cell_type": "markdown",
   "metadata": {},
   "source": [
    "## 숙제4"
   ]
  },
  {
   "cell_type": "markdown",
   "metadata": {},
   "source": [
    "[1번문제]\n",
    "파일 s.txt내의 다음 내용과 함께 아래 문제의 코드를 제시하시오.<br />\n",
    "pig ham<br />\n",
    "cat dog<br />\n",
    "ham bird<br />\n",
    "dog pig<br />"
   ]
  },
  {
   "cell_type": "markdown",
   "metadata": {},
   "source": [
    "-  1) 파일 s.txt을 읽어서 각 라인에 있는 첫 번째 단어(문자열) 자체들을 기준으로 라인별 정렬후 파일 s1.txt에 그 결과를 기록하는 코드를 작성하시오. 즉, 프로그램 수행 후 s1.txt에 있는 파일 내용은 다음과 같다."
   ]
  },
  {
   "cell_type": "code",
   "execution_count": 2,
   "metadata": {},
   "outputs": [
    {
     "name": "stdout",
     "output_type": "stream",
     "text": [
      "cat dog\n",
      "dog pig\n",
      "ham bird\n",
      "pig ham\n",
      "\n"
     ]
    }
   ],
   "source": [
    "s = \"\"\"pig ham\n",
    "cat dog\n",
    "ham bird\n",
    "dog pig\n",
    "\"\"\"\n",
    "\n",
    "f = open('s.txt', 'w')\n",
    "f.write(s)\n",
    "f.close()\n",
    "\n",
    "f = open('s.txt')\n",
    "line = []\n",
    "line2 = []\n",
    "for line in f.readlines():\n",
    "    line2.append(line)\n",
    "line2.sort()\n",
    "f.close()\n",
    "\n",
    "f = open('s1.txt', 'w')\n",
    "f.writelines(line2)\n",
    "f.close()\n",
    "\n",
    "f = open('s1.txt')\n",
    "print(f.read())\n",
    "f.close()"
   ]
  },
  {
   "cell_type": "markdown",
   "metadata": {},
   "source": [
    "- 파일 입출력을 한 뒤 line2리스트에 넣어 sort함수를 이용하여 정렬후 s1txt파일에 넣었다"
   ]
  },
  {
   "cell_type": "markdown",
   "metadata": {},
   "source": [
    " - 2) 파일 s.txt을 읽어서 각 라인에 있는 두 번째 단어(문자열) 자체들을 기준으로 라인별 정렬후 파일 s2.txt에 그 결과를 기록하는 코드를 작성하시오. 즉, 프로그램 수행 후 s2.txt에 있는 파일 내용은 다음과 같다."
   ]
  },
  {
   "cell_type": "code",
   "execution_count": 4,
   "metadata": {
    "scrolled": true
   },
   "outputs": [
    {
     "name": "stdout",
     "output_type": "stream",
     "text": [
      "ham bird\n",
      "cat dog\n",
      "pig ham\n",
      "dog pig\n",
      "\n"
     ]
    }
   ],
   "source": [
    "def cmp_by_each_element(a):\n",
    "    return a[4]\n",
    "\n",
    "line2.sort(key=cmp_by_each_element)\n",
    "f = open('s2.txt', 'w')\n",
    "f.writelines(line2)\n",
    "f.close()\n",
    "\n",
    "f = open('s2.txt')\n",
    "print(f.read())\n",
    "f.close()"
   ]
  },
  {
   "cell_type": "markdown",
   "metadata": {},
   "source": [
    "cmp_by_each_element함수를 사용하여 4번째인 즉 두번째 단어의 시작을 읽게하여 정렬하게 하였다"
   ]
  },
  {
   "cell_type": "markdown",
   "metadata": {},
   "source": [
    "- 3) 파일 s.txt을 읽어서 각 라인들에 있는 모든 단어들을 순차적으로 다시 나열하되 각 라인에 세 개의 단어들이 오도록 하여 s3.txt에 기록하는 코드를 작성하시오. 즉, 프로그램 수행 후 s3.txt에 있는 파일 내용은 다음과 같다."
   ]
  },
  {
   "cell_type": "code",
   "execution_count": 7,
   "metadata": {
    "scrolled": true
   },
   "outputs": [
    {
     "name": "stdout",
     "output_type": "stream",
     "text": [
      "pig ham cat \n",
      "dog ham bird \n",
      "dog pig \n"
     ]
    }
   ],
   "source": [
    "f = open('s.txt')\n",
    "line = []\n",
    "line2 = []\n",
    "for line in f.readlines():\n",
    "    line2.append(line)\n",
    "f.close()    \n",
    "line3 =[]\n",
    "line3 = ''.join(line2)\n",
    "line3 = line3.split()\n",
    "line4 = []\n",
    "for i in range(len(line3)):\n",
    "        if len(line3) >= 3: \n",
    "            for j in range(3):\n",
    "                line4.append(line3.pop(0)+ ' ')\n",
    "            line4.append('\\n')\n",
    "        else:\n",
    "            if(not line3):\n",
    "                break\n",
    "            line4.append(line3.pop(0)+ ' ')\n",
    "\n",
    "f = open('s3.txt', 'w')\n",
    "f.writelines(line4)\n",
    "f.close()\n",
    "\n",
    "f = open('s3.txt')\n",
    "print(f.read())\n",
    "f.close()"
   ]
  },
  {
   "cell_type": "markdown",
   "metadata": {},
   "source": [
    "split함수를 이용하여 단어로 나눈뒤 len함수를 사용하여 3개보다 길이가 길때는 3개씩 pop하여 꺼내게 하였고 길이가 3이하일 경우는 line3가 빈리스트가 될 때까지 pop을 이용하여 꺼냈다. 그렇게 생성된 것을 파일에 넣었다"
   ]
  },
  {
   "cell_type": "markdown",
   "metadata": {},
   "source": [
    "[2번 문제]<br >\n",
    "다음과 같은 조건들을 참고하여 회원 가입 및 로그인 프로그램을 작성하시오.<br >\n",
    "\n",
    "1) 프로그램 시작 후 다음과 같은 메시지가 출력되어 1, 2, 3 중 하나의 값을 입력 받도록 한다.<br >\n",
    "Welcome to Our Service<br >\n",
    "\n",
    "1. Sign Up<br >\n",
    "2. Sign In<br >\n",
    "3. Quit<br >\n",
    "2) 1을 선택하면 ID, Password, Name, School의 4가지 정보를 입력받아 파일에 저장하는 프로그램을 작성한다.<br >\n",
    "2-1) 입력된 내용은 access.txt 라는 이름의 텍스트 파일 내에 저장된다.<br >\n",
    "2-2) access.txt 파일의 각 라인에는 가입된 회원 각각의 정보가 \"[id]: [password], [name], [school]\" 형태로 저장된다.<br >\n",
    "2-3) 즉, 가입 회원이 10명이면 access.txt 파일 내에 라인 수도 정확히 10개이다.<br >\n",
    "2-4) 암호화 방식은 sha 모듈을 활용한다. sha 모듈 활용 방법은 본 문제의 마지막에 제시된 sha 활용 예를 참고한다.<br >\n",
    "즉, access.txt 파일 내에 password 정보는 암호화 되어 저장되어야 한다.<br >\n",
    "2-5) 회원 정보를 입력 받을 때 id를 입력 받은 직후 access.txt를 확인하여 이미 존재하는 id가 입력되었다면 다음 메시지를 출력하고 id 정보를 다시 입력받는다.<br >\n",
    "Sorry, the entered ID is already used.<br >\n",
    "3) 2를 선택하면 ID, Password의 2가지 정보를 입력받는 프로그램을 작성한다.<br >\n",
    "3-1) 입력된 ID 정보가 access.txt에 존재하지 않으면 다음과 같은 메시지를 출력하고 다시 입력받는다.<br >\n",
    "Sorry, you are not a registered member.<br >\n",
    "3-2) 입력된 ID가 올바르게 존재하지만 Password 정보가 access.txt 파일에 있는 정보와 불일치하면 다음과 같은 메시지를 출력하고 Password를 다시 입력받는다.<br >\n",
    "Sorry, the entered password is not correct.<br >\n",
    "이 때에도 사용자가 입력한 Password 정보와 함께 sha 모듈이 활용되어야 한다.<br >\n",
    "3-3) 입력된 ID와 Password가 모두 올바르면 다음과 같은 메시지를 출력한다.<br >\n",
    "Hello [name]!<br >\n",
    "위 [name]에는 access.txt에 기록되어 있는 name 정보를 출력한다.<br >\n",
    "4) 3을 선택하면 프로그램이 끝난다.<br >\n",
    "[참고] sha 모듈 활용 예<br >"
   ]
  },
  {
   "cell_type": "code",
   "execution_count": 9,
   "metadata": {
    "scrolled": false
   },
   "outputs": [
    {
     "ename": "ModuleNotFoundError",
     "evalue": "No module named 'sha'",
     "output_type": "error",
     "traceback": [
      "\u001b[1;31m---------------------------------------------------------------------------\u001b[0m",
      "\u001b[1;31mModuleNotFoundError\u001b[0m                       Traceback (most recent call last)",
      "\u001b[1;32m<ipython-input-9-f90fe9fc923c>\u001b[0m in \u001b[0;36m<module>\u001b[1;34m()\u001b[0m\n\u001b[1;32m----> 1\u001b[1;33m \u001b[1;32mimport\u001b[0m \u001b[0msha\u001b[0m\u001b[1;33m\u001b[0m\u001b[0m\n\u001b[0m\u001b[0;32m      2\u001b[0m \u001b[0mpassword_plain\u001b[0m \u001b[1;33m=\u001b[0m \u001b[1;34m\"12345678\"\u001b[0m\u001b[1;33m\u001b[0m\u001b[0m\n\u001b[0;32m      3\u001b[0m \u001b[0mpassword_encrypted\u001b[0m \u001b[1;33m=\u001b[0m \u001b[0msha\u001b[0m\u001b[1;33m.\u001b[0m\u001b[0mnew\u001b[0m\u001b[1;33m(\u001b[0m\u001b[0mpassword_plain\u001b[0m\u001b[1;33m)\u001b[0m\u001b[1;33m.\u001b[0m\u001b[0mhexdigest\u001b[0m\u001b[1;33m(\u001b[0m\u001b[1;33m)\u001b[0m\u001b[1;33m\u001b[0m\u001b[0m\n\u001b[0;32m      4\u001b[0m \u001b[0mprint\u001b[0m \u001b[1;33m(\u001b[0m\u001b[0mpassword_encrypted\u001b[0m\u001b[1;33m)\u001b[0m\u001b[1;33m\u001b[0m\u001b[0m\n\u001b[0;32m      5\u001b[0m \u001b[1;33m\u001b[0m\u001b[0m\n",
      "\u001b[1;31mModuleNotFoundError\u001b[0m: No module named 'sha'"
     ]
    }
   ],
   "source": [
    "import sha\n",
    "password_plain = \"12345678\"\n",
    "password_encrypted = sha.new(password_plain).hexdigest()\n",
    "print (password_encrypted)\n",
    "\n",
    "# import hashlib\n",
    "# hasher = hashlib.sha1()\n",
    "# password_plain = 'ripemd160'\n",
    "# password_encrypted = hashlib.new(password_plain)\n",
    "# password_encrypted.hexdigest()\n",
    "# print(password_encrypted)"
   ]
  },
  {
   "cell_type": "code",
   "execution_count": 3,
   "metadata": {},
   "outputs": [
    {
     "name": "stdout",
     "output_type": "stream",
     "text": [
      "Welcome to Our Service\n",
      "    1.Sign Up\n",
      "    2.Sign In\n",
      "    3.Quit\n",
      "1\n",
      "input ID\n",
      "\n",
      "pmw\n",
      "input Password\n",
      "12345\n",
      "input Name\n",
      "pmw1\n",
      "input School\n",
      "pmw2\n",
      "oh : 5994471abb01112afcc18159f6cc74b4f511b99806da59b3caf5a9c173cacfc5 , chan , korea\n",
      "jupyter123 : 5994471abb01112afcc18159f6cc74b4f511b99806da59b3caf5a9c173cacfc5 , park , kut\n",
      "python : 5994471abb01112afcc18159f6cc74b4f511b99806da59b3caf5a9c173cacfc5 , py , kut\n",
      "python1 : 5994471abb01112afcc18159f6cc74b4f511b99806da59b3caf5a9c173cacfc5 , py , kut\n",
      "pmw : 5994471abb01112afcc18159f6cc74b4f511b99806da59b3caf5a9c173cacfc5 , pmw1 , pmw2\n",
      "\n",
      "Welcome to Our Service\n",
      "    1.Sign Up\n",
      "    2.Sign In\n",
      "    3.Quit\n",
      "2\n",
      "input ID\n",
      "\n",
      "oh\n",
      "input Password\n",
      "123\n",
      "sorry, the entered password is not correct\n",
      "input Password\n",
      "12345\n",
      "Hello [chan]!\n",
      "Welcome to Our Service\n",
      "    1.Sign Up\n",
      "    2.Sign In\n",
      "    3.Quit\n",
      "3\n"
     ]
    }
   ],
   "source": [
    "import hashlib\n",
    "def welcome():\n",
    "    wel = \"\"\"Welcome to Our Service\n",
    "    1.Sign Up\n",
    "    2.Sign In\n",
    "    3.Quit\"\"\"\n",
    "    print(wel)\n",
    "    n = input()\n",
    "    if n=='1' :\n",
    "        sign_up()\n",
    "    elif n=='2':\n",
    "        sign_in()\n",
    "    elif n=='3':\n",
    "        return \"exit\"\n",
    "        \n",
    "def sign_up():\n",
    "    print(\"input ID\\n\")\n",
    "    idea = input()\n",
    "    f = open('access.txt')\n",
    "    for line in f.readlines():\n",
    "        line2 = line.split()\n",
    "        if(line2[0]==idea):\n",
    "            print(\"Sorry, the entered ID is already used.\")\n",
    "            sign_up()\n",
    "    f.close()\n",
    "    print(\"input Password\")\n",
    "    password = input()\n",
    "    p = password.encode('utf-8')\n",
    "    h = hashlib.sha256()\n",
    "    h.update(p)\n",
    "    h256 = h.hexdigest()\n",
    "    print(\"input Name\")\n",
    "    name = input()\n",
    "    print(\"input School\")\n",
    "    school = input() \n",
    "    s = \"%s : %s , %s , %s\\n\" %(idea, h256, name, school)\n",
    "    f = open('access.txt', 'a')\n",
    "    f.write(s)\n",
    "    f.close()\n",
    "    f = open('access.txt')\n",
    "    print(f.read())\n",
    "    f.close()\n",
    "\n",
    "def sign_in():\n",
    "    print(\"input ID\\n\")\n",
    "    idea = input()\n",
    "    icount = 0\n",
    "    fcount=0\n",
    "    f = open('access.txt')\n",
    "    for line in f.readlines():\n",
    "        line2 = line.split()\n",
    "        if(line2[0]!=idea):\n",
    "            icount+=1 \n",
    "        fcount+=1\n",
    "    if(icount==fcount):\n",
    "        print(\"Sorry, you are not a registered member\")\n",
    "        sign_in()\n",
    "    f.close()\n",
    "    key = False\n",
    "    while(True):\n",
    "        print(\"input Password\")\n",
    "        password = input()\n",
    "        p = password.encode('utf-8')\n",
    "        h = hashlib.sha256()\n",
    "        h.update(p)\n",
    "        h256 = h.hexdigest()\n",
    "        f = open('access.txt')\n",
    "        for line in f.readlines():\n",
    "            line2 = line.split()\n",
    "            if(line2[0]==idea):\n",
    "                if(line2[2]==h256):\n",
    "                    s=\"Hello [%s]!\" %(line2[4])\n",
    "                    print(s)\n",
    "                    key =True\n",
    "                    break\n",
    "                else:\n",
    "                    print(\"sorry, the entered password is not correct\")\n",
    "                    key=False\n",
    "                    break\n",
    "                    \n",
    "            else:\n",
    "                continue\n",
    "        f.close()\n",
    "        if(key==True):\n",
    "            break\n",
    "while(True):\n",
    "    if(welcome()==\"exit\"):\n",
    "        break"
   ]
  },
  {
   "cell_type": "markdown",
   "metadata": {},
   "source": [
    "welcome함수에는 1,2,3을 입력받았을 때 각각의 함수를 호출하게 하였다. 1번을 입력할때는 sign_up()함수를 불러서 id password name school을 입력받았고 id를 입력받을때는 기존의 access파일에 id가 있는지 검사후 있다면 다시 입력하게 하였고 없다면 password를 입력하게 하였다 password부분은 암호화하였다. 입력받은 정보를 access파일에 넣었다 sign_in부분에서는 입력받은 id는 파일을 한줄씩읽어서 일치하는 id가 없을 때마다 icount를 1씩 증가시켰고 만약 일치한다면 if문을 거치지 않고 fcount가 증가되기때문에 fcount값과 icount값이 다르다면 id가 있는 것이고 같다면 id가 없는 것으로 간주하였다. password부분은 먼저 key값을 False로 주고 무한루프문으로 들어가서 한줄씩 읽어 id가 일치하면 다시한번 if문으로 들어가 password가 일치하는지 확인후 맞다면 hello와 함께 name을 출력하게 하였고 아니라면 다시 password를 입력하게하였다. password가 맞으면 key 값을 true로 변경하여 무한로프를 빠져나가게 하였다. 3번을 입력시에는 프로그램이 끝나야하므로 return 'exit'를 하여 exit가 일치한다면 무한루프를 빠져나가 프로그램을 종료하게 만들었다"
   ]
  },
  {
   "cell_type": "markdown",
   "metadata": {},
   "source": [
    "[3번 문제]<br >\n",
    "range() 함수와 유사한 frange() 함수를 다음 조건을 참고하여 만드시오.<br >\n",
    "\n",
    "- 1) frange()의 인자 구성은 다음과 같이 range와 동일하지만 각 인수들은 음수를 받지 않는다고 가정한다.<br >\n",
    "  - range(stop)<br >\n",
    "  - range(start, stop[, step])<br >\n",
    "- 2) frange() 함수의 인자에 대한 기본 시작(start) 값은 0.0이고, 기본 단계(step) 값은 0.1이다.<br >\n",
    "- 3) frange 사용 예<br >\n",
    "  - 3-1) frange(0.5)<br >\n",
    "     - [0.0, 0.1, 0.2, 0.3, 0.4]<br >\n",
    "  - 3-2) frange(1.0, 2.0)<br >\n",
    "    - [1.0, 1.1, 1.2, 1.3, 1.4, 1.5, 1.6, 1.7, 1.8, 1.9]<br > \n",
    "  - 3-3) frange(2.2, 4.0, 0.5)<br >\n",
    "    - [2.2, 2.7, 3.2, 3.7]<br >"
   ]
  },
  {
   "cell_type": "code",
   "execution_count": 1,
   "metadata": {},
   "outputs": [
    {
     "name": "stdout",
     "output_type": "stream",
     "text": [
      "[0.0, '0.1', '0.2', '0.3', '0.4', '0.5']\n",
      "[1.0, '1.1', '1.2', '1.3', '1.4', '1.5', '1.6', '1.7', '1.8', '1.9', '2.0']\n",
      "[2.2, '2.7', '3.2', '3.7']\n"
     ]
    }
   ],
   "source": [
    "def frange(*s):\n",
    "    num = []\n",
    "    if len(s) == 0:\n",
    "        return 0\n",
    "    elif len(s) ==1:\n",
    "        n = 0.0\n",
    "        num.append(n)\n",
    "        for i in range(int(s[0]/0.1)):\n",
    "            n+=0.1\n",
    "            num.append('%.1f'%n)\n",
    "        return num\n",
    "    elif len(s) == 2:\n",
    "        start = s[0]\n",
    "        fin = s[1]\n",
    "        num.append(start)\n",
    "        for i in range(int((s[1]-s[0])/0.1)):\n",
    "            start+=0.1\n",
    "            num.append('%.1f' %start)\n",
    "        return num\n",
    "    elif len(s) == 3:\n",
    "        start = s[0]\n",
    "        fin = s[1]\n",
    "        num.append(start)\n",
    "        for i in range(int((s[1]-s[0])/s[2])):\n",
    "            start += s[2]\n",
    "            num.append('%.1f' %start)\n",
    "        return num\n",
    "print(frange(0.5))\n",
    "print(frange(1.0, 2.0))\n",
    "print(frange(2.2, 4.0, 0.5))"
   ]
  },
  {
   "cell_type": "markdown",
   "metadata": {},
   "source": [
    "s를 가변인수로 받아서 s길이별로 구분지었다. 1일경우는 stop부분이므로 start와 step을 각각 기본값으로 주어 증가시켜 출력하였고\n",
    "2일 경우는 start와 stop부분이므로 step만 기본값으로 주어 증가시키게 하였다 3일 경우는 start stop step값을 입력받은 것이므로 start에 step을 더해 출력하게 하였다"
   ]
  },
  {
   "cell_type": "markdown",
   "metadata": {},
   "source": [
    "[4번문제]<br >\n",
    "가변인수를 받는 함수 sum()을 다음과 같은 조건을 참고하여 구현하시오<br >\n",
    "\n",
    "- sum() 사용 예<br >\n",
    "   - sum()<br >\n",
    "       - 0<br >\n",
    "   - sum(1, 2)<br >\n",
    "     - 3<br >\n",
    "   - sum(1, 2, 3, 4, 5)<br >\n",
    "      - 15<br >\n",
    "   - sum(1, 5, 7, 2, -10)<br >\n",
    "     - 5"
   ]
  },
  {
   "cell_type": "code",
   "execution_count": 1,
   "metadata": {},
   "outputs": [
    {
     "name": "stdout",
     "output_type": "stream",
     "text": [
      "0\n",
      "3\n",
      "15\n",
      "5\n"
     ]
    }
   ],
   "source": [
    "def sum(start = 0 , *s):\n",
    "    i = 0\n",
    "    for i in range(len(s)):\n",
    "        start+=s[i]\n",
    "    return start\n",
    "\n",
    "print(sum())\n",
    "print(sum(1, 2))\n",
    "print(sum(1, 2, 3, 4, 5))\n",
    "print(sum(1, 5, 7, 2, -10))"
   ]
  },
  {
   "cell_type": "markdown",
   "metadata": {},
   "source": [
    "가변인자 s의 길이만큼 for문을 돌려서 합해주었다"
   ]
  },
  {
   "cell_type": "markdown",
   "metadata": {},
   "source": [
    "[5번 문제]<br >\n",
    "여러 단어로 이루어진 문자열을 입력받아 각 단어의 첫글자로 이루어진 단어를 대문자로 출력하는 myinitial() 함수를 다음 조건을 참고하여 작성하시오.<br >\n",
    "\n",
    "1) 다음에 제시되는 함수들을 모두 이용해야 한다.<br >\n",
    " - split<br >\n",
    " - map<br >\n",
    " - join <br>\n",
    "2) myinitial() 함수 사용 예<br >\n",
    " - myinitial(\"as soon as possible\")\n",
    " - ASAP"
   ]
  },
  {
   "cell_type": "code",
   "execution_count": 2,
   "metadata": {},
   "outputs": [
    {
     "name": "stdout",
     "output_type": "stream",
     "text": [
      "[['As'], ['Soon'], ['As'], ['Possible']]\n",
      "['A', 'S', 'A', 'P']\n",
      "ASAP\n"
     ]
    }
   ],
   "source": [
    "def myinitial(s):\n",
    "    s1 = s.split()\n",
    "    s2 = []\n",
    "    s3=[]\n",
    "    s4 = []\n",
    "    i = 0\n",
    "    s2 = list(map(cap, s1))\n",
    "    print(s2)\n",
    "    for i in range(len(s2)):\n",
    "        s3.append(s2[i][0][0])\n",
    "    print(s3)\n",
    "    result = ''.join(s3)\n",
    "    return result\n",
    "def cap(l):\n",
    "    l2 = ''.join(l)\n",
    "    l3 = []\n",
    "    l3.append(l2.capitalize())\n",
    "    return l3\n",
    "print(myinitial(\"as soon as possible\"))"
   ]
  },
  {
   "cell_type": "markdown",
   "metadata": {},
   "source": [
    "cap함수는 capitalize함수를 사용후 리스트로 반환하게하는 함수이고 myinitial함수는 문자열을 입력받아서 map함수를 사용하여 cap함수를 호출하고 for문을 돌려서 각각리스트의 1번째인자를 불러 새로운 리스트 생성후 join함수를 이용하여 문자열로 만들어 출력하게하였다"
   ]
  },
  {
   "cell_type": "markdown",
   "metadata": {
    "collapsed": true
   },
   "source": [
    "[6번 문제]<br >\n",
    "음이 아닌 정수 n를 입력받으면 n! (factorial)을 계산하는 myfact() 함수를 재귀적 함수로 구현하시오.<br >\n",
    "\n",
    "[옵션] 참을 수 있는 정도 만큼의 수행시간을 직접 기다려보면서 n을 늘려보도록 합시다."
   ]
  },
  {
   "cell_type": "code",
   "execution_count": 1,
   "metadata": {
    "scrolled": true
   },
   "outputs": [
    {
     "name": "stdout",
     "output_type": "stream",
     "text": [
      "606271473090425686416592191321865759332552448392879367166449052023347160091450494283070570971764176184279305313002572562264253551375181170918679128344492023353894931544773406753038313532367582500195738883414061823558745912247194469757042046639302270243850818779739023580309037737477916816228566622226790926296680396654006346557409478440592203177264601503214418559292141936917314334007537962256969203187113298767670411849894433094596134068814808337672496305224260700236162388216481224583953983859944321063266354675891044525757151122298215261012773531688330953171994408561904539850409549346422951094785630676025406517526627113183642431195846643411643215373204125741945778692497973560795465129223594556573446843353069562941566836564491105355010906622720353682251760493765380920433198170367622989571453462906783442372851100429531596837131421041339233640631063071337212246516695256398141610112649106939275391279947564954253273991971417691117660151337339898431997551459920543760907420187944631325443044401968807790457212863359865224329298652778863583431526748589401038863538192001626600433773476510621139719185079469291051782245156391794649634376858766837897903572652517980767918521481713805743382538965755812640005529182625344279988428128090747401910319365734225690471485953404382601260260183661989661523939949111974862112381658284836539112329471665308611857188737186695149047286957410089349679453234384749050887910352143836641678191120409944361075248307267037212960519018069828365501674404176573310551914758011180179191184715113883477488353893031642558793179040769990206280400316719024800345760008118653806523073644039006515500258034132741770054272569696748396062654626139209006794579341606513695410794484209645535617159104994010680043215876850166765674651348616724325554261339153090135143901765203478407683822328227105203763177496905704046776032362278385547860198144802332674275803784991447442854624351191022124820575200882661740729188199537133644909477269879123710951356017821007851387297146299334501026066509826522536987780311450523147297411311182627180369152714723372711825731265289837315701208390841196956022305447850178116839286185196707182335203264187503417176772248152301583089880921814946006268259364461450413120477832487013024308133888000000000000000000000000000000000000000000000000000000000000000000000000000000000000000000000000000000000000000000000000000000000000000000000000000000000000000000000000000000000000000000000000000000000000000000000000000000000000000000000000\n"
     ]
    }
   ],
   "source": [
    "def myfact(num) :\n",
    "    if num == 1:\n",
    "        return 1\n",
    "    return num*myfact(num-1)\n",
    "\n",
    "print(myfact(971))"
   ]
  },
  {
   "cell_type": "markdown",
   "metadata": {},
   "source": [
    "재귀함수를 사용하여 num*myfact(num-1)을 불러서 num의 값이 1이 되면 이때까지 곱한 값이 팩토리얼값과 같아지므로 출력하게하였다"
   ]
  },
  {
   "cell_type": "markdown",
   "metadata": {
    "collapsed": true
   },
   "source": [
    "[7번 문제]<br >\n",
    "(서술형) import string 과 from string import * 의 차이점을 설명하시오."
   ]
  },
  {
   "cell_type": "markdown",
   "metadata": {},
   "source": [
    "import만 쓴다면 string.foo방식으로 사용한다. 현재 네임스페이스의 string이라는 모듈을 그대로 가져온 것이고 \n",
    " from string import 는 string모듈의 모든 public속성이나 함수를 몽땅 현재 네임스페이스 안으로 가지고온다. 만약 같은이름이있으면 overwrite가 된다"
   ]
  },
  {
   "cell_type": "markdown",
   "metadata": {},
   "source": [
    "[8번 문제]<br >\n",
    "이전 Assignment 3의 마지막 문제는 웹 URL로 지정된 웹페이지를 문자열로 가져와 모든 HTML 태그 및 CSS와 Javascript를 제외한 순수 텍스트를 얻어내고 그 안에 존재하는 단어를 추출하여 각 단어들에 대해 출현빈도를 사전형태({'world': 2, 'hello': 1, 'python': 1})로 저장하여 출력하는 것이었다. 이번에는 Assignment 3를 확장하여 다음과 같은 조건을 만족하도록 구현하시오.<br >\n",
    "\n",
    "1) 다음 사이트에서 제시되는 영어 불용어 (Stop words)를 참고하여 이전 숙제에서 구성했던 단어 사전에서 영어 불용어들을 모두 제거하는 코드를 추가하시오.<br >\n",
    "\n",
    "http://www.lextek.com/manuals/onix/stopwords1.html<br >\n",
    "2) 각 URL로 지정된 웹페이지의 HTML 소스를 파일로 저장하시오.<br >\n",
    "\n",
    "URL이 http://URL 이라면 파일명은 URL.html 이다.<br >\n",
    "예: URL이 http://www.cnn.com 이라면 파일명은 www.cnn.com.html 이다.<br >\n",
    "3) 단어의 출현빈도가 담긴 사전 객체를 위 HTML 소스 파일과 동일한 폴더에 파일로 저장하시오.<br >\n",
    "파일입출력 (E-learning 13주차) 마지막에 학습한 pickle 모듈을 활용하시오.<br >\n",
    "URL이 http://URL 이라면 사전 객체를 담고 있는 파일명은 URL.words.frequency 이다.<br >\n",
    "예: URL이 http://www.cnn.com 이라면 파일명은 www.cnn.com.words.frequency 이다.<br >\n",
    "4) 최소 5개 이상의 영어 웹 사이트 각각에 대한 HTML 소스 파일과 단어 출현빈도 파일을 저장하시오.<br >\n",
    "즉, 총 10개의 파일을 동일한 폴더에 생성하시오.<br >\n",
    "[주의] 영어 웹사이트 URL로만 5개 이상<br >\n",
    "가능하면 주제가 서로 다른 웹 사이트들로 선정<br >\n",
    "5) 위 문제에서 저장한 모든 words.frequency 파일들을 객체로 다시 로드하여 본인이 저장하여 분석한 사이트들 각각에 대해서 가장 많이 출현한 단어 3개씩를 뽑아 제시하시오.<br >\n",
    "반드시 pickle 모듈로 저장한 5개 이상의 words.frequency를 다시 5개 이상의 사전 객체로 로드 하는 코드가 추가되어야 함<br >\n",
    "6) 간단한 검색엔진 코딩 (Like Google!!!)<br >\n",
    "사용자에게 임의의 단어 1개를 입력받으시오.<br >\n",
    "입력 받은 단어와 유사도(Similarity)가 높은 웹 사이트 기준으로 위 4)에서 미리 지정해 놓은 5개 이상의 웹 사이트 URL들을 일렬로 나열하여 출력하시오.<br >\n",
    "단어와 웹 사이트 간의 유사도는 본인이 스스로 정하시오.<br >\n",
    "유사도를 정하는 최소한의 기준은 단어 출현 빈도를 기반으로 해야 하며, 이외의 본인이 생각하는 방안이 있으면 함께 사용해도 됨.<br >\n",
    "반드시 코딩 내에 similarity 라는 사전 자료 구조가 있어야 함 (즉, 다음과 유사한 코드가 있어야 함).<br >\n",
    "similarity = {}<br >\n",
    "...<br >\n",
    "similarity[url1] = x1<br >\n",
    "...<br >\n",
    "similarity[url2] = x2<br >\n",
    "...<br >\n",
    "위 코드에서 x1 과 x2는 입력단어와 해당 URL의 웹 사이트 간의 similarity를 나타내는 수치값<br >\n",
    "유사도가 높은 웹 사이트가 상위에 출력되어야 함 (즉, 유사도 기준 내림 차순)<br >\n",
    "유사도가 동일한 웹 사이트들에 대해서는 임의 배치함.<br >\n",
    "7) [주의] 필수사항<br >\n",
    "위에서 만든 검색엔진 코딩은 매우 간단한 것이라 부족한 점이 많이 존재한다.<br >\n",
    "본인이 생각하기에 상업적인 완성도 높은 검색 로봇/엔진이 되려면 어떤 기능들이 추가적으로 구현되어야 할지 최소 3가지 이상 제시하시오.<br >"
   ]
  },
  {
   "cell_type": "code",
   "execution_count": 5,
   "metadata": {
    "collapsed": true
   },
   "outputs": [],
   "source": [
    "stopword = [\"a\", \"about\",\"above\",\"across\",\"after\",\"again\",\"against\",\"all\",\"almost\",\"alone\",\"along\",\"already\",\"also\",\n",
    "\"although\",\"always\",\"among\",\"an\",\"and\",\"another\",\"any\",\"anybody\",\"anyone\",\"anything\",\"anywhere\",\"are\",\"area\",\"areas\",\n",
    "\"around\",\"as\",\"ask\",\"asked\",\"asking\",\"asks\",\"at\",\"away\",\"b\",\"back\",\"backed\",\"backing\",\"backs\",\"be\",\"became\",\"because\",\n",
    "\"become\",\"becomes\",\"been\",\"before\",\"began\",\"behind\",\"being\",\"beings\",\"best\",\"better\",\"between\",\"big\",\"both\",\"but\",\"by\",\n",
    "\"c\",\"came\",\"can\",\"cannot\",\"case\",\"cases\",\"certain\",\"certainly\",\"clear\",\"clearly\",\"come\",\"could\",\"d\",\"did\",\"differ\",\n",
    "\"different\",\"differently\",\"do\",\"does\",\"done\",\"down\",\"downed\",\"downing\",\"downs\",\"during\",\"e\",\"each\",\"early\",\n",
    "\"either\",\"end\",\"ended\",\"ending\",\"ends\",\"enough\",\"even\",\"evenly\",\"ever\",\"every\",\"everybody\",\"everyone\",\"everything\",\n",
    "\"everywhere\",\"f\",\"face\",\"faces\",\"fact\",\"facts\",\"far\",\"felt\",\"few\",\"find\",\"finds\",\"first\",\"for\",\"four\",\"from\",\"full\",\n",
    "\"fully\",\"further\",\"furthered\",\"furthering\",\"furthers\",\"g\",\"gave\",\"general\",\"generally\",\"get\",\"gets\",\"give\",\"given\",\n",
    "\"gives\",\"go\",\"going\",\"good\",\"goods\",\"got\",\"great\",\"greater\",\"greatest\",\"group\",\"grouped\",\"grouping\",\"groups\",\"h\",\"had\",\n",
    "\"has\",\"have\",\"having\",\"he\",\"her\",\"here\",\"herself\",\"high\",\"high\",\"high\",\"higher\",\"highest\",\"him\",\"himself\",\"his\",\"how\",\n",
    "\"however\",\"i\",\"if\",\"important\",\"in\",\"interest\",\"interested\",\"interesting\",\"interests\",\"into\",\"is\",\"it\",\"its\",\"itself\",\n",
    "\"j\",\"just\",\"k\",\"keep\",\"keeps\",\"kind\",\"knew\",\"know\",\"known\",\"knows\",\"l\",\"large\",\"largely\",\"last\",\"later\",\"latest\",\"least\",\n",
    "\"less\",\"let\",\"lets\",\"like\",\"likely\",\"long\",\"longer\",\"longest\",\"m\",\"made\",\"make\",\"making\",\"man\",\"many\",\"may\",\"me\",\"member\"\n",
    "\"members\",\"men\",\"might\",\"more\",\"most\",\"mostly\",\"mr\",\"mrs\",\"much\",\"must\",\"my\",\"myself\",\"n\",\"necessary\",\"need\",\"needed\",\n",
    "\"needing\",\"needs\",\"never\",\"new\",\"newer\",\"newest\",\"next\",\"no\",\"nobody\",\"non\",\"noone\",\"not\",\"nothing\",\"now\",\n",
    "\"nowhere\",\"number\",\"numbers\",\"o\",\"of\",\"off\",\"often\",\"old\",\"older\",\"oldest\",\"on\",\"once\",\"one\",\"only\",\"open\",\"opened\",\n",
    "\"opening\",\"opens\",\"or\",\"order\",\"ordered\",\"ordering\",\"orders\",\"other\",\"others\",\"our\",\"out\",\"over\",\"p\",\"part\",\"parted\",\n",
    "\"parting\",\"parts\",\"per\",\"perhaps\",\"place\",\"places\",\"point\",\"pointed\",\"pointing\",\"points\",\"possible\",\"present\",\"presented\",\n",
    "\"presenting\",\"presents\",\"problem\",\"problems\",\"put\",\"puts\",\"q\",\"quite\",\"r\",\"rather\",\"really\",\"right\",\"room\",\n",
    "\"rooms\",\"s\",\"said\",\"same\",\"saw\",\"say\",\"says\",\"second\",\"seconds\",\"see\",\"seem\",\"seemed\",\"seeming\",\"seems\",\"sees\",\"several\",\n",
    "\"shall\",\"she\",\"should\",\"show\",\"showed\",\"showing\",\"shows\",\"side\",\"sides\",\"since\",\"small\",\"smaller\",\"smallest\",\"so\",\"some\",\n",
    "\"somebody\",\"someone\",\"something\",\"somewhere\",\"state\",\"states\",\"still\",\"such\",\"sure\",\"t\",\"take\",\"taken\",\"than\",\n",
    "\"that\",\"the\",\"their\",\"them\",\"then\",\"there\",\"therefore\",\"these\",\"they\",\"thing\",\"things\",\"think\",\"thinks\",\"this\",\"those\",\n",
    "\"though\",\"thought\",\"thoughts\",\"three\",\"through\",\"thus\",\"to\",\"today\",\"together\",\"too\",\"took\",\"toward\",\"turn\",\"turned\",\n",
    "\"turning\",\"turns\",\"two\",\"u\",\"under\",\"until\",\"up\",\"upon\",\"us\",\"use\",\"used\",\"uses\",\"v\",\"very\",\"w\",\"want\",\"wanted\",\n",
    "\"wanting\",\"wants\",\"was\",\"way\",\"ways\",\"we\",\"well\",\"wells\",\"went\",\"were\",\"what\",\"when\",\"where\",\"whether\",\"which\",\"while\",\n",
    "\"who\",\"whole\",\"whose\",\"why\",\"will\",\"with\",\"within\",\"without\",\"work\",\"worked\",\"working\",\"works\",\"would\",\"x\",\"y\",\"year\",\n",
    "\"years\",\"yet\",\"you\",\"young\",\"younger\",\"youngest\",\"your\",\"yours\",\"z\"]"
   ]
  },
  {
   "cell_type": "code",
   "execution_count": 8,
   "metadata": {},
   "outputs": [
    {
     "name": "stdout",
     "output_type": "stream",
     "text": [
      "[('functionwin', 25), ('doc', 21), ('var', 20)]\n",
      "[('Netflix', 13), ('South', 10), ('Korea', 8)]\n"
     ]
    }
   ],
   "source": [
    "from urllib import request\n",
    "def sourcecode(source) :\n",
    "    import string\n",
    "    sitesave(source)\n",
    "    url = source\n",
    "    f = request.urlopen(url)\n",
    "    source_bytes = f.read()\n",
    "    source = source_bytes.decode('utf-8')\n",
    "    source.strip()\n",
    "    l = len(source)\n",
    "    num = []\n",
    "    sw= True\n",
    "    count = 0\n",
    "\n",
    "    for c in range(l) :\n",
    "        if source[c] == '<' :\n",
    "            sw = False\n",
    "            continue\n",
    "        if source[c] == '>' :\n",
    "            sw = True\n",
    "            num.append(' ')\n",
    "            continue\n",
    "        if sw == True:\n",
    "            num.append(source[c])\n",
    "    c = 0\n",
    "    i = 0\n",
    "    string1=string.punctuation\n",
    "    for c in range(num.count('\\t')):\n",
    "        num.remove('\\t')\n",
    "    for i in range(len(num)):\n",
    "        for j in string1:\n",
    "            num[i]=num[i].replace(j,'')\n",
    "    i = 0\n",
    "    blank_count = num.count('')\n",
    "    for i in range(blank_count):\n",
    "        num.remove('')\n",
    "    st = ''.join(num)\n",
    "    #print(st)\n",
    "    key  =st.replace('//', ' ')\n",
    "    key = st.replace('--', ' ')\n",
    "    num=key.split()\n",
    "    v = []\n",
    "    num1 = num\n",
    "\n",
    "    for i in num:\n",
    "        dcount = 0\n",
    "        for j in num1:\n",
    "            if (i ==j):\n",
    "                dcount+=1\n",
    "        v.append(dcount)\n",
    "        \n",
    "    key = dict(zip(num,v))\n",
    "    key2 = key.copy()\n",
    "    for i in key:\n",
    "        for j in stopword:\n",
    "            if i==j:\n",
    "                del key2[i]\n",
    "    return key2\n",
    "\n",
    "def frequency(s):\n",
    "    k = [k for k in s.keys()]\n",
    "    v = [v for v in s.values()]\n",
    "    v.sort()\n",
    "    v.reverse()\n",
    "    v1=[]\n",
    "    for i in range(3):\n",
    "        v1.append(v[i])\n",
    "    nv = []\n",
    "    for i in v1:\n",
    "        for j in k:\n",
    "            if(s[j] == i):\n",
    "                nv.append(i)\n",
    "    list2 = dict(zip(k,nv))\n",
    "    list3 = [list2 for list2 in list2.items()]\n",
    "    if len(list3)>3:\n",
    "        for i in range(len(list3)-3):\n",
    "            list3.pop()\n",
    "    return list3\n",
    "\n",
    "\n",
    "from urllib import request \n",
    "def sitesave(site):\n",
    "    url = site\n",
    "    f = request.urlopen(url)\n",
    "    source_bytes = f.read()\n",
    "    source = source_bytes.decode('utf-8')\n",
    "    #print(source)\n",
    "    #print(type(source))  -> str\n",
    "    curl = url[7:]\n",
    "    curl +=\".html\"\n",
    "\n",
    "    with open(curl,encoding='utf-8', mode=\"w\")as f:\n",
    "        f.write(source)\n",
    "        \n",
    "#print(sourcecode(\"http://edition.cnn.com/\"))\n",
    "#print(\"cnn\")\n",
    "print(frequency(sourcecode(\"http://www.cnn.com\"))) \n",
    "print(frequency(sourcecode(\"http://www.netflix.com\")))\n"
   ]
  },
  {
   "cell_type": "markdown",
   "metadata": {},
   "source": [
    "저번에 한 과제가 사전으로 출력한 부분이어서 똑같이 copy하여 del을 이용하여 지우고 return하게 하였다.\n",
    "빈도수를 체크하는 함수를 통해 value값만을 비교하여 3번째 큰수까지 리스트에 넣었고 혹 동률인 경우에는 빼게 하였다.\n",
    "html파일 생성은 링크를 받아서 슬라이싱을 사용후에 http://에 해당하는 7번째까지 슬라이싱하고 뒷부분에 \".html\"을 붙여 생성하였다.\n",
    "제가 생각하기에 상업적인 완성도 높은 검색 로봇/엔진이 되려면 어떤 기능들이 추가적으로 구현되어야 할 것은 원하는 사이트를 직접입력해야하는 번거로움을 해결해야한다고 생각합니다. 지금 이 프로그램은 직접 링크를 입력해야만 알아낼수 있는 프로그램이기때문에 번거러움을 띄고 있다고 생각합니다 두번째는 한글사이트의 경우에는 단어끝에붙는 조사같은 것을 고려하지않았다. 예를들면 까치, 까치들로 따로 구분되기 때문에 검색에 지장있을 것이다. 세번째는 검색조건이 더 붙어야한다고 생각한다. 지금은 단순히 빈도수로 했지만 검색은 사용자의 기준에 따라 다양한 기준이 생기기 때문에 기준을 설정할 수 있게 다양한 방법들을 제시해야 한다고 생각한다."
   ]
  },
  {
   "cell_type": "markdown",
   "metadata": {},
   "source": [
    "### 소감\n",
    "- 이번과제는 교수님이 긴 시간을 줬음에도 불구하고 8번 문제는 완성도 높게 끝내지 못했다. 교수님이 어렵게 고안하신 문제인만큼 해결하면 희열감도 있었지만 그 과정이 상당히 힘들었다. 그래도 여전히 파이썬은 다른언어에 비해 간단한 언어여서 굉장히 매력적으로 느껴진다."
   ]
  }
 ],
 "metadata": {
  "kernelspec": {
   "display_name": "Python 3",
   "language": "python",
   "name": "python3"
  },
  "language_info": {
   "codemirror_mode": {
    "name": "ipython",
    "version": 3
   },
   "file_extension": ".py",
   "mimetype": "text/x-python",
   "name": "python",
   "nbconvert_exporter": "python",
   "pygments_lexer": "ipython3",
   "version": "3.6.1"
  }
 },
 "nbformat": 4,
 "nbformat_minor": 2
}
