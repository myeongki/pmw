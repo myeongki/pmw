{
 "cells": [
  {
   "cell_type": "markdown",
   "metadata": {},
   "source": [
    "join, split사용법 알기, 사전자료형 정보 입력하는법"
   ]
  },
  {
   "cell_type": "code",
   "execution_count": 1,
   "metadata": {},
   "outputs": [
    {
     "name": "stdout",
     "output_type": "stream",
     "text": [
      "C:\\Users\\MapleStory\\LPB\n"
     ]
    }
   ],
   "source": [
    "import os\n",
    "\n",
    "print(os.getcwd())"
   ]
  },
  {
   "cell_type": "code",
   "execution_count": 6,
   "metadata": {
    "collapsed": true
   },
   "outputs": [],
   "source": [
    "s = \"\"\"Its power: Python developers typically report \n",
    "they are able to develop applications in a half\n",
    "to a tenth the amount of time it takes them to do\n",
    "the same work in such languages as C.\"\"\"\n",
    "with open('t.txt', 'w') as f:\n",
    "    f.write(s) "
   ]
  },
  {
   "cell_type": "markdown",
   "metadata": {},
   "source": [
    "## 라인 단위로 파일 읽기"
   ]
  },
  {
   "cell_type": "markdown",
   "metadata": {},
   "source": [
    "파일객체 반복자 사용"
   ]
  },
  {
   "cell_type": "code",
   "execution_count": 8,
   "metadata": {},
   "outputs": [
    {
     "name": "stdout",
     "output_type": "stream",
     "text": [
      "1 : Its power: Python developers typically report \n",
      "2 : they are able to develop applications in a half\n",
      "3 : to a tenth the amount of time it takes them to do\n",
      "4 : the same work in such languages as C."
     ]
    }
   ],
   "source": [
    "f = open('t.txt')\n",
    "i = 1\n",
    "for line in f:\n",
    "    print(i, \":\", line, end=\"\") ##end 다음번 출력이 바로오게함\n",
    "    i += 1\n",
    "f.close()"
   ]
  },
  {
   "cell_type": "markdown",
   "metadata": {},
   "source": [
    "readline()사용 "
   ]
  },
  {
   "cell_type": "code",
   "execution_count": 9,
   "metadata": {},
   "outputs": [
    {
     "name": "stdout",
     "output_type": "stream",
     "text": [
      "<class 'str'>\n",
      "1 : Its power: Python developers typically report \n",
      "2 : they are able to develop applications in a half\n",
      "3 : to a tenth the amount of time it takes them to do\n",
      "4 : the same work in such languages as C."
     ]
    }
   ],
   "source": [
    "f = open('t.txt')\n",
    "line = f.readline()\n",
    "print(type(line))\n",
    "i = 1\n",
    "while line:\n",
    "    print(i, \":\", line, end=\"\")\n",
    "    line = f.readline()\n",
    "    i += 1\n",
    "f.close()"
   ]
  },
  {
   "cell_type": "markdown",
   "metadata": {},
   "source": [
    "readlines() <br>사용 파일전체 읽어서 라인별로 끊어서 리스트에 저장 한번에 한줄씩  <br>대용량일 때 비추천"
   ]
  },
  {
   "cell_type": "code",
   "execution_count": 11,
   "metadata": {},
   "outputs": [
    {
     "name": "stdout",
     "output_type": "stream",
     "text": [
      "['Its power: Python developers typically report \\n', 'they are able to develop applications in a half\\n', 'to a tenth the amount of time it takes them to do\\n', 'the same work in such languages as C.']\n",
      "<class 'list'>\n"
     ]
    }
   ],
   "source": [
    "f = open('t.txt')\n",
    "print(f.readlines())\n",
    "print(type(f.readlines()))\n",
    "f.close()"
   ]
  },
  {
   "cell_type": "markdown",
   "metadata": {},
   "source": [
    "## 라인 단위로 파일 쓰기"
   ]
  },
  {
   "cell_type": "markdown",
   "metadata": {},
   "source": [
    "writelines() 리스트 안에 있는 각 문자열을 연속해서 파일로 출력한다"
   ]
  },
  {
   "cell_type": "code",
   "execution_count": 12,
   "metadata": {},
   "outputs": [
    {
     "name": "stdout",
     "output_type": "stream",
     "text": [
      "first line\n",
      "second line\n",
      "third line\n",
      "\n"
     ]
    }
   ],
   "source": [
    "lines = ['first line\\n', 'second line\\n', 'third line\\n']\n",
    "f = open('t1.txt', 'w')\n",
    "f.writelines(lines)\n",
    "f.close()\n",
    "\n",
    "f = open('t1.txt')\n",
    "print(f.read())\n",
    "f.close()"
   ]
  },
  {
   "cell_type": "markdown",
   "metadata": {},
   "source": [
    "write() 이용하여 여러 문자열을 각 라인별로 파일로 출력하는 방법"
   ]
  },
  {
   "cell_type": "code",
   "execution_count": 13,
   "metadata": {},
   "outputs": [
    {
     "name": "stdout",
     "output_type": "stream",
     "text": [
      "first line\n",
      "second line\n",
      "third line\n"
     ]
    }
   ],
   "source": [
    "lines = ['first line', 'second line', 'third line']\n",
    "f = open('t1.txt', 'w')\n",
    "f.write('\\n'.join(lines))\n",
    "f.close()\n",
    "\n",
    "f = open('t1.txt')\n",
    "print(f.read())\n",
    "f.close()"
   ]
  },
  {
   "cell_type": "code",
   "execution_count": 15,
   "metadata": {},
   "outputs": [
    {
     "name": "stdout",
     "output_type": "stream",
     "text": [
      "Its power: Python developers typically report \n",
      "they are able to develop applications in a half\n",
      "to a tenth the amount of time it takes them to do\n",
      "the same work in such languages as C.\n",
      "<class 'str'>\n",
      "35\n"
     ]
    }
   ],
   "source": [
    "f = open('t.txt')\n",
    "s = f.read()\n",
    "print(s)\n",
    "print(type(s))\n",
    "n = len(s.split())\n",
    "print(n)\n",
    "f.close()"
   ]
  },
  {
   "cell_type": "markdown",
   "metadata": {},
   "source": [
    "## 기존파일에 내용 추가"
   ]
  },
  {
   "cell_type": "code",
   "execution_count": 18,
   "metadata": {},
   "outputs": [
    {
     "name": "stdout",
     "output_type": "stream",
     "text": [
      "first line\n",
      "second line\n",
      "third line\n",
      "\n"
     ]
    }
   ],
   "source": [
    "f = open('removeme.txt', 'w') # 파일의 생성\n",
    "f.write('first line\\n')\n",
    "f.write('second line\\n')\n",
    "f.close()\n",
    "\n",
    "\n",
    "f = open('removeme.txt', 'a') # 파일 추가 모드로 오픈\n",
    "f.write('third line\\n')\n",
    "f.close()\n",
    "\n",
    "f = open('removeme.txt')      # 파일 읽기\n",
    "print(f.read())"
   ]
  },
  {
   "cell_type": "markdown",
   "metadata": {},
   "source": [
    "파일 접근방법\n",
    "- 순차접근(기본방식) 파일을 앞에서부터 순차적으로 읽고 쓰는 방식\n",
    "- 임의접근  파일내에 임의의 위치에 읽고 씀\n",
    "  - seek(n)  n번째 바이트로 포인터 이동\n",
    "  - tell() 파일 내 현재위치포인터위치를 반환"
   ]
  },
  {
   "cell_type": "code",
   "execution_count": 22,
   "metadata": {},
   "outputs": [
    {
     "name": "stdout",
     "output_type": "stream",
     "text": [
      "7\n",
      "7\n",
      "8\n",
      "8\n",
      "9\n",
      "\n"
     ]
    }
   ],
   "source": [
    "name = 't.txt' \n",
    "f = open(name, 'w+')   # 읽고 쓰기로 오픈, 단, 파일이 이미 존재한다면 기존 파일은 없어지고 다시 생성된다.\n",
    "s = '0123456789abcdef'\n",
    "f.write(s)\n",
    "\n",
    "f.seek(7)       # 시작부터 5바이트 포인터 이동\n",
    "print(f.tell())  # 현재 위치 돌려줌\n",
    "print(f.read(1)) # 1문자 읽기\n",
    "print(f.tell())\n",
    "print(f.read(1)) # 1문자 읽기\n",
    "print(f.tell())\n",
    "print()"
   ]
  },
  {
   "cell_type": "markdown",
   "metadata": {},
   "source": [
    "- sys 모듈의 표준 입출력 관련 객체\n",
    "  - sys.stdout: 표준 출력\n",
    "  - sys.stderr: 표준 에러 출력\n",
    "  - sys.stdin: 표준 입력\n",
    "- 예를 들어, sys.stdout을 파일 객체로 변환하면 모든 표준 출력(print 출력)은 해당 파일로 저장된다."
   ]
  },
  {
   "cell_type": "code",
   "execution_count": 23,
   "metadata": {},
   "outputs": [
    {
     "name": "stdout",
     "output_type": "stream",
     "text": [
      "Sample output\n",
      "Good\n",
      "Good\n",
      "\n"
     ]
    }
   ],
   "source": [
    "import sys\n",
    "\n",
    "f = open('t.txt', 'w')\n",
    "stdout = sys.stdout   # 표준 출력 저장해 두기\n",
    "sys.stdout = f        # 파일 객체로 표준 출력 변경\n",
    "print('Sample output')\n",
    "print('Good')\n",
    "print('Good')\n",
    "f.close()\n",
    "sys.stdout = stdout   # 표준 출력 원상 복구\n",
    "\n",
    "f = open('t.txt')\n",
    "print(f.read())"
   ]
  },
  {
   "cell_type": "code",
   "execution_count": 25,
   "metadata": {},
   "outputs": [
    {
     "name": "stdout",
     "output_type": "stream",
     "text": [
      "Hello koreatech!\n",
      "\n",
      "spam string\n",
      "\n"
     ]
    }
   ],
   "source": [
    "print(\"Hello koreatech!\", file=open(\"output.txt\", \"w\"))\n",
    "f = open('output.txt')\n",
    "print(f.read())\n",
    "f = open('t.txt', 'w')\n",
    "print('spam string', file=f)\n",
    "f.close()\n",
    "\n",
    "f = open('t.txt')\n",
    "print(f.read())\n",
    "f.close()"
   ]
  },
  {
   "cell_type": "markdown",
   "metadata": {},
   "source": [
    "StringIO 모듈의 StringIO 클래스 객체\n",
    "- 파일 객체처럼 입출력 가능한 문자열 객체\n",
    "   - StringIO에 지원되는 메소드는 파일 객체가 지원하는 메소드와 거의 동일하다.\n",
    "   - getvalue() 메소드\n",
    "    - 현재까지 담아 놓은 전체 내용을 반환한다."
   ]
  },
  {
   "cell_type": "code",
   "execution_count": 26,
   "metadata": {},
   "outputs": [
    {
     "ename": "ModuleNotFoundError",
     "evalue": "No module named 'StringIO'",
     "output_type": "error",
     "traceback": [
      "\u001b[1;31m---------------------------------------------------------------------------\u001b[0m",
      "\u001b[1;31mModuleNotFoundError\u001b[0m                       Traceback (most recent call last)",
      "\u001b[1;32m<ipython-input-26-59eeed4f17aa>\u001b[0m in \u001b[0;36m<module>\u001b[1;34m()\u001b[0m\n\u001b[0;32m      1\u001b[0m \u001b[1;32mimport\u001b[0m \u001b[0msys\u001b[0m\u001b[1;33m\u001b[0m\u001b[0m\n\u001b[1;32m----> 2\u001b[1;33m \u001b[1;32mimport\u001b[0m \u001b[0mStringIO\u001b[0m\u001b[1;33m\u001b[0m\u001b[0m\n\u001b[0m\u001b[0;32m      3\u001b[0m \u001b[1;33m\u001b[0m\u001b[0m\n\u001b[0;32m      4\u001b[0m \u001b[0mstdout\u001b[0m \u001b[1;33m=\u001b[0m \u001b[0msys\u001b[0m\u001b[1;33m.\u001b[0m\u001b[0mstdout\u001b[0m    \u001b[1;31m# 표준 출력 저장해 두기\u001b[0m\u001b[1;33m\u001b[0m\u001b[0m\n\u001b[0;32m      5\u001b[0m \u001b[0msys\u001b[0m\u001b[1;33m.\u001b[0m\u001b[0mstdout\u001b[0m \u001b[1;33m=\u001b[0m \u001b[0mf\u001b[0m \u001b[1;33m=\u001b[0m \u001b[0mStringIO\u001b[0m\u001b[1;33m.\u001b[0m\u001b[0mStringIO\u001b[0m\u001b[1;33m(\u001b[0m\u001b[1;33m)\u001b[0m\u001b[1;33m\u001b[0m\u001b[0m\n",
      "\u001b[1;31mModuleNotFoundError\u001b[0m: No module named 'StringIO'"
     ]
    }
   ],
   "source": [
    "import sys\n",
    "import StringIO\n",
    "\n",
    "stdout = sys.stdout    # 표준 출력 저장해 두기\n",
    "sys.stdout = f = StringIO.StringIO()  \n",
    "\n",
    "print(type(f))\n",
    "print('Sample output')\n",
    "print('Good')\n",
    "print('Good')\n",
    "\n",
    "sys.stdout = stdout\n",
    "\n",
    "s = f.getvalue()\n",
    "\n",
    "print('Done-------')\n",
    "print(s)"
   ]
  },
  {
   "cell_type": "markdown",
   "metadata": {},
   "source": [
    "지속성(Persistence)\n",
    "- 프로그램 내에 생성된 각종 객체들을 해당 프로그램 종료 이후에도 존재하게 만들고, 그것들을 동일한 또는 다른 프로그램에서 사용하는 기능<br>\n",
    "    -  지속성 기능을 지원하는 모듈\n",
    " - DBM 관련 모듈\n",
    " - anydbm, dbm, gdbm, dbhash, dumbdbm\n",
    " - anydbm: 시스템에서 사용가능한 모듈 중 가장 최적의 모듈을 반환함\n",
    " - 기본적으로 dumbdbm을 반환한다\n",
    " - 사전 자료형을 사용하는 것과 동일한 방법으로 사용\n",
    " - pickle 모듈\n",
    " - 파이썬의 객체를 저장하는 일반화된 지속성 모듈\n",
    " - 파이썬의 기본 객체뿐만 아니라 사용자 정의의 복잡한 객체도 저장 가능\n",
    " 기본적으로 텍스트 모드로 저장하지만 이진 모드로도 저장 가능"
   ]
  },
  {
   "cell_type": "code",
   "execution_count": 29,
   "metadata": {},
   "outputs": [
    {
     "name": "stdout",
     "output_type": "stream",
     "text": [
      "{'tom': 4358382, 'jack': 9465215, 'jim': 6851325, 'Joseph': 6584321}\n",
      "['string', 1234, 0.2345]\n"
     ]
    }
   ],
   "source": [
    "import pickle\n",
    "\n",
    "phone = {'tom':4358382, 'jack':9465215, 'jim':6851325, 'Joseph':6584321}\n",
    "List = ['string', 1234, 0.2345]\n",
    "Tuple = (phone, List) # 리스트, 튜플, 사전의 복합 객체\n",
    "\n",
    "f = open('pickle.txt', 'wb') # 파일 객체를 얻는다.\n",
    "\n",
    "pickle.dump(Tuple, f) # 파일로 출력(pickling), 복합 객체 출력 \n",
    "f.close() \n",
    "\n",
    "f = open('pickle.txt', 'rb')     \n",
    "                      \n",
    "x,y = pickle.load(f) # 파일에서 읽어오기. 튜플의 내용을 x, y에 받는다.\n",
    "print(x) # 사전\n",
    "print(y) # 리스트"
   ]
  },
  {
   "cell_type": "markdown",
   "metadata": {},
   "source": [
    "# 14파일과 디렉토리 다루기"
   ]
  },
  {
   "cell_type": "markdown",
   "metadata": {},
   "source": [
    "파일목록 얻기"
   ]
  },
  {
   "cell_type": "code",
   "execution_count": 30,
   "metadata": {},
   "outputs": [
    {
     "name": "stdout",
     "output_type": "stream",
     "text": [
      "['.git', '.ipynb_checkpoints', '2014136047 박명우 assignment2.ipynb', '2014136047 박명우 HW4.ipynb', '2014136047 박명우.ipynb', 'abcnews.go.com.html', 'access.txt', 'assignment3.ipynb', 'edition.cnn.com', 'edition.cnn.com.html', 'HW5.ipynb', 'img', 'output.txt', 'pickle.txt', 'practice.ipynb', 'practice2.ipynb', 'removeme.txt', 's.txt', 's1.txt', 's2.txt', 's3.txt', 't.txt', 't1.txt', 'test.txt', 'testpractice.ipynb', 'Untitled.ipynb', 'www.cnn.com .html', 'www.cnn.com.html', 'www.netflix.com.html']\n",
      "\n",
      "['.android', '.bash_history', '.BigNox', '.eclipse', '.gitconfig', '.ipynb_checkpoints', '.ipython', '.jupyter', '.p2', '.tooling', '3D Objects', 'AppData', 'Application Data', 'Contacts', 'Cookies', 'Desktop', 'Documents', 'Downloads', 'eclipse', 'Favorites', 'inittk.ini', 'inst.ini', 'IntelGraphicsProfiles', 'Links', 'Local Settings', 'LPB', 'LPB.ipynb', 'MicrosoftEdgeBackups', 'Music', 'My Documents', 'NetHood', 'Nox_share', 'NTUSER.DAT', 'ntuser.dat.LOG1', 'ntuser.dat.LOG2', 'NTUSER.DAT{207de7b4-b552-11e7-87f5-e757251faa6e}.TM.blf', 'NTUSER.DAT{207de7b4-b552-11e7-87f5-e757251faa6e}.TMContainer00000000000000000001.regtrans-ms', 'NTUSER.DAT{207de7b4-b552-11e7-87f5-e757251faa6e}.TMContainer00000000000000000002.regtrans-ms', 'ntuser.ini', 'nuuid.ini', 'OneDrive', 'Pictures', 'PPP', 'PrintHood', 'Recent', 'Saved Games', 'Searches', 'SendTo', 'Templates', 'Tracing', 'Videos', 'vmlogs', '시작 메뉴']\n"
     ]
    }
   ],
   "source": [
    "import os\n",
    "\n",
    "print(os.listdir('.'))   # 현재 디렉토리의 파일 목록 얻기\n",
    "print()\n",
    "\n",
    "print(os.listdir('../')) # 현재 디렉토리의 부모 디렉토리의 파일 목록 얻기"
   ]
  },
  {
   "cell_type": "markdown",
   "metadata": {},
   "source": [
    "# 함수\n"
   ]
  },
  {
   "cell_type": "markdown",
   "metadata": {},
   "source": [
    "함수의 몸체에는 최소한 한개 이상의 statement가 존재해야 함\n",
    "- 아무런 내용이 없는 몸체를 지닌 함수를 만들 때에는 pass 라는 키워드를 몸체에 적어주어야 함"
   ]
  },
  {
   "cell_type": "markdown",
   "metadata": {},
   "source": [
    "파이썬에서의 인수값 전달 방법\n",
    "- 기본적으로 값에 의한 호출(Call-by-Value)<br>\n",
    "하지만 변수에 저장된 값이 참조값(Reference)이므로 실제로는 참조에 의한 호출(Call-by-Reference)로 실행됨\n",
    "- 함수 인자에 변경불가능(Immutable) 객체인 숫자값을 전달\n",
    "- 함수 내에서 다른 숫자값으로 치환 --> 의미 없는 인자 전달"
   ]
  },
  {
   "cell_type": "code",
   "execution_count": 33,
   "metadata": {},
   "outputs": [
    {
     "name": "stdout",
     "output_type": "stream",
     "text": [
      "200\n"
     ]
    }
   ],
   "source": [
    "def f1(b):\n",
    "    b = 100\n",
    "\n",
    "a = 200\n",
    "f1(a)  ##a의 값이 안변한다. 참조에의한 값 전달이어서 안된다. 변경불가능한객체들일 때 안됨 : 튜플, 숫자, 문자열\n",
    "print(a)"
   ]
  },
  {
   "cell_type": "code",
   "execution_count": 34,
   "metadata": {},
   "outputs": [
    {
     "name": "stdout",
     "output_type": "stream",
     "text": [
      "[4, 10, 6]\n"
     ]
    }
   ],
   "source": [
    "def f4(b):\n",
    "    b[1] = 10\n",
    "\n",
    "a = [4,5,6]\n",
    "f4(a)##변경가능한 객체들은 수정이 가능하다. 사전, 리스트 가능\n",
    "print(a)"
   ]
  },
  {
   "cell_type": "markdown",
   "metadata": {},
   "source": [
    "- 두 개 이상의 값을 리턴할 때"
   ]
  },
  {
   "cell_type": "code",
   "execution_count": 35,
   "metadata": {},
   "outputs": [
    {
     "name": "stdout",
     "output_type": "stream",
     "text": [
      "10 20\n",
      "\n",
      "20 10\n",
      "\n",
      "20 10\n"
     ]
    }
   ],
   "source": [
    "def swap(x, y):\n",
    "    return y, x   # 튜플로 리턴된다.\n",
    "\n",
    "a = 10\n",
    "b = 20\n",
    "print(a, b)\n",
    "print()\n",
    "\n",
    "a, b = swap(a, b) # 결과적으로 a, b = b, a와 동일\n",
    "print(a, b)\n",
    "print()\n",
    "\n",
    "a = 10\n",
    "b = 20\n",
    "x = swap(a, b)\n",
    "print(x[0], x[1])  # 하나의 이름으로 튜플을 받아서 처리할 수 도있다."
   ]
  },
  {
   "cell_type": "code",
   "execution_count": 36,
   "metadata": {},
   "outputs": [
    {
     "name": "stdout",
     "output_type": "stream",
     "text": [
      "[6, 5, 7, 5]\n"
     ]
    }
   ],
   "source": [
    "l = ['python', 'pyson', 'pythong', 'pydon']\n",
    "print([len(s) for s in l])"
   ]
  },
  {
   "cell_type": "code",
   "execution_count": 37,
   "metadata": {},
   "outputs": [
    {
     "name": "stdout",
     "output_type": "stream",
     "text": [
      "2\n",
      "12\n"
     ]
    }
   ],
   "source": [
    "def incr(a, step=1):\n",
    "    return a + step\n",
    "\n",
    "b = 1\n",
    "b = incr(b)     # 1 증가\n",
    "print(b)\n",
    "\n",
    "b = incr(b, 10) # 10 증가\n",
    "print(b)"
   ]
  },
  {
   "cell_type": "code",
   "execution_count": 38,
   "metadata": {},
   "outputs": [
    {
     "ename": "SyntaxError",
     "evalue": "non-default argument follows default argument (<ipython-input-38-67693752f310>, line 1)",
     "output_type": "error",
     "traceback": [
      "\u001b[1;36m  File \u001b[1;32m\"<ipython-input-38-67693752f310>\"\u001b[1;36m, line \u001b[1;32m1\u001b[0m\n\u001b[1;33m    def incr(step=1, a):\u001b[0m\n\u001b[1;37m            ^\u001b[0m\n\u001b[1;31mSyntaxError\u001b[0m\u001b[1;31m:\u001b[0m non-default argument follows default argument\n"
     ]
    }
   ],
   "source": [
    "def incr(step=1, a): ##[주의] 함수 정의를 할 때 기본 값을 지닌 인수 뒤에 일반적인 인수가 올 수 없음\n",
    "    return a + step"
   ]
  },
  {
   "cell_type": "markdown",
   "metadata": {},
   "source": [
    "키워드 인수\n",
    "- 인수 값 전달 시에 인수 이름과 함께 값을 전달하는 방식을 일컫는다."
   ]
  },
  {
   "cell_type": "code",
   "execution_count": 42,
   "metadata": {},
   "outputs": [
    {
     "name": "stdout",
     "output_type": "stream",
     "text": [
      "height string height string height string \n",
      "100\n"
     ]
    }
   ],
   "source": [
    "def area(height, width):\n",
    "    return height * width\n",
    "\n",
    "#순서가 아닌 이름으로 값이 전달\n",
    "a = area(height='height string ', width=3)\n",
    "print(a)\n",
    "print(area(20, width=5)) ## 키워드 인수는 항상 마지막에 와야한다."
   ]
  },
  {
   "cell_type": "code",
   "execution_count": 43,
   "metadata": {},
   "outputs": [
    {
     "ename": "SyntaxError",
     "evalue": "positional argument follows keyword argument (<ipython-input-43-32b5ca4bbf7f>, line 1)",
     "output_type": "error",
     "traceback": [
      "\u001b[1;36m  File \u001b[1;32m\"<ipython-input-43-32b5ca4bbf7f>\"\u001b[1;36m, line \u001b[1;32m1\u001b[0m\n\u001b[1;33m    area(width=5, 20)\u001b[0m\n\u001b[1;37m                 ^\u001b[0m\n\u001b[1;31mSyntaxError\u001b[0m\u001b[1;31m:\u001b[0m positional argument follows keyword argument\n"
     ]
    }
   ],
   "source": [
    "area(width=5, 20)## 키워드 인수뒤에 일반 인자값이 올수 없다"
   ]
  },
  {
   "cell_type": "code",
   "execution_count": 44,
   "metadata": {},
   "outputs": [
    {
     "name": "stdout",
     "output_type": "stream",
     "text": [
      "212\n"
     ]
    }
   ],
   "source": [
    "\n",
    "def incr(a, step=1, step2=10, step3=100):\n",
    "    return a + step + step2 + step3\n",
    "\n",
    "print(incr(10, 2, step2=100))"
   ]
  },
  {
   "cell_type": "markdown",
   "metadata": {},
   "source": [
    "가변인수리스트 \n",
    "- var에는 함수 호출시 넣어주는 인수 값들 중 일반 인수에 할당되는 값을 제외한 나머지 값들을 지닌 튜플 객체가 할당된다."
   ]
  },
  {
   "cell_type": "code",
   "execution_count": 45,
   "metadata": {},
   "outputs": [
    {
     "name": "stdout",
     "output_type": "stream",
     "text": [
      "1 ()\n",
      "2 (3,)\n",
      "2 (3, 4, 5, 6)\n"
     ]
    }
   ],
   "source": [
    "def varg(a, *arg):\n",
    "    print(a, arg)\n",
    "\n",
    "varg(1)\n",
    "varg(2,3)\n",
    "varg(2,3,4,5,6)"
   ]
  },
  {
   "cell_type": "code",
   "execution_count": 7,
   "metadata": {},
   "outputs": [
    {
     "name": "stdout",
     "output_type": "stream",
     "text": [
      "I've spent %d days and %d night to do this\n",
      "(6, 5)\n",
      "I've spent %d days and %d night to do this (6, 5)\n",
      "a\n",
      "()\n",
      "a ()\n"
     ]
    }
   ],
   "source": [
    "\n",
    "def printf(format, *args):\n",
    "    print(format)\n",
    "    print(args)\n",
    "    print(format , args)\n",
    "\n",
    "printf(\"I've spent %d days and %d night to do this\", 6, 5)\n",
    "printf(\"a\")"
   ]
  },
  {
   "cell_type": "markdown",
   "metadata": {},
   "source": [
    "- 함수 호출에 사용될 인수값들이 튜플에 있다면 \"*튜플변수\"를 이용하여 함수 호출이 가능\n",
    "- 함수 호출에 사용될 인수값들이 사전에 있다면 \"**사전변수\"를 이용하여 함수 호출이 가능\n"
   ]
  },
  {
   "cell_type": "code",
   "execution_count": 50,
   "metadata": {},
   "outputs": [
    {
     "name": "stdout",
     "output_type": "stream",
     "text": [
      "1 2 3\n",
      "1 2 3\n"
     ]
    }
   ],
   "source": [
    "def h(a, b, c):\n",
    "    print(a,b,c)\n",
    "    \n",
    "args = (1, 2, 3)\n",
    "h(*args)\n",
    "\n",
    "dargs = {'a':1, 'b':2, 'c':3}\n",
    "h(**dargs)"
   ]
  },
  {
   "cell_type": "markdown",
   "metadata": {},
   "source": [
    "# 람다함수\n",
    "- 함수 몸체에는 식(expression)만이 올 수 있다.\n",
    "-  대부분의 경우 함수 이름을 정의하지 않으면서 일회성으로 활용할 함수를 정의할 때 활용"
   ]
  },
  {
   "cell_type": "code",
   "execution_count": 51,
   "metadata": {},
   "outputs": [
    {
     "name": "stdout",
     "output_type": "stream",
     "text": [
      "2\n",
      "3\n",
      "11\n",
      "15\n",
      "(2, 3, 4, 5)\n",
      "<class 'function'>\n",
      "<class 'tuple'>\n"
     ]
    }
   ],
   "source": [
    "f = lambda x: x + 1 ##인수 한개\n",
    "print(f(1))\n",
    "\n",
    "g = lambda x, y: x + y##인수 두개\n",
    "print(g(1, 2))\n",
    "\n",
    "incr = lambda x, inc = 1: x + inc\n",
    "print(incr(10))#inc 기본 인수 값으로 1 사용\n",
    "print(incr(10, 5))\n",
    "\n",
    "\n",
    "vargs = lambda x, *args: args\n",
    "print(vargs(1,2,3,4,5))\n",
    "# 이전 jupyter notebook 참고; \"넣어주는 인수 값들 중 일반 인수에 할당되는 값을 제외한 나머지 값들을 지닌 튜플 객체가 할당된다.\"\n",
    "print(type(vargs))\n",
    "print(type(vargs(1,2,3,4,5)))"
   ]
  },
  {
   "cell_type": "code",
   "execution_count": 53,
   "metadata": {},
   "outputs": [
    {
     "name": "stdout",
     "output_type": "stream",
     "text": [
      "0. add\n",
      "1. sub\n",
      "2. mul\n",
      "3. div\n",
      "4. quit\n",
      "Select menu:4\n"
     ]
    }
   ],
   "source": [
    "# 더하기, 빼기, 곱하기, 나누기에 해당하는 람다 함수 리스트 정의\n",
    "func = [lambda x, y: int(x) + int(y), \n",
    "        lambda x, y: int(x) - int(y), \n",
    "        lambda x, y: int(x) * int(y), \n",
    "        lambda x, y: int(x) / int(y)]\n",
    "\n",
    "def menu():\n",
    "    print(\"0. add\")\n",
    "    print(\"1. sub\")\n",
    "    print(\"2. mul\")\n",
    "    print(\"3. div\")\n",
    "    print(\"4. quit\")\n",
    "# 기존: return input('Select menu:')\n",
    "    return int(input('Select menu:'))\n",
    "# 또는\n",
    "#     return eval(input('Select menu:'))\n",
    "\n",
    "while 1:\n",
    "    sel = menu()                     \n",
    "    if sel < 0 or sel > len(func):   \n",
    "        continue\n",
    "    if sel == len(func):             \n",
    "        break\n",
    "    x = input('First operand:')  \n",
    "    #또는 x = float(input('First operand:'))\n",
    "    y = input('Second operand:')     \n",
    "    #또는 y = float(input('Second operand:'))\n",
    "    print('Result =', func[sel](x,y))"
   ]
  },
  {
   "cell_type": "markdown",
   "metadata": {},
   "source": [
    "### 람다함수 활용\n",
    "map, filter, reduce 내장 함수\n",
    "- 첫번째 인자: function\n",
    "  - 첫번째 인자는 일반적으로 람다 함수를 인자로 받는다.\n",
    "- 두번째 인자: 시퀀스 자료형 (문자열, 리스트, 튜플)\n",
    "\n",
    "\n",
    "map(function, seq)"
   ]
  },
  {
   "cell_type": "code",
   "execution_count": 59,
   "metadata": {},
   "outputs": [
    {
     "name": "stdout",
     "output_type": "stream",
     "text": [
      "<map object at 0x0000022597B15048>\n",
      "[1, 4, 9, 16, 25]\n",
      "[1, 4, 9, 16, 25]\n",
      "[5, 10, 17, 26, 37, 50, 65, 82, 101, 122]\n",
      "[5, 6, 11]\n"
     ]
    }
   ],
   "source": [
    "def f(x):\n",
    "    return x * x\n",
    "\n",
    "X = [1, 2, 3, 4, 5]\n",
    "Y = (map(f, X)) \n",
    "#기존: Y = map(f, X)\n",
    "# X seq 자료형이 리스트라면, list()를 써주어야 한다. 페이지 아래의 'filter, map은 iterator를 리턴함'문구 참고 필요\n",
    "print(Y)\n",
    "Y = list(map(f, X)) \n",
    "print(Y)\n",
    "\n",
    "X = [1, 2, 3, 4, 5] ##가장 이상적\n",
    "#기존: print map(lambda x: x * x, X)\n",
    "print(list(map(lambda x: x * x, X)))\n",
    "\n",
    "Y = list(map(lambda x: x * x + 4 * x + 5, range(10)))\n",
    "print(Y)\n",
    "\n",
    "\n",
    "y = list(map(lambda x: len(x), [\"Hello\", \"Python\", \"Programming\"]))\n",
    "print(y)"
   ]
  },
  {
   "cell_type": "markdown",
   "metadata": {},
   "source": [
    "filter(function, seq)\n",
    "- seq 시퀀스 자료형이 지닌 각 원소값들에 대해 function에 적용한 결과가 참인 원소값들만을 지닌 filter 객체를 반환한다"
   ]
  },
  {
   "cell_type": "code",
   "execution_count": 60,
   "metadata": {},
   "outputs": [
    {
     "name": "stdout",
     "output_type": "stream",
     "text": [
      "[3, 34]\n"
     ]
    }
   ],
   "source": [
    "print(list(filter(lambda x: x > 2, [1, 2, 3, 34])))\n"
   ]
  },
  {
   "cell_type": "markdown",
   "metadata": {},
   "source": [
    "reduce (function, seq[, initial])\n",
    "- from functools import reduce\n",
    "- 첫번째 인자인 function 함수는 반드시 두 개의 인자 (예를 들어, x, y)를 받아야 한다.\n",
    "  - seq 시퀀스 자료형의 각 원소값들은 각 단계별로 y에 순차적으로 들어간다.\n",
    "  - 함수가 수행된 값은 각 단계별로 x에 순차적으로 들어간다.\n",
    "- 추가적으로 제공가능한 세번째 인자인 initial은 첫번째 단계에 x에 할당할 초기값으로 사용된다."
   ]
  },
  {
   "cell_type": "code",
   "execution_count": 62,
   "metadata": {},
   "outputs": [
    {
     "name": "stdout",
     "output_type": "stream",
     "text": [
      "15\n",
      "115\n",
      "edcba\n"
     ]
    }
   ],
   "source": [
    "\n",
    "from functools import reduce\n",
    "print(reduce(lambda x, y: x + y, [1, 2, 3, 4, 5]))\n",
    "##단계   x  y  reduce\n",
    "##1단계  0  1    1\n",
    "##2단계  1  2    3\n",
    "##3단계  3  3    6\n",
    "##4단계  6  4    10\n",
    "##5단계  10 5    15\n",
    "\n",
    "print(reduce(lambda x, y: x + y, [1, 2, 3, 4, 5], 100))  ##초기갑설정\n",
    "\n",
    "print(reduce(lambda x, y: y + x, 'abcde'))##문자열순서뒤집기"
   ]
  },
  {
   "cell_type": "markdown",
   "metadata": {},
   "source": [
    "# 파이썬 모듈"
   ]
  },
  {
   "cell_type": "markdown",
   "metadata": {},
   "source": [
    "- 지역(Local): 각 함수 내부\n",
    "- 전역(Global): 모듈 (파일) 내부\n",
    "- 내장(Built-in): 파이썬 언어 자체에서 정의한 영역<br>\n",
    "변수가 r-value로 사용될 때 해당 변수의 값을 찾는 순서 규칙\n",
    "- L --> G --> B\n"
   ]
  },
  {
   "cell_type": "code",
   "execution_count": 63,
   "metadata": {},
   "outputs": [
    {
     "name": "stdout",
     "output_type": "stream",
     "text": [
      "30\n",
      "5\n"
     ]
    }
   ],
   "source": [
    "# g, h는 전역 변수\n",
    "g = 10\n",
    "h = 5\n",
    "\n",
    "def f(a): # a는 지역 변수\n",
    "    h = a + 10 # h는 지역, 새로 l-value로 정의했음\n",
    "    b = h + a + g # b도 지역, g는 r-value이므로 기존 값을 참조 - 전역 변수\n",
    "    return b\n",
    "\n",
    "print(f(h)) # 함수 호출시에 사용되는 변수는 해당 위치의 스코프에서 값을 찾음 - 전역 변수\n",
    "print(h) # 전역 변수 h는 변함 없음"
   ]
  },
  {
   "cell_type": "code",
   "execution_count": 64,
   "metadata": {},
   "outputs": [
    {
     "name": "stdout",
     "output_type": "stream",
     "text": [
      "20\n",
      "20\n"
     ]
    }
   ],
   "source": [
    "h = 5\n",
    "\n",
    "def f(a):      # a는 지역\n",
    "    global h   # h 변수를 전역이라고 미리 선언함\n",
    "    h = a + 10 # h는 l-value로 정의되더라도 미리 선언된 내용 때문에 전역 변수\n",
    "    return h\n",
    "\n",
    "print (f(10))\n",
    "print (h)        # 전역 변수 h 값이 함수 내에서 변경되었음\n",
    "##[주의] 동일 함수 내에서 동일한 변수가 지역변수와 전역변수로 동시에 활용될 수 없음a"
   ]
  },
  {
   "cell_type": "markdown",
   "metadata": {},
   "source": [
    "Nested Scope: 함수 안에 정의되어 있는 함수 내부\n",
    " - 가장 안쪽의 스코프부터 바깥쪽의 스코프쪽으로 변수를 찾는다."
   ]
  },
  {
   "cell_type": "code",
   "execution_count": 68,
   "metadata": {},
   "outputs": [
    {
     "name": "stdout",
     "output_type": "stream",
     "text": [
      "G(): 20\n",
      "F(): 1\n",
      "Global: 2\n",
      "\n",
      "G(): 20\n",
      "F(): 1\n",
      "Global: 20\n"
     ]
    }
   ],
   "source": [
    "\n",
    "x = 2\n",
    "def F():\n",
    "    x = 1\n",
    "    def G():\n",
    "        x = 20\n",
    "        print(\"G():\", x)\n",
    "    G()\n",
    "    print(\"F():\", x)\n",
    "F()\n",
    "print(\"Global:\", x)\n",
    "\n",
    "print()\n",
    "\n",
    "x = 2\n",
    "def F():\n",
    "    x = 1\n",
    "    def G():\n",
    "        global x\n",
    "        x = 20\n",
    "        print(\"G():\", x)\n",
    "    G()\n",
    "    print(\"F():\", x)\n",
    "F()\n",
    "print(\"Global:\", x)"
   ]
  },
  {
   "cell_type": "markdown",
   "metadata": {},
   "source": [
    "모듈: 파이썬 프로그램 파일로서 파이썬 데이터와 함수등을 정의하고 있는 단위\n",
    "\n",
    "- 표준 모듈\n",
    "- 사용자 생성 모듈\n",
    "- 써드 파티 모듈"
   ]
  },
  {
   "cell_type": "markdown",
   "metadata": {},
   "source": [
    "함수와 모듈의 차이점<br>\n",
    "- 함수: 파일 내에서 일부 코드를 묶는 것<br>\n",
    "- 모듈: 파일 단위로 코드들을 묶는 것\n",
    "  - 비슷하거나 관련된 일을 하는 함수나 상수값들을 모아서 하나의 파일에 저장하고 추후에 재사용하는 단위<br>\n",
    "- 모듈 사용의 이점\n",
    "  - 코드의 재사용\n",
    "  - 프로그램 개발시에 전체 코드들을 여러 모듈 단위로 분리하여 설계함으로써 작업의 효율을 높일 수 있음\n",
    "  - 별도의 이름 공간(스코프)를 제공함으로써 동일한 이름의 여러 함수나 변수들이 각 모듈마다 독립적으로 정의될 수 있다.\n",
    "  \n",
    "dir(모듈): 모듈이 지니고 있는 모든 이름들을 리스트로 반환"
   ]
  },
  {
   "cell_type": "markdown",
   "metadata": {},
   "source": [
    "독립된 이름 공간(스코프)을 제공하는 것들  : 모듈, 클래스, 객체, 함수"
   ]
  },
  {
   "cell_type": "code",
   "execution_count": 69,
   "metadata": {},
   "outputs": [
    {
     "name": "stdout",
     "output_type": "stream",
     "text": [
      "1\n",
      "2\n",
      "2\n"
     ]
    }
   ],
   "source": [
    "class C:            # 클래스도 독립적인 이름 공간\n",
    "    a = 2           # 클래스 이름 공간 내에 변수 선언\n",
    "    pass            # 클래스 정의 완료\n",
    "\n",
    "c = C()             # 클래스 인스턴스 객체 생성\n",
    "c.a = 1             # 클래스에서 생성된 인스턴스 객체도 별도의 이름 공간\n",
    "print(c.a)\n",
    "print(c.__class__.a)\n",
    "print(C.a)"
   ]
  },
  {
   "cell_type": "markdown",
   "metadata": {},
   "source": [
    "다만 함수 내에서 선언된 로컬 변수는 함수 외부에서 접근할 수 없다."
   ]
  },
  {
   "cell_type": "code",
   "execution_count": 70,
   "metadata": {},
   "outputs": [
    {
     "name": "stdout",
     "output_type": "stream",
     "text": [
      "1\n",
      "\n"
     ]
    },
    {
     "ename": "AttributeError",
     "evalue": "'function' object has no attribute 'a'",
     "output_type": "error",
     "traceback": [
      "\u001b[1;31m---------------------------------------------------------------------------\u001b[0m",
      "\u001b[1;31mAttributeError\u001b[0m                            Traceback (most recent call last)",
      "\u001b[1;32m<ipython-input-70-a83b449a47c1>\u001b[0m in \u001b[0;36m<module>\u001b[1;34m()\u001b[0m\n\u001b[0;32m      7\u001b[0m \u001b[0mprint\u001b[0m\u001b[1;33m(\u001b[0m\u001b[0mf\u001b[0m\u001b[1;33m.\u001b[0m\u001b[0mc\u001b[0m\u001b[1;33m)\u001b[0m\u001b[1;33m\u001b[0m\u001b[0m\n\u001b[0;32m      8\u001b[0m \u001b[0mprint\u001b[0m\u001b[1;33m(\u001b[0m\u001b[1;33m)\u001b[0m\u001b[1;33m\u001b[0m\u001b[0m\n\u001b[1;32m----> 9\u001b[1;33m \u001b[0mprint\u001b[0m\u001b[1;33m(\u001b[0m\u001b[0mf\u001b[0m\u001b[1;33m.\u001b[0m\u001b[0ma\u001b[0m\u001b[1;33m)\u001b[0m\u001b[1;33m\u001b[0m\u001b[0m\n\u001b[0m",
      "\u001b[1;31mAttributeError\u001b[0m: 'function' object has no attribute 'a'"
     ]
    }
   ],
   "source": [
    "\n",
    "x = 10    # 현재 모듈 내부에 정의되는 이름\n",
    "def f():\n",
    "    a = 1\n",
    "    b = 2 # 현재 모듈에 정의되는 함수 f 내에 이름 a,b를 정의하고있다. 함수도 독립적인 이름 공간\n",
    "f.c = 1\n",
    "print(f.c)\n",
    "print()\n",
    "print(f.a)"
   ]
  },
  {
   "cell_type": "markdown",
   "metadata": {},
   "source": [
    "# 모듈 활용"
   ]
  },
  {
   "cell_type": "code",
   "execution_count": 71,
   "metadata": {},
   "outputs": [
    {
     "ename": "ModuleNotFoundError",
     "evalue": "No module named 'mymath'",
     "output_type": "error",
     "traceback": [
      "\u001b[1;31m---------------------------------------------------------------------------\u001b[0m",
      "\u001b[1;31mModuleNotFoundError\u001b[0m                       Traceback (most recent call last)",
      "\u001b[1;32m<ipython-input-71-c0b83d5358fe>\u001b[0m in \u001b[0;36m<module>\u001b[1;34m()\u001b[0m\n\u001b[1;32m----> 1\u001b[1;33m \u001b[1;32mimport\u001b[0m \u001b[0mmymath\u001b[0m\u001b[1;33m\u001b[0m\u001b[0m\n\u001b[0m\u001b[0;32m      2\u001b[0m \u001b[0mprint\u001b[0m\u001b[1;33m(\u001b[0m\u001b[0mmymath\u001b[0m\u001b[1;33m.\u001b[0m\u001b[0marea\u001b[0m\u001b[1;33m(\u001b[0m\u001b[1;36m5\u001b[0m\u001b[1;33m)\u001b[0m\u001b[1;33m)\u001b[0m\u001b[1;33m\u001b[0m\u001b[0m\n",
      "\u001b[1;31mModuleNotFoundError\u001b[0m: No module named 'mymath'"
     ]
    }
   ],
   "source": [
    "import mymath\n",
    "print(mymath.area(5))\n",
    "##이름 공간 mymath가 그대로 유지되므로 mymath.area() 형태로 자격 이름 사용"
   ]
  },
  {
   "cell_type": "code",
   "execution_count": 72,
   "metadata": {},
   "outputs": [
    {
     "ename": "ModuleNotFoundError",
     "evalue": "No module named 'mymath'",
     "output_type": "error",
     "traceback": [
      "\u001b[1;31m---------------------------------------------------------------------------\u001b[0m",
      "\u001b[1;31mModuleNotFoundError\u001b[0m                       Traceback (most recent call last)",
      "\u001b[1;32m<ipython-input-72-ebc7e93261fb>\u001b[0m in \u001b[0;36m<module>\u001b[1;34m()\u001b[0m\n\u001b[1;32m----> 1\u001b[1;33m \u001b[1;32mfrom\u001b[0m \u001b[0mmymath\u001b[0m \u001b[1;32mimport\u001b[0m \u001b[0marea\u001b[0m\u001b[1;33m,\u001b[0m \u001b[0mmypi\u001b[0m\u001b[1;33m\u001b[0m\u001b[0m\n\u001b[0m\u001b[0;32m      2\u001b[0m \u001b[0mprint\u001b[0m\u001b[1;33m(\u001b[0m\u001b[0marea\u001b[0m\u001b[1;33m(\u001b[0m\u001b[1;36m5\u001b[0m\u001b[1;33m)\u001b[0m\u001b[1;33m)\u001b[0m\u001b[1;33m\u001b[0m\u001b[0m\n",
      "\u001b[1;31mModuleNotFoundError\u001b[0m: No module named 'mymath'"
     ]
    }
   ],
   "source": [
    "from mymath import area, mypi\n",
    "print(area(5))\n",
    "## from 모듈명 import 이름들\n",
    "##해당 모듈에 존재하는 지정 이름들을 현재 이름 공간으로 불러들인다.\n",
    "##불러들인 각 이름들은 모듈 이름 없이 직접 사용 가능하다.\n",
    "##import 하는 이름들이 기존에 미리 존재하고 있었다면 그 이름들에 의해 참조되던 기존 객체들은 상실된다."
   ]
  },
  {
   "cell_type": "code",
   "execution_count": 73,
   "metadata": {},
   "outputs": [
    {
     "ename": "ModuleNotFoundError",
     "evalue": "No module named 'mymath'",
     "output_type": "error",
     "traceback": [
      "\u001b[1;31m---------------------------------------------------------------------------\u001b[0m",
      "\u001b[1;31mModuleNotFoundError\u001b[0m                       Traceback (most recent call last)",
      "\u001b[1;32m<ipython-input-73-d0361077a857>\u001b[0m in \u001b[0;36m<module>\u001b[1;34m()\u001b[0m\n\u001b[1;32m----> 1\u001b[1;33m \u001b[1;32mfrom\u001b[0m \u001b[0mmymath\u001b[0m \u001b[1;32mimport\u001b[0m \u001b[1;33m*\u001b[0m\u001b[1;33m\u001b[0m\u001b[0m\n\u001b[0m\u001b[0;32m      2\u001b[0m \u001b[0mprint\u001b[0m\u001b[1;33m(\u001b[0m\u001b[0marea\u001b[0m\u001b[1;33m(\u001b[0m\u001b[1;36m5\u001b[0m\u001b[1;33m)\u001b[0m\u001b[1;33m)\u001b[0m\u001b[1;33m\u001b[0m\u001b[0m\n\u001b[0;32m      3\u001b[0m \u001b[1;31m##해당 모듈에 존재하는 '__'로 시작되는 이름들을 제외한 모든 이름들을 현재 이름 공간으로 불러들인다.\u001b[0m\u001b[1;33m\u001b[0m\u001b[1;33m\u001b[0m\u001b[0m\n",
      "\u001b[1;31mModuleNotFoundError\u001b[0m: No module named 'mymath'"
     ]
    }
   ],
   "source": [
    "from mymath import *\n",
    "print(area(5))\n",
    "##해당 모듈에 존재하는 '__'로 시작되는 이름들을 제외한 모든 이름들을 현재 이름 공간으로 불러들인다."
   ]
  },
  {
   "cell_type": "code",
   "execution_count": 74,
   "metadata": {},
   "outputs": [
    {
     "name": "stdout",
     "output_type": "stream",
     "text": [
      "<module 'string' from 'D:\\\\anaconda\\\\lib\\\\string.py'>\n",
      "\n",
      "!\"#$%&'()*+,-./:;<=>?@[\\]^_`{|}~\n"
     ]
    }
   ],
   "source": [
    "import string as chstr\n",
    "print(chstr)\n",
    "print()\n",
    "print(chstr.punctuation)\n",
    "## 해당 모듈을 새로운 다른 이름으로 사용하고자 할 때 사용\n",
    "##기존 모듈 이름이 너무 길거나 현재 사용중인 다름 이름들과 충돌이 일어날 때 유용\n",
    "## import 모듈명 as 새로운 모듈 이름"
   ]
  },
  {
   "cell_type": "code",
   "execution_count": 76,
   "metadata": {},
   "outputs": [
    {
     "name": "stdout",
     "output_type": "stream",
     "text": [
      "<built-in function floor>\n",
      "4\n",
      "<built-in function ceil>\n",
      "5\n",
      "\n",
      "4\n",
      "5\n"
     ]
    }
   ],
   "source": [
    "from math import floor as flr, ceil as cil\n",
    "print(flr)\n",
    "print(flr(4.5))\n",
    "print(cil)\n",
    "print(cil(4.5))\n",
    "\n",
    "print()\n",
    "\n",
    "from math import floor, ceil\n",
    "print(floor(4.5))\n",
    "print(ceil(4.5))\n",
    "\n",
    "#from 모듈명 import 이름 as 새로운 이름[, 이름 as 새로운 이름]\n",
    "#해당 모듈 내에 정의된 이름을 다른 새로운 이름으로 사용하고자 할 때 사용"
   ]
  },
  {
   "cell_type": "markdown",
   "metadata": {},
   "source": [
    "import mymath를 수행할 때 발생하는 일\n",
    "- 1) 우선 mymath.pyc를 찾는다.\n",
    "- 2) mymath.pyc가 없다면 mymath.py를 찾아서 mymath.pyc를 생성한다.\n",
    "- 3) 생성된 mymath.pyc를 메모리로 읽어들여 수행한다.\n",
    "\n",
    "모듈 이름과 이미 사용하고 있던 이름이 같다면?<br>\n",
    "이전의 이름이 참조하던 객체는 상실됨"
   ]
  },
  {
   "cell_type": "code",
   "execution_count": 77,
   "metadata": {},
   "outputs": [
    {
     "name": "stdout",
     "output_type": "stream",
     "text": [
      "<module 'string' from 'D:\\\\anaconda\\\\lib\\\\string.py'>\n"
     ]
    }
   ],
   "source": [
    "string = \"My first string\"\n",
    "import string\n",
    "print(string)\n"
   ]
  },
  {
   "cell_type": "code",
   "execution_count": 78,
   "metadata": {},
   "outputs": [
    {
     "name": "stdout",
     "output_type": "stream",
     "text": [
      "My first string\n"
     ]
    }
   ],
   "source": [
    "\n",
    "import string\n",
    "string = \"My first string\" #여기서 string이란 이름은 문자열을 참조하게 된다.\n",
    "print(string)"
   ]
  },
  {
   "cell_type": "code",
   "execution_count": 79,
   "metadata": {
    "collapsed": true
   },
   "outputs": [],
   "source": [
    "#__name__\n",
    "#현재의 모듈이 최상위 모듈로서 수행되는지, 아니면 다른 모듈에 의해 import 되어 수행되는지를 구별하기 위해 주로 활용<br>\n",
    "#최상위 모듈: 파이썬 인터프리터가 기본적으로 가장 먼저 인식하여 처리하는 모듈"
   ]
  },
  {
   "cell_type": "markdown",
   "metadata": {},
   "source": [
    "패키지 (Package)\n",
    "- 여러 모듈들을 한데 묶어서 정리해 놓은 구조\n",
    "   -    물리적으로 여러 모듈 파일을 모아 놓은 디렉토리에 해당\n",
    "   -   최상위 디렉토리 이름이 패키지 이름이 된다.\n",
    "   - 최상위 디렉토리 하위에 여러 서브 디렉토리는 해당 최상위 패키지의 하위 패키지가 된다.\n",
    "   \n",
    "__init__.py 파일이 존재해야지만 파이썬 패키지로서 인식됨"
   ]
  },
  {
   "cell_type": "markdown",
   "metadata": {},
   "source": [
    "# 클래스\n"
   ]
  },
  {
   "cell_type": "markdown",
   "metadata": {},
   "source": [
    "인스턴스: 클래스로 부터 만들어낸 객체\n",
    "\n",
    "모듈 vs. 클래스 vs. 인스턴스\n",
    "- 모듈: 파일 단위로 이름 공간을 구성\n",
    "- 클래스: 클래스 영역 내에 이름 공간을 구성\n",
    "- 인스턴스: 인스턴스 영역 내에 이름 공간을 구성"
   ]
  },
  {
   "cell_type": "code",
   "execution_count": 82,
   "metadata": {},
   "outputs": [
    {
     "name": "stdout",
     "output_type": "stream",
     "text": [
      "1\n",
      "\n",
      "2\n",
      "\n",
      "['__class__', '__delattr__', '__dict__', '__dir__', '__doc__', '__eq__', '__format__', '__ge__', '__getattribute__', '__gt__', '__hash__', '__init__', '__init_subclass__', '__le__', '__lt__', '__module__', '__ne__', '__new__', '__reduce__', '__reduce_ex__', '__repr__', '__setattr__', '__sizeof__', '__str__', '__subclasshook__', '__weakref__', 'a', 'b']\n",
      "['__class__', '__delattr__', '__dict__', '__dir__', '__doc__', '__eq__', '__format__', '__ge__', '__getattribute__', '__gt__', '__hash__', '__init__', '__init_subclass__', '__le__', '__lt__', '__module__', '__ne__', '__new__', '__reduce__', '__reduce_ex__', '__repr__', '__setattr__', '__sizeof__', '__str__', '__subclasshook__', '__weakref__', 'a']\n",
      "1\n",
      "10\n",
      "1\n",
      "300\n",
      "10\n",
      "1\n"
     ]
    }
   ],
   "source": [
    "class S1:\n",
    "    a = 1\n",
    "    \n",
    "print(S1.a)\n",
    "print()\n",
    "\n",
    "S1.b = 2 # 클래스 이름 공간에 새로운 이름의 생성\n",
    "print(S1.b)\n",
    "print()\n",
    "\n",
    "print(dir(S1)) # S1에 포함된 이름들을 리스트로 반환\n",
    "del S1.b # 이름 공간 S1에서 b삭제\n",
    "print(dir(S1))\n",
    "\n",
    "x = S1() # x는 S1의 클래스 인스턴스\n",
    "print(x.a)\n",
    "\n",
    "x.a = 10 # 클래스 인스턴스 x의 이름 공간에 이름 생성\n",
    "print(x.a)\n",
    "\n",
    "print(S1.a) # 클래스 이름 공간과 클래스 인스턴스의 이름공간은 다르다\n",
    "\n",
    "\n",
    "y = S1() # S1 클래스의 또 다른 인스턴스 생성\n",
    "\n",
    "y.a = 300 # 클래스 인스턴스 y의 이름 공간에 이름 생성\n",
    "\n",
    "print(y.a)\n",
    "print(x.a) # x 인스턴스 공간의 이름 a 확인\n",
    "print(S1.a) # 클래스 이름 공간의 a 확인"
   ]
  },
  {
   "cell_type": "markdown",
   "metadata": {},
   "source": [
    "일반 함수와 다른 점은 첫번째 인수로 self 사용 (self라는 이름은 관례적)\n",
    "- self: 인스턴스 객체 자신의 레퍼런스를 지니고 있음\n",
    "- 각 인스턴스들은 self를 이용하여 자신의 이름 공간에 접근"
   ]
  },
  {
   "cell_type": "code",
   "execution_count": 83,
   "metadata": {},
   "outputs": [
    {
     "name": "stdout",
     "output_type": "stream",
     "text": [
      "egg\n",
      "egg\n"
     ]
    }
   ],
   "source": [
    "class MyClass:\n",
    "    def set(self, v):\n",
    "        self.value = v\n",
    "    def get(self):\n",
    "        return self.value\n",
    "    \n",
    "c = MyClass() # 인스턴스 생성 \n",
    "c.set('egg')  # 메소드 set 호출\n",
    "print(c.get()) # 메소드 get 호출\n",
    "print(c.value) # 인스턴스 변수에 직접 접근"
   ]
  },
  {
   "cell_type": "code",
   "execution_count": 84,
   "metadata": {
    "collapsed": true
   },
   "outputs": [],
   "source": [
    "class Simple:\n",
    "    pass\n",
    "\n",
    "c = MyClass()\n",
    "s1 = Simple()\n",
    "MyClass.set(s1, 'egg') "
   ]
  },
  {
   "cell_type": "markdown",
   "metadata": {},
   "source": [
    "Unbound method call: 클래스 객체를 이용한 메소드 호출\n",
    "- 예: MyClass.set(c, 'egg')<br>\n",
    "\n",
    "\n",
    "Bound method call: 인스턴스 객체를 통한 메소드 호출 (self 인자는 호출받은 객체가 자동으로 할당)\n",
    "- 예: c.set('egg')"
   ]
  },
  {
   "cell_type": "code",
   "execution_count": 85,
   "metadata": {},
   "outputs": [
    {
     "name": "stdout",
     "output_type": "stream",
     "text": [
      "1\n",
      "\n",
      "2\n"
     ]
    }
   ],
   "source": [
    "class MyClass:\n",
    "    def set(self, v):\n",
    "        self.value = v\n",
    "    def incr(self):\n",
    "        self.set(self.value + 1) # 내부 메소드 호출 \n",
    "#만약 위 코드에서 self.set(self.value + 1)를 set(self.value + 1)으로 바꾸면 set 함수를 클래스 외부에서 찾는다.\n",
    "    def get(self):\n",
    "        return self.value\n",
    "    \n",
    "c = MyClass()\n",
    "c.set(1)\n",
    "print(c.get())\n",
    "\n",
    "print()\n",
    "\n",
    "c.incr()\n",
    "print(c.get())"
   ]
  },
  {
   "cell_type": "markdown",
   "metadata": {},
   "source": [
    "정적 메소드: 인스턴스 객체와 무관하게 클래스 이름 공간에 존재하는 메소드로서 클래스 이름을 이용하여 직접 호출할 수 있는 메소드<br>\n",
    "[주의] 해당 클래스의 인스턴스를 통해서도 호출 가능<br>\n",
    "장식자(Decorator) @staticmethod 활용<br>"
   ]
  },
  {
   "cell_type": "code",
   "execution_count": 86,
   "metadata": {},
   "outputs": [
    {
     "name": "stdout",
     "output_type": "stream",
     "text": [
      "static method 1 2\n",
      "\n",
      "static method 1 2\n"
     ]
    }
   ],
   "source": [
    "class D:\n",
    "    @staticmethod\n",
    "    def spam(x, y):            # self가 없다.\n",
    "        print('static method', x, y)\n",
    "        \n",
    "D.spam(1,2) # 인스턴스 객체 없이 클래스에서 직접 호출\n",
    "\n",
    "print()\n",
    "d = D()\n",
    "d.spam(1,2) # 인스턴스 객체를 통해서도 호출 가능"
   ]
  },
  {
   "cell_type": "markdown",
   "metadata": {},
   "source": [
    "클래스 메소드: 인스턴스 객체와 무관하게 클래스 이름 공간에 존재하는 메소드로서 클래스 이름을 이용하여 호출하며 첫 인수로 클래스 객체를 자동으로 받는 메소드<br>\n",
    "[주의] 해당 클래스의 인스턴스를 통해서도 호출 가능<br>\n",
    "장식자(Decorator) @classmethod 활용<br>\n",
    "상속받은 서브 클래스를 통해 호출하면, 첫 인수에는 서브 클래스 객체가 자동으로 할당됨"
   ]
  },
  {
   "cell_type": "code",
   "execution_count": 89,
   "metadata": {},
   "outputs": [
    {
     "name": "stdout",
     "output_type": "stream",
     "text": [
      "<class '__main__.C'>\n",
      "<class '__main__.C'> -> 5\n",
      "<class '__main__.C'> -> 5\n",
      "\n",
      "<class '__main__.D'> -> 3\n",
      "None\n",
      "\n",
      "<class '__main__.D'> -> 3\n",
      "None\n",
      "\n",
      "<class '__main__.C'> -> 3\n",
      "None\n"
     ]
    }
   ],
   "source": [
    "class C:\n",
    "    @classmethod\n",
    "    def spam(cls, y):\n",
    "        print(cls, '->', y)\n",
    "    \n",
    "print(C)\n",
    "\n",
    "C.spam(5) # 첫번째 인수로 C가 잠재적으로 전달된다.\n",
    "\n",
    "c = C()\n",
    "c.spam(5) # 인스턴스 객체를 통해서도 호출 가능.\n",
    "print()\n",
    "\n",
    "class D(C):\n",
    "    pass\n",
    "\n",
    "print(D.spam(3))\n",
    "print()\n",
    "\n",
    "d = D()\n",
    "print(d.spam(3))\n",
    "print()\n",
    "\n",
    "print(C.spam(3))\n"
   ]
  },
  {
   "cell_type": "markdown",
   "metadata": {},
   "source": [
    "클래스 멤버 vs. 인스턴스 멤버\n",
    "- 클래스 멤버\n",
    "  - 클래스 이름 공간에 생성됨\n",
    "  - 모든 인스턴스들에 의해 공유됨\n",
    "- 인스턴스 멤버\n",
    "  - 인스턴스 이름 공간에 생성됨\n",
    "  - 각각의 인스턴스 마다 독립성이 보장됨"
   ]
  },
  {
   "cell_type": "code",
   "execution_count": 90,
   "metadata": {},
   "outputs": [
    {
     "name": "stdout",
     "output_type": "stream",
     "text": [
      "100\n",
      "100\n",
      "200\n",
      "\n"
     ]
    },
    {
     "ename": "AttributeError",
     "evalue": "'Var' object has no attribute 'i_mem'",
     "output_type": "error",
     "traceback": [
      "\u001b[1;31m---------------------------------------------------------------------------\u001b[0m",
      "\u001b[1;31mAttributeError\u001b[0m                            Traceback (most recent call last)",
      "\u001b[1;32m<ipython-input-90-46f65fc98ae3>\u001b[0m in \u001b[0;36m<module>\u001b[1;34m()\u001b[0m\n\u001b[0;32m     16\u001b[0m \u001b[0mprint\u001b[0m\u001b[1;33m(\u001b[0m\u001b[1;33m)\u001b[0m\u001b[1;33m\u001b[0m\u001b[0m\n\u001b[0;32m     17\u001b[0m \u001b[0mv2\u001b[0m \u001b[1;33m=\u001b[0m \u001b[0mVar\u001b[0m\u001b[1;33m(\u001b[0m\u001b[1;33m)\u001b[0m       \u001b[1;31m# 인스턴스 v2 생성\u001b[0m\u001b[1;33m\u001b[0m\u001b[0m\n\u001b[1;32m---> 18\u001b[1;33m \u001b[0mprint\u001b[0m\u001b[1;33m(\u001b[0m\u001b[0mv2\u001b[0m\u001b[1;33m.\u001b[0m\u001b[0mi_mem\u001b[0m\u001b[1;33m)\u001b[0m\u001b[1;33m\u001b[0m\u001b[0m\n\u001b[0m",
      "\u001b[1;31mAttributeError\u001b[0m: 'Var' object has no attribute 'i_mem'"
     ]
    }
   ],
   "source": [
    "class Var:\n",
    "    c_mem = 100 # 클래스 멤버 정의\n",
    "    def f(self): \n",
    "        self.i_mem = 200 # 인스턴스 멤버 정의\n",
    "    def g(self):\n",
    "        print(self.i_mem)\n",
    "        print(self.c_mem)\n",
    "        \n",
    "print(Var.c_mem)  # 클래스 객체를 통하여 클래스 멤버 접근\n",
    "\n",
    "v1 = Var()       # 인스턴스 v1 생성\n",
    "print(v1.c_mem)   # 인스턴스를 통하여 클래스 멤버 접근\n",
    "v1.f()            # 인스턴스 멤버 i_mem이 생성됨\n",
    "print(v1.i_mem)   # 인스턴스 v1을 통하여 인스턴스 멤버 접근\n",
    "\n",
    "print()\n",
    "v2 = Var()  \n",
    "print(v2.i_mem)  # 인스턴스 v2에는 아직 f() 호출이 안되어서 i_mem 멤버 없음 ==> 생성자의 필요성"
   ]
  },
  {
   "cell_type": "markdown",
   "metadata": {},
   "source": [
    "인스턴스 이름.멤버 이름\"으로 멤버를 참조할 때 멤버의 검색 순서\n",
    "- 1) 인스턴스 멤버\n",
    "- 2) 인스턴스 멤버가 없다면 클래스 멤버"
   ]
  },
  {
   "cell_type": "code",
   "execution_count": 92,
   "metadata": {},
   "outputs": [
    {
     "name": "stdout",
     "output_type": "stream",
     "text": [
      "50\n",
      "100\n",
      "\n",
      "50\n",
      "100\n",
      "100\n"
     ]
    }
   ],
   "source": [
    "print(v1.c_mem)   # 인스턴스 v1을 통해 클래스 멤버 참조\n",
    "print(v2.c_mem)  # 인스턴스 v2를 통해 클래스 멤버 참조\n",
    "\n",
    "print()\n",
    "v1.c_mem = 50    # 인스턴스 이름 공간에 c_mem생성\n",
    "print(v1.c_mem)   # 인스턴스 v1을 통해 인스턴스 멤버 참조\n",
    "print(v2.c_mem)   # 인스턴스 v2을 통해 클래스 멤버참조 (인스턴스 멤버가 없으므로, 클래스 멤버 참조)\n",
    "print(Var.c_mem)  # 클래스 멤버참조"
   ]
  },
  {
   "cell_type": "markdown",
   "metadata": {},
   "source": [
    "생성자와 소멸자<br>\n",
    "__init__: 생성자 메소드\n",
    "- 객체가 생성될 때 자동으로 불리어지는 메소드\n",
    "- self 인자가 정의되어야 함\n",
    "\n",
    "__del__: 소멸자 메소드<br>\n",
    "- 객체가 소멸 (메모리에서 해제)될 때 자동으로 불리어지는 메소드\n",
    "- self 인자가 정의되어야 함\n",
    "- 개발자가 특별히 작성하지 않아도 될 메소드\n",
    "  - 이유: 파이썬에서는 메모리나 기타 자원들의 해제가 자동으로 되기 때문에\n",
    "[참고] __ (연속된 두 개의 언더라인)의 의미: 예약된 이름"
   ]
  },
  {
   "cell_type": "markdown",
   "metadata": {},
   "source": [
    " 클래스 연산자중복"
   ]
  },
  {
   "cell_type": "code",
   "execution_count": 93,
   "metadata": {},
   "outputs": [
    {
     "name": "stdout",
     "output_type": "stream",
     "text": [
      "10\n",
      "10\n",
      "\n",
      "20\n",
      "\n",
      "30\n",
      "\n",
      "45\n",
      "\n",
      "450\n"
     ]
    }
   ],
   "source": [
    "class Integer:\n",
    "    def __init__(self, i):\n",
    "        self.i = i\n",
    "    def __str__(self):\n",
    "        return str(self.i)\n",
    "    def __add__(self, other):\n",
    "        return self.i + other\n",
    "    def __sub__(self, other):\n",
    "        return self.i - other\n",
    "    def __mul__(self, other):\n",
    "        return self.i * other\n",
    "\n",
    "\n",
    "i = Integer(10)\n",
    "print(i)\n",
    "print(str(i))\n",
    "\n",
    "print()\n",
    "i = i + 10\n",
    "print(i)\n",
    "\n",
    "print()\n",
    "i += 10\n",
    "print(i)\n",
    "\n",
    "print()\n",
    "i += 15\n",
    "print(i)\n",
    "\n",
    "print()\n",
    "i *= 10\n",
    "print(i)"
   ]
  },
  {
   "cell_type": "code",
   "execution_count": 94,
   "metadata": {},
   "outputs": [
    {
     "name": "stdout",
     "output_type": "stream",
     "text": [
      "['abcd', 'abcd', 'abcd']\n",
      "['abcd', 'bcd', 'bcd']\n",
      "\n",
      "['abcd', 'abcd', 'abcd']\n"
     ]
    }
   ],
   "source": [
    "class MyString:\n",
    "    def __init__(self, str):\n",
    "        self.str = str\n",
    "    def __truediv__(self, sep): # 나누기 연산자 /가 사용되었을 때 호출되는 함수 \n",
    "        return self.str.split(sep) # 문자열 self.str을 sep를 기준으로 분리\n",
    "\n",
    "m = MyString(\"abcd_abcd_abcd\")\n",
    "print(m / \"_\")\n",
    "print(m / \"_a\")\n",
    "\n",
    "print()\n",
    "print(m.__truediv__(\"_\"))"
   ]
  },
  {
   "cell_type": "markdown",
   "metadata": {},
   "source": [
    "연산자 왼쪽에 피연산자, 연산자 오른쪽에 객체가 오는 경우\n",
    "- 메소드 이름 앞에 r이 추가된 메소드 정의"
   ]
  },
  {
   "cell_type": "code",
   "execution_count": 95,
   "metadata": {},
   "outputs": [
    {
     "name": "stdout",
     "output_type": "stream",
     "text": [
      "True\n",
      "True\n",
      "False\n",
      "False\n",
      "\n",
      "False\n",
      "True\n"
     ]
    }
   ],
   "source": [
    "class MyInteger:\n",
    "    def __init__(self, i):\n",
    "        self.i = i\n",
    "    def __gt__(self, y):\n",
    "        return self.i > y\n",
    "    def __ge__(self, y):\n",
    "        return self.i >= y    \n",
    "    def __lt__(self, y):\n",
    "        return self.i < y    \n",
    "    def __le__(self, y):\n",
    "        return self.i <= y        \n",
    "    def __eq__(self, y):\n",
    "        return self.i == y\n",
    "    def __ne__(self, y):\n",
    "        return self.i != y    \n",
    "    \n",
    "c = MyInteger(10)\n",
    "print(c > 1)\n",
    "print(c >= 1)\n",
    "print(c < 1) \n",
    "print(c <= 1)\n",
    "print()\n",
    "print(c == 1) \n",
    "print(c != 1)"
   ]
  },
  {
   "cell_type": "markdown",
   "metadata": {},
   "source": [
    "시퀀스/매핑 자료형의 연산자 중복"
   ]
  },
  {
   "cell_type": "code",
   "execution_count": 96,
   "metadata": {},
   "outputs": [
    {
     "name": "stdout",
     "output_type": "stream",
     "text": [
      "10\n",
      "\n",
      "0\n",
      "1\n",
      "16\n",
      "81\n"
     ]
    }
   ],
   "source": [
    "class Square:\n",
    "    def __init__(self, end):\n",
    "        self.end = end\n",
    "    def __len__(self):\n",
    "        return self.end\n",
    "    def __getitem__(self, k):\n",
    "        if k < 0 or self.end <= k: \n",
    "            raise IndexError(\"Out of Index - \" + str(k))\n",
    "        return k * k\n",
    "    \n",
    "s1 = Square(10)\n",
    "print(len(s1)) # s1.__len__()\n",
    "print()\n",
    "print(s1[0]) #s1.__getitem__(0)\n",
    "print(s1[1]) #s1.__getitem__(1)\n",
    "print(s1[4]) #s1.__getitem__(4)\n",
    "print(s1[9]) #s1.__getitem__(9)\n",
    "#__len__(self) ->len()\n",
    "#__contains__(self, item)->item in self\n",
    "#__getItem__(self, key)-> self[key]\n",
    "#__setItem__(self, key, value)->self[key] = value\n",
    "#__delItem__(self, key)->del self(key)"
   ]
  },
  {
   "cell_type": "code",
   "execution_count": 97,
   "metadata": {},
   "outputs": [
    {
     "name": "stdout",
     "output_type": "stream",
     "text": [
      "<__main__.MyDict object at 0x0000022597B139B0>\n",
      "light\n",
      "darkness\n",
      "2\n"
     ]
    }
   ],
   "source": [
    "class MyDict:\n",
    "    def __init__(self, d = None):\n",
    "        if d == None: d = {}\n",
    "        self.d = d\n",
    "    def __getitem__(self, k): #key\n",
    "        return self.d[k]\n",
    "    def __setitem__(self, k, v):\n",
    "        self.d[k] = v\n",
    "    def __len__(self):\n",
    "        return len(self.d)\n",
    "    \n",
    "m = MyDict()            #__init__호출\n",
    "m['day'] = 'light'      #__setitem__호출\n",
    "m['night'] = 'darkness' #__setitem__호출 \n",
    "print(m)\n",
    "print(m['day'])          #__getitem__호출\n",
    "print(m['night'])        #__getitem__호출\n",
    "print(len(m))            #__len__호출"
   ]
  },
  {
   "cell_type": "code",
   "execution_count": 98,
   "metadata": {},
   "outputs": [
    {
     "name": "stdout",
     "output_type": "stream",
     "text": [
      "dict_keys(['one', 'two', 'three'])\n",
      "dict_values([1, 2, 3])\n",
      "dict_items([('one', 1), ('two', 2), ('three', 3)])\n"
     ]
    }
   ],
   "source": [
    "class MyDict:\n",
    "    def __init__(self, d=None):\n",
    "        if d == None: d = {}\n",
    "        self.d = d\n",
    "    def __getitem__(self, k):\n",
    "        return self.d[k]\n",
    "    def __setitem__(self, k, v):\n",
    "        self.d[k] = v\n",
    "    def __len__(self):\n",
    "        return len(self.d)\n",
    "    def keys(self):\n",
    "        return self.d.keys()\n",
    "    def values(self):\n",
    "        return self.d.values()\n",
    "    def items(self):\n",
    "        return self.d.items()\n",
    "    \n",
    "m = MyDict({'one':1, 'two':2, 'three':3})\n",
    "print(m.keys())\n",
    "print(m.values())\n",
    "print(m.items())\n"
   ]
  },
  {
   "cell_type": "code",
   "execution_count": 99,
   "metadata": {},
   "outputs": [
    {
     "name": "stdout",
     "output_type": "stream",
     "text": [
      "dict_keys(['one', 'two', 'three'])\n"
     ]
    }
   ],
   "source": [
    "test = {'one':1, 'two':2, 'three':3}\n",
    "print(test.keys())"
   ]
  },
  {
   "cell_type": "markdown",
   "metadata": {},
   "source": [
    "문자열로 변환하기<br>\n",
    "1) __repr__\n",
    "\n",
    "- 객체를 대표하여 유일하게 표현할 수 있는 공식적인 문자열\n",
    "- eval() 함수에 의하여 같은 객체로 재생성 될 수 있는 문자열 표현\n",
    "- __repr__() 호출시 __repr__()이 정의되어 있지 않으면 객체 식별자가 출력됨 대신하여 __str__()이 호출되지 않음\n",
    "\n",
    "\n",
    "2) __str__\n",
    "\n",
    "- 객체의 비공식적인 문자열 표현\n",
    "- 사용자가 보기 편한 형태로 자유롭게 표현될 수 있음\n",
    "-  __str__() 호출시 __str__()가 정의되어 있지 않으면 __repr__()이 대신 호출됨"
   ]
  },
  {
   "cell_type": "code",
   "execution_count": 103,
   "metadata": {},
   "outputs": [
    {
     "name": "stdout",
     "output_type": "stream",
     "text": [
      "str called\n",
      "str called\n",
      "repr called\n",
      "\n",
      "str called\n",
      "str called\n",
      "<__main__.StringRepr object at 0x0000022597B58400>\n"
     ]
    }
   ],
   "source": [
    "class StringRepr:\n",
    "    def __repr__(self):\n",
    "        return 'repr called'\n",
    "    def __str__(self):\n",
    "        return 'str called'\n",
    "    \n",
    "s = StringRepr()\n",
    "print(s)\n",
    "print(str(s))\n",
    "print(repr(s))\n",
    "print()\n",
    "class StringRepr:\n",
    "    def __str__(self):\n",
    "        return 'str called'\n",
    "\n",
    "s = StringRepr()\n",
    "print(s)\n",
    "print(str(s))\n",
    "print(repr(s))"
   ]
  },
  {
   "cell_type": "code",
   "execution_count": 104,
   "metadata": {},
   "outputs": [
    {
     "name": "stdout",
     "output_type": "stream",
     "text": [
      "100\n"
     ]
    }
   ],
   "source": [
    "class StringRepr:\n",
    "    def __init__(self, i = 10):\n",
    "        self.i = i\n",
    "    def __repr__(self):\n",
    "        return 'StringRepr(100)'\n",
    "\n",
    "s = StringRepr()\n",
    "q = eval(repr(s)) #eval은 문자열의 결과를 실행시킨 결과를 출력\n",
    "print(q.i)"
   ]
  },
  {
   "cell_type": "markdown",
   "metadata": {},
   "source": [
    "호출 가능한 클래스 인스턴스 만들기¶\n",
    "- 클래스 인스턴스에 __call__ 메소드가 구현되어 있다면 해당 인스턴스는 함수와 같이 호출될 수 있다.\n",
    "  - 인스턴스 x에 대해 x(a1, a2, a3)와 같이 호출된다면 x.__call__(a1, a2, a3)가 호출된다."
   ]
  },
  {
   "cell_type": "code",
   "execution_count": 115,
   "metadata": {},
   "outputs": [
    {
     "name": "stdout",
     "output_type": "stream",
     "text": [
      "15\n",
      "21\n",
      "45\n",
      "45\n"
     ]
    }
   ],
   "source": [
    "class Accumulator:\n",
    "    def __init__(self):\n",
    "        self.sum = 0\n",
    "    def __call__(self, *args):\n",
    "        self.sum += sum(args)\n",
    "        return self.sum\n",
    "    \n",
    "acc = Accumulator()\n",
    "print(acc(1,2,3,4,5))\n",
    "print(acc(6))\n",
    "print(acc(7,8,9))\n",
    "print(acc.sum)\n"
   ]
  },
  {
   "cell_type": "code",
   "execution_count": 114,
   "metadata": {},
   "outputs": [
    {
     "name": "stdout",
     "output_type": "stream",
     "text": [
      "callable\n",
      "not callable\n",
      "\n",
      "True\n",
      "False\n"
     ]
    }
   ],
   "source": [
    "def check(func):\n",
    "    if callable(func):\n",
    "        print('callable')\n",
    "    else:\n",
    "        print('not callable')\n",
    "\n",
    "class B:\n",
    "    def func(self, v):\n",
    "        return v\n",
    "    \n",
    "class A:\n",
    "    def __call__(self, v):\n",
    "        return v\n",
    "    \n",
    "a = A()\n",
    "b = B()\n",
    "check(a)\n",
    "check(b)\n",
    "print()\n",
    "print(callable(a))\n",
    "print(callable(b))"
   ]
  },
  {
   "cell_type": "markdown",
   "metadata": {},
   "source": [
    "# 21 상속과 다형성"
   ]
  },
  {
   "cell_type": "code",
   "execution_count": 2,
   "metadata": {},
   "outputs": [
    {
     "name": "stdout",
     "output_type": "stream",
     "text": [
      "홍길동\n",
      "<Person 홍길동 1498>\n",
      "\n",
      "손창희 대리\n",
      "<Person 손창희 5564>\n",
      "김기동 과장\n",
      "<Person 김기동 8546>\n"
     ]
    }
   ],
   "source": [
    "\n",
    "class Person:\n",
    "    def __init__(self, name, phone=None):\n",
    "        self.name = name\n",
    "        self.phone = phone\n",
    "    def __str__(self):\n",
    "        return '<Person %s %s>' % (self.name, self.phone)\n",
    "class Employee(Person):                    # 괄호 안에 쓰여진 클래스는 슈퍼클래스를 의미한다.\n",
    "    def __init__(self, name, phone, position, salary):\n",
    "        Person.__init__(self, name, phone) # Person클래스의 생성자 호출\n",
    "        self.position = position\n",
    "        self.salary = salary\n",
    "        \n",
    "p1 = Person('홍길동', 1498)\n",
    "print(p1.name)\n",
    "print(p1)\n",
    "\n",
    "print()\n",
    "\n",
    "m1 = Employee('손창희', 5564, '대리', 200)\n",
    "m2 = Employee('김기동', 8546, '과장', 300)\n",
    "print(m1.name, m1.position)  # 슈퍼클래스와 서브클래스의 멤버를 하나씩 출력한다.\n",
    "print(m1)\n",
    "print(m2.name, m2.position)\n",
    "print(m2)"
   ]
  },
  {
   "cell_type": "markdown",
   "metadata": {},
   "source": [
    "- 서브 클래스의 생성자는 슈퍼 클래스의 생성자를 자동으로 호출하지 않는다.\n",
    "- 서브 클래스의 생성자에서 슈퍼 클래스의 생성자를 명시적으로 호출해야 한다.\n",
    "- 서브 클래스에 생성자가 정의되어 있지 않은 경우에는 슈퍼 클래스의 생성자가 호출된다."
   ]
  },
  {
   "cell_type": "code",
   "execution_count": 5,
   "metadata": {},
   "outputs": [
    {
     "name": "stdout",
     "output_type": "stream",
     "text": [
      "Super init called\n",
      "Sub init called\n",
      "\n",
      "Super init called\n"
     ]
    }
   ],
   "source": [
    "class Super:\n",
    "    def __init__(self):\n",
    "        print('Super init called')\n",
    "        \n",
    "class Sub(Super):\n",
    "    def __init__(self):\n",
    "        Super.__init__(self)   # 명시적으로 슈퍼클래스의 생성자를 호출한다.\n",
    "        print('Sub init called')\n",
    "    \n",
    "s = Sub()\n",
    "print()\n",
    "\n",
    "class Super:\n",
    "    def __init__(self):\n",
    "        print('Super init called')\n",
    "        \n",
    "class Sub(Super):\n",
    "    pass\n",
    "\n",
    "s = Sub()"
   ]
  },
  {
   "cell_type": "markdown",
   "metadata": {},
   "source": [
    "다형성의 장점\n",
    "\n",
    "- 적은 코딩으로 다양한 객체들에게 유사한 작업을 수행시킬 수 있음\n",
    "- 프로그램 작성 코드 량이 줄어든다.\n",
    "- 코드의 가독성을 높혀준다.\n",
    "\n",
    "\n",
    "<br> 파이썬에서 다형성의 장점\n",
    "\n",
    "- 형 선언이 없다는 점에서 파이썬에서는 다형성을 적용하기가 더욱 용이하다.\n",
    "- 실시간으로 객체의 형이 결정되므로 단 하나의 메소드에 의해 처리될 수 있는 객체의 종류에 제한이 없다.\n",
    "- 즉, 다른 언어보다 코드의 양이 더욱 줄어든다."
   ]
  },
  {
   "cell_type": "markdown",
   "metadata": {},
   "source": [
    "서브 클래스의 인스턴스는 슈퍼 클래스의 인스턴스이기도 하다."
   ]
  },
  {
   "cell_type": "code",
   "execution_count": 6,
   "metadata": {},
   "outputs": [
    {
     "name": "stdout",
     "output_type": "stream",
     "text": [
      "<__main__.A object at 0x0000021F69111CC0> => A\n",
      "\n",
      "<__main__.B object at 0x0000021F691110B8> => B\n",
      "\n",
      "<__main__.C object at 0x0000021F69111C88> => B\n",
      "C\n",
      "\n"
     ]
    }
   ],
   "source": [
    "class A:\n",
    "    pass\n",
    "\n",
    "class B:\n",
    "    def f(self):\n",
    "        pass\n",
    "    \n",
    "class C(B):\n",
    "    pass\n",
    "\n",
    "def check(obj):\n",
    "    print(obj, '=>', end=\" \")\n",
    "    if isinstance(obj, A):\n",
    "        print('A')\n",
    "    if isinstance(obj, B):\n",
    "        print('B')\n",
    "    if isinstance(obj, C):\n",
    "        print('C')\n",
    "    print()\n",
    "    \n",
    "a = A()\n",
    "b = B()\n",
    "c = C()\n",
    "\n",
    "check(a)\n",
    "check(b)\n",
    "check(c)"
   ]
  },
  {
   "cell_type": "markdown",
   "metadata": {},
   "source": [
    "3-2 클래스 간의 상속 관계 알아내기¶\n",
    "- issubclass() 내장 함수 활용\n"
   ]
  },
  {
   "cell_type": "code",
   "execution_count": 7,
   "metadata": {},
   "outputs": [
    {
     "name": "stdout",
     "output_type": "stream",
     "text": [
      "<class '__main__.A'> => A\n",
      "\n",
      "<class '__main__.B'> => B\n",
      "\n",
      "<class '__main__.C'> => B\n",
      "C\n",
      "\n"
     ]
    }
   ],
   "source": [
    "class A:\n",
    "    pass\n",
    "\n",
    "class B:\n",
    "    def f(self):\n",
    "        pass\n",
    "    \n",
    "class C(B):\n",
    "    pass\n",
    "\n",
    "def check(obj):\n",
    "    print(obj, '=>', end=\" \")\n",
    "    if issubclass(obj, A):\n",
    "        print('A'),\n",
    "    if issubclass(obj, B):\n",
    "        print('B'),\n",
    "    if issubclass(obj, C):\n",
    "        print('C'),\n",
    "    print()\n",
    "    \n",
    "check(A)\n",
    "check(B)\n",
    "check(C)"
   ]
  },
  {
   "cell_type": "markdown",
   "metadata": {},
   "source": [
    "# 약한참조"
   ]
  },
  {
   "cell_type": "markdown",
   "metadata": {},
   "source": [
    "약한참조의 필요성\n",
    "- 순환 참조 (Cyclic Reference)\n",
    "- 서로 다른 객체들 사이에 참조 방식이 순환 형태로 연결되는 방식\n",
    "- 독립적으로 존재하지만 순환 참조되는 서로 다른 객체 그룹은 쓰레기 수집이 안된다.\n",
    "- 주기적으로 순환 참조를 조사하여 쓰레기 수집하는 기능이 있지만, CPU 자원 낭비가 심하다.\n",
    "- 이러한 쓰레기 수집 빈도가 낮으면 순환 참조되는 많은 객체들이 메모리를 쓸데없이 점유하게 됨"
   ]
  },
  {
   "cell_type": "markdown",
   "metadata": {},
   "source": [
    "내장 자료형 객체 (리스트, 튜플, 사전 등)에 대해서는 약한 참조를 만들 수 없다."
   ]
  },
  {
   "cell_type": "markdown",
   "metadata": {
    "collapsed": true
   },
   "source": [
    "구문 에러 (Syntax Error)\n",
    "\n",
    "- 문법적 에러\n",
    "   -  이클립스 등의 통합개발환경 도구에서는 자동으로 실행 전에 구문 에러를 체크 해 줌\n",
    "   - 파이썬은 상대적으로 언어적 문법이 간단하기 때문에 구문 자체의 에러 발생 비율이 낮거나 다른 도구를 사용하여 완벽하게 제거할 수 있음\n",
    "- 예외 (Exception)\n",
    "\n",
    "   - 구문 에러는 없으나 프로그램 실행 중 더 이상 진행 할 수 없는 상황"
   ]
  },
  {
   "cell_type": "code",
   "execution_count": 1,
   "metadata": {},
   "outputs": [
    {
     "ename": "ZeroDivisionError",
     "evalue": "division by zero",
     "output_type": "error",
     "traceback": [
      "\u001b[1;31m---------------------------------------------------------------------------\u001b[0m",
      "\u001b[1;31mZeroDivisionError\u001b[0m                         Traceback (most recent call last)",
      "\u001b[1;32m<ipython-input-1-d055e09331c6>\u001b[0m in \u001b[0;36m<module>\u001b[1;34m()\u001b[0m\n\u001b[0;32m      1\u001b[0m \u001b[0ma\u001b[0m \u001b[1;33m=\u001b[0m \u001b[1;36m10\u001b[0m\u001b[1;33m\u001b[0m\u001b[0m\n\u001b[0;32m      2\u001b[0m \u001b[0mb\u001b[0m \u001b[1;33m=\u001b[0m \u001b[1;36m0\u001b[0m\u001b[1;33m\u001b[0m\u001b[0m\n\u001b[1;32m----> 3\u001b[1;33m \u001b[0mc\u001b[0m \u001b[1;33m=\u001b[0m \u001b[0ma\u001b[0m \u001b[1;33m/\u001b[0m \u001b[0mb\u001b[0m\u001b[1;33m\u001b[0m\u001b[0m\n\u001b[0m",
      "\u001b[1;31mZeroDivisionError\u001b[0m: division by zero"
     ]
    }
   ],
   "source": [
    "a = 10\n",
    "b = 0 \n",
    "c = a / b"
   ]
  },
  {
   "cell_type": "code",
   "execution_count": 2,
   "metadata": {},
   "outputs": [
    {
     "ename": "ZeroDivisionError",
     "evalue": "float division by zero",
     "output_type": "error",
     "traceback": [
      "\u001b[1;31m---------------------------------------------------------------------------\u001b[0m",
      "\u001b[1;31mZeroDivisionError\u001b[0m                         Traceback (most recent call last)",
      "\u001b[1;32m<ipython-input-2-6b05f01af751>\u001b[0m in \u001b[0;36m<module>\u001b[1;34m()\u001b[0m\n\u001b[0;32m      3\u001b[0m         \u001b[0mprint\u001b[0m\u001b[1;33m(\u001b[0m\u001b[1;36m10.0\u001b[0m \u001b[1;33m/\u001b[0m \u001b[0mn\u001b[0m\u001b[1;33m)\u001b[0m\u001b[1;33m\u001b[0m\u001b[0m\n\u001b[0;32m      4\u001b[0m \u001b[1;33m\u001b[0m\u001b[0m\n\u001b[1;32m----> 5\u001b[1;33m \u001b[0mdivision\u001b[0m\u001b[1;33m(\u001b[0m\u001b[1;33m)\u001b[0m\u001b[1;33m\u001b[0m\u001b[0m\n\u001b[0m",
      "\u001b[1;32m<ipython-input-2-6b05f01af751>\u001b[0m in \u001b[0;36mdivision\u001b[1;34m()\u001b[0m\n\u001b[0;32m      1\u001b[0m \u001b[1;32mdef\u001b[0m \u001b[0mdivision\u001b[0m\u001b[1;33m(\u001b[0m\u001b[1;33m)\u001b[0m\u001b[1;33m:\u001b[0m\u001b[1;33m\u001b[0m\u001b[0m\n\u001b[0;32m      2\u001b[0m     \u001b[1;32mfor\u001b[0m \u001b[0mn\u001b[0m \u001b[1;32min\u001b[0m \u001b[0mrange\u001b[0m\u001b[1;33m(\u001b[0m\u001b[1;36m0\u001b[0m\u001b[1;33m,\u001b[0m \u001b[1;36m5\u001b[0m\u001b[1;33m)\u001b[0m\u001b[1;33m:\u001b[0m\u001b[1;33m\u001b[0m\u001b[0m\n\u001b[1;32m----> 3\u001b[1;33m         \u001b[0mprint\u001b[0m\u001b[1;33m(\u001b[0m\u001b[1;36m10.0\u001b[0m \u001b[1;33m/\u001b[0m \u001b[0mn\u001b[0m\u001b[1;33m)\u001b[0m\u001b[1;33m\u001b[0m\u001b[0m\n\u001b[0m\u001b[0;32m      4\u001b[0m \u001b[1;33m\u001b[0m\u001b[0m\n\u001b[0;32m      5\u001b[0m \u001b[0mdivision\u001b[0m\u001b[1;33m(\u001b[0m\u001b[1;33m)\u001b[0m\u001b[1;33m\u001b[0m\u001b[0m\n",
      "\u001b[1;31mZeroDivisionError\u001b[0m: float division by zero"
     ]
    }
   ],
   "source": [
    "def division():\n",
    "    for n in range(0, 5):\n",
    "        print(10.0 / n)\n",
    "\n",
    "division()"
   ]
  },
  {
   "cell_type": "markdown",
   "metadata": {},
   "source": [
    ">>> try:\n",
    "    (예외 발생 가능한) 일반적인 수행문들<br>\n",
    "except Exception:\n",
    "    예외가 발생하였을 때 수행되는 문들<br>\n",
    "else:\n",
    "    예외가 발생하지 않았을 때 수행되는 문들<br>\n",
    "finally:\n",
    "    예외 발생 유무와 관계없이 무조건 수행되는 문들"
   ]
  },
  {
   "cell_type": "markdown",
   "metadata": {},
   "source": [
    "else: 구문은 except: 구문없이 사용 못한다."
   ]
  },
  {
   "cell_type": "code",
   "execution_count": 3,
   "metadata": {},
   "outputs": [
    {
     "name": "stdout",
     "output_type": "stream",
     "text": [
      "Error - name 'spam' is not defined\n"
     ]
    }
   ],
   "source": [
    "try:\n",
    "    spam()\n",
    "except NameError as e:\n",
    "    print('Error -', e)"
   ]
  },
  {
   "cell_type": "markdown",
   "metadata": {},
   "source": [
    "try 절 안에서 간접적으로 호출한 함수의 내부 예외도 처리할 수 있다."
   ]
  },
  {
   "cell_type": "code",
   "execution_count": 4,
   "metadata": {},
   "outputs": [
    {
     "name": "stdout",
     "output_type": "stream",
     "text": [
      "zero division error!!! - division by zero\n"
     ]
    }
   ],
   "source": [
    "\n",
    "def zero_division():\n",
    "    x = 1 / 0\n",
    "\n",
    "try:\n",
    "    zero_division()\n",
    "except ZeroDivisionError as msg:\n",
    "    print('zero division error!!! -', msg)\n",
    "    "
   ]
  },
  {
   "cell_type": "code",
   "execution_count": 5,
   "metadata": {},
   "outputs": [
    {
     "name": "stdout",
     "output_type": "stream",
     "text": [
      "천사\n",
      "허용되지 않는 별명입니다.\n"
     ]
    }
   ],
   "source": [
    "class MyError(Exception):\n",
    "    def __init__(self, msg):\n",
    "        self.msg = msg\n",
    "\n",
    "    def __str__(self):\n",
    "        return self.msg\n",
    "\n",
    "\n",
    "def say_nick(nick):\n",
    "    if nick == '바보':\n",
    "        raise MyError(\"허용되지 않는 별명입니다.\")\n",
    "    print(nick)\n",
    "\n",
    "try:\n",
    "    say_nick(\"천사\")\n",
    "    say_nick(\"바보\")\n",
    "except MyError as e:\n",
    "    print(e)"
   ]
  },
  {
   "cell_type": "markdown",
   "metadata": {},
   "source": [
    "사용자 정의 예외 클래스를 구현하는 일반적인 방법은 Exception 클래스를 상속 받아 구현한다.\n",
    "- 내장 예외 발생 방법과 동일하게 raise [클래스의 인스턴스] 와 같이 해당 예외 클래스의 인스턴스를 던진다.\n",
    "- except [클래스 이름] 과 같이 해당 예외 클래스 이름을 사용한다"
   ]
  },
  {
   "cell_type": "code",
   "execution_count": 6,
   "metadata": {},
   "outputs": [
    {
     "name": "stdout",
     "output_type": "stream",
     "text": [
      "message!!!\n"
     ]
    }
   ],
   "source": [
    "def f():\n",
    "    raise Exception('message!!!')\n",
    "    \n",
    "try:\n",
    "    f()\n",
    "except Exception as e:\n",
    "    print(e)"
   ]
  },
  {
   "cell_type": "code",
   "execution_count": null,
   "metadata": {
    "collapsed": true
   },
   "outputs": [],
   "source": []
  }
 ],
 "metadata": {
  "kernelspec": {
   "display_name": "Python 3",
   "language": "python",
   "name": "python3"
  },
  "language_info": {
   "codemirror_mode": {
    "name": "ipython",
    "version": 3
   },
   "file_extension": ".py",
   "mimetype": "text/x-python",
   "name": "python",
   "nbconvert_exporter": "python",
   "pygments_lexer": "ipython3",
   "version": "3.6.1"
  }
 },
 "nbformat": 4,
 "nbformat_minor": 2
}
