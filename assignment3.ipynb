{
 "cells": [
  {
   "cell_type": "markdown",
   "metadata": {},
   "source": [
    "## 문제1"
   ]
  },
  {
   "cell_type": "markdown",
   "metadata": {},
   "source": [
    "- L=[1, 2, 3, 4, 5]일 때 다음 각 문장을 수행한 후의 결과를 보고 납득할 만한 이유를 설명하시오."
   ]
  },
  {
   "cell_type": "markdown",
   "metadata": {},
   "source": [
    "- - 1)\n",
    "L[1:3] = [100]<br />\n",
    "print(L)"
   ]
  },
  {
   "cell_type": "code",
   "execution_count": 4,
   "metadata": {},
   "outputs": [
    {
     "name": "stdout",
     "output_type": "stream",
     "text": [
      "[1, 100, 4, 5]\n"
     ]
    }
   ],
   "source": [
    "L=[1, 2, 3, 4, 5]\n",
    "L[1:3] = [100]\n",
    "print(L)"
   ]
  },
  {
   "cell_type": "markdown",
   "metadata": {},
   "source": [
    "결과는 [1, 100, 4, 5]으로 나오는데 [1:3]의 원소와 100으로 치환되므로 [1, 100, 4, 5]으로 출력된다"
   ]
  },
  {
   "cell_type": "markdown",
   "metadata": {},
   "source": [
    "- - 2)L[1:3] = [(100)] <br />\n",
    "print(L)"
   ]
  },
  {
   "cell_type": "code",
   "execution_count": 24,
   "metadata": {},
   "outputs": [
    {
     "name": "stdout",
     "output_type": "stream",
     "text": [
      "[1, 100, 4, 5]\n"
     ]
    }
   ],
   "source": [
    "L=[1, 2, 3, 4, 5]\n",
    "L[1:3] = [(100)] \n",
    "print(L)"
   ]
  },
  {
   "cell_type": "markdown",
   "metadata": {},
   "source": [
    "[(100)]의 타입을 찍어보면 list로 나오므로 1번문제와 마찬가지로 치환된다."
   ]
  },
  {
   "cell_type": "markdown",
   "metadata": {},
   "source": [
    "- - 3) L[1:3] = 100<br />\n",
    "print(L)"
   ]
  },
  {
   "cell_type": "code",
   "execution_count": 25,
   "metadata": {},
   "outputs": [
    {
     "ename": "TypeError",
     "evalue": "can only assign an iterable",
     "output_type": "error",
     "traceback": [
      "\u001b[1;31m---------------------------------------------------------------------------\u001b[0m",
      "\u001b[1;31mTypeError\u001b[0m                                 Traceback (most recent call last)",
      "\u001b[1;32m<ipython-input-25-d0274ea64f39>\u001b[0m in \u001b[0;36m<module>\u001b[1;34m()\u001b[0m\n\u001b[0;32m      1\u001b[0m \u001b[0mL\u001b[0m\u001b[1;33m=\u001b[0m\u001b[1;33m[\u001b[0m\u001b[1;36m1\u001b[0m\u001b[1;33m,\u001b[0m \u001b[1;36m2\u001b[0m\u001b[1;33m,\u001b[0m \u001b[1;36m3\u001b[0m\u001b[1;33m,\u001b[0m \u001b[1;36m4\u001b[0m\u001b[1;33m,\u001b[0m \u001b[1;36m5\u001b[0m\u001b[1;33m]\u001b[0m\u001b[1;33m\u001b[0m\u001b[0m\n\u001b[1;32m----> 2\u001b[1;33m \u001b[0mL\u001b[0m\u001b[1;33m[\u001b[0m\u001b[1;36m1\u001b[0m\u001b[1;33m:\u001b[0m\u001b[1;36m3\u001b[0m\u001b[1;33m]\u001b[0m \u001b[1;33m=\u001b[0m \u001b[1;36m100\u001b[0m\u001b[1;33m\u001b[0m\u001b[0m\n\u001b[0m\u001b[0;32m      3\u001b[0m \u001b[0mprint\u001b[0m\u001b[1;33m(\u001b[0m\u001b[0mL\u001b[0m\u001b[1;33m)\u001b[0m\u001b[1;33m\u001b[0m\u001b[0m\n",
      "\u001b[1;31mTypeError\u001b[0m: can only assign an iterable"
     ]
    }
   ],
   "source": [
    "L=[1, 2, 3, 4, 5]\n",
    "L[1:3] = 100\n",
    "print(L)"
   ]
  },
  {
   "cell_type": "markdown",
   "metadata": {},
   "source": [
    "슬라이싱을 이용하여 치환할 때는 리스트, 튜플만 가능한데 인트값은 불가하다."
   ]
  },
  {
   "cell_type": "markdown",
   "metadata": {},
   "source": [
    "- - 4) L[1:3] = (100)<br />\n",
    "print(L)"
   ]
  },
  {
   "cell_type": "code",
   "execution_count": 26,
   "metadata": {},
   "outputs": [
    {
     "ename": "TypeError",
     "evalue": "can only assign an iterable",
     "output_type": "error",
     "traceback": [
      "\u001b[1;31m---------------------------------------------------------------------------\u001b[0m",
      "\u001b[1;31mTypeError\u001b[0m                                 Traceback (most recent call last)",
      "\u001b[1;32m<ipython-input-26-f155c5a8ccd1>\u001b[0m in \u001b[0;36m<module>\u001b[1;34m()\u001b[0m\n\u001b[0;32m      1\u001b[0m \u001b[0mL\u001b[0m\u001b[1;33m=\u001b[0m\u001b[1;33m[\u001b[0m\u001b[1;36m1\u001b[0m\u001b[1;33m,\u001b[0m \u001b[1;36m2\u001b[0m\u001b[1;33m,\u001b[0m \u001b[1;36m3\u001b[0m\u001b[1;33m,\u001b[0m \u001b[1;36m4\u001b[0m\u001b[1;33m,\u001b[0m \u001b[1;36m5\u001b[0m\u001b[1;33m]\u001b[0m\u001b[1;33m\u001b[0m\u001b[0m\n\u001b[1;32m----> 2\u001b[1;33m \u001b[0mL\u001b[0m\u001b[1;33m[\u001b[0m\u001b[1;36m1\u001b[0m\u001b[1;33m:\u001b[0m\u001b[1;36m3\u001b[0m\u001b[1;33m]\u001b[0m \u001b[1;33m=\u001b[0m \u001b[1;33m(\u001b[0m\u001b[1;36m100\u001b[0m\u001b[1;33m)\u001b[0m\u001b[1;33m\u001b[0m\u001b[0m\n\u001b[0m\u001b[0;32m      3\u001b[0m \u001b[0mprint\u001b[0m\u001b[1;33m(\u001b[0m\u001b[0mL\u001b[0m\u001b[1;33m)\u001b[0m\u001b[1;33m\u001b[0m\u001b[0m\n",
      "\u001b[1;31mTypeError\u001b[0m: can only assign an iterable"
     ]
    }
   ],
   "source": [
    "L=[1, 2, 3, 4, 5]\n",
    "L[1:3] = (100)\n",
    "print(L)"
   ]
  },
  {
   "cell_type": "markdown",
   "metadata": {},
   "source": [
    "4번도 3번의 이유로 int값이므로 슬라이싱일때 오류가난다."
   ]
  },
  {
   "cell_type": "markdown",
   "metadata": {},
   "source": [
    "- - 5) L[1:3] = (100, 101, 102) <br />\n",
    "print(L)"
   ]
  },
  {
   "cell_type": "code",
   "execution_count": 27,
   "metadata": {},
   "outputs": [
    {
     "name": "stdout",
     "output_type": "stream",
     "text": [
      "[1, 100, 101, 102, 4, 5]\n"
     ]
    }
   ],
   "source": [
    "L=[1, 2, 3, 4, 5]\n",
    "L[1:3] = (100, 101, 102) \n",
    "print(L)"
   ]
  },
  {
   "cell_type": "markdown",
   "metadata": {},
   "source": [
    "(100, 101, 102)는 튜플이므로 슬라이싱연산이 가능하다 그래서 리스트의 1번 2번자리에 튜플값이 들어간다."
   ]
  },
  {
   "cell_type": "markdown",
   "metadata": {},
   "source": [
    "- - 6) L[1:3] = [100, 101, 102] <br />\n",
    "print(L)"
   ]
  },
  {
   "cell_type": "code",
   "execution_count": 28,
   "metadata": {},
   "outputs": [
    {
     "name": "stdout",
     "output_type": "stream",
     "text": [
      "[1, 100, 101, 102, 4, 5]\n"
     ]
    }
   ],
   "source": [
    "L=[1, 2, 3, 4, 5]\n",
    "L[1:3] = [100, 101, 102] \n",
    "print(L)"
   ]
  },
  {
   "cell_type": "markdown",
   "metadata": {},
   "source": [
    "[100,101,102]는 리스트 자료형이므로 슬라이싱 연산이 가능하므로 치환이 가능하다"
   ]
  },
  {
   "cell_type": "markdown",
   "metadata": {},
   "source": [
    "- - 7) L[1:3] = [(100, 101, 102)] <br />\n",
    "print(L)"
   ]
  },
  {
   "cell_type": "code",
   "execution_count": 29,
   "metadata": {},
   "outputs": [
    {
     "name": "stdout",
     "output_type": "stream",
     "text": [
      "[1, (100, 101, 102), 4, 5]\n"
     ]
    }
   ],
   "source": [
    "L=[1, 2, 3, 4, 5]\n",
    "L[1:3] = [(100, 101, 102)] \n",
    "print(L)"
   ]
  },
  {
   "cell_type": "markdown",
   "metadata": {},
   "source": [
    "[(100, 101, 102)]은 리스트안에 튜플이 있는 것이므로 결과적으로 type은 리스트로 찍힌다. 따라서 슬라이싱으로 치환이 가능하다"
   ]
  },
  {
   "cell_type": "markdown",
   "metadata": {},
   "source": [
    "- - 8) L[1:3] = [[100, 101, 102]]<br />\n",
    "print(L)"
   ]
  },
  {
   "cell_type": "code",
   "execution_count": 30,
   "metadata": {},
   "outputs": [
    {
     "name": "stdout",
     "output_type": "stream",
     "text": [
      "[1, [100, 101, 102], 4, 5]\n"
     ]
    }
   ],
   "source": [
    "L=[1, 2, 3, 4, 5]\n",
    "L[1:3] = [[100, 101, 102]]\n",
    "print(L)"
   ]
  },
  {
   "cell_type": "markdown",
   "metadata": {},
   "source": [
    "[[100, 101, 102]]은 리스트안에 리스트이므로 이것 또한 type은 리스트이므로 슬라이싱으로 치환이 가능하다"
   ]
  },
  {
   "cell_type": "markdown",
   "metadata": {},
   "source": [
    "## 문제2"
   ]
  },
  {
   "cell_type": "markdown",
   "metadata": {},
   "source": [
    "- 문자열 S = 'Hello World and Python'에 대해 다음 요구사항에 대한 Python 코드를 제시하시오.\n",
    "  - 1) 단어의 순서가 역순으로 되어진 문자열 ('Python and World Hello')을 만들고<br />\n",
    "  - 2) 1)의 결과 문자열에 대해 메소드 split과 join을 이용하여 공백을 모두 없엔 문자열 'PythonandWorldHello'을 만드시오."
   ]
  },
  {
   "cell_type": "code",
   "execution_count": 21,
   "metadata": {
    "scrolled": true
   },
   "outputs": [
    {
     "name": "stdout",
     "output_type": "stream",
     "text": [
      "Python and World Hello\n"
     ]
    }
   ],
   "source": [
    "s = 'Hello World and Python'\n",
    "a = s.split()\n",
    "a.reverse()\n",
    "a = ' '.join(a)\n",
    "print(a)"
   ]
  },
  {
   "cell_type": "markdown",
   "metadata": {},
   "source": [
    "문자열을 역으로 읽어서 a에 넣어주고 출력했다."
   ]
  },
  {
   "cell_type": "code",
   "execution_count": 20,
   "metadata": {},
   "outputs": [
    {
     "name": "stdout",
     "output_type": "stream",
     "text": [
      "PythonandWorldHello\n"
     ]
    }
   ],
   "source": [
    "a = a.split()\n",
    "a = ''.join(a)\n",
    "print(a)"
   ]
  },
  {
   "cell_type": "markdown",
   "metadata": {},
   "source": [
    "split함수를 사용하여 리스트로 만들고 reverse 함수를 사용하여 역순으로 뒤집었고 다시 문자열로 만들어서 1)을 해곃했다. 2)은 join함수를 이용하여 공백없이 문자열로 출력하였다."
   ]
  },
  {
   "cell_type": "markdown",
   "metadata": {},
   "source": [
    "## 문제3\n",
    "- 다음 코드를 보고 물음에 답하시오.<br />\n",
    "a = [1, 2, 3]<br/>\n",
    "b = a * 3<br/>\n",
    "c = [a] * 3<br/>\n",
    "print(b)<br/>\n",
    "print(c)\n",
    "  - 1) 위 코드를 수행한 이후 다음 코드를 수행한 후 b와 c의 내용을 확인하시오.<br />\n",
    "a[0]=0<br />\n",
    "  - 2)b와 c 객체의 차이는 무엇인가?\n"
   ]
  },
  {
   "cell_type": "code",
   "execution_count": 22,
   "metadata": {},
   "outputs": [
    {
     "name": "stdout",
     "output_type": "stream",
     "text": [
      "[1, 2, 3, 1, 2, 3, 1, 2, 3]\n",
      "[[1, 2, 3], [1, 2, 3], [1, 2, 3]]\n",
      "[1, 2, 3, 1, 2, 3, 1, 2, 3]\n",
      "[[0, 2, 3], [0, 2, 3], [0, 2, 3]]\n"
     ]
    }
   ],
   "source": [
    "a = [1, 2, 3]\n",
    "b = a * 3\n",
    "c = [a] * 3\n",
    "print(b)\n",
    "print(c)\n",
    "a[0]=0\n",
    "print(b)\n",
    "print(c)"
   ]
  },
  {
   "cell_type": "markdown",
   "metadata": {},
   "source": [
    "b같은 경우에는 그 당시의 a의 값을 가져와서 리스트를 생성하지만 c는 a의 주소를 공유하고 있기때문에 a 값이 바뀌면 바뀐값을 출력하게된다.\n",
    "b는 객체를 새로 생성하는 것이고 c는 동일객체를 가르키기 때문에 a를 수정했을 때 값이 변하는 것은 c이다."
   ]
  },
  {
   "cell_type": "markdown",
   "metadata": {},
   "source": [
    "## 문제4\n",
    "- 다음 문자열을 ':'을 기준으로 분리하여 리스트로 만들고 각 문자열의 좌우 공백을 제거하시오 (즉, 문자열 S에서 l을 만들어라)<br />\n",
    "s = '  first star   :   second star   :    third star  ' <br/ >\n",
    "l = ['first star', 'second star', 'third star']\n",
    "  - 1) for ~ in 문을 이용한 코드를 작성하시오.\n",
    "  - 2) 리스트 내포(list comprehension)를 이용한 코드를 작성하시오."
   ]
  },
  {
   "cell_type": "code",
   "execution_count": 6,
   "metadata": {},
   "outputs": [
    {
     "name": "stdout",
     "output_type": "stream",
     "text": [
      "[' first star ', ' second star ', ' third star ']\n",
      "['first star', 'second star', 'third star']\n"
     ]
    }
   ],
   "source": [
    "s = ' first star : second star : third star ' \n",
    "b = s.split(\":\")\n",
    "print(b)\n",
    "key=[]\n",
    "for num in range(len(b)) :\n",
    "    b[num]=b[num].strip()\n",
    "print(b)"
   ]
  },
  {
   "cell_type": "markdown",
   "metadata": {},
   "source": [
    "split함수로 리스트로 만들어주고 리스트의 길이만큼 for문을 돌려서 공백을 없앤뒤 출력하였다."
   ]
  },
  {
   "cell_type": "code",
   "execution_count": 1,
   "metadata": {},
   "outputs": [
    {
     "name": "stdout",
     "output_type": "stream",
     "text": [
      "['first star', 'second star', 'third star']\n"
     ]
    }
   ],
   "source": [
    "s = ' first star : second star : third star ' \n",
    "b = s.split(\":\")\n",
    "L = [c.strip() for c in b]\n",
    "print(L)"
   ]
  },
  {
   "cell_type": "markdown",
   "metadata": {},
   "source": [
    "split함수를 이용하여 리스트로 만들어주고 각각의 원소를 공백을 없애주어 L에 넣어 L을 출력하였다."
   ]
  },
  {
   "cell_type": "markdown",
   "metadata": {},
   "source": [
    "## 문제5\n",
    "- 다음과 같이 0보다 큰 정수 리스트 변수 list를 인자로 받는 함수 addall(list)와 addallodd(list)를 for ~ in 리터널과 리스트 내포 방식으로 각각 제시하시오.\n",
    "  - 1) addall(list) 함수 (리스트 내의 모든 정수를 더하는 함수로서 해답으로는 for ~ in 리터럴과 리스트 내포 방식으로 각각 제시하시오.)\n",
    "    - '>>>' addall([1])<br />\n",
    "1\n",
    "    -  '>>>' addall([1, 2, 3, 4, 5, 6, 7, 8, 9])<br />\n",
    "45\n",
    "  - 2) addallodd(list) 함수 (리스트내의 모든 홀수를 더하는 함수로서 해답으로는 for ~ in 리터럴과 리스트 내포 방식으로 각각 제시하시오.)\n",
    "    - '>>>' addallodd([1])<br />\n",
    "1\n",
    "    - '>>>' addallodd([1, 2, 3, 4, 5, 6, 7, 8, 9])<br />\n",
    "25\n",
    "\n",
    "- [참고 1]: 리스트 내포 방식으로 addall() 및 addallodd()함수를 만들 때엔 리스트 내포에 의해 생성된 리스트 결과에 대해 내장 함수를 사용하는 방식을 고려해보시오 (주의: 리스트 내포 방식의 addall() 및 addallodd() 함수의 몸체는 단 1줄로 작성되어야 한다.)\n",
    "- [참고 2]: sum() 등의 내장함수 사용 가능함"
   ]
  },
  {
   "cell_type": "code",
   "execution_count": 8,
   "metadata": {},
   "outputs": [
    {
     "name": "stdout",
     "output_type": "stream",
     "text": [
      "1\n"
     ]
    }
   ],
   "source": [
    "def addall(t) :\n",
    "    a=0\n",
    "    for num in t :\n",
    "        a += num\n",
    "    return a\n",
    "\n",
    "L = [1]\n",
    "print(addall(L))"
   ]
  },
  {
   "cell_type": "code",
   "execution_count": 7,
   "metadata": {},
   "outputs": [
    {
     "name": "stdout",
     "output_type": "stream",
     "text": [
      "45\n"
     ]
    }
   ],
   "source": [
    "def addall(t) :\n",
    "    a=0\n",
    "    for num in t :\n",
    "        a += num\n",
    "    return a\n",
    "\n",
    "L = [1,2,3,4,5,6,7,8,9]\n",
    "print(addall(L))"
   ]
  },
  {
   "cell_type": "markdown",
   "metadata": {},
   "source": [
    "리스트를 addall로 넘겨받아서 for문안에서 리스트 원소값들을 a에 계속해서 더해줬다."
   ]
  },
  {
   "cell_type": "code",
   "execution_count": 32,
   "metadata": {
    "scrolled": true
   },
   "outputs": [
    {
     "name": "stdout",
     "output_type": "stream",
     "text": [
      "45\n"
     ]
    }
   ],
   "source": [
    "def addall(t) :\n",
    "    return sum(t[num] for num in range(len(t)))\n",
    "\n",
    "L = [1,2,3,4,5,6,7,8,9]\n",
    "print(addall(L))"
   ]
  },
  {
   "cell_type": "markdown",
   "metadata": {},
   "source": [
    "리스트로 넘겨준 후 sum내장함수를 사용하여 리스트를 생성 후 더해 주어서 return 해주었다."
   ]
  },
  {
   "cell_type": "code",
   "execution_count": 18,
   "metadata": {},
   "outputs": [
    {
     "name": "stdout",
     "output_type": "stream",
     "text": [
      "25\n"
     ]
    }
   ],
   "source": [
    "def addodd(t) :\n",
    "    a=0\n",
    "    for num in range(len(t)):\n",
    "        if (t[num]%2==1) :\n",
    "            a +=t[num]\n",
    "    return a\n",
    "    \n",
    "L = [1,2,3,4,5,6,7,8,9]\n",
    "print(addodd(L))"
   ]
  },
  {
   "cell_type": "markdown",
   "metadata": {},
   "source": [
    "함수안에서 각 원소를 홀수인지를 %2==1로 확인하여서 홀수이면 계속 더하게 하여 출력하게 하였다."
   ]
  },
  {
   "cell_type": "code",
   "execution_count": 34,
   "metadata": {},
   "outputs": [
    {
     "name": "stdout",
     "output_type": "stream",
     "text": [
      "25\n"
     ]
    }
   ],
   "source": [
    "def addodd(t) :\n",
    "    return sum(t[num] for num in range(len(t)) if t[num]%2==1)\n",
    "L = [1,2,3,4,5,6,7,8,9]\n",
    "print(addodd(L))"
   ]
  },
  {
   "cell_type": "markdown",
   "metadata": {},
   "source": [
    "리스트 내포를 사용하였는데 if문을 사용하여 원소의 값이 홀수인지 판별하여 sum함수를 이용하여 더해주고 return하게 하여 출력하였다."
   ]
  },
  {
   "cell_type": "markdown",
   "metadata": {},
   "source": [
    "## 문제6\n",
    "- 다음 코드를 보고 물음에 답하시오.<br />\n",
    "L1 = [1, 2, 3]<br />\n",
    "L2 = [4, 5, 6]<br />\n",
    "d = {'low':L1, 'high':L2}<br />\n",
    "e = d<br />\n",
    "f = d.copy()<br />\n",
    "print(d)<br />\n",
    "print(e)<br />\n",
    "print(f)<br />\n",
    "print()<br />\n",
    "d['low'] = [10, 20, 30]<br />\n",
    "d['high'][1] = 500<br />\n",
    "print(d)<br />\n",
    "print(e)<br />\n",
    "print(f)<br />\n",
    "  - 1) 위 코드의 수행 결과 d와 e는 항상 같은 결과를 출력한다. 그 이유는 무엇인가?\n",
    "  - 2) 위 코드의 수행 결과 마지막 f의 내용은 다음과 같다. 이 때 'high' 키의 값 내용 중 500이 출력된 이유와 'low' 키의 값 내용 중 [1, 2, 3]이 출력된 이유를 설명하시오 ([hint]: shallow copy 관점에서 설명하시오.) <br / >\n",
    "  {'high': [4, 500, 6], 'low': [1, 2, 3]}"
   ]
  },
  {
   "cell_type": "code",
   "execution_count": 9,
   "metadata": {},
   "outputs": [
    {
     "name": "stdout",
     "output_type": "stream",
     "text": [
      "{'low': [1, 2, 3], 'high': [4, 5, 6]}\n",
      "{'low': [1, 2, 3], 'high': [4, 5, 6]}\n",
      "{'low': [1, 2, 3], 'high': [4, 5, 6]}\n",
      "\n",
      "{'low': [10, 20, 30], 'high': [4, 500, 6]}\n",
      "{'low': [10, 20, 30], 'high': [4, 500, 6]}\n",
      "{'low': [1, 2, 3], 'high': [4, 500, 6]}\n"
     ]
    }
   ],
   "source": [
    "L1 = [1, 2, 3]\n",
    "L2 = [4, 5, 6]\n",
    "d = {'low':L1, 'high':L2}\n",
    "e = d\n",
    "f = d.copy() \n",
    "print(d)\n",
    "print(e)\n",
    "print(f)\n",
    "print()\n",
    "d['low'] = [10, 20, 30]\n",
    "d['high'][1] = 500\n",
    "print(d)\n",
    "print(e)\n",
    "print(f)"
   ]
  },
  {
   "cell_type": "markdown",
   "metadata": {},
   "source": [
    "e는 d랑 같은 곳을 가리키므로 d의 값이 바뀐 그대로 출력된다. 그래서 항상 같은 값을 출력한다.\n",
    "하지만 low부분이 새로운 객체로 바뀌어서 d와 e는 low[10,20,30]을 가리키게 되고 값이 변경되어 출력한다. 하지만 f는 shallow copy이므로 그전의 low값을 그대로 가리키고 있다. 하지만 high부분은 전체가 아닌 리스트중 일부가 바뀌었기 때문에 새로 생성되지 않았기 때문에 값이 변경되어도 d e f이 같은 값을 출력하였다.\n"
   ]
  },
  {
   "cell_type": "markdown",
   "metadata": {},
   "source": [
    "## 문제7\n",
    "- 사전 d = {'one':1, 'two':2, 'three':3, 'four':4, 'five':5}가 주어졌을 때 다음 요구사항에 맞는 코드를 제시하시오\n",
    "  - [참고]: d.keys(), d.values()를 통해 리스트를 얻어낸 후 리스트가 지니고 있는 sort(cmp=None, key=None, reverse=False)함수를 활용하시오.\n",
    "  - 1) 키의 알파벳 오름차순 순서대로 튜플 (키, 값)을 차례대로 출력하시오.\n",
    "  - 2) 키의 알파벳 내림차순 순서대로 튜플 (키, 값)을 차례대로 출력하시오.\n",
    "  - 3) 값의 오름차순 순서대로 튜플 (키, 값)을 차례대로 출력하시오.\n",
    "  - 4) 값의 내림차순 순서대로 튜플 (키, 값)을 차례대로 출력하시오."
   ]
  },
  {
   "cell_type": "code",
   "execution_count": 64,
   "metadata": {},
   "outputs": [
    {
     "name": "stdout",
     "output_type": "stream",
     "text": [
      "[('five', 5), ('four', 4), ('one', 1), ('three', 3), ('two', 2)]\n",
      "[('two', 2), ('three', 3), ('one', 1), ('four', 4), ('five', 5)]\n",
      "[('one', 1), ('two', 2), ('three', 3), ('four', 4), ('five', 5)]\n",
      "[('five', 5), ('four', 4), ('three', 3), ('two', 2), ('one', 1)]\n"
     ]
    }
   ],
   "source": [
    "d = {'one':1, 'two':2, 'three':3, 'four':4, 'five':5}\n",
    "i = [i for i in d.items()]\n",
    "i.sort()\n",
    "print(i)\n",
    "i.reverse()\n",
    "print(i)\n",
    "k = [k for k in d.keys()]\n",
    "v = [v for v in d.values()]\n",
    "v.sort()\n",
    "nv = []\n",
    "for i in v:\n",
    "    for j in k:\n",
    "        if(d[j] == i):\n",
    "            nv.append(i)\n",
    "list2 = dict(zip(k,nv))\n",
    "list3 = [list2 for list2 in list2.items()]\n",
    "print(list3)\n",
    "list3.reverse()\n",
    "print(list3)"
   ]
  },
  {
   "cell_type": "markdown",
   "metadata": {},
   "source": [
    "사전을 items()를 이용하여 리스트로 만들고 sort함수로 정렬시켰다. 그리고 정렬된 리스트를 reverse로 하면 내림차순이 되게 출력하였다.\n",
    "value값으로 정렬은 nv라는 새로운 리스트를 만들고 value값만 따로 정렬해서 value값을 다시 찾으려면 이중 for문을 사용하여 key값과 대입하여 추어서 dict(zip(,))을 이용하여 만들고 다시 list로 만들어서 출력했다. 내림차순은 마찬가지로 reverse를 사용하여 출력하였다."
   ]
  },
  {
   "cell_type": "markdown",
   "metadata": {},
   "source": [
    "## 문제8\n",
    "- [ACM-ICPC 문제 1152번]\n",
    "  -  단어의 개수 <br / >\n",
    "  https://www.acmicpc.net/problem/1152"
   ]
  },
  {
   "cell_type": "code",
   "execution_count": 44,
   "metadata": {},
   "outputs": [
    {
     "name": "stdout",
     "output_type": "stream",
     "text": [
      "The Curious Case of Benjamin Button\n",
      "6\n"
     ]
    }
   ],
   "source": [
    "s= input()\n",
    "a=s.split()\n",
    "print(len(a))"
   ]
  },
  {
   "cell_type": "markdown",
   "metadata": {},
   "source": [
    "문자열을 입력받아서 split함수로 단어를 구분하여 리스트의 길이값을 출력하면 단어의 개수가 된다."
   ]
  },
  {
   "cell_type": "markdown",
   "metadata": {},
   "source": [
    "![baek_1110.png](img/baek_1110.png)"
   ]
  },
  {
   "cell_type": "markdown",
   "metadata": {},
   "source": [
    "## 문제9\n",
    "- [Incremental Project] 이전 Assignment 2의 마지막 문제는 웹 URL로 지정된 웹페이지를 문자열로 가져와 모든 HTML 태그 및 CSS와 Javascript를 제외한 순수 텍스트를 얻어내고 그 안에 존재하는 단어를 추출하고 단어들의 총 개수를 출력하는 프로그램을 작성하는 것이었다. 이번에는 그 마지막 숙제를 그대로 확장하여 웹 URL로 지정된 웹페이지 내 순수 텍스트 안에 존재하는 각 단어들에 대해 다음 요구사항 대로 출력하는 프로그램을 작성하시오.\n",
    "  - 요구사항 1. 순수 텍스트 안에 존재하는 단어들에 대해 string 모듈을 활용하여 모든 punctuation (구두문자)를 완벽히 제거하시오.\n",
    "    - 예: ['world!', ':', '+hello+', '~python$$$', '=', 'world'] ---> ['world', 'hello', 'python', 'world']\n",
    "    - 모든 punctuation을 확인하는 방법은 아래와 같다.<br / >\n",
    "import string <br / >\n",
    "print(string.punctuation)\n",
    "  - 요구사항 2. 만약 punctuation (구두문자)를 제거한 이후 공백으로 판명되는 단어들은 해당 단어 리스트에서 제거하시오.\n",
    "   - 예: ['컴퓨터공학부!', '---?', '%지향~', '...'] ---> ['컴퓨터공학부', '지향']\n",
    "  -  요구사항 3. 각 단어들의 출현빈도를 사전형태로 저장하여 출력하시오.\n",
    "    - 예: ['world', 'hello', 'python', 'world', '컴퓨터공학부', '지향'] ---> {'world': 2, 'hello': 1, 'python': 1, '컴퓨터공학부': 1, '지향': 1}\n",
    "  - 요구사항 4. 다음 3개의 사이트에 대한 결과를 출력하시오.\n",
    "    - http://www.naver.com\n",
    "    - http://www.daum.net\n",
    "    - http://www.nytimes.com"
   ]
  },
  {
   "cell_type": "code",
   "execution_count": 2,
   "metadata": {},
   "outputs": [
    {
     "name": "stdout",
     "output_type": "stream",
     "text": [
      "{'var': 8, 'nsc': 1, 'navertopv3': 1, 'documentdomain': 1, 'navercom': 1, 'jindoAll': 1, 'httpsspstaticnetpm2jscjindov171025js': 1, 'if': 5, 'windowconsole': 1, 'windowconsolewindowconsolelogfunction': 1, 'isLogin': 1, 'false': 4, 'function': 3, 'refreshLcsetc': 1, 'etc': 4, 'ifdocumentcookieindexOfnrefreshx1': 1, '1': 5, 'etcmrf1': 1, 'else': 1, 'etcpansporeturn': 1, 'lcsdorefreshLcs': 1, 'NAVER': 3, '뉴스스탠드': 2, '바로가기': 6, '주제별캐스트': 1, '타임스퀘어': 2, '쇼핑캐스트': 2, '로그인': 4, '네이버': 7, '네이버를': 1, '시작페이지로': 1, '쥬니어네이버': 1, '해피빈': 1, '검색': 2, '통합검색': 1, '블로그': 2, '카페': 2, '카페명': 1, '카페글': 1, '지식iN': 1, '뉴스': 3, '사이트': 2, '카테고리': 1, '영화': 4, '웹문서': 1, '사전': 2, '백과사전': 1, '영어사전': 1, '영영사전': 1, '국어사전': 1, '일본어사전': 1, '한자사전': 1, '용어사전': 1, '책': 2, '음악': 1, '전문자료': 1, '쇼핑': 2, '지역': 2, '동영상': 1, '이미지': 1, '내PC': 1, '자동차': 2, '게임': 2, '건강': 2, '인물': 1, '긍정부정검색': 1, '자동완성': 18, '펼치기': 5, '한글': 1, '입력기': 1, '생각한대로': 1, '검색해': 1, '보세요': 2, 'Beta': 1, 'txt': 5, '시간대와': 1, '관심사에': 2, '맞춘': 1, '컨텍스트': 3, '도움말': 6, '보기': 21, 'ON': 1, '선택됨': 1, 'OFF': 1, '동일한': 1, '시간대연령남녀별': 1, '사용자': 1, '그룹의': 1, '맞춰': 1, '자동완성을': 1, '제공합니다': 1, '자세히': 2, 'ONOFF설정은': 1, '해당': 1, '기기브라우저에': 1, '저장됩니다': 1, '레이어': 1, '닫기': 3, '신고': 4, '검색어저장': 6, '켜기': 5, '끄기': 7, '기능을': 5, '다시': 4, '켤': 4, '때는': 4, '을': 4, '클릭하세요': 4, '현재': 1, '사용하고': 1, '계십니다': 1, '기능이': 5, '활성화되었습니다': 1, '꺼져': 3, '있습니다': 5, '최근검색어': 2, '내': 8, '검색어': 7, '등록': 3, 'date': 1, '삭제': 4, 'intxt': 2, '내역이': 1, '없습니다': 3, '저장': 2, '해제': 1, '설정된': 1, '검색어가': 1, '최근검색어에서': 1, '를': 3, '선택하여': 1, '자주': 1, '찾는': 1, '검색어를': 2, '검색어로': 1, '저장해': 1, '알림': 1, '공용': 1, 'PC에서는': 1, '개인정보': 1, '보호를': 1, '위하여': 1, '반드시': 1, '로그아웃을': 1, '해': 1, '주세요': 1, '기록': 3, '전체': 5, '완료': 1, '검색어는': 1, '최대': 1, '10': 7, '개': 1, '까지': 1, '저장할': 1, '수': 2, '추가하시려면': 1, '기존': 1, '지워주세요': 1, '제19대': 1, '대통령선거': 1, '후보에': 1, '대해': 1, '5월': 1, '9일': 1, '선거일까지': 1, '제공되지': 1, '않습니다': 1, '자세히보기': 1, 'image7': 1, '6': 5, '12': 4, '7': 6, '8': 6, '9': 7, '11': 5, '5회차': 1, '13': 3, '14': 4, 'money': 1, '원': 1, '기온': 2, '℃': 2, '5': 4, 'displaylink': 1, '사이트로': 1, '바로': 2, '이동': 3, 'query': 1, 'intend': 1, '바로이동': 1, 'mismatchbefore': 2, 'match': 2, 'mismatchafter': 2, '메일': 1, '지식인': 1, '네이버페이': 1, '네이버TV': 1, '증권금융': 1, '부동산': 1, '지도': 1, '뮤직': 2, '만화': 1, '웹툰': 2, '더보기': 1, '실시간': 3, '급상승': 3, '김주혁': 7, '2': 2, '교통사고': 2, '3': 3, '이유영': 2, '4': 2, '김무생': 2, '심근경색': 2, '아르곤': 2, '1박2일': 2, '도민호': 2, '육각수': 2, '트와이스': 4, 'likey': 2, '유아인': 2, '이범호': 3, '김종도': 2, '홍천': 2, '숯불닭갈비': 2, '15': 2, '16': 2, '버나디나': 2, '17': 2, '공조': 2, '18': 2, '포렌식': 2, '19': 2, '나무엑터스': 2, '20': 2, '현대모비스': 2, 'DataLab': 1, '트래킹': 1, '110위': 1, '1120위': 1, '데이터랩': 20, '그래프': 20, '20171030': 1, '212230': 1, '기준': 1, '연합뉴스': 1, '朴국정원': 1, '左성향단체': 1, '15곳·문제인물': 1, '249명': 1, '블랙리스트': 1, '작성': 1, '삼성동': 1, '교통사고로': 1, '사망…향년': 1, '45세': 1, '검찰': 1, '경영비리': 1, '롯데': 1, '신동빈': 1, '징역': 1, '10년': 2, '구형': 1, '송영무': 1, '국방장관': 1, '北': 1, '언젠가': 1, '무너질정권이라': 1, '생각': 1, '洪': 2, '朴제명': 1, '강행친박': 1, '직무정지': 1, '康외교': 1, '조만간': 1, '소식': 1, '발표…한중': 1, '사드합의': 1, '임박': 1, '2500선': 1, '첫발': 1, '코스피': 1, '2000서': 1, '걸렸다': 1, '종료': 1, '하루앞두고': 1, '국감': 1, '정상화…공방속': 1, '곳곳': 1, '정회': 1, '미성년자': 1, '유인': 1, '이영학': 1, '딸': 1, '구속…구속사유': 1, '있어': 1, '31일': 1, '아침도': 1, '추워요…최저기온': 1, '4∼8도': 1, '네이버뉴스': 1, '연예': 1, '스포츠': 3, '경제': 1, '랭킹': 1, '언론사': 5, 'MY': 1, '이미지형': 1, '리스트형': 1, '설정': 3, '이전': 2, '페이지': 2, '다음': 2, '목록': 3, '구독': 19, '해지': 18, '기사보기': 18, '종합경제': 1, '방송통신': 1, 'IT': 1, '영자지': 1, '스포츠연예': 1, '매거진전문지': 1, '설정한': 3, '언론사가': 1, '설정에서': 1, 'MY언론사를': 1, '추가하면': 1, '언론사의': 1, '기사들을': 1, '홈에서': 1, '보실': 1, '추가': 1, 'Sign': 3, 'in': 2, 'Connect': 1, 'with': 1, 'people': 1, 'up': 1, 'Forgot': 1, 'Username': 1, 'or': 1, 'Password': 1, '1030': 1, '월': 1, '서울시': 1, '회현동': 1, '앞의': 1, '목록으로': 2, '뒤의': 1, '날씨': 4, '맑음': 2, '°C': 1, '°': 2, '내일': 2, '오전': 1, '3°': 1, '오후': 1, '구름많음': 1, '18°': 1, '기상': 1, '정보': 1, '확인하기': 1, '주간예보': 1, '주제형': 1, '캐스트': 1, '관심': 4, '주제': 9, '선택': 1, '리빙': 1, '푸드': 1, '패션뷰티': 1, '맘·키즈': 1, 'TV연예': 1, '책문화': 1, '함께N': 1, '여행': 1, '디자인': 1, '경제M': 1, 'JOB': 1, '과학': 1, '중국': 1, '비즈니스': 3, 'FARM': 1, '스쿨잼': 1, '공연전시': 1, '법률': 1, '동물공감': 1, '연애·결혼': 1, '테크': 1, '열기': 1, 'name': 4, 'isNewPanel': 1, 'NEW': 1, '관심주제로': 1, '설정하시겠습니까': 1, '확인': 3, '취소': 3, '모바일에서': 1, '가져오시겠습니까': 1, '관심주제': 1, '모바일': 2, '가져오기': 2, '후': 2, '사용': 2, '가능합니다': 2, '초기화': 1, '전체선택': 1, '야구': 1, '해외야구': 1, '축구': 1, '해외축구': 1, '농구': 1, '배구': 1, '골프': 1, '일반': 1, '오늘의WS': 1, '휴스턴': 1, '난타전': 1, '승리': 1, '3승2패': 1, '리드': 1, 'ë\\x8f\\x99ì\\x98\\x81ì\\x83\\x81': 9, '투지': 1, '안치홍의': 1, '머리로': 1, '향한': 1, '최주환의': 1, '송구': 1, '실책': 1, 'KBO': 4, '영상': 8, '트리플더블을': 1, '달성하는': 1, '삼성생명의': 1, '토마스': 1, '여자프로농구': 2, '김선빈': 1, '니퍼트를': 1, '강판시키는': 1, '1타점': 1, '적시타': 2, '작렬': 1, '만루의': 1, '사나이': 1, '우승으로': 1, '가는': 1, '그랜드슬램': 1, '빠른': 1, '속도를': 1, '이용한': 1, '멋진': 1, '공격을': 1, '성공시키는': 1, '염윤아': 1, '변화구': 1, '완벽': 1, '공략': 1, '선취점을': 1, '만드는': 1, '버나디나의': 1, '적': 1, '벽': 1, '뚫고': 1, '막는': 1, '게': 1, '달라진': 1, '삼성화재': 1, 'KOVO이슈포커스': 1, '최정예와': 1, '반쪽': 1, '선수단': 1, '대표팀': 1, '운영을': 1, '스스로': 1, '좁힌': 1, '서호정의': 1, '킥오프': 1, '꾸준함의': 1, '대명사': 1, '코리의': 1, '형': 1, '카일': 1, '시거': 1, '이영미의': 1, '스포츠人': 1, '스토리': 1, '2017': 2, 'KBL': 1, '신인드래프트': 1, '1라운드': 1, '1순위': 1, '허훈': 1, '프로농구': 1, 'WS': 1, '우승까지': 1, '브래그먼': 1, '극적인': 1, '끝내기': 1, 'MLB': 1, '中': 1, '21년만에': 1, 'FIFA랭킹': 1, '韓': 1, '추월어떤': 1, '의미일까': 1, '中요한': 1, '기자들': 1, '기록으로': 1, '입증된': 1, '펩': 1, '축구의': 1, '폭발력': 1, '박문성의': 1, '풋볼리즘': 1, 'httpscastboxshoppingnavercomshopboxmainnhnsvglesstrue': 1, '제2회': 1, '소상공인의날': 1, '우리동네': 1, '소상공인': 1, '축제': 1, '전국의': 1, '작은가게를': 1, '응원하고': 1, '다양한': 1, '혜택도': 1, '누리세요': 1, '도전': 1, '코딩미션': 1, '온라인코딩파티': 1, '10월': 1, '23일부터': 1, '2주간': 1, '누구나': 1, '쉽게': 1, '배우는': 1, 'SW': 1, '공지사항': 1, '주이스트소프트': 1, '계정': 1, '침해': 1, '대상자에': 1, '대한': 1, '안내': 2, '서비스': 1, '전체보기': 1, '프로젝트': 2, '꽃': 2, '웨일': 1, '브라우저': 1, '다운받기': 1, '네이버웨일': 1, 'Creators': 1, '크리에이터': 1, '스몰비즈니스': 1, 'Partners': 1, '파트너': 1, '·': 1, '광고': 1, '스토어': 1, '개설': 1, '지역업체': 1, 'Developers': 1, '개발자센터': 1, '오픈': 1, 'API': 1, '오픈소스': 1, 'D2': 1, '랩스': 1, '정책': 2, '및': 1, '약관': 1, '회사소개': 1, '인재채용': 1, '제휴제안': 1, '이용약관': 1, '개인정보처리방침': 1, '청소년보호정책': 1, '고객센터': 1, 'ⓒ': 1, 'Corp': 1, 'svr': 2, 'svt': 1, '20171030212237': 1, 'aPanelListAll': 2, 'nmainJS': 1, 'httpsspstaticnetpm2jscnmainv171025js': 1, 'sThemecastAdScriptUrl': 1, 'httpssslpstaticnettvetalibsassetsjspcmainminpcvetacoreminjs20170914': 1, 'nmainJSpushsThemecastAdScriptUrl': 1, 'loadJS': 1, 'jindoLazyLoadingloadnmainJS': 1, 'JEagleEyeClientsetEnabletrue': 1, 'iftypeof': 1, 'initPage': 2, 'undefined': 1, 'try': 1, 'openDatenulladMapnullcodeLIVINGHOMEname리빙csslivinghomenclicklifopenDatenulladMapnullcodeLIVINGname푸드csslivingnclickfodopenDatenulladMapnullcodeSPORTSname스포츠csssportsnclickspoopenDatenulladMapnullcodeCARGAMEname자동차csscargamenclickautopenDatenulladMapnullcodeBEAUTYname패션뷰티cssbeautynclickbtyopenDatenulladMapnullcodeMOMKIDSname맘·키즈cssmomkidsnclickmomopenDatenulladMapnullcodeHEALTHname건강csshealthnclickheaopenDatenulladMapnullcodeBBOOMname웹툰cssbboomnclickwebopenDatenulladMapnullcodeGAMEAPPname게임cssgameappnclickgamopenDatenulladMapnullcodeVIDEOnameTV연예cssvideonclicktvcopenDatenulladMapnullcodeMUSICname뮤직cssmusicnclickmucopenDatenulladMapnullcodeMOVIEname영화cssmovienclickmovopenDatenulladMapnullcodeCULTUREname책문화cssculturenclickbokopenDatenulladMapnullcodeWITHname함께NcsswithnclickpubopenDatenulladMapnullcodeTRAVELname여행csstravelnclicktraopenDatenulladMapnullcodeDESIGNname디자인cssdesignnclickdesopenDatenulladMapnullcodeFINANCEname경제McssfinancenclickfinopenDatenulladMapnullcodeJOBnameJOBcssjobnclickjobopenDatenulladMapnullcodeSCIENCEname과학csssciencenclicksciopenDatenulladMapnullcodeCHINAname중국csschinanclickchnopenDatenulladMapnullcodeBUSINESSname비즈니스cssbusinessnclickbsnopenDatenulladMapnullcodeFARMnameFARMcssfarmnclickfaropenDatenulladMapnullcodeSCHOOLname스쿨잼cssschoolnclicksclopenDate20170622adMapnullcodeSHOWname공연전시cssshownclicksowopenDate20170803adMapnullcodeLAWname법률csslawnclicklawopenDate20170824adMapnullcodeANIMALname동물공감cssanimalnclickaniopenDate20170831adMapnullcodeWEDDINGname연애·결혼cssweddingnclickwedopenDate20170921adMapnullcodeITTECHname테크cssittechnclicktec': 1, 'catche': 1, 'JEagleEyeClientsendErrorinvalid': 1, 'paneljson': 1, 'navermainPageRefreshinit': 1, 'navermainPanelinitaPanelListAll': 1, 'navermainLoginit': 1, 'navermainServiceNaviinit': 1, 'navermainThemecastNaviinit': 1, 'bFlick': 1, 'sAdList': 1, 'headermsgsuccesscode0bodyadScriptListadScriptPCMain1httpshttpssslpstaticnettvetalibsassetsjspcmainminpcvetacoreminjshttphttpssslpstaticnettvetalibsassetsjspcmainminpcvetacoreminjsadListmenuBUSINESSadTypesingleDommultiDomAdUrlmultiDomUnitinfoListadposId1000084singleDomAdUrlhttpnvvetanavercomfxshowparamdadomidpmainbusiness00tbBUSINESS1unitSU10204typepositionrelpositionIndex0subjectcontentsdomnullmenuDESIGNadTypesingleDommultiDomAdUrlmultiDomUnitinfoListadposId1000090singleDomAdUrlhttpnvvetanavercomfxshowparamdadomidpmaindesign00tbDESIGN1unitSU10205typepositionrelpositionIndex0subjectcontentsdomnullmenuJOBadTypesingleDommultiDomAdUrlmultiDomUnitinfoListadposId1000088singleDomAdUrlhttpnvvetanavercomfxshowparamdadomidpmainjob00tbJOB1unitSU10200typepositionrelpositionIndex0subjectcontentsdomnullmenuMOMKIDSadTypesingleDommultiDomAdUrlmultiDomUnitinfoListadposId1000089singleDomAdUrlhttpnvvetanavercomfxshowparamdadomidpmainmomkids00tbMOMKIDS1unitSU10226typepositionrelpositionIndex0subjectcontentsdomnullmenuMOVIEadTypesingleDommultiDomAdUrlmultiDomUnitinfoListadposId1000087singleDomAdUrlhttpnvvetanavercomfxshowparamdadomidpmainmovie00tbMOVIE1unitSU10199typepositionrelpositionIndex0subjectcontentsdomnullmenuSCHOOLadTypesingleDommultiDomAdUrlmultiDomUnitinfoListadposId1000085singleDomAdUrlhttpnvvetanavercomfxshowparamdadomidpmainschool01tbSCHOOL1unitSU10210typepositionrelpositionIndex0subjectcontentsdomnullmenuTRAVELadTypesingleDommultiDomAdUrlmultiDomUnitinfoListadposId1000086singleDomAdUrlhttpnvvetanavercomfxshowparamdadomidpmaintravel00tbTRAVEL1unitSU10198typepositionrelpositionIndex0subjectcontentsdomnull': 1, 'navermainCenterBannerinit': 1, 'newSmartSearch': 1, 'new': 3, 'navermainNewsstand': 1, 'rcode': 1, '09140540': 1, 'newspaperURL': 1, 'newspapernavercom': 1, 'newsStandURL': 1, 'newsstandnavercom': 1, 'userInfoURL': 1, 'userinfowwwnavercom': 1, 'newsCastInfo': 1, 'newsStandInfo': 1, 'headlineList': 1, 'pid': 1, '002003005006008009011013014015016018020021022023024025028029030031032038040042044047050052055056057073075076079081082083087088089092108109117120122123135138139140143144213214215241243277293296308310311312314326327328329330331332333334335336337338339340344345346354355356361362363364366368374376384385386387388389390391396404410416417421422440447536539901902903904905906907908909910911912913914915916917920921922923924925926927928930931932933934935936937938939940941942943944945946947948949': 1, 'amigo': 1, 'invalid': 1, 'pressCategory': 1, 'ct1pid032name경향신문imghttpsspstaticnetstaticnewsstandup20170424nsd14372435pngcatect2amigoNviewerYtodayNlocalnullpid005name국민일보imghttpsspstaticnetstaticnewsstandup20170424nsd1438916pngcatect2amigoNviewerYtodayNlocalnullpid079name노컷뉴스imghttpsspstaticnetstaticnewsstandup20170424nsd143958887pngcatect2amigoNviewerYtodayNlocalnullpid327name뉴데일리imghttpsspstaticnetstaticnewsstandup20170424nsd144037935pngcatect2amigoNviewerYtodayNlocalnullpid003name뉴시스imghttpsspstaticnetstaticnewsstandup20170424nsd14449981pngcatect3amigoNviewerYtodayNlocalnullpid368name데일리안imghttpsspstaticnetstaticnewsstandup20170424nsd14463367pngcatect2amigoNviewerYtodayNlocalnullpid020name동아일보imghttpsspstaticnetstaticnewsstandup20170424nsd14479875pngcatect2amigoNviewerYtodayNlocalnullpid029name디지털타임스imghttpsspstaticnetstaticnewsstandup20170424nsd144824356pngcatect4amigoNviewerYtodayNlocalnullpid117name마이데일리imghttpsspstaticnetstaticnewsstandup20170424nsd144944309pngcatect6amigoNviewerYtodayNlocalnullpid009name매일경제imghttpsspstaticnetstaticnewsstandup20170424nsd145032565pngcatect2amigoNviewerYtodayNlocalnullpid008name머니투데이imghttpsspstaticnetstaticnewsstandup20170424nsd145214517pngcatect2amigoNviewerYtodayNlocalnullpid021name문화일보imghttpsspstaticnetstaticnewsstandup20170424nsd19245981pngcatect2amigoNviewerYtodayNlocalnullpid006name미디어오늘imghttpsspstaticnetstaticnewsstandup20170424nsd145346617pngcatect2amigoNviewerYtodayNlocalnullpid293name블로터imghttpsspstaticnetstaticnewsstandup20170424nsd145534698pngcatect4amigoNviewerYtodayNlocalnullpid011name서울경제imghttpsspstaticnetstaticnewsstandup20170424nsd145718601pngcatect2amigoNviewerYtodayNlocalnullpid081name서울신문imghttpsspstaticnetstaticnewsstandup20170424nsd145738195pngcatect2amigoNviewerYtodayNlocalnullpid022name세계일보imghttpsspstaticnetstaticnewsstandup20170424nsd145813557pngcatect2amigoNviewerYtodayNlocalnullpid314name스포츠동아imghttpsspstaticnetstaticnewsstandup20170424nsd145951763pngcatect6amigoNviewerYtodayNlocalnullpid076name스포츠조선imghttpsspstaticnetstaticnewsstandup20170424nsd183553864pngcatect6amigoNviewerYtodayNlocalnullpid139name스포탈코리아imghttpsspstaticnetstaticnewsstandup20170424nsd151840663pngcatect6amigoNviewerYtodayNlocalnullpid277name아시아경제imghttpsspstaticnetstaticnewsstandup20170424nsd153432228pngcatect2amigoNviewerYtodayNlocalnullpid031name아이뉴스24imghttpsspstaticnetstaticnewsstandup20170424nsd153955864pngcatect4amigoNviewerYtodayNlocalnullpid047name오마이뉴스imghttpsspstaticnetstaticnewsstandup20170424nsd154314463pngcatect2amigoNviewerYtodayNlocalnullpid018name이데일리imghttpsspstaticnetstaticnewsstandup20170424nsd154426359pngcatect2amigoNviewerYtodayNlocalnullpid241name일간스포츠imghttpsspstaticnetstaticnewsstandup20170424nsd154619739pngcatect6amigoNviewerYtodayNlocalnullpid030name전자신문imghttpsspstaticnetstaticnewsstandup20170424nsd162528724pngcatect4amigoNviewerYtodayNlocalnullpid366name조선비즈imghttpsspstaticnetstaticnewsstandup20170424nsd162659528pngcatect2amigoNviewerYtodayNlocalnullpid023name조선일보imghttpsspstaticnetstaticnewsstandup20170424nsd162718792pngcatect2amigoNviewerYtodayNlocalnullpid330name중앙데일리imghttpsspstaticnetstaticnewsstandup20170424nsd162959945pngcatect5amigoNviewerYtodayNlocalnullpid025name중앙일보imghttpsspstaticnetstaticnewsstandup20170424nsd164240664pngcatect2amigoNviewerYtodayNlocalnullpid092name지디넷코리아imghttpsspstaticnetstaticnewsstandup20170424nsd16425834pngcatect4amigoNviewerYtodayNlocalnullpid376name지지통신imghttpsspstaticnetstaticnewsstandup20170424nsd16432873pngcatect3amigoNviewerYtodayNlocalnullpid040name코리아타임스imghttpsspstaticnetstaticnewsstandup20170424nsd1729401pngcatect5amigoNviewerYtodayNlocalnullpid044name코리아헤럴드imghttpsspstaticnetstaticnewsstandup20170424nsd17341942pngcatect5amigoNviewerYtodayNlocalnullpid014name파이낸셜뉴스imghttpsspstaticnetstaticnewsstandup20170424nsd172557496pngcatect2amigoNviewerYtodayNlocalnullpid002name프레시안imghttpsspstaticnetstaticnewsstandup20170424nsd172615885pngcatect2amigoNviewerYtodayNlocalnullpid028name한겨레imghttpsspstaticnetstaticnewsstandup20170424nsd17263596pngcatect2amigoNviewerYtodayNlocalnullpid015name한국경제imghttpsspstaticnetstaticnewsstandup20170424nsd172736175pngcatect2amigoNviewerYtodayNlocalnullpid215name한국경제TVimghttpsspstaticnetstaticnewsstandup20170424nsd172755139pngcatect3amigoNviewerYtodayNlocalnullpid038name한국일보imghttpsspstaticnetstaticnewsstandup20170424nsd172837200pngcatect2amigoNviewerYtodayNlocalnullpid016name헤럴드경제imghttpsspstaticnetstaticnewsstandup20170424nsd172855569pngcatect2amigoNviewerYtodayNlocalnullpid056nameKBSimghttpsspstaticnetstaticnewsstandup20170424nsd173124306pngcatect3amigoNviewerYtodayNlocalnullpid326nameKBS': 1, 'Worldimghttpsspstaticnetstaticnewsstandup20170424nsd173138949pngcatect5amigoNviewerYtodayNlocalnullpid214nameMBCimghttpsspstaticnetstaticnewsstandup20170424nsd17324940pngcatect3amigoNviewerYtodayNlocalnullpid057nameMBNimghttpsspstaticnetstaticnewsstandup20170424nsd173223533pngcatect3amigoNviewerYtodayNlocalnullpid109nameOSENimghttpsspstaticnetstaticnewsstandup20170424nsd17338859pngcatect6amigoNviewerYtodayNlocalnullpid055nameSBSimghttpsspstaticnetstaticnewsstandup20170424nsd173335676pngcatect3amigoNviewerYtodayNlocalnullpid052nameYTNimghttpsspstaticnetstaticnewsstandup20170424nsd173559874pngcatect3amigoNviewerYtodayNlocalnullct2pid032name경향신문imghttpsspstaticnetstaticnewsstandup20170424nsd14372435pngcatect2amigoNviewerYtodayNlocalnullpid005name국민일보imghttpsspstaticnetstaticnewsstandup20170424nsd1438916pngcatect2amigoNviewerYtodayNlocalnullpid944name나우뉴스imghttpsspstaticnetstaticnewsstandup20170424nsd14392079pngcatect2amigoNviewerYtodayNlocalnullpid079name노컷뉴스imghttpsspstaticnetstaticnewsstandup20170424nsd143958887pngcatect2amigoNviewerYtodayNlocalnullpid327name뉴데일리imghttpsspstaticnetstaticnewsstandup20170424nsd144037935pngcatect2amigoNviewerYtodayNlocalnullpid930name뉴스타파imghttpsspstaticnetstaticnewsstandup20170424nsd144152433pngcatect2amigoNviewerYtodayNlocalnullpid913name뉴스토마토imghttpsspstaticnetstaticnewsstandup20170424nsd14431117pngcatect2amigoNviewerYtodayNlocalnullpid914name뉴스핌imghttpsspstaticnetstaticnewsstandup20170613nsd173430698pngcatect2amigoNviewerYtodayNlocalnullpid536name더팩트imghttpsspstaticnetstaticnewsstandup20170424nsd144543120pngcatect2amigoNviewerYtodayNlocalnullpid368name데일리안imghttpsspstaticnetstaticnewsstandup20170424nsd14463367pngcatect2amigoNviewerYtodayNlocalnullpid020name동아일보imghttpsspstaticnetstaticnewsstandup20170424nsd14479875pngcatect2amigoNviewerYtodayNlocalnullpid009name매일경제imghttpsspstaticnetstaticnewsstandup20170424nsd145032565pngcatect2amigoNviewerYtodayNlocalnullpid008name머니투데이imghttpsspstaticnetstaticnewsstandup20170424nsd145214517pngcatect2amigoNviewerYtodayNlocalnullpid021name문화일보imghttpsspstaticnetstaticnewsstandup20170424nsd19245981pngcatect2amigoNviewerYtodayNlocalnullpid006name미디어오늘imghttpsspstaticnetstaticnewsstandup20170424nsd145346617pngcatect2amigoNviewerYtodayNlocalnullpid931name민중의소리imghttpsspstaticnetstaticnewsstandup20170424nsd14546867pngcatect2amigoNviewerYtodayNlocalnullpid939name브릿지경제imghttpsspstaticnetstaticnewsstandup20170424nsd145512265pngcatect2amigoNviewerYtodayNlocalnullpid943name비즈니스워치imghttpsspstaticnetstaticnewsstandup20170424nsd145553365pngcatect2amigoNviewerYtodayNlocalnullpid942name비즈니스포스트imghttpsspstaticnetstaticnewsstandup20170424nsd145630550pngcatect2amigoNviewerYtodayNlocalnullpid011name서울경제imghttpsspstaticnetstaticnewsstandup20170424nsd145718601pngcatect2amigoNviewerYtodayNlocalnullpid081name서울신문imghttpsspstaticnetstaticnewsstandup20170424nsd145738195pngcatect2amigoNviewerYtodayNlocalnullpid022name세계일보imghttpsspstaticnetstaticnewsstandup20170424nsd145813557pngcatect2amigoNviewerYtodayNlocalnullpid277name아시아경제imghttpsspstaticnetstaticnewsstandup20170424nsd153432228pngcatect2amigoNviewerYtodayNlocalnullpid920name아시아투데이imghttpsspstaticnetstaticnewsstandup20170424nsd153458161pngcatect2amigoNviewerYtodayNlocalnullpid921name아주경제imghttpsspstaticnetstaticnewsstandup20170424nsd154016764pngcatect2amigoNviewerYtodayNlocalnullpid013name연합인포맥스imghttpsspstaticnetstaticnewsstandup20170424nsd154238686pngcatect2amigoNviewerYtodayNlocalnullpid047name오마이뉴스imghttpsspstaticnetstaticnewsstandup20170424nsd154314463pngcatect2amigoNviewerYtodayNlocalnullpid539name위키트리imghttpsspstaticnetstaticnewsstandup20170424nsd15444343pngcatect2amigoNviewerYtodayNlocalnullpid018name이데일리imghttpsspstaticnetstaticnewsstandup20170424nsd154426359pngcatect2amigoNviewerYtodayNlocalnullpid243name이코노미스트imghttpsspstaticnetstaticnewsstandup20170424nsd15444742pngcatect2amigoNviewerYtodayNlocalnullpid922name이투데이imghttpsspstaticnetstaticnewsstandup20170424nsd15453589pngcatect2amigoNviewerYtodayNlocalnullpid923name인민망imghttpsspstaticnetstaticnewsstandup20170424nsd154522345pngcatect2amigoNviewerYtodayNlocalnullpid925name일요신문imghttpsspstaticnetstaticnewsstandup20170424nsd192546763pngcatect2amigoNviewerYtodayNlocalnullpid366name조선비즈imghttpsspstaticnetstaticnewsstandup20170424nsd162659528pngcatect2amigoNviewerYtodayNlocalnullpid023name조선일보imghttpsspstaticnetstaticnewsstandup20170424nsd162718792pngcatect2amigoNviewerYtodayNlocalnullpid025name중앙일보imghttpsspstaticnetstaticnewsstandup20170424nsd164240664pngcatect2amigoNviewerYtodayNlocalnullpid941name초이스경제imghttpsspstaticnetstaticnewsstandup20170424nsd164431529pngcatect2amigoNviewerYtodayNlocalnullpid143name쿠키뉴스imghttpsspstaticnetstaticnewsstandup20170424nsd172415111pngcatect2amigoNviewerYtodayNlocalnullpid014name파이낸셜뉴스imghttpsspstaticnetstaticnewsstandup20170424nsd172557496pngcatect2amigoNviewerYtodayNlocalnullpid002name프레시안imghttpsspstaticnetstaticnewsstandup20170424nsd172615885pngcatect2amigoNviewerYtodayNlocalnullpid028name한겨레imghttpsspstaticnetstaticnewsstandup20170424nsd17263596pngcatect2amigoNviewerYtodayNlocalnullpid015name한국경제imghttpsspstaticnetstaticnewsstandup20170424nsd172736175pngcatect2amigoNviewerYtodayNlocalnullpid038name한국일보imghttpsspstaticnetstaticnewsstandup20170424nsd172837200pngcatect2amigoNviewerYtodayNlocalnullpid016name헤럴드경제imghttpsspstaticnetstaticnewsstandup20170424nsd172855569pngcatect2amigoNviewerYtodayNlocalnullpid932nameCEO스코어데일리imghttpsspstaticnetstaticnewsstandup20170904nsd10420716pngcatect2amigoNviewerYtodayNlocalnullpid120nameEBNimghttpsspstaticnetstaticnewsstandup20171017nsd173540697pngcatect2amigoNviewerYtodayNlocalnullct3pid421name뉴스1imghttpsspstaticnetstaticnewsstandup20170424nsd14405515pngcatect3amigoNviewerYtodayNlocalnullpid003name뉴시스imghttpsspstaticnetstaticnewsstandup20170424nsd14449981pngcatect3amigoNviewerYtodayNlocalnullpid916name머니투데이방송imghttpsspstaticnetstaticnewsstandup20170424nsd145249746pngcatect3amigoNviewerYtodayNlocalnullpid934name아리랑TVimghttpsspstaticnetstaticnewsstandup20170424nsd153357809pngcatect3amigoNviewerYtodayNlocalnullpid422name연합뉴스TVimghttpsspstaticnetstaticnewsstandup20170424nsd154219877pngcatect3amigoNviewerYtodayNlocalnullpid376name지지통신imghttpsspstaticnetstaticnewsstandup20170424nsd16432873pngcatect3amigoNviewerYtodayNlocalnullpid903name채널에이imghttpsspstaticnetstaticnewsstandup20170424nsd164352456pngcatect3amigoNviewerYtodayNlocalnullpid215name한국경제TVimghttpsspstaticnetstaticnewsstandup20170424nsd172755139pngcatect3amigoNviewerYtodayNlocalnullpid938name환경TVimghttpsspstaticnetstaticnewsstandup20170424nsd172938871pngcatect3amigoNviewerYtodayNlocalnullpid933nameCNNimghttpsspstaticnetstaticnewsstandup20170424nsd173010586pngcatect3amigoNviewerYtodayNlocalnullpid344nameEBSimghttpsspstaticnetstaticnewsstandup20170424nsd173043431pngcatect3amigoNviewerYtodayNlocalnullpid904nameJTBCimghttpsspstaticnetstaticnewsstandup20170424nsd173111263pngcatect3amigoNviewerYtodayNlocalnullpid056nameKBSimghttpsspstaticnetstaticnewsstandup20170424nsd173124306pngcatect3amigoNviewerYtodayNlocalnullpid906nameKNNimghttpsspstaticnetstaticnewsstandup20170424nsd173151831pngcatect3amigoNviewerYtodayNlocalnullpid214nameMBCimghttpsspstaticnetstaticnewsstandup20170424nsd17324940pngcatect3amigoNviewerYtodayNlocalnullpid057nameMBNimghttpsspstaticnetstaticnewsstandup20170424nsd173223533pngcatect3amigoNviewerYtodayNlocalnullpid340nameOBSimghttpsspstaticnetstaticnewsstandup20170424nsd173252323pngcatect3amigoNviewerYtodayNlocalnullpid055nameSBSimghttpsspstaticnetstaticnewsstandup20170424nsd173335676pngcatect3amigoNviewerYtodayNlocalnullpid374nameSBSCNBCimghttpsspstaticnetstaticnewsstandup20170424nsd173348251pngcatect3amigoNviewerYtodayNlocalnullpid902nameTV조선imghttpsspstaticnetstaticnewsstandup20170424nsd1735138pngcatect3amigoNviewerYtodayNlocalnullpid052nameYTNimghttpsspstaticnetstaticnewsstandup20170424nsd173559874pngcatect3amigoNviewerYtodayNlocalnullpid945nameYTN사이언스imghttpsspstaticnetstaticnewsstandup20170424nsd173618176pngcatect3amigoNviewerYtodayNlocalnullct4pid910name넥스트데일리imghttpsspstaticnetstaticnewsstandup20170424nsd143938201pngcatect4amigoNviewerYtodayNlocalnullpid138name디지털데일리imghttpsspstaticnetstaticnewsstandup20170424nsd14481127pngcatect4amigoNviewerYtodayNlocalnullpid029name디지털타임스imghttpsspstaticnetstaticnewsstandup20170424nsd144824356pngcatect4amigoNviewerYtodayNlocalnullpid293name블로터imghttpsspstaticnetstaticnewsstandup20170424nsd145534698pngcatect4amigoNviewerYtodayNlocalnullpid031name아이뉴스24imghttpsspstaticnetstaticnewsstandup20170424nsd153955864pngcatect4amigoNviewerYtodayNlocalnullpid030name전자신문imghttpsspstaticnetstaticnewsstandup20170424nsd162528724pngcatect4amigoNviewerYtodayNlocalnullpid092name지디넷코리아imghttpsspstaticnetstaticnewsstandup20170424nsd16425834pngcatect4amigoNviewerYtodayNlocalnullpid917nameIT조선imghttpsspstaticnetstaticnewsstandup20170424nsd173057968pngcatect4amigoNviewerYtodayNlocalnullct5pid330name중앙데일리imghttpsspstaticnetstaticnewsstandup20170424nsd162959945pngcatect5amigoNviewerYtodayNlocalnullpid040name코리아타임스imghttpsspstaticnetstaticnewsstandup20170424nsd1729401pngcatect5amigoNviewerYtodayNlocalnullpid044name코리아헤럴드imghttpsspstaticnetstaticnewsstandup20170424nsd17341942pngcatect5amigoNviewerYtodayNlocalnullpid326nameKBS': 1, 'Worldimghttpsspstaticnetstaticnewsstandup20170424nsd173138949pngcatect5amigoNviewerYtodayNlocalnullpid946nameYONHAPNEWSimghttpsspstaticnetstaticnewsstandup20170424nsd173542219pngcatect5amigoNviewerYtodayNlocalnullct6pid447name뉴스엔imghttpsspstaticnetstaticnewsstandup20170424nsd144110729pngcatect6amigoNviewerYtodayNlocalnullpid117name마이데일리imghttpsspstaticnetstaticnewsstandup20170424nsd144944309pngcatect6amigoNviewerYtodayNlocalnullpid108name스타뉴스imghttpsspstaticnetstaticnewsstandup20170424nsd14592836pngcatect6amigoNviewerYtodayNlocalnullpid144name스포츠경향imghttpsspstaticnetstaticnewsstandup20170424nsd14593063pngcatect6amigoNviewerYtodayNlocalnullpid314name스포츠동아imghttpsspstaticnetstaticnewsstandup20170424nsd145951763pngcatect6amigoNviewerYtodayNlocalnullpid073name스포츠서울imghttpsspstaticnetstaticnewsstandup20170424nsd15042554pngcatect6amigoNviewerYtodayNlocalnullpid396name스포츠월드imghttpsspstaticnetstaticnewsstandup20170424nsd1521496pngcatect6amigoNviewerYtodayNlocalnullpid076name스포츠조선imghttpsspstaticnetstaticnewsstandup20170424nsd183553864pngcatect6amigoNviewerYtodayNlocalnullpid940name스포츠투데이imghttpsspstaticnetstaticnewsstandup20170424nsd183628961pngcatect6amigoNviewerYtodayNlocalnullpid139name스포탈코리아imghttpsspstaticnetstaticnewsstandup20170424nsd151840663pngcatect6amigoNviewerYtodayNlocalnullpid311name엑스포츠뉴스imghttpsspstaticnetstaticnewsstandup20170424nsd154117pngcatect6amigoNviewerYtodayNlocalnullpid241name일간스포츠imghttpsspstaticnetstaticnewsstandup20170424nsd154619739pngcatect6amigoNviewerYtodayNlocalnullpid947name조이뉴스24imghttpsspstaticnetstaticnewsstandup20170424nsd162759461pngcatect6amigoNviewerYtodayNlocalnullpid312name텐아시아imghttpsspstaticnetstaticnewsstandup20170424nsd172519405pngcatect6amigoNviewerYtodayNlocalnullpid440name티브이데일리imghttpsspstaticnetstaticnewsstandup20170424nsd172538465pngcatect6amigoNviewerYtodayNlocalnullpid410nameMK스포츠imghttpsspstaticnetstaticnewsstandup20170424nsd173237747pngcatect6amigoNviewerYtodayNlocalnullpid109nameOSENimghttpsspstaticnetstaticnewsstandup20170424nsd17338859pngcatect6amigoNviewerYtodayNlocalnullpid416nameSBS연예스포츠imghttpsspstaticnetstaticnewsstandup20170424nsd173430905pngcatect6amigoNviewerYtodayNlocalnullpid213nameTV리포트imghttpsspstaticnetstaticnewsstandup20170424nsd173446621pngcatect6amigoNviewerYtodayNlocalnullpid404nameenews24imghttpsspstaticnetstaticnewsstandup20170424nsd173715121pngcatect6amigoNviewerYtodayNlocalnullct7pid356name게임메카imghttpsspstaticnetstaticnewsstandup20170424nsd143454437pngcatect7amigoNviewerYtodayNlocalnullpid363name과학동아imghttpsspstaticnetstaticnewsstandup20170424nsd143721586pngcatect7amigoNviewerYtodayNlocalnullpid908name국방일보imghttpsspstaticnetstaticnewsstandup20170424nsd143827635pngcatect7amigoNviewerYtodayNlocalnullpid911name농민신문imghttpsspstaticnetstaticnewsstandup20170424nsd144020188pngcatect7amigoNviewerYtodayNlocalnullpid912name뉴스컬처imghttpsspstaticnetstaticnewsstandup20170424nsd14412867pngcatect7amigoNviewerYtodayNlocalnullpid905name더스쿠프imghttpsspstaticnetstaticnewsstandup20170424nsd144523858pngcatect7amigoNviewerYtodayNlocalnullpid042name데일리한국imghttpsspstaticnetstaticnewsstandup20170424nsd144629578pngcatect7amigoNviewerYtodayNlocalnullpid345name디자인정글imghttpsspstaticnetstaticnewsstandup20170424nsd144732945pngcatect7amigoNviewerYtodayNlocalnullpid915name르몽드': 1, '디플로마티크imghttpsspstaticnetstaticnewsstandup20170424nsd1449112pngcatect7amigoNviewerYtodayNlocalnullpid024name매경이코노미imghttpsspstaticnetstaticnewsstandup20170424nsd145011543pngcatect7amigoNviewerYtodayNlocalnullpid075name맥스무비imghttpsspstaticnetstaticnewsstandup20170424nsd183033195pngcatect7amigoNviewerYtodayNlocalnullpid417name머니에스imghttpsspstaticnetstaticnewsstandup20170424nsd145150694pngcatect7amigoNviewerYtodayNlocalnullpid122name법률신문imghttpsspstaticnetstaticnewsstandup20170424nsd145431309pngcatect7amigoNviewerYtodayNlocalnullpid355name사이언스타임즈imghttpsspstaticnetstaticnewsstandup20170424nsd145657590pngcatect7amigoNviewerYtodayNlocalnullpid329name소년한국일보imghttpsspstaticnetstaticnewsstandup20170424nsd14583498pngcatect7amigoNviewerYtodayNlocalnullpid308name시사인imghttpsspstaticnetstaticnewsstandup20170424nsd151929775pngcatect7amigoNviewerYtodayNlocalnullpid135name시사저널imghttpsspstaticnetstaticnewsstandup20170424nsd153228485pngcatect7amigoNviewerYtodayNlocalnullpid140name씨네21imghttpsspstaticnetstaticnewsstandup20170424nsd153251814pngcatect7amigoNviewerYtodayNlocalnullpid328name에이블뉴스imghttpsspstaticnetstaticnewsstandup20170424nsd154040656pngcatect7amigoNviewerYtodayNlocalnullpid354name엘르imghttpsspstaticnetstaticnewsstandup20170424nsd154119884pngcatect7amigoNviewerYtodayNlocalnullpid310name여성신문imghttpsspstaticnetstaticnewsstandup20170424nsd154151666pngcatect7amigoNviewerYtodayNlocalnullpid924name인벤imghttpsspstaticnetstaticnewsstandup20170424nsd154539705pngcatect7amigoNviewerYtodayNlocalnullpid362name자동차생활imghttpsspstaticnetstaticnewsstandup20170424nsd162354371pngcatect7amigoNviewerYtodayNlocalnullpid123name조세일보imghttpsspstaticnetstaticnewsstandup20170424nsd162739461pngcatect7amigoNviewerYtodayNlocalnullpid361name채널예스imghttpsspstaticnetstaticnewsstandup20170424nsd164412540pngcatect7amigoNviewerYtodayNlocalnullpid928name컴퓨터월드imghttpsspstaticnetstaticnewsstandup20170424nsd17150763pngcatect7amigoNviewerYtodayNlocalnullpid296name코메디닷컴imghttpsspstaticnetstaticnewsstandup20170424nsd172354656pngcatect7amigoNviewerYtodayNlocalnullpid948name한겨레21imghttpsspstaticnetstaticnewsstandup20170424nsd172654646pngcatect7amigoNviewerYtodayNlocalnullpid050name한경비즈니스imghttpsspstaticnetstaticnewsstandup20170424nsd172712628pngcatect7amigoNviewerYtodayNlocalnullpid384name한국대학신문imghttpsspstaticnetstaticnewsstandup20170424nsd172816434pngcatect7amigoNviewerYtodayNlocalnullpid346name헬스조선imghttpsspstaticnetstaticnewsstandup20170424nsd172911723pngcatect7amigoNviewerYtodayNlocalnullpid364namePC사랑imghttpsspstaticnetstaticnewsstandup20170424nsd173322105pngcatect7amigoNviewerYtodayNlocalnullpid949nameTheAsiaNimghttpsspstaticnetstaticnewsstandup20170424nsd173523100pngcatect7amigoNviewerYtodayNlocalnullct8pid335name강원도민일보imghttpsspstaticnetstaticnewsstandup20170424nsd14341394pngcatect8amigoNviewerYtodayNlocalname강원code01pid087name강원일보imghttpsspstaticnetstaticnewsstandup20170424nsd143434899pngcatect8amigoNviewerYtodayNlocalname강원code01pid339name경기일보imghttpsspstaticnetstaticnewsstandup20170424nsd143511509pngcatect8amigoNviewerYtodayNlocalname경기code02name인천code11pid333name경남신문imghttpsspstaticnetstaticnewsstandup20170424nsd143531816pngcatect8amigoNviewerYtodayNlocalname경남code03name부산code08name울산code10pid907name경북매일신문imghttpsspstaticnetstaticnewsstandup20170424nsd143555345pngcatect8amigoNviewerYtodayNlocalname경북code04name대구code06pid337name경북일보imghttpsspstaticnetstaticnewsstandup20170424nsd143612100pngcatect8amigoNviewerYtodayNlocalname경북code04name대구code06name울산code10pid935name경상일보imghttpsspstaticnetstaticnewsstandup20170424nsd143628241pngcatect8amigoNviewerYtodayNlocalname울산code10pid338name경인일보imghttpsspstaticnetstaticnewsstandup20170424nsd143645415pngcatect8amigoNviewerYtodayNlocalname경기code02name인천code11pid083name광주일보imghttpsspstaticnetstaticnewsstandup20170424nsd143742681pngcatect8amigoNviewerYtodayNlocalname광주code05name전남code12pid332name국제신문imghttpsspstaticnetstaticnewsstandup20170424nsd143844997pngcatect8amigoNviewerYtodayNlocalname경남code03name부산code08name울산code10pid909name기호일보imghttpsspstaticnetstaticnewsstandup20170424nsd14392544pngcatect8amigoNviewerYtodayNlocalname경기code02name인천code11pid936name대구일보imghttpsspstaticnetstaticnewsstandup20170424nsd144433908pngcatect8amigoNviewerYtodayNlocalname경북code04name대구code06pid089name대전일보imghttpsspstaticnetstaticnewsstandup20170424nsd144457151pngcatect8amigoNviewerYtodayNlocalname대전code07name충남code15name충북code16name세종code17pid088name매일신문imghttpsspstaticnetstaticnewsstandup20170424nsd14505572pngcatect8amigoNviewerYtodayNlocalname경북code04name대구code06pid082name부산일보imghttpsspstaticnetstaticnewsstandup20170424nsd145450220pngcatect8amigoNviewerYtodayNlocalname경남code03name부산code08name울산code10pid385name영남일보imghttpsspstaticnetstaticnewsstandup20170424nsd154255890pngcatect8amigoNviewerYtodayNlocalname경북code04name대구code06pid386name울산매일imghttpsspstaticnetstaticnewsstandup20170424nsd154334776pngcatect8amigoNviewerYtodayNlocalname울산code10pid387name인천일보imghttpsspstaticnetstaticnewsstandup20170424nsd154558680pngcatect8amigoNviewerYtodayNlocalname경기code02name인천code11pid388name전남일보imghttpsspstaticnetstaticnewsstandup20170424nsd162423309pngcatect8amigoNviewerYtodayNlocalname광주code05name전남code12pid937name전북도민일보imghttpsspstaticnetstaticnewsstandup20170424nsd16244628pngcatect8amigoNviewerYtodayNlocalname전북code13pid336name전북일보imghttpsspstaticnetstaticnewsstandup20170424nsd16256807pngcatect8amigoNviewerYtodayNlocalname전북code13pid901name제민일보imghttpsspstaticnetstaticnewsstandup20170424nsd16254923pngcatect8amigoNviewerYtodayNlocalname제주code14pid389name제주도민일보imghttpsspstaticnetstaticnewsstandup20170424nsd1626960pngcatect8amigoNviewerYtodayNlocalname제주code14pid334name제주의소리imghttpsspstaticnetstaticnewsstandup20170424nsd162631114pngcatect8amigoNviewerYtodayNlocalname제주code14pid390name중도일보imghttpsspstaticnetstaticnewsstandup20170424nsd162822857pngcatect8amigoNviewerYtodayNlocalname대전code07name충남code15pid926name중부일보imghttpsspstaticnetstaticnewsstandup20170424nsd162931439pngcatect8amigoNviewerYtodayNlocalname경기code02name인천code11pid927name충북일보imghttpsspstaticnetstaticnewsstandup20170424nsd164449667pngcatect8amigoNviewerYtodayNlocalname충북code16name세종code17pid391name충청일보imghttpsspstaticnetstaticnewsstandup20170424nsd17115481pngcatect8amigoNviewerYtodayNlocalname대전code07name충남code15name충북code16name세종code17pid331name충청투데이imghttpsspstaticnetstaticnewsstandup20170424nsd17133978pngcatect8amigoNviewerYtodayNlocalname대전code07name충남code15name충북code16name세종code17': 1, 'isSupportedFlicking': 2, 'navermainTimesquare': 1, 'aOrderedPanel': 1, 'codeweathername날씨codenewsname뉴스codesportsname스포츠codefinancename금융codeconversationname회화codelifetoolsname생활도구': 1, 'navermainRealtimeKeyword': 1, 'Agentnavigatorie': 1, 'Agentnavigatorversion': 1}\n"
     ]
    },
    {
     "name": "stdout",
     "output_type": "stream",
     "text": [
      "{'Daum': 1, 'charset': 1, 'utf8': 1, 'bodydivdldtddulollih1h2h3h4h5h6precodeformfieldsetlegendtextareapblockquotethtdinputselectbuttonmargin0padding0': 1, 'fieldsetimgborder0': 1, 'none': 5, 'dlulolmenuliliststylenone': 1, 'blockquote': 1, 'qquotes': 1, 'blockquotebefore': 1, 'blockquoteafterqbefore': 1, 'qaftercontentcontentnone': 1, 'inputselecttextareabuttonverticalalignmiddle': 1, 'inputmscleardisplaynone': 1, 'buttonborder0': 1, 'nonebackgroundcolortransparentcursorpointer': 1, 'bodybackgroundfffdirectionltrwebkittextsizeadjustnone': 1, 'bodythtdinputselecttextareabuttonfontsize13pxlineheight15fontfamilyAppleSDGothicNeoRegularMalgun': 1, 'Gothic맑은': 1, '고딕dotum돋움sansserifcolor222letterspacing1px': 1, 'osmac': 144, 'bodyosmac': 1, 'thosmac': 1, 'tdosmac': 1, 'inputosmac': 1, 'selectosmac': 1, 'textareaosmac': 1, 'buttonletterspacing0': 1, 'acolor222textdecorationnone': 1, 'ahovercolor118efftextdecorationunderline': 1, 'aactivebackgroundcolortransparent': 1, 'addresscaptioncitecodedfnemvarfontstylenormalfontweightnormal': 1, 'irpmdisplayblockoverflowhiddenfontsize1pxlineheight0textindent9999px': 1, 'irwadisplayblockoverflowhiddenpositionrelativewidth100height100zindex1': 1, 'screenoutoverflowhiddenpositionabsolutewidth0height0lineheight0textindent9999px': 1, 'showdisplayblock': 1, 'hidedisplaynone': 1, 'dindexpositionrelativewidth100': 1, 'dindex': 7, 'shortcutgpositionabsolutetop34pxleft0height33pxpadding0': 1, '20px': 10, '0': 171, '26pxborderbottom1px': 1, 'solid': 53, '3f4243fontsize11pxlineheight14pxbackgroundcolor26292acolorfffletterspacing1pxtextaligncenter': 1, 'shortcutgactive': 2, 'shortcutgfocusoverflowhiddentop0textdecorationnonezindex101': 1, 'shortcutghovercolorfff': 1, 'shortcutg': 2, 'innershortcutdisplayinlineblockpaddingright10pxmargintop8pxbackgroundposition100': 1, '220pxverticalaligntop': 1, 'innershortcutmargintop11pxbackgroundposition100': 1, '223px': 1, 'icopctopoverflowhiddenbackgroundurlt1daumcdnnetdaumtopdecoimagestop2017icopctop170828png': 1, 'norepeat': 19, 'icovertoverflowhiddenbackgroundurlt1daumcdnnetdaumtopdecoimagestop2017icopctopvert170724png': 1, 'txtpctopoverflowhiddenbackgroundurlt1daumcdnnetdaumtopdecoimagestop2017txtpctop170915png': 1, '0letterspacing1pxwhitespacenowrap': 1, 'bgpctopbackgroundurlt1daumcdnnetdaumtopdecoimagestop2017bgpctop170328png': 1, 'numpctopoverflowhiddenbackgroundurlt1daumcdnnetdaumtopdecoimagestop2017numpctop170405png': 1, 'imgthumbdisplayblockverticalaligntop': 1, 'framegpositionabsolutetop0left0border1px': 1, '000opacity008filteralphaopacity8': 1, 'thumbgdisplayblockpositionrelative': 1, 'daumWrappositionrelativeminwidth1080px': 1, 'daumWraptransformtranslate3d0px': 1, '0px': 3, 'headdaumpositionrelativezindex100': 1, 'contmainpositionrelativewidth990pxmargin15px': 1, 'auto': 7, 'conttopicoverflowhiddenpositionrelativezindex0width100bordertop1px': 1, 'ecececbackgroundcolorfbfbfcbackgroundposition50': 1, '100backgroundrepeatnorepeat': 1, 'featuretmpdisplayinlineblockverticalaligntop': 1, 'wrapmainpaddingbottom40pxclearbothzoom1': 1, 'wrapmainafterdisplayblockvisibilityhiddenheight0fontsize0clearbothcontent': 1, 'cmaintmpfloatleftwidth655pxmarginright35px': 1, 'wingtmpfloatleftwidth300px': 1, 'footdaumbordertop1px': 1, '888': 5, 'footdaum': 26, 'innerfootoverflowhiddenpositionrelativewidth990pxmargin0': 1, 'autopadding37px': 1, '78px': 1, 'linklogofloatleft': 1, 'infonoticeoverflowhiddenpadding0': 1, '250px': 3, '30px': 19, 'titnoticefloatleftfontsize13px': 1, 'linknoticedisplayblockpaddingright9pxbackgroundposition100': 1, '169px': 1, 'linknoticehovercolor222': 1, 'listnoticeoverflowhiddenwidth542pxheight19pxpaddingleft9px': 1, 'listnotice': 2, 'linkinfodisplayblockoverflowhiddentextoverflowellipsiswhitespacenowrap': 1, 'linkinfohovercolor222': 1, 'searchfootpositionabsolutetop32pxright0': 1, 'boxsearchpositionrelativezindex1width209pxheight28pxborder1px': 1, 'c8c8c8': 1, 'searchonbordercolor0089ff': 1, 'tfkeywordfloatleftwidth164pxmargin5px': 1, '9pxborder1px': 1, 'transparentlineheight19pxoutline0': 1, 'btnsearchfloatrightwidth32pxheight28pxlineheight28pxbackgroundposition0': 1, '230pxbackgroundcolortransparent': 1, 'linksvcallpositionabsolutetop81pxright0paddingright10pxfontweightboldcolor888backgroundposition100': 1, '194px': 1, 'infopolicypadding23px': 1, 'infopolicy': 2, 'linkpolicyfontsize12pxcolor888': 1, 'txtdotpadding0': 1, '2pxfontsize12pxcolor888': 1, 'txtcopyrightdisplayblockpaddingtop6pxfontsize11pxcolor888': 1, 'txtcopyright': 1, 'linkkakaocolor888': 1, 'infonoticepadding3px': 1, '31px': 1, 'linknoticepaddingright12pxbackgroundpositiony172px': 1, 'tfkeywordmargintop4px': 1, 'linksvcalltop83pxbackgroundpositiony196px': 1, 'infopolicypaddingtop24px': 1, 'txtcopyrightpaddingtop5px': 1, 'dheadborderbottom1px': 1, 'ececec': 8, 'dhead': 1, 'innerheadpositionrelativezindex1width1080pxheight150pxmargin0': 1, 'titdaumoverflowhiddenfloatleftwidth180pxheight150pxtextaligncenter': 1, 'linkdaumoverflowhiddendisplayblockmargin28px': 1, 'linklaunchpositionabsolutetop6pxleft45pxpaddingright8pxfontsize11pxcolor888backgroundposition100': 1, '18px': 3, 'linklaunchtop9pxbackgroundposition100': 1, '21px': 1, 'wrapsearchfloatleftpositionrelativemargintop50px': 1, 'wrapsearch': 1, 'dschbackgroundcolorfff': 1, 'headdaum': 15, 'boxsearchpositionrelativeheight44pxmargin1px': 1, '1px': 5, '0border1px': 2, '0089ffborderradius1px': 1, 'boxsearch': 2, 'innersearchpositionrelativezindex1height44pxpadding0': 1, '60px': 8, '14px': 5, 'boxsearchbefore': 1, 'innersearchbefore': 1, 'boxsearchafterpositionabsoluteleft0right100height1pxcontentbackgroundcolor0089ff': 1, 'boxsearchbeforetop1px': 1, 'boxsearchafterbottom1px': 1, 'boxsearchhoverbefore': 1, 'boxsearchhoverafterright0transitionpropertyrighttransitionduration08sbackgroundlineargradientto': 1, 'right': 1, '86aaff': 1, '70bc4c': 1, 'ffbe00': 1, 'f46e85': 1, 'boxsearchhover': 1, 'innersearchbeforetop1pxbottom1pxleftautoright1pxwidth1pxheight46pxbackgroundcolorf46e85transitionpropertyheighttransitiondelay08s': 1, 'tfkeywordfloatleftwidth442pxmargintop7pxborder1px': 1, 'transparentfontsize18pxlineheight24pxbackgroundcolortransparentoutline0imemodeactivewebkitappearancenone': 1, 'btnsearchpositionabsolutetop0right0width49pxheight42pxmargin1pxlineheight44pxbackgroundposition40px': 1, '231pxbackgroundcolortransparent': 1, 'slidefavorschoverflowhiddenwidth480pxheight28px': 1, 'listfavorschoverflowhiddenpaddingtop7px': 1, 'listfavorsch': 3, 'lifloatleftpaddingright10px': 1, 'linkfavorschdisplayblockfontsize12pxcolor555': 1, 'pagepctopzindex1right1pxbottom3px': 1, 'headbnrpositionabsolutetop33pxright45px': 1, 'headbnr': 1, 'linkheadbnrdisplayblock': 1, 'boxsearchmargintop0': 1, 'tfkeywordmargintop11px': 1, 'listfavorschpaddingtop10px': 1, 'lipaddingright14px': 1, 'daumSuggestWrappositionrelativemarginright90pxclearboth': 1, 'suggestBoxpositionabsolutetop45pxleft0zindex9999width520pxpadding0backgroundnone': 1, 'baseBoxbordertop1px': 1, 'dcdcdcfontsize12pxlineheight17pxfontfamily굴림gulimsansserifbackgroundcolorfff': 1, 'baseBoxfontfamilyApple': 1, 'SD': 6, 'Gothic': 6, 'Neosansserif': 6, 'suggestBox': 96, 'listpadding7px': 1, '13pxborderleft1px': 1, 'dcdcdcborderright1px': 2, 'dcdcdccolor333backgroundcolorfff': 1, 'suggestBoxreverseType': 2, 'listpadding3px': 1, '7pxcolor333': 1, 'baseBox': 4, 'lioverflowhiddenheight26pxpadding0': 1, '16pxlineheight26pxtextalignleftcursorpointer': 1, 'li': 8, 'itemdisplayblockheight100': 1, 'itemhovertextdecorationnone': 1, 'list': 1, 'onbackgroundcolorf6f6f6': 1, 'strongfontweightnormalcolor0089ff': 1, 'lineoverflowhiddenheight1pxmargin7px': 1, '6pxpadding0fontsize1pxlineheight1pxbackgroundcolore5e5e5': 1, 'guidepadding15px': 1, '10pxcolor555': 1, 'footerpositionrelativeheight20pxpadding8px': 1, '12px': 7, '4px': 11, '7pxborder1px': 1, 'dcdcdcbordertop1px': 1, 'ecececfontsize11pxbackgroundcolorfbfbfbletterspacing1pxclearboth': 1, 'footerbordertopcolordcdcdcborderbottomcolorededed': 1, 'footer': 7, 'flfloatleft': 1, 'frfloatright': 1, 'btnclosepaddingleft12pxbackgroundposition0': 1, '939px': 1, 'bardisplaynonepadding0': 1, '2pxcolorddd': 1, 'fl': 1, 'barpadding0': 1, '2px': 11, 'offGuidedisplaynonepositionabsoluteright0bottom19pxwidth211pxheight27pxbackgroundurlsearch1daumcdnnetsearchstaticscommonpisuggestservicegif': 1, 'norepeattextindent999em': 1, 'offSuggestdisplaynone': 1, 'listpadding9px': 1, '11px': 3, 'lipadding0': 1, '17px': 2, 'acolor777': 1, 'answerborderleft1px': 1, 'dcdcdc': 1, 'answer': 1, 'spancursorpointer': 1, 'afontsize14pxcolor333fontfamily돋움dotumsansseriftextdecorationnone': 1, 'afontfamilyApple': 1, 'linedisplayblockoverflowhiddenclearboth': 1, 'blineborderbottom1px': 1, 'ededed': 1, 'suggestexactdisplayblockoverflowhiddenheight40pxpadding12px': 1, 'suggestexacthovertextdecorationnone': 1, 'eonbackgroundcolorf8f8f8textdecorationnone': 1, 'suggestexact': 56, 'txtexactoverflowhiddenfloatleftheight44pxmargintop0backgroundposition0': 1, 'txtunitfontsize14pxfontfamilyarialsansserif': 1, 'titmarginleft1pxfontweightnormalfontsize12pxlineheight18pxfontfamily굴림gulimsansserifcolor333': 1, 'contdisplayblock': 1, 'txtcontmarginright4pxfontweightboldfontsize14pxlineheight16pxfontfamily돋움dotumsansserifcolor333': 1, 'txtnum1fontsize18pxlineheight20pxfontfamilytahomasansserifcolor333': 1, 'txtnum2marginleft3pxfontsize12pxlineheight14pxfontfamily굴림gulimsansserifcolor333': 1, 'txtnum3fontsize20pxlineheight23pxfontfamilyarialsansserifcolor333': 1, 'txtnum4marginleft3pxfontsize12pxlineheight14pxfontfamily굴림gulimsansserifcolor333': 1, 'txtexact': 5, 'icosuggest2backgroundurlsearch1daumcdnnetsearchstaticscommonpiicoicosuggest20110721gif': 1, 'icocelsiusbackgroundnone': 1, 'icoarrowuppaddingleft11pxbackgroundposition0': 1, '58px': 1, 'icoarrowdownpaddingleft11pxbackgroundposition0': 1, '98px': 1, 'icoarrowequalpaddingleft11pxbackgroundposition0': 1, '75px': 1, 'txtbluecolor007aff': 1, 'txtblue2color007aff': 1, 'txtredcolore52d38': 1, 'txtred2colore52d38': 1, 'txttimefloatrightmargin25px': 1, '16px': 4, '0fontsize11pxfontfamily돋움dotumsansserifcolora1a1a1': 1, 'icocelsiuswidth12pxheight13pxfontfamilyarialsansserifbackgroundpositionright': 1, '5px': 6, 'barfontsize14pxcolordedede': 1, 'wraptodayoverflowhiddenheight21pxpadding4px': 1, '10px': 2, '9pxlineheight21px': 1, 'wraptoday': 2, 'contfontsize14pxcolor333textdecorationnone': 1, 'contimportfontweightnormalcolorea570a': 1, 'titfontfamilyApple': 1, 'txtnum2fontfamilyApple': 1, 'txtnum4fontfamilyApple': 1, 'txttimefontfamilyApple': 1, 'icolottofloatleftwidth28pxheight28pxmargin6px': 1, '0borderradius20pxtextaligncenter': 1, 'icolotto': 1, 'txtnumdisplayinlineblockmargintop7pxfontsize14pxlineheight1fontfamilyarialsansserifcolorfffverticalaligntop': 1, 'num1backgroundcolorf6a800': 1, 'num10backgroundcolor4155cb': 1, 'num20backgroundcolorf64d61': 1, 'num30backgroundcolor585d6e': 1, 'num40backgroundcolorf6a800': 1, 'pluswidth8pxheight8pxmargin16px': 1, '8px': 10, '4pxbackgroundurlsearch1daumcdnnetsearchstaticscommonpiicoicosuggest20110721gif': 1, '40pxtextindent9999pxopacity05': 1, 'icosuggestpaddingleft59pxcolor555backgroundurlsearch1daumcdnnetsearchstaticscommonpiweathericoweathermpng': 1, 'icosuggest': 1, 'cont': 1, 'screenoutpositionstaticfontsize14pxfontfamilyarialsansseriftextindent0': 1, 'txtexactoverflowhiddenfloatleftheight44pxmargintop0': 1, 'icow00backgroundposition0': 1, '1620px': 1, 'icow01backgroundposition0': 2, 'night': 16, 'icow02backgroundposition0': 2, '120px': 5, '180px': 4, 'icow03backgroundposition0': 2, '240px': 7, '300px': 10, 'icow04backgroundposition0': 1, '360px': 2, 'icow05backgroundposition0': 2, '420px': 1, '480px': 2, 'icow06backgroundposition0': 2, '540px': 1, '600px': 1, 'icow07backgroundposition0': 1, '660px': 1, 'icow08backgroundposition0': 1, '720px': 1, 'icow09backgroundposition0': 1, '780px': 1, 'icow10backgroundposition0': 2, '840px': 1, '900px': 1, 'icow11backgroundposition0': 1, '960px': 1, 'icow12backgroundposition0': 1, '1020px': 1, 'icow13backgroundposition0': 2, '1080px': 1, '1140px': 1, 'icow14backgroundposition0': 1, '1200px': 1, 'icow15backgroundposition0': 1, '1260px': 1, 'icow16backgroundposition0': 2, '1320px': 1, '1380px': 1, 'icow17backgroundposition0': 1, '1440px': 1, 'icow18backgroundposition0': 1, '1500px': 1, 'icow19backgroundposition0': 1, '1560px': 1, 'daumSuggestWrapdisplaynone': 1, 'dserviceborderbottom1px': 1, 'dservice': 1, 'innerservicepositionrelativewidth990pxheight45pxmargin0': 1, 'menuservicefloatleftpositionrelativewidth660px': 1, 'menuservice': 1, 'linkmoreoverflowhiddenfloatleftwidth60pxheight25pxpadding10px': 1, '9pxlineheight20pxbackgroundposition0': 1, '8pxbackgroundcolortransparenttextaligncenter': 1, 'menuon': 2, 'linkmorebackgroundposition60px': 1, 'listmainsvcfloatleft': 1, 'listmainsvc': 16, 'lifloatleftheight45px': 1, 'txtpctopdisplayblockheight25pxpadding10px': 1, '0fontweightboldfontsize13pxlineheight25pxbackgroundcolortransparenttextaligncenter': 1, 'linkcafewidth30pxbackgroundposition0': 1, 'linkmailwidth36pxbackgroundposition30px': 1, 'linknewswidth37pxbackgroundposition66px': 1, 'linkmapwidth36pxbackgroundposition103px': 1, 'linkstockwidth37pxbackgroundposition139px': 1, 'linkshoppingwidth36pxbackgroundposition176px': 1, 'linkkakaotvwidth64pxbackgroundposition212px': 1, 'linkwebtoonwidth37pxbackgroundposition276px': 1, 'linkblogwidth48pxbackgroundposition313px': 1, 'linkbrunchwidth47pxbackgroundposition361px': 1, 'linkdicwidth36pxbackgroundposition408px': 1, 'linkgamewidth37pxbackgroundposition444px': 1, 'linkstarplaywidth59pxbackgroundposition481px': 1, 'linktogetherwidth59pxbackgroundposition540px': 1, 'servicelayerdisplaynonepositionabsolutetop45pxleft0width653pxborder1px': 1, '888backgroundcolorfff': 3, 'servicelayerdisplayblock': 1, 'servicelayer': 18, 'layerbodyoverflowhiddenbackgroundurlt1daumcdnnetdaumtopdecoimagestop2017bglinegif': 1, 'repeaty': 1, 'sortservicefloatleftwidth94pxpadding0': 1, '15px': 5, 'sortservicefstpaddingleft14px': 1, 'sortservice': 9, 'dtmargin11px': 1, '4pxfontweightboldfontsize12px': 1, 'ddclearbothfontsize12pxlineheight22px': 1, 'titsplitfloatleftpaddingright9pxbackgroundposition100': 1, 'titsplit2margintop22px': 1, 'linksvccolor555': 1, 'linksvchovercolor118eff': 1, 'iconewdisplayinlineblockwidth11pxheight11pxmargin2px': 1, '2pxfontsize0lineheight0backgroundposition160px': 1, '80pxverticalalignmiddletextindent9999px': 1, 'layerfootoverflowhiddenheight32pxbordertop1px': 1, 'ecececbackgroundcolorfbfbfb': 5, 'layerfoot': 4, 'linktotalfloatleftpaddingright8pxmarginleft13pxfontsize11pxlineheight29pxcolor555backgroundposition100': 1, 'btnclosefloatrightpadding0': 1, '13pxmargin2pxfontsize11pxlineheight24pxcolor888': 1, 'sortservicepaddingbottom12px': 1, 'dtmargin14px': 1, 'titsplitbackgroundposition100': 1, '3px': 3, 'linktotalpaddingright10pxmarginleft14pxlineheight32pxbackgroundposition100': 1, 'btnclosepadding0': 1, '12pxlineheight28px': 1, 'todaybasefloatrightpositionrelativeheight45px': 1, 'todaybase': 5, 'compbasedisplayinlineblockverticalaligntop': 1, 'imgweatherbackgroundimageurlt1daumcdnnetdaumtopdecoimagestop2017imgweather170628pngbackgroundrepeatnorepeatfontsize0lineheight0textindent9999px': 1, 'txttemperfloatleftfontsize14pxfontfamilytahomaarialsansserifletterspacing0': 1, 'txttemperfontfamilyhelveticaarialsansserif': 1, 'infotodayfloatleftfontsize13px': 1, 'infotoday': 30, 'datetodayfloatleftheight24pxpaddingtop10pxlineheight20pxletterspacing0': 1, 'txtpartfloatleftmarginright5pxfontweightboldlineheight24px': 1, 'linkweatherfloatleftheight25pxmarginleft16pxpadding8px': 1, '12pxlineheight24pxtextalignright': 1, 'linkweatherhovercolor222textdecorationnone': 2, 'listweatherfloatleftoverflowhiddenheight25px': 1, 'listweather': 1, 'lioverflowhiddenheight25px': 1, 'datetodaylineheight26px': 1, 'txtpartlineheight30px': 1, 'linkweatherlineheight26px': 1, 'linkweather': 4, 'icomoremargintop10px': 1, 'imgweatherfloatleftwidth26pxheight26pxmargin1px': 1, '0verticalaligntop': 2, 'icowm01backgroundposition0': 2, 'icowm01backgroundposition30px': 1, 'icowm02backgroundposition60px': 1, 'icowm02backgroundposition90px': 1, 'icowm03backgroundposition0': 2, '270px': 4, 'icowm03backgroundposition30px': 1, 'icowm04backgroundposition60px': 1, 'icowm07backgroundposition90px': 1, 'icowm09backgroundposition0': 2, 'icowm10backgroundposition30px': 1, 'icowm10backgroundposition60px': 1, 'icowm11backgroundposition90px': 1, 'icowm14backgroundposition0': 2, '330px': 4, 'icowm17backgroundposition30px': 1, 'icowm18backgroundposition60px': 1, 'icowm19backgroundposition90px': 1, 'txttempermargintop1px': 2, 'icodegreefloatleftwidth17pxheight15pxmargin7px': 1, '0fontsize12pxlineheight17pxbackgroundposition210px': 1, '270pxbackgroundcolortransparenttextaligncentertextindent0': 1, 'icomorewidth13pxheight9pxmargin9px': 1, '1pxbackgroundposition138px': 1, '292px': 2, 'todayon': 2, 'icomorebackgroundposition138px': 1, '304px': 1, 'todaylayerdisplaynonepositionabsolutetop45pxright0width298pxborder1px': 1, 'todaylayer': 67, 'icowmbackgroundimageurlt1daumcdnnetdaumtopdecoimagestop2017icowmpngbackgroundrepeatnorepeatfontsize0lineheight0textindent9999px': 1, 'layerbodyoverflowhidden': 1, 'layerbodyafterpositionabsolutetop0right0width42pxheight42pxcontent': 1, 'weatherpartpositionrelativeheight135px': 1, 'btnlocatepositionabsolutetop17pxleft18pxwidth21pxheight21pxfontsize0lineheight0backgroundposition176px': 1, '246pxtextindent9999px': 1, 'btnlocateonbackgroundposition176px': 1, '286px': 1, 'linkweatherdisplayblockoverflowhiddenheight135px': 1, 'txtplacedisplayblockheight20pxmargin17px': 1, '22pxfontweightboldfontsize13pxlineheight19px': 1, 'txtplace': 1, 'txtlocaldisplayinlineblock': 1, 'icowmfloatleftwidth90pxheight90pxmarginleft22px': 1, 'icowm01backgroundposition100px': 1, 'icowm02backgroundposition200px': 1, 'icowm02backgroundposition300px': 1, '100px': 8, 'icowm03backgroundposition100px': 1, 'icowm04backgroundposition200px': 1, 'icowm07backgroundposition300px': 1, '200px': 13, 'icowm10backgroundposition100px': 1, 'icowm10backgroundposition200px': 1, 'icowm11backgroundposition300px': 1, 'icowm17backgroundposition100px': 1, 'icowm18backgroundposition200px': 1, 'icowm19backgroundposition300px': 1, 'infotemperdisplayblockoverflowhiddenheight32pxmargin19px': 1, '130pxfontfamilytahomaarialsansserif': 1, 'infotemper': 13, 'imgweatherfloatleftwidth22pxheight32pxmargin0': 1, 'num0backgroundposition260px': 1, 'num1backgroundposition260px': 1, '40px': 8, 'num2backgroundposition260px': 1, '80px': 9, 'num3backgroundposition260px': 1, 'num4backgroundposition260px': 1, '160px': 4, 'num5backgroundposition260px': 1, 'num6backgroundposition260px': 1, 'num7backgroundposition260px': 1, '280px': 1, 'num8backgroundposition260px': 1, '320px': 1, 'num9backgroundposition260px': 1, 'icominuswidth22pxheight32pxbackgroundposition260px': 1, '400px': 2, 'icodegreewidth39pxheight32pxbackgroundposition210px': 1, 'statedescdisplayblockoverflowhiddenmargin7px': 1, '130pxlineheight16px': 1, 'statedesc': 4, 'icodegreefloatleftwidth14pxheight12pxmargin3px': 1, '0backgroundposition240px': 1, '208px': 1, 'txtdescfloatleftmarginright2px': 1, 'layerfootoverflowhiddenbordertop1px': 1, 'linkstatefloatleftoverflowhiddenwidth50height39pxcolor101010textdecorationnone': 1, 'infowmoverflowhiddenheight22pxpaddingtop8pxlineheight21px': 1, 'infowm': 5, 'dtfloatleftpaddingright9px': 1, 'ddfloatleft': 1, 'imgweatherdisplayinlineblockverticalaligntop': 1, 'infodustpaddingleft18px': 1, 'icodustwidth20pxheight20pxmargintop3pxmarginright6pxbackgroundposition140px': 1, 'icoairwidth21pxheight21pxmargin1px': 1, '7px': 7, '2pxbackgroundposition140px': 1, '264px': 1, 'stategoodcolor0078ff': 1, 'statenormalcolor27aa1d': 1, 'statebadcolorfecc3d': 1, 'stateworstcolore30000': 1, 'btnclosepositionabsolutetop18pxright18pxwidth16pxheight16pxbackgroundposition0': 2, 'txtplacemargintop20pxlineheight18px': 1, 'infotempermargintop15px': 1, 'statedescmargintop10px': 1, 'icodegreemargintop1px': 1, 'infowmpaddingtop11px': 1, 'icodustmargintop0': 1, 'icoairmargintop2px': 1, 'todaylayerdisplayblock': 1, 'adverttmpfloatleftpositionrelativewidth655pxheight120pxmarginright35px': 1, 'adverttmp': 1, 'bglinepositionabsolutetop0left0zindex1width653pxheight118pxborder1px': 1, 'advertstationdisplayinlineblockpositionrelativewidth300pxheight150pxmargintop15pxfontsize0lineheight0verticalaligntop': 1, 'advertstation': 1, 'bglinepositionabsolutetop0left0zindex1width298pxheight148pxborder1px': 1, 'boxshoppingdisplayinlineblockpositionrelativewidth300pxheight1177pxmargintop15pxverticalaligntop': 1, 'boxshopping': 2, 'bgline1positionabsolutetop0left0zindex1width298pxheight775pxborder1px': 1, 'bgline2positionabsolutetop792pxleft0zindex1width298pxheight383pxborder1px': 1, 'advertsvcbnrmargintop15px': 1, 'advertsvcbnr': 2, 'linkbnrdisplayblockpositionrelativeheight60px': 1, 'framegwidth298pxheight58px': 1, 'advertbnrmargintop15px': 1, 'advertbnr': 2, 'linkbnrdisplayblockoverflowhiddenpositionrelativeheight143px': 1, 'framegwidth298pxheight141px': 1, 'wraptiercontpositionrelativezindex99width990pxmargin0': 1, 'logintmpfloatrightpositionrelativezindex0width300pxheight120pxletterspacing1px': 1, 'loginmyzindex10backgroundurlt1daumcdnnetdaumtopdecoimagestop2017bgpctop170328png': 1, 'loginmy': 22, 'wrapmywidth285pxheight45pxpadding15px': 1, 'infomyfloatleftpadding1px': 1, 'relmyfloatrightpaddingright15px': 1, 'nameuserfloatleftmarginright4pxfontweightbold': 1, 'linkmyinfofloatleftfontsize11pxmargin2px': 1, '0lineheight14pxcolor555textdecorationunderline': 1, 'linkssopositionabsolutetop41pxleft15pxwidth68pxheight22pxfontsize11pxlineheight22pxbackgroundposition100px': 1, '235pxwhitespacenowrap': 2, 'linkssoingbackgroundposition100px': 1, '205px': 1, 'linkssohelppositionabsolutetop41pxleft85pxwidth6pxheight22pxpadding0': 1, '6pxfontsize12pxlineheight22pxbackgroundposition180px': 1, 'layerssopositionabsolutetop77pxleft0zindex11width298pxheight82pxborder1px': 1, '118effbackgroundcolorfff': 1, 'layersso': 4, 'boxhelpdisplaytablewidth100height100': 1, 'txthelpdisplaytablecellpadding0': 1, '2pxfontsize12pxlineheight16pxcolor555verticalalignmiddle': 1, 'btnclosepositionabsolutetop5pxright5pxwidth21pxheight21pxpadding0': 1, '6pxbackgroundposition210px': 1, '235px': 1, 'linkempathyfloatleftmargin5px': 1, '0fontsize11pxlineheight14pxcolor5b6473': 1, 'btnlogoutfloatleftwidth56pxheight24pxfontsize11pxlineheight24pxbackgroundposition180px': 1, '30pxbackgroundcolortransparent': 1, 'listbasisoverflowhiddenpositionabsolutetop43pxright9pxheight30pxletterspacing012em': 1, 'listbasis': 6, 'lifloatleftpaddingright8pxlineheight15px': 1, 'linkbasisfloatleftfontsize12pxcolor555': 1, 'numbasismarginleft3pxcolor118eff': 1, 'nummsgwidth30px': 1, 'linknumfontweightboldcolor118eff': 1, 'mymileage': 1, 'linkbasismarginright8px': 1, 'wrapmysvcpositionrelativezindex10width300px': 1, 'mysvclistpositionrelativewidth300pxheight43px': 1, 'listmysvcdisplayinlineblockpositionrelativewidth300pxheight43pxverticalaligntopletterspacing1px': 1, 'listmysvc': 13, 'lipositionrelativefloatleftwidth100pxheight43px': 1, 'linkmysvcdisplayblockoverflowhiddenheight31pxpaddingtop12pxfontsize12pxlineheight18pxtextaligncentercolor555': 1, 'linkmysvchovertextdecorationnone': 1, 'cafeg': 5, 'linkmysvcheight30pxpaddingtop13pxlineheight16px': 1, 'txtmysvcdisplayinlineblockheight26pxcolor555verticalaligntop': 1, 'txtmysvcpaddingleft24pxbackgroundposition0': 1, 'stockg': 1, 'txtmysvcpaddingleft27pxbackgroundposition0': 1, '109px': 1, 'blogg': 1, 'txtmysvcpaddingleft29pxbackgroundposition0': 1, '139px': 1, 'iconewdisplaynonewidth11pxheight11pxmargin5px': 1, '4pxbackgroundposition160px': 1, '80pxtextindent9999pxverticalaligntop': 1, 'newg': 1, 'iconewdisplayinlineblock': 1, 'iconewmargintop4px': 2, 'mycafeonbackgroundurlt1daumcdnnetdaumtopdecoimagestop2017bgpctop170328png': 1, '310px': 15, 'mystockonbackgroundurlt1daumcdnnetdaumtopdecoimagestop2017bgpctop170328png': 1, '50px': 2, 'myblogonbackgroundurlt1daumcdnnetdaumtopdecoimagestop2017bgpctop170328png': 1, 'layermycontpositionabsolutetop120pxleft0width300pxheight353pxbackgroundposition0': 1, '130px': 11, 'layermycont': 2, 'btnclosepositionabsolutetop320pxright0width46pxheight32pxpadding3px': 1, '4pxfontsize11pxlineheight18pxcolor888': 1, 'txthelppaddingtop2pxpaddingbottom0': 1, 'logintmpletterspacing0': 1, 'infomypaddingtop4px': 1, 'nameusermarginright7px': 1, 'linkprivacymargintop0': 1, 'listbasistop45pxright6pxletterspacing0': 1, 'lipaddingright9px': 1, 'linkmysvclineheight21px': 1, 'linkmysvclineheight20px': 1, 'iconewmargintop3px': 1, 'btnclosepaddingtop5px': 1, 'panelblocpositionrelativepaddingtop61px': 1, 'tittabcontpositionabsolutetop15pxfontsize16px': 1, 'tittabcont': 1, 'linktitdisplayblockheight36pxlineheight36pxbackgroundcolortransparenttextaligncenter': 1, 'wraptabcontdisplaynonewidth655px': 1, 'icoviewoverflowhiddenpositionabsoluteright8pxbottom8pxwidth23pxheight23pxbackgroundposition40px': 1, '0textindent9999pxcursorpointer': 3, 'icovideooverflowhiddenpositionabsoluteright8pxbottom8pxwidth23pxheight23pxbackgroundposition70px': 1, 'icoliveoverflowhiddenpositionabsoluteright8pxbottom8pxwidth23pxheight23pxbackgroundposition130px': 1, 'colorg1colore30000': 1, 'colorg2color118eff': 1, 'icolabeloverflowhiddenpositionabsolutetop15pxleft15pxheight22pxpadding0': 1, '8pxfontsize11pxlineheight19pxcolorfffbackgroundcolor118eff': 1, 'icolabel2overflowhiddenpositionabsolutetop0left0height20pxpadding0': 1, '7pxfontsize11pxlineheight17pxcolorfffbackgroundcolorrgba00006filterprogidDXImageTransformMicrosoftgradientstartColorstr99000000endColorstr99000000GradientType0': 1, 'icolabel3overflowhiddenpositionabsolutetop15pxleft15pxheight22pxpadding0': 1, '8pxfontsize11pxlineheight19pxcolorfffbackgroundcolore8493d': 1, 'icolabelosmac': 1, 'icolabel3lineheight23px': 1, 'icolabel2lineheight21px': 1, 'taglivewidth30pxheight15pxbackgroundposition120px': 1, '70px': 3, 'tagnewwidth31pxheight15pxbackgroundposition120px': 1, '90px': 3, 'tageventwidth40pxheight15pxbackgroundposition120px': 1, '110px': 4, 'tagissuewidth37pxheight15pxbackgroundposition120px': 1, 'pagepctoppositionabsolutewidthautoheight16px': 1, 'pagepctop': 13, 'btnpagefloatleftwidth16pxheight16pxlineheight16pxbackgroundcolortransparentbackgroundposition210px': 1, 'btnnextwidth15pxbackgroundposition226px': 2, 'infopagefloatleftpadding2px': 1, '0fontsize12pxlineheight16pxcolor555fontfamilytahomaarialsansserif': 1, 'infopage': 1, 'txtslashpadding0': 1, 'infopagelineheight16pxfontfamilyhelveticaarialsansserif': 1, 'pagebtypetop20pxright0height26px': 1, 'pagebtype': 4, 'btnpagewidth26pxheight26pxlineheight26pxbackgroundposition110px': 1, '170pxtextindent10px': 1, 'btnnextwidth25pxbackgroundposition136px': 1, '170px': 4, 'infopagepaddingtop1pxpaddingright8pxfontsize14pxlineheight22px': 1, 'infopagelineheight24px': 1, 'pagetabcontpositionabsolutezindex1top16pxleft30pxcursorpointer': 1, 'pagetabcont': 2, 'btnpageoverflowhiddenfloatleftwidth7pxheight7pxmargin9px': 1, '0fontsize10pxlineheight7pxbackgroundposition100px': 1, '170pxbackgroundcolortransparent': 1, 'onpositionrelativebackgroundposition100px': 1, '177px': 1, 'listthumboverflowhidden': 1, 'listthumb': 12, 'lifloatleftwidth154pxheight146pxmarginleft13px': 1, 'fstmarginleft0': 2, 'linkitemdisplayblock': 1, 'thumbgwidth154pxheight94px': 2, 'framegwidth152pxheight92px': 3, 'contitempadding4px': 2, 'tititemdisplayblockoverflowhiddenmaxheight36pxpaddingright12pxfontweightnormallineheight18pxwordbreakkeepallwordwrapbreakword': 2, 'contitempaddingtop6px': 3, 'tititempaddingright14px': 3, 'listtxtfloatleft': 1, 'listtxt': 13, 'lioverflowhiddenheight20pxpadding4px': 1, '2pxwhitespacenowraptextoverflowellipsis': 1, 'icopctopdisplayinlineblockmargin3px': 1, '0textindent9999pxverticalaligntop': 3, 'splittxtpaddingleft10pxmarginleft10pxcolor888backgroundurlt1daumcdnnetdaumtopdecoimagestop2017icopctopvert170724png': 1, '46px': 1, 'splittxthovercolor118eff': 1, 'partmidpaddingtop18pxlineheight16px': 1, 'splitpartdisplayinlineblockoverflowhiddenverticalaligntop': 1, 'splitpart': 3, 'linktxtmarginright3px': 1, 'splitfstfloatleftoverflowhiddenmaxwidth222pxtextoverflowellipsis': 1, 'lilineheight20px': 1, 'splittxtbackgroundposition0': 1, '49px': 1, 'partmidlineheight22px': 1, 'splitpartletterspacing003em': 1, 'linktxtmarginright7px': 1, 'liststxtmargintop7px': 1, 'liststxt': 2, 'lioverflowhiddenpaddingbottom4pxlineheight19pxwhitespacenowraptextoverflowellipsis': 1, 'txtmarkfontsize12pxcolor888': 2, 'linksectordisplayblockpositionrelativezindex0width321pxheight131px': 1, 'linksector': 11, 'framegwidth319pxheight129px': 1, 'contitempositionabsoluteright0left0bottom0width100height100pxbackgroundurlt1daumcdnnetdaumtopdecoimagestop2017bgplate2png': 1, '100': 7, 'tititemoverflowhiddenpositionabsoluteleft0bottom13pxright0padding0': 1, '15pxfontweightnormalfontsize14pxlineheight20pxcolorfff': 1, 'icolabel': 1, 'icolabel2': 1, 'icolabel3': 1, 'icopctopzindex1': 1, 'tititembottom10px': 2, 'listranking': 16, 'liheight20pxpaddingbottom5px': 1, 'linkrankingdisplayblockoverflowhiddenlineheight18px': 1, 'txtrankingoverflowhiddenfloatleftwidth288pxwhitespacenowraptextoverflowellipsis': 1, 'linkrankinghover': 2, 'txtrankingtextdecorationunderline': 1, 'numpctopfloatleftwidth16pxheight16pxmargin3px': 2, 'num1backgroundposition0': 3, 'num2backgroundposition0': 3, 'num3backgroundposition0': 3, 'num4backgroundposition0': 2, 'num5backgroundposition0': 2, 'numpctopmargintop0': 3, 'lilineheight22px': 1, 'boxstoryoverflowhiddenborder1px': 1, 'ecececbackgroundcolorfbfbfc': 2, 'boxstory': 5, 'titsubjectoverflowhiddenmargintop7pxfontsize13px': 1, 'titsubject': 2, 'linktitfloatleftpaddingright9pxbackgroundposition100': 1, 'titsubjectmargintop10px': 1, 'linktitbackgroundposition100': 1, 'liststxtmargintop10px': 1, 'sectionmediapositionrelative': 1, 'sectionmedia': 4, 'pagebtypetop15px': 1, 'panelblocpadding57px': 1, '25px': 1, 'tittabconttop11pxleft0': 1, 'panelbloc': 50, 'titnewsleft5px': 1, 'titentertainleft55px': 1, 'titsportsleft94px': 1, 'titmovieleft147px': 1, 'titautoleft186px': 1, 'titrealestateleft240px': 1, 'titnews': 2, 'linktitwidth36pxbackgroundposition0': 2, 'titentertain': 2, 'linktitwidth36pxbackgroundposition36px': 1, 'titsports': 2, 'linktitwidth50pxbackgroundposition72px': 1, 'titmovie': 2, 'linktitwidth36pxbackgroundposition122px': 1, 'titauto': 2, 'linktitwidth51pxbackgroundposition158px': 1, 'titrealestate': 2, 'linktitwidth48pxbackgroundposition209px': 1, 'newson': 2, 'linktitbackgroundposition0': 3, '166px': 6, 'entertainon': 2, 'linktitbackgroundposition36px': 2, 'sportson': 2, 'linktitbackgroundposition72px': 1, 'movieon': 2, 'linktitbackgroundposition122px': 1, 'autoon': 2, 'linktitbackgroundposition158px': 1, 'realestateon': 2, 'linktitbackgroundposition209px': 1, 'wrapnews': 8, 'wrapentertain': 1, 'wrapsports': 1, 'wrapmovie': 1, 'wrapauto': 1, 'wraprealestatedisplayblock': 1, 'wraptabcontheight480px': 1, 'groupnewsdisplayinlineblockheight292pxverticalaligntop': 1, 'newsprimeheight438px': 1, 'newsprime': 2, 'listtxtwidth316pxpaddingleft4px': 1, 'tititemwordbreaknormal': 1, 'boxsectoroverflowhiddenfloatleftwidth321pxmarginright13px': 1, 'boxsector': 4, 'listthumbwidth334pxmarginleft13px': 1, 'linksectormarginbottom15px': 1, 'newsflowoverflowhiddenpositionrelativeheight40pxborder1px': 1, 'ecececlineheight35pxbackgroundcolorfbfbfb': 1, 'unithomefloatleftpaddingleft12px': 1, 'unithome': 7, 'tithomefloatleftmarginright10px': 1, 'tithome': 2, 'linkhomepaddingright7pxbackgroundposition100': 1, '6px': 3, 'listhomefloatleft': 1, 'listhome': 2, 'lifloatleftpadding0': 1, 'linkhomecolor555': 1, 'linkhomehovercolor118eff': 1, 'unitlivefloatleftpaddingleft25px': 1, 'unitlive': 3, 'icopctopfloatleftmargin12px': 1, '0textindent9999px': 2, 'linklivemarginright5pxcolor555': 1, 'linklivehovercolor118eff': 1, 'newsflow': 1, 'linkhashpadding0': 1, '7pxcolor118eff': 1, 'newsflowlineheight40px': 1, 'linkhomepaddingright9pxbackgroundposition100': 1, 'boxissuefloatleftpositionrelativemarginright13px': 1, 'boxissue': 8, 'linkissuedisplayblockoverflowhiddenpositionrelativewidth321pxheight277px': 1, 'covergpositionabsoluteleft0bottom0width100height132pxbackgroundurlt1daumcdnnetdaumtopdecoimagestop2017bgplate8png': 1, 'framegwidth319pxheight275px': 1, 'icolabelheight27pxfontsize14pxlineheight25pxbackgroundcolorrgba171422559': 1, 'contitemoverflowhiddenpositionabsoluteright0bottom14pxleft0': 1, 'contitem': 2, 'tititemdisplayblockoverflowhiddenmaxheight44pxpadding0': 1, '16pxfontweightnormalfontsize16pxlineheight22pxcolorfff': 1, 'icolabellineheight29px': 1, 'contitembottom10px': 1, 'specialissue': 7, 'titissueoverflowhiddenpositionabsolutetop25pxleft21pxmaxheight60pxpaddingright20pxfontsize22pxcolorfff': 1, 'contitembottom12px': 1, 'listitempadding0': 1, 'listitem': 4, 'lioverflowhiddenmargintop3pxfontsize14px': 1, 'fstfontsize16pxlineheight26px': 1, 'linkitemdisplayblockoverflowhiddencolorfffwhitespacenowraptextoverflowellipsis': 1, 'fstlineheight23px': 1, 'newsprimefloatleftwidth501pxheight438px': 1, 'newsflowclearboth': 1, 'boxsectorwidth154px': 1, 'listthumbwidthautomarginleft0': 1, 'lifloatnonemarginleft0': 1, 'linksectorwidth154pxheight277pxmarginbottom0': 1, 'framegwidth152pxheight275px': 1, 'rankingnewsoverflowhiddenpositionrelativeheight148pxpadding0': 1, '148px': 1, 'ranknewstitpositionabsolutetop3pxleft0width148px': 1, 'ranknewstit': 2, 'titrankingfloatleftlineheight17pxcolor118eff': 1, 'linktitcolor118eff': 1, 'helppartdisplayinlinefloatleftmargin3px': 1, 'helppart': 1, 'linkhelpdisplayblockwidth31pxheight15pxfontsize11pxbackgroundcolortransparentbackgroundposition0': 1, '265px': 1, 'helplayeroverflowhiddenpositionabsolutetop27pxleft0width126pxheight48pxborder1px': 1, '888backgroundcolorfbfbfb': 1, 'helplayer': 2, 'txthelppadding8px': 1, '13px': 7, '13pxfontsize11pxlineheight15pxcolor888': 1, 'btnclosepositionabsolutetop8pxright8pxwidth16pxheight16pxbackgroundposition0': 1, 'rankingnews': 2, 'listrankingmargintop3px': 1, 'tabrankingpositionabsolutetop30pxleft0width64px': 1, 'tabranking': 6, 'limarginbottom3px': 2, 'linktabdisplayinlineblockoverflowhiddenfontweightboldlineheight16pxcolor888': 1, 'on': 6, 'linktabcolor222textdecorationunderline': 1, 'icopctopfloatleftwidth6pxheight6pxmargin6px': 1, '0backgroundposition100px': 1, '190px': 1, 'contrankingdisplaynoneoverflowhidden': 1, 'contrankingondisplayblock': 1, 'helppartmargintop0': 1, 'helplayertop25px': 1, 'ranknewstittop6px': 1, 'listrankingmargintop5px': 1, 'tabrankingtop33px': 1, 'limarginbottom1px': 1, 'icopctopmargintop4px': 1, 'castsportspositionrelativewidth321pxmarginbottom15px': 1, 'castsports': 8, 'headcastheight35pxborder1px': 1, 'titcastmargin6px': 1, '11pxfontsize13px': 1, 'pagepctoptop11pxright14pxbottomauto': 1, 'btnpagewidth16pxheight16pxlineheight16pxbackgroundposition210px': 1, 'linkmorepositionabsolutetop9pxright13pxpaddingright7pxfontsize11pxcolor888backgroundposition100': 1, 'listrelayborder1px': 1, 'ecececbordertop0': 1, 'listrelay': 33, 'lioverflowhidden': 1, 'linkrelayhovercolor222textdecorationnone': 1, 'txtteamoverflowhiddenfontsize12pxlineheight26pxwhitespacenowraptextoverflowellipsis': 1, 'txttimefloatleftfontsize11pxfontfamilytahomaarialsansserifletterspacing0': 1, 'txtleaguefloatleftpaddingleft3pxfontsize11pxcolor888': 1, 'txtscore': 13, 'innerscoredisplayinlineblockverticalaligntop': 1, 'numpctopfloatleftwidth11pxheight16pxbackgroundcolortransparent': 1, 'num0backgroundposition60px': 1, 'num1backgroundposition60px': 1, 'num2backgroundposition60px': 1, 'num3backgroundposition60px': 1, 'num4backgroundposition60px': 1, 'num5backgroundposition60px': 1, 'num6backgroundposition60px': 1, 'num7backgroundposition60px': 1, '140px': 3, 'num8backgroundposition60px': 1, 'num9backgroundposition60px': 1, 'numnonebackgroundposition60px': 1, 'tagcastwidth56pxheight15pxfontsize11pxbackgroundcolortransparenttextaligncenter': 1, 'cast1backgroundposition0': 1, 'cast2backgroundposition0': 1, 'cast3backgroundposition0': 1, 'cast4backgroundposition0': 1, 'cast5backgroundposition0': 1, '150px': 5, 'cast6backgroundposition60px': 1, 'cast7backgroundposition60px': 1, 'cast8backgroundposition60px': 1, 'cast9backgroundposition60px': 1, 'titcastmargin9px': 1, 'linkmoretop11pxbackgroundposition100': 1, 'txttimefontfamilyhelveticaarialsansserif': 1, 'relaygeneralheight93px': 1, 'relaygeneral': 9, 'linkrelayoverflowhiddenfloatleftpositionrelativewidth147pxheight84pxpadding9px': 1, '11pxborderleft1px': 1, 'f5f5f5': 2, 'linkrelayfstwidth146pxpaddingleft12pxborderleft0': 1, 'eventteamoverflowhiddenpositionabsoluteleft11pxtop57pxright0height25px': 1, 'eventteamfstleft11pxtop30px': 1, 'eventteam': 6, 'imgthumbfloatleft': 1, 'txtteamfloatleftwidth69pxlineheight22pxmargin0': 1, 'txtscorefloatleftwidth33pxmargintop5pxtextalignright': 1, 'tagcastfloatrightmargin1px': 1, 'relayspecial': 14, 'linkrelaydisplayblockoverflowhiddenpositionrelativeheight47pxbordertop1px': 1, 'linkrelayfstbordertop0': 1, 'eventteamoverflowhiddenpositionabsoluteleft159pxtop0width52pxheight47pxpaddingleft107px': 1, 'imgthumbpositionabsolutetop10pxright53px': 1, 'txtteamfloatleftwidth45pxmargin8px': 1, 'txtscorepositionabsolutetop15pxleft38pxwidth33pxtextaligncenter': 1, 'eventteamfstleft0width53pxpadding0': 1, '106px': 1, 'eventteamfst': 3, 'txtscoreleft89px': 1, 'imgthumbleft53pxrightauto': 1, 'txtteamtextalignright': 1, 'txttimedisplayblockfloatnonemargintop3pxtextaligncenter': 1, 'tagcastdisplayblockmargin2px': 1, 'linkviewwidth158pxheight66pxpadding27px': 1, '0fontsize12pxcolor888textaligncenter': 1, 'linkviewhovercolor888textdecorationnone': 1, 'linkview': 1, 'txtviewdisplayblockcolor118efftextdecorationunderline': 1, 'txtteamlineheight27px': 1, 'txtteammargintop12px': 1, 'txttimemargintop5px': 1, 'linkviewheight63pxpaddingtop30px': 1, 'boxspecialoverflowhiddenpositionrelativezindex0width641pxheight93pxmarginbottom15pxpadding36px': 1, '12pxborder1px': 1, 'boxspecial': 14, 'titspecialpositionabsolutetop7pxleft12pxfontsize13px': 1, 'linkspecialmarginright3px': 1, 'linkspecial2color888': 1, 'packslideoverflowhidden': 1, 'pagepctoptop8pxright12pxheight19px': 1, 'btnpagewidth19pxheight19pxlineheight19pxbackgroundposition40px': 1, 'btnnextwidth18pxbackgroundposition59px': 1, 'infopagecolor888': 1, 'numindexfontweightnormal': 1, 'linkbannerfloatleftpositionrelativewidth308pxheight80pxmarginleft5px': 1, 'linkbanner': 1, 'framegwidth306pxheight78px': 1, 'bannerwidewidth419pxheight80pxmarginleft11px': 1, 'bannerwide': 1, 'framegwidth417pxheight78px': 1, 'listspecialfloatleft': 1, 'listspecial': 8, 'lifloatleft': 2, 'linkthumbfloatleftpositionrelative': 1, 'linkthumb': 10, 'framegwidth54pxheight78px': 1, 'numgpositionabsolutetop0left0width16pxheight16pxfontsize11pxlineheight16pxcolorffffontfamilytahomaarialsansseriftextaligncenter': 1, 'continfooverflowhiddenwordbreakkeepall': 1, 'titinfodisplayblockoverflowhiddenmaxheight33pxfontweightnormalfontsize13pxlineheight17pxwordbreakbreakall': 1, 'txtinfodisplayblockoverflowhiddenfontsize12pxlineheight16pxcolor888whitespacenowraptextoverflowellipsis': 1, 'listmovie1': 9, 'liwidth146pxpaddingright12px': 2, 'numgbackgroundposition20px': 2, 'numpointbackgroundposition0': 2, 'continfopositionrelativepadding36px': 1, '9px': 2, 'titinfopositionabsolutetop0left9px': 1, 'txtinfofloatleftwidth100letterspacing0': 1, 'gradestardisplayblockoverflowhiddenpositionrelativewidth62pxheight12pxbackgroundposition40px': 1, 'innerstarpositionabsolutetop0left0widthautoheight12pxfontsize0lineheight0backgroundposition40px': 1, '50pxtextindent9999px': 1, 'listmovie2': 6, 'continfopadding0': 1, 'titinfomargin2px': 1, 'txtinfomaxheight31pxwhitespacenormal': 1, 'listmovie3': 10, 'limarginleft10px': 1, 'lifstmarginleft0': 2, 'linkthumbwidth203pxheight80px': 1, 'framegwidth201pxheight78px': 1, 'icoplaypositionabsoluteright10pxbottom10pxwidth22pxheight22pxfontsize0lineheight0backgroundposition100px': 1, 'continfopositionabsolutetop38pxleft0width152pxpadding0': 1, '10pxcolorfff': 1, 'txtinfocolorfff': 1, 'titinfodisplayinline': 1, 'txtruntimedisplayblockoverflowhiddenfontsize11pxlineheight13pxfontfamilytahomaarialsansserifwhitespacenowraptextoverflowellipsisletterspacing0': 1, 'listauto': 8, 'liwidth199pxpaddingleft10pxborderleft1px': 1, 'lifstpaddingleft0borderleft0': 1, 'linkthumbwidth120pxheight80px': 1, 'continfopadding13px': 1, 'titinfomarginbottom2px': 1, 'listrealestate': 8, 'liwidth203pxmarginleft8px': 1, 'linkthumbwidth110pxheight80px': 1, 'framegwidth108pxheight78px': 1, 'continfopaddingleft8px': 1, 'titinfomargintop2pxmarginbottom4px': 1, 'txtinfomargintop2pxlineheight14px': 1, 'titspecialtop10px': 1, 'numgfontfamilyhelveticaarialsansserif': 1, 'gradestarmarginbottom3px': 1, 'continfopaddingtop1px': 1, 'titinfomargintop0': 1, 'txtruntimemarginbottom2pxfontfamilyhelveticaarialsansserif': 1, 'continfopaddingtop16px': 1, 'titinfomargintop1pxlineheight16px': 1, 'listhotissueoverflowhiddenpositionrelativewidth180pxheight280px': 1, 'listhotissue': 33, 'lioverflowhiddenpositionrelativewidth100height20pxmarginbottom8px': 1, 'rolltxtpositionrelative': 1, 'rankcontoverflowhiddenpositionrelativeheight20px': 1, 'numpctopfloatleftwidth16pxheight16pxmargintop1pxfontsize12pxlineheight17pxfontfamilytahomaarialsansserifbackgroundcolortransparenttextaligncenter': 1, 'rank1backgroundposition20px': 1, 'rank2backgroundposition0': 1, 'rank3backgroundposition0': 1, 'rank4backgroundposition0': 1, 'rank5backgroundposition0': 1, 'rank6backgroundposition0': 1, 'rank7backgroundposition0': 1, 'rank8backgroundposition0': 1, 'rank9backgroundposition0': 1, 'rank10backgroundposition0': 1, 'txtissueoverflowhiddenfloatleftwidth119pxpaddingleft6pxlineheight15px': 1, 'linkissuedisplayblockoverflowhiddenpaddingbottom1pxwhitespacenowraptextoverflowellipsis': 1, 'rankresultfloatrightmargin1px': 1, '0fontweightnormalfontsize13pxlineheight14pxcolor888fontfamilytahomaarialsansserifbackgroundcolortransparentletterspacing005em': 1, 'rankresult': 1, 'icopctopdisplayinlineblockbackgroundcolortransparentverticalaligntop': 1, 'icoupwidth11pxheight14pxmarginright3pxbackgroundposition120px': 1, 'icodownwidth11pxheight14pxmarginright3pxbackgroundposition140px': 1, 'icosteadywidth11pxheight6pxmargin5px': 1, '0lineheight10pxbackgroundposition160px': 1, 'iconewwidth27pxheight12pxmargin2px': 1, '0backgroundposition120px': 1, 'txtissuelineheight20px': 1, 'rankresultlineheight16pxfontfamilyhelveticasansserif': 1, 'hotissuepositionabsolutetop19pxright90pxzindex1': 1, 'hotissueminioverflowhiddenpositionrelativewidth161pxheight20pxbackgroundcolorfff': 1, 'hotissuemini': 17, 'listhotissuewidth117px': 1, 'txtissuewidth95px': 1, 'txtrealtimefloatleftwidth44pxheight18pxlineheight18pxbackgroundposition325px': 1, '80pxbackgroundcolortransparenttextaligncenter': 1, 'rank2backgroundposition20px': 1, 'rank3backgroundposition20px': 1, 'rank4backgroundposition20px': 1, 'rank5backgroundposition20px': 1, 'rank6backgroundposition20px': 1, 'rank7backgroundposition20px': 1, 'rank8backgroundposition20px': 1, 'rank9backgroundposition20px': 1, 'rank10backgroundposition20px': 1, 'hotissuelayerdisplaynonepositionabsolutetop38pxright90pxwidth198pxheight384pxpaddingleft20pxborder1px': 1, 'hotissuelayer': 4, 'tithotissuepositionstaticwidth104pxheight34pxmargin10px': 1, '0fontsize13pxlineheight34pxbackgroundposition210px': 1, '80pxbackgroundcolortransparenttextindent0': 1, 'txtstandarddisplayblockpositionstaticwidthautoheightautomargintop5pxfontsize12pxlineheight14pxcolor888textindent0letterspacing0': 1, 'txtstandardmargintop8px': 1, 'issueopen': 1, 'hotissuelayerdisplayblock': 1, 'hotissuebuiltinpositionabsolutetop57pxright0width153pxheight424pxborderleft1px': 1, 'realtimepartheight292pxmarginleft14px': 1, 'realtimepart': 5, 'tithotissuepadding2px': 1, '6pxfontsize13pxcolor118eff': 1, 'listhotissuewidth138pxheight240px': 1, 'liwidth138pxmarginbottom4px': 1, 'txtissuewidth114px': 1, 'tithotissuepadding5px': 1, 'stockpartheight102pxmarginleft15px': 1, 'stockpart': 11, 'linkstockdisplayblockheight40pxmarginbottom8px': 1, 'linkstockhovercolor222textdecorationnone': 1, 'titstockdisplayblockmarginbottom1pxfontweightboldfontsize13pxlineheight15px': 1, 'numstockfontweightnormalfontsize14pxfontfamilytahomaarialsansserifletterspacing003em': 1, 'numstatuspaddingleft3pxfontsize12pxletterspacing0': 1, 'numstatus': 4, 'icoarrowdisplayinlineblockwidth9pxheight10pxmargin8px': 1, '0fontsize0lineheight0textindent9999pxverticalaligntop': 1, 'stockup': 2, 'numstatuscolore30000': 1, 'stockdown': 2, 'numstatuscolor118eff': 1, 'icoarrowbackgroundposition120px': 1, 'icoarrowbackgroundposition130px': 1, 'stockstay': 1, 'icoarrowbackgroundposition140px': 1, 'relpartoverflowhiddenwidth136pxheight28pxmarginleft14pxborder1px': 1, 'relpart': 3, 'itemreldisplayblockwidth139pxheight28px': 1, 'linkrelfloatleftwidth45pxheight28pxborderright1px': 1, 'ecececfontsize12pxlineheight26pxcolor888textaligncenter': 1, 'linkrellineheight29px': 1, 'sectionmultipositionrelativebordertop1px': 1, 'sectionmulti': 1, 'wraptabcontheight157px': 1, 'titkakaotv': 2, 'linktitwidth82pxbackgroundposition380px': 1, 'kakaotvon': 2, 'linktitbackgroundposition380px': 1, 'wrapkakaotv': 2, 'melonon': 1, 'wrapmelondisplayblock': 1, 'tabmultipositionabsolutetop14pxleft90pxheight36px': 1, 'tabmulti': 4, 'lidisplayinlinefloatleftmarginleft13px': 1, 'linktitdisplayblockoverflowhiddenheight36pxfontweightboldlineheight33pxcolor888textdecorationnone': 1, 'linktitcolor222textdecorationunderline': 1, 'linktitlineheight38px': 1, 'boximgspefloatleftmarginright13px': 1, 'boximgspe': 1, 'icolabelboximgspe': 1, 'icolabel3fontsize12px': 1, 'icovideobackgroundposition0': 1, 'sectionblogpositionrelativebordertop1px': 1, 'sectionblog': 2, 'wraptabcontoverflowhiddenheight179px': 1, 'titcafeleft5px': 1, 'titmiznetleft34px': 1, 'titkakaostoryleft87px': 1, 'tittistoryleft178px': 1, 'titbrunchleft243px': 1, 'titilboonleft296px': 1, 'titstoryfundingleft349px': 1, 'titcafe': 2, '220px': 8, 'titmiznet': 2, 'linktitwidth50pxbackgroundposition36px': 1, 'titkakaostory': 2, 'linktitwidth88pxbackgroundposition86px': 1, 'tittistory': 2, 'linktitwidth62pxbackgroundposition174px': 1, 'titbrunch': 2, 'linktitwidth50pxbackgroundposition236px': 1, 'titilboon': 2, 'linktitwidth50pxbackgroundposition286px': 1, 'titstoryfunding': 2, 'linktitwidth74pxbackgroundposition336px': 1, 'cafeon': 2, '256px': 7, 'mizneton': 2, 'kakaostoryon': 2, 'linktitbackgroundposition86px': 1, 'tistoryon': 2, 'linktitbackgroundposition174px': 1, 'brunchon': 2, 'linktitbackgroundposition236px': 1, 'ilboonon': 2, 'linktitbackgroundposition286px': 1, 'storyfundingon': 2, 'linktitbackgroundposition336px': 1, 'wrapmiznet': 1, 'wrapcafe': 1, 'wrapkakaostory': 1, 'wraptistory': 1, 'wrapbrunch': 1, 'wrapilboon': 1, 'wrapstoryfundingdisplayblock': 1, 'boxstoryfloatrightwidth297pxheight152pxpadding0': 1, 'liststoryoverflowhiddenfloatleft': 1, 'liststory': 17, 'lifloatleftheight160pxmarginleft13px': 1, 'linkitemdisplayblockpositionrelativewidth154pxcursorpointer': 1, 'linkitemhovercolor222textdecorationnone': 2, 'contitemheight56pxpadding4px': 1, 'originitemdisplayblockoverflowhiddenpositionrelativemargintop4pxfontsize12pxlineheight18pxcolor888whitespacenowraptextoverflowellipsis': 1, 'originitem': 4, 'txttellerdisplayblockoverflowhiddenwhitespacenowraptextoverflowellipsis': 1, 'icostorytelleroverflowhiddenpositionabsoluteright0top4pxwidth13pxheight15pxfontsize1pxlineheight0backgroundposition170px': 1, '100pxtextindent9999px': 1, 'linkitemhover': 6, 'tititemcolor118efftextdecorationunderline': 2, 'originitemcolor888textdecorationnone': 1, 'itemtellerdisplayinlineblockmaxwidth115pxpaddingright18px': 1, 'contitemheight54pxpaddingtop6px': 1, 'icostorytellertop0': 1, 'typedesc': 8, 'linkitemwidth152pxheight152pxborder1px': 1, 'contitemheight117pxpadding7px': 1, 'tititemheightautomaxheight36px': 1, 'descitemdisplayblockoverflowhiddenmaxheight48pxpaddingtop8pxfontsize11pxlineheight16pxcolor888wordbreakkeepallwordwrapbreakword': 1, 'originitempositionabsoluteleft13pxbottom9pxright13px': 1, 'itemtellerrightautomaxwidth106px': 1, 'contitemheight96pxpaddingtop10px': 1, 'originitembottom6px': 2, 'typeimg': 10, 'thumbgzindex1height154px': 1, 'framegwidth152pxheight152px': 2, 'contitempositionabsolutetop0left0bottom0width154pxheight154pxbackgroundurlt1daumcdnnetdaumtopdecoimagestop2017bgplate6png': 1, 'tititempositionabsoluteleft13pxright13pxbottom37pxheightautomaxheight36pxpaddingright10pxcolorfff': 1, 'originitempositionabsoluteleft13pxright13pxbottom14pxcolorc9c9c9': 1, 'originitemcolorc9c9c9textdecorationnone': 1, 'tititemcolorffftextdecorationunderline': 1, 'contitemheightautopadding0': 1, 'tititembottom30px': 2, 'graphitemoverflowhiddenpositionabsolutetop74pxleft0width154px': 1, 'graphitem': 7, 'infographpositionabsoluteright10pxtop0zindex10colorfff': 1, 'infograph': 1, 'numgraphfontweightbold': 1, 'bargraphdisplayblockheight20pxbackgroundurlt1daumcdnnetdaumtopdecoimagestop2017bggraphpng': 1, 'repeat': 1, 'barsupportpositionabsoluteleft0top0height20px': 1, 'barsupport': 4, 'bgleftpositionabsoluteleft0top0right16pxheight20pxbackgroundurlt1daumcdnnetdaumtopdecoimagestop2017bargraphpng': 1, 'repeatx': 2, 'bgrightpositionabsoluteright14pxtop0width30pxheight20pxbackgroundurlt1daumcdnnetdaumtopdecoimagestop2017bargraphrightpng': 1, 'fullgraph': 3, 'barsupportwidth100backgroundurlt1daumcdnnetdaumtopdecoimagestop2017bargraphfull2png': 1, 'bgleft': 1, 'bgrightwidth0backgroundnone': 1, 'infographtop2px': 1, 'sectionchannelpositionrelativebordertop1px': 1, 'sectionchannel': 6, 'panelblocpaddingtop60px': 1, 'wraptabcontoverflowhiddenheight507px': 1, 'tithomecookingleft5px': 1, 'titmoneyleft59px': 1, 'titpetleft96px': 1, 'titwomenleft133px': 1, 'titmenleft182px': 1, 'tittravelleft212px': 1, 'titbusinessleft274px': 1, 'titmusicleft325px': 1, 'titwebtoonleft362px': 1, 'titgameleft398px': 1, 'tittogetherpanelbloc': 1, 'tittogether2left434px': 1, 'tithomecooking': 2, 'linktitwidth59pxbackgroundposition0': 1, 'titmoney': 2, 'linktitwidth37pxbackgroundposition59px': 1, 'titpet': 2, 'linktitwidth37pxbackgroundposition96px': 1, 'titwomen': 2, 'linktitwidth49pxbackgroundposition133px': 1, 'titmen': 2, 'linktitwidth30pxbackgroundposition182px': 1, 'tittravel': 2, 'linktitwidth62pxbackgroundposition212px': 1, 'titbusiness': 2, 'linktitwidth51pxbackgroundposition274px': 1, 'titmusic': 2, 'linktitwidth37pxbackgroundposition325px': 1, 'titwebtoon': 2, 'linktitwidth36pxbackgroundposition362px': 1, 'titgame': 2, 'linktitwidth36pxbackgroundposition398px': 1, 'tittogether': 2, 'linktitwidth63pxbackgroundposition434px': 1, 'tittogether2': 2, 'linktitwidth72pxbackgroundposition497px': 1, 'homecookingon': 2, '346px': 12, 'moneyon': 1, 'linktitbackgroundposition59px': 1, 'peton': 1, 'linktitbackgroundposition96px': 1, 'womenon': 1, 'linktitbackgroundposition133px': 1, 'menon': 2, 'linktitbackgroundposition182px': 1, 'travelon': 2, 'linktitbackgroundposition212px': 1, 'businesson': 2, 'linktitbackgroundposition274px': 1, 'musicon': 2, 'linktitbackgroundposition325px': 1, 'webtoonon': 2, 'linktitbackgroundposition362px': 1, 'gameon': 2, 'linktitbackgroundposition398px': 1, 'togetheron': 3, 'linktitbackgroundposition434px': 1, 'linktitbackgroundposition497px': 1, 'wraphomecookingmoneyon': 1, 'wrapmoneypeton': 1, 'wrappetwomenon': 1, 'wrapwomen': 1, 'wrapmen': 1, 'wraptravel': 1, 'wrapbusiness': 1, 'wrapmusic': 1, 'wrapwebtoon': 1, 'wrapgame': 1, 'wraptogetherdisplayblock': 1, 'boxchannelfloatleftpositionrelativewidth154pxheight159pxmargin0': 1, 'boxchannelfstmarginleft0': 1, 'boxchannel': 18, 'linkitemdisplayblockpositionrelativewidth154px': 1, 'thumbgoverflowhiddenwidth154pxheight94px': 1, 'icoadpositionabsoluteright9pxbottom9pxwidth33pxheight19pxfontsize0lineheight0backgroundposition0': 1, '40pxtextindent9999px': 1, 'tititemdisplayblockoverflowhiddenmaxheight36pxpaddingright12pxfontweightnormallineheight18pxwordwrapbreakword': 1, 'channelitemdisplayblockheight18pxpadding4px': 1, '0fontsize12pxlineheight18px': 1, 'channelitem': 2, 'linkchanneldisplayinlineblockoverflowhiddenmaxwidth124pxheight20pxlineheight18pxcolor888verticalaligntopwhitespacenowraptextoverflowellipsis': 1, 'originitemdisplayblockoverflowhiddenmargintop3pxfontsize12pxlineheight21pxcolor888whitespacenowraptextoverflowellipsis': 1, 'thumbchanneldisplayinlineblockpositionrelativemargin1px': 1, 'thumbchannel': 2, 'imgthumbborderradius18px': 1, 'bgframepositionabsolutetop0left0width18pxheight18pxbackgroundposition410px': 1, 'thumbchannelmargintop0': 1, 'linkchannellineheight20px': 2, 'typechdescbackgroundcolorfbfbfc': 1, 'typechdesc': 5, 'linkitemwidth152pxheight129pxborder1px': 1, 'ecececborderbottomwidth0': 1, 'contitemheight112pxpadding13px': 1, 'descitemdisplayblockoverflowhiddenmaxheight48pxpaddingtop8pxfontsize11pxlineheight16pxcolor888': 1, 'channelitempadding0': 1, '13pxborder1px': 1, 'ecececbordertopwidth0': 1, 'contitemheight108pxpaddingtop16px': 1, 'boximgspemarginright0': 1, 'linksectorheight159px': 1, 'framegwidth319pxheight157px': 2, 'contitemheight159pxbackgroundimageurlt1daumcdnnetdaumtopdecoimagestop2017bgplate5png': 1, 'boxchwidefloatleftpositionrelativewidth321pxheight159pxmargin0': 1, 'boxchwide': 10, 'linkitemdisplayblockoverflowhiddenpositionrelativewidth321pxheight159px': 1, 'linkitem': 6, 'thumbgzindex1width321pxheight159px': 1, 'contitempositionabsolutetop0left0width321pxheight159pxcolorfffbackgroundurlt1daumcdnnetdaumtopdecoimagestop2017bgplate5png': 1, 'tititemoverflowhiddenpositionabsoluteleft17pxbottom13pxmaxwidth284pxheight20pxfontweightnormalfontsize14pxlineheight20pxwhitespacenowraptextoverflowellipsis': 1, 'tititemhovercolorfff': 1, 'linkchanneloverflowhiddenpositionabsoluteleft16pxbottom32pxmaxwidth284pxheight20pxfontsize12pxlineheight18pxcolorfffwhitespacenowraptextoverflowellipsis': 1, 'thumbchanneldisplayinlineblockpositionrelativemarginright5pxverticalaligntop': 1, 'boxchextraoverflowhiddenfloatleftpositionrelativewidth154pxheight159pxmargin0': 1, 'boxchextra': 17, 'titchextrapositionabsolutetop14pxleft15pxright50pxzindex1fontsize11pxcolor118eff': 1, 'linkitemdisplayblockwidth154pxheight159px': 1, 'thumbgzindex1width154pxheight159px': 1, 'framegwidth152pxheight157px': 1, 'contitempositionabsolutetop0left0width154pxheight159pxbackgroundurlt1daumcdnnetdaumtopdecoimagestop2017bgplate6png': 1, 'emphextrapositionabsolutetop14pxleft15pxright15pxfontsize11pxcolor118eff': 1, 'tititempositionabsoluteleft14pxright14pxbottom34pxfontweightnormallineheight18pxcolorfff': 1, 'tititemtextdecorationunderline': 1, 'originitemdisplayinlineblockoverflowhiddenpositionabsoluteleft13pxrightautobottom8pxmaxwidth124pxfontsize12pxlineheight24pxcolorc9c9c9whitespacenowraptextoverflowellipsis': 1, 'titchextratop17px': 1, 'emphextratop17px': 1, 'originitembottom5px': 1, 'titbanneroverflowhiddenpositionabsoluteleft14pxright14pxbottom15pxfontweightnormalfontsize11pxcolorffftextdecorationunderlinetextaligncenterwhitespacenowraptextoverflowellipsis': 1, 'pagepctoptop15pxright15pxbottomauto': 1, 'btnpagewidth16pxheight16pxlineheight16pxbackgroundposition60px': 1, 'btnnextwidth15pxbackgroundposition76px': 1, 'listchbest': 9, 'lipositionrelativewidth154pxheight159px': 1, 'thumbgzindex0': 1, 'linkchbestpositionabsolutetop0left0width154pxheight120px': 1, 'titchbestoverflowhiddenpositionabsoluteleft14pxright14pxbottom0maxheight36pxfontweightnormalfontsize13pxlineheight18pxcolorfffwordbreakkeepallwordwrapbreakword': 1, 'titchbesthovertextdecorationunderline': 1, 'linkchanneloverflowhiddenpositionabsoluteleft0bottom0maxwidth124pxheight25pxpadding2px': 1, '10pxfontsize11pxlineheight23pxcolorc9c9c9whitespacenowraptextoverflowellipsis': 1, 'thumbchannelfloatleftpositionrelativemargin5px': 1, 'linkchannelpadding4px': 1, 'thumbchannelmargintop3px': 1, 'boxinfobnrfloatleftmargin0': 1, 'boxinfobnr': 15, 'linkitemdisplayblockoverflowhiddenpositionrelative': 1, 'linkitemhovercolor222': 1, 'thumbgzindex1width154pxheight154pxbackgroundcolorfff': 1, 'contitemoverflowhiddenpositionabsolutetop8pxleft13pxright7px': 1, 'tititemdisplayinlineblockoverflowhiddenmaxwidth120pxpaddingright8pxfontweightboldbackgroundposition100': 1, '7pxwhitespacenowraptextoverflowellipsisverticalaligntop': 1, 'txtinfodisplayblockoverflowhiddenmargintop2pxwhitespacenowraptextoverflowellipsis': 1, 'originitemdisplayblockoverflowhiddenmargintop2pxfontsize12pxlineheight16pxcolor888whitespacenowraptextoverflowellipsis': 1, 'contitemtop11px': 1, 'tititembackgroundposition100': 1, 'wraptogether': 2, 'thumbgheight159px': 2, 'framegheight157px': 2, 'grouprecommoverflowhiddenwidth670pxclearboth': 1, 'grouprecomm': 6, 'boxstoryfloatleftwidth295pxheight157pxmarginright13pxpadding0': 1, 'boxrecomm': 6, 'listrecommoverflowhiddenwidth321pxmargintop11px': 1, 'listrecomm': 4, 'lifloatleftwidth140pxheight30pxmargin0': 1, 'linkrecommdisplayinlineblockoverflowhiddenmaxwidth100lineheight30pxwhitespacenowraptextoverflowellipsis': 1, 'thumbrecommfloatleftwidth30pxheight30pxmarginright6pxverticalaligntop': 1, 'thumbrecomm': 1, 'imgthumbborderradius30px': 1, 'listrecommmargintop9px': 1, 'boxbest': 5, 'listrankingmargintop7px': 1, 'txtrankingwidth270px': 1, 'lipaddingbottom3px': 1, 'numpctopmargintop2px': 1, 'boxgamemarginright0': 1, 'boxinfobnrheight159pxmarginbottom0': 1, 'txtinfomargin0': 1, 'boxwtrankpositionrelative': 1, 'boxwtrank': 1, 'titsubjectpositionabsolutetop0left11pxzindex1': 1, 'listwtrankmargintop13px': 1, 'listwtrank': 16, 'fstoverflowhiddenpositionrelativeheight62pxmarginbottom9pxpaddingtop20pxborderbottom1px': 1, 'imgthumbpositionabsolutetop0right0widthautoheight83pxpointereventsnone': 1, 'linkrankingdisplayinlineblockoverflowhiddenlineheight18pxverticalaligntop': 1, 'contitemoverflowhiddenwidth140px': 1, 'txtrankingdisplayblockoverflowhiddenmaxwidth200pxwhitespacenowraptextoverflowellipsis': 1, 'txtrankingcolor118efftextdecorationunderline': 1, 'txtrankingmaxheight36pxwhitespacenormalwordbreakkeepallwordwrapbreakword': 1, 'limarginbottom4px': 1, 'fstheight59pxmarginbottom9pxpaddingtop23px': 1, 'boxmusicpaddingleft12pxheight157px': 1, 'boxmusic': 6, 'headitemoverflowhiddenpadding7px': 1, '11pxlineheight18px': 1, 'headitem': 4, 'titsubjectfloatleftmargin0': 1, 'txtstandardfloatleftfontsize11pxcolor888': 1, 'txtnumfontfamilytahomaarialsansserifletterspacing0': 1, 'listmusicoverflowhiddenwidth646px': 1, 'listmusic': 16, 'lifloatleftpositionrelativewidth70pxmarginright36pxpaddingleft22px': 1, 'linkitemdisplayblockwidth70px': 1, 'thumbgwidth70pxheight70px': 1, 'framegwidth68pxheight68px': 1, 'contitemdisplayblockpaddingtop4px': 1, 'tititemdisplayblockoverflowhiddenmargin0fontweightnormallineheight16pxwhitespacenowraptextoverflowellipsis': 1, 'tititemhovercolor118efftextdecorationunderline': 1, 'originitemdisplayblockoverflowhiddenfontsize12pxlineheight16pxcolor888whitespacenowraptextoverflowellipsis': 1, 'linksingercolor888': 1, 'numpctoppositionabsolutetop0left0width16pxheight16pxtextindent9999pxverticalaligntop': 1, 'headitempadding10px': 1, 'txtnumfontfamilyhelveticaarialsansserif': 1, 'wraptopicwidth990pxmargin0': 1, 'autopadding29px': 1, '45px': 1, 'wraptopic': 4, 'titphotodisplayinlineblockoverflowhiddenheight36pxfontsize16pxlineheight33pxverticalaligntop': 1, 'linkphotoclipdisplayinlineblockpaddingright11pxbackgroundposition100': 1, '242pxwhitespacenowrapverticalaligntop': 1, 'linkphotothemedisplayinlineblockmarginright6pxcolor118effverticalaligntop': 1, 'viewphotooverflowhiddenpositionrelativewidth990pxheight400pxmargintop20px': 1, 'viewphoto': 26, 'listphotooverflowhiddenpositionabsolutetop0': 1, 'listphoto': 2, 'boxphotodisplayblockoverflowhiddenwidth682pxheight400pxbackgroundcolor333textdecorationnonetextaligncenter': 1, 'boxphoto': 1, 'imgthumbdisplayinline': 1, 'detailphotodisplaynonepositionabsolutetop0left50width682pxmarginleft341pxpaddingtop330px': 1, 'detailphoto': 2, 'framegwidth680pxheight398px': 1, 'linkphotodisplayblockoverflowhiddenpositionrelativeheight70pxbackgroundurlt1daumcdnnetdaumtopdecoimagestop2017bgplateslidepng': 1, 'linkphotohovertextdecorationnone': 1, 'linkphoto': 4, 'icophotopositionabsolutetop18pxright20pxwidth17pxheight15pxbackgroundposition160px': 1, '60pxtextindent9999px': 1, 'titgalleryoverflowhiddenmargin14px': 1, '57px': 1, '20pxfontweightnormalfontsize14pxcolorf4f4f4textdecorationnonewhitespacenowraptextoverflowellipsis': 1, 'descsourcedisplayblockpadding1px': 1, '20pxfontsize11pxcolorfffopacity06filteralphaopacity60': 1, 'txtdatemarginleft10pxfontfamilyHelveticatahomasansserif': 1, 'btnpreviewoverflowhiddenpositionabsolutetop0width152pxheight400pxbackgroundurlt1daumcdnnetdaumtopdecoimagestop2017bgplateslide2png': 1, 'norepeattextdecorationnonecursorpointer': 1, 'btnpreview': 4, 'framegwidth150pxheight398px': 1, 'icopctoppositionabsolutetop170pxwidth60pxheight60pxtextindent9999px': 1, 'btnprevleft0borderright2px': 1, 'fff': 2, 'btnprev': 2, 'icopctopleft0backgroundposition190px': 1, 'btnnextright0borderleft2px': 1, 'btnnext': 3, 'icopctopright0backgroundposition190px': 1, 'btngallerybackgroundcolor333': 1, 'txtgallerydisplaynonepadding184px': 1, '71pxlineheight16pxcolorfff': 1, 'btngallery': 1, 'txtgallerydisplayblock': 1, 'txtgallerypaddingright71pxpaddingleft0textalignright': 1, 'viewslideoverflowhiddenpositionrelativeheight60pxmargintop20px': 1, 'viewslide': 27, 'listthumbnailoverflowhidden': 1, 'listthumbnail': 4, 'lifloatleftpaddingleft2px': 1, 'lifstpaddingleft0': 1, 'linkthumbdisplayblockpositionrelativewidth60pxheight60px': 1, 'framegwidth58pxheight58pxcursorpointer': 1, 'framegwidth56pxheight56pxborder2px': 1, '118effopacity1filteralphaopacity100': 1, 'covergpositionabsolutetop0bottom0left0right0backgroundfffopacity06filteralphaopacity60': 1, 'btnmovepositionabsolutetop0width20pxheight60px': 1, 'btnprevleft0': 1, 'btnnextright0': 1, 'btnmove': 1, 'icopctopdisplayblockwidth20pxheight20pxmargintop20pxtextindent9999pxcursorpointer': 1, 'icopctopbackgroundposition190px': 1, 'icopctopbackgroundposition220px': 1, 'titphotolineheight39px': 1, 'titgallerymargintop16px': 1, 'descsourcepaddingtop2px': 1, 'txtgallerypaddingtop186px': 1, 'vphototype2': 9, 'boxphotowidth990px': 1, 'detailphotowidth990pxmarginleft495px': 1, 'framegwidth988px': 1, 'linkphotobackgroundrepeat': 1, 'btnpreviewtop140pxheight120pxborder0': 1, 'nonebackgroundnone': 1, 'framegdisplaynone': 1, 'icopctoptop30px': 1, 'txtgallerypaddingtop43px': 1, 'listthumbnail2': 3, 'linkthumbwidth246px': 1, 'framegwidth244px': 1, 'framegwidth242px': 1, 'listthumbnail3': 9, 'linkthumboverflowhiddenwidth196px': 1, 'framegwidth194px': 1, 'framegwidth192px': 1, 'fst': 2, 'lst': 2, 'linkthumbwidth197px': 1, 'frameg': 2, 'framegwidth195px': 1, 'fston': 1, 'lston': 1, 'framegwidth193px': 1, 'txtgallerypaddingtop46px': 1, 'topicspepositionabsolutetop0left50width990pxmarginleft495pxbackgroundred': 1, 'topicspe': 3, 'linkspeoverflowhiddenpositionabsolutetop0width464pxheight610pxfontsize1pxlineheight0textalignlefttextindent9999px': 1, 'linkspeleftleft465px': 1, 'linksperightright465px': 1, 'noticelayeroverflowhiddenwidth100borderbottom1px': 1, 'ecf2f7backgroundcolorf4faff': 1, 'innernoticelayeroverflowhiddenpositionrelativewidth990pxheight110pxmargin0': 1, 'autobackgroundimageurlt1daumcdnnetdaumtopdecoimagestop2017noticestartpngbackgroundrepeatnorepeat': 1, 'innernoticelayer1backgroundposition100': 1, 'innernoticelayer': 6, 'setstartfloatleftpaddingtop29px': 1, 'txtnewsdisplayblockfontweightnormalfontsize20px': 1, 'linkstartoverflowhiddenfloatleftmargintop3pxpaddingright9pxfontsize12pxcolor888backgroundposition100': 1, '197pxtextdecorationunderline': 1, 'btncloseoverflowhiddenpositionabsolutetop36pxright0width20pxheight20pxbackgroundposition170px': 1, '180pxtextindent9999px': 1, 'setstartpaddingtop33px': 1, 'linkstartmargintop0': 1, 'mobileweblayeroverflowhiddenwidth100paddingbottom29pxbordertop1px': 1, 'ecececbackgroundcolorf2f2f2textaligncenter': 1, 'mobileweblayer': 7, 'txtmobilemargintop18pxmarginleft13pxfontsize12pxcolor888': 1, 'txtmobile': 2, 'icoinfodisplayinlineblockwidth13pxheight13pxmargin3px': 1, '0backgroundposition170px': 1, '120pxverticalaligntop': 1, 'linkmobiledisplayblockwidth100pxheight30pxmargin12px': 1, 'dadbddfontweightboldfontsize13pxlineheight28pxcolor222backgroundcolorfff': 1, 'linkmobilehovertextdecorationnone': 1, 'txtmobilemargintop22pxmarginleft9px': 1, 'icoinfomargin1px': 1, 'linkmobilemargintop9pxlineheight31px': 1, 'media': 1, 'only': 4, 'screen': 4, 'and': 4, 'webkitmindevicepixelratio': 1, '15': 2, 'mindevicepixelratio': 1, 'minresolution': 2, '144dpi': 1, '15dppx': 1, 'icosuggestbackgroundimageurlsearch1daumcdnnetsearchstaticscommonpir2weathericoweathermpngbackgroundsize43px': 1, '1680px': 1, 'icopctopbackgroundimageurlt1daumcdnnetdaumtopdecoimagestop2017rtnicopctop170828pngbackgroundsize250px': 1, 'icovertbackgroundimageurlt1daumcdnnetdaumtopdecoimagestop2017rtnicopctopvert170724pngbackgroundsize100px': 1, '500px': 1, 'txtpctopbackgroundimageurlt1daumcdnnetdaumtopdecoimagestop2017rtntxtpctop170915pngbackgroundsize600px': 1, 'bgpctop': 1, 'loginmybackgroundimageurlt1daumcdnnetdaumtopdecoimagestop2017rtnbgpctop170328pngbackgroundsize610px': 1, '490px': 1, 'numpctopbackgroundimageurlt1daumcdnnetdaumtopdecoimagestop2017rtnnumpctop170405pngbackgroundsize80px': 1, 'innernoticelayerbackgroundimageurlt1daumcdnnetdaumtopdecoimagestop2017rtnnoticestartpngbackgroundsize300px': 1, 'imgweatherbackgroundimageurlt1daumcdnnetdaumtopdecoimagestop2017rtnimgweather170628pngbackgroundsize300px': 1, '460px': 1, 'icowmbackgroundimageurlt1daumcdnnetdaumtopdecoimagestop2017rtnicowmpngbackgroundsize400px': 1, 'rolltxt': 3, 'webkittransition': 5, 'transform': 27, '0s': 5, 'linear': 5, 'moztransition': 5, 'mstransition': 5, 'otransition': 5, 'transition': 5, 'webkittransform': 7, 'translateY0': 5, 'moztransform': 7, 'mstransform': 7, 'otransform': 7, 'licurrent': 3, 'translateY20px': 5, '3s': 15, 'easeout': 10, 'translateY0px': 10, 'initial': 5, 'important': 5, 'positionabsolute': 1, 'backgroundcolorfff': 1, 'translateY28px': 10, 'opacity1': 1, 'linext': 1, 'opacity0': 1, 'cEtc': 3, 'listthumbnailwidth1858px': 1, 'listthumbnail2width990px': 1, 'ease': 5, 'translateX0': 5, '주요': 2, '서비스': 5, '바로가기': 11, '오늘의': 6, '정보': 8, '미디어': 3, '실시간': 4, '이슈': 4, '멀티미디어': 2, '블로그': 6, '유익한': 2, '쇼핑': 3, '포토amp영상': 1, '웹': 1, '접근성': 1, '안내': 2, '자동실행': 1, '광고': 1, '설정': 1, '검색': 8, '통합': 2, '인기': 1, '검색어': 3, '트와이스': 1, '라이키': 1, '멜로홀릭': 1, '경수진': 1, '민아': 1, '솔로데뷔': 1, '김재철': 1, '압수수색': 1, '정은지': 1, '애국가': 1, '김주혁': 7, '사망': 4, '신태용': 1, '이동국': 3, '지진': 1, '대피훈련': 1, '정준하': 1, '고소취하': 1, '유연석': 1, '시구': 1, '도민호': 6, '신태용호': 1, '명단': 1, '한라산': 1, '상고대': 1, '한국시리즈': 2, '5차전': 2, '성시경': 1, '정유미': 1, 'lt이전': 1, 'gt다음': 1, '다음을': 1, '시작페이지로': 1, '카페': 3, '메일': 2, '뉴스': 4, '지도': 2, '증권': 1, '카카오TV': 3, '웹툰': 3, '브런치': 3, '사전': 1, '게임': 3, '별플레이': 2, '같이가치': 3, '주요서비스': 1, '더보기': 2, '⋁': 1, '전체': 5, '커뮤니케이션': 1, '티스토리': 2, '아지트': 1, '카카오스토리': 2, '스포츠': 4, '연예': 2, '아고라': 1, '쇼핑생활': 1, '쇼핑하우': 1, '금융': 1, '부동산': 2, '자동차': 2, '미즈넷': 2, '요리': 1, '문화엔터': 1, '영화': 2, '책': 1, '사전지식': 1, '어학사전': 1, '단어장': 1, '백과사전': 1, '팁': 1, '나눔펀딩': 1, '스토리펀딩': 2, '길찾기': 1, '로드뷰': 1, '버스정보': 1, '지하철노선도': 1, '카카오': 3, '소식': 1, '다음': 8, '전체보기': 2, '메뉴': 1, '닫기': 2, '10': 3, '30': 1, '월': 1, '날씨': 21, '서울시': 1, '맑음': 18, '영상': 19, '8도': 6, '8': 7, '°C': 20, '경기도': 1, '6도': 4, '6': 5, '인천시': 2, '대구시': 1, '대전시': 1, '광주시': 1, '7도': 2, '7': 3, '부산시': 1, '11도': 2, '11': 3, '울산시': 1, '10도': 2, '경상북도': 2, '강원도': 2, '5도': 2, '5': 3, '충청북도': 1, '전라북도': 1, '전라남도': 2, '제주자치도': 1, '구름조금': 1, '12도': 1, '12': 1, '경상남도': 1, '날찌정보': 1, '8897': 1, '펼치기': 1, '현재': 7, '지역': 1, '어제보다': 1, '상세보기': 1, '미세먼지': 1, '통합대기': 1, 'X': 1, '날씨정보': 1, '선택됨': 1, '1탭': 1, '20만원': 1, '벌금': 1, '안무서워': 1, '활개치는': 1, '한채아': 1, '시선': 1, '사로잡는': 1, '단아한': 1, '패션': 1, '일반뉴스': 1, '北': 1, '英': 1, '내무차관': 1, '발언': 1, '비난': 1, 'quot사이버': 1, '공격': 1, '말도': 1, '안': 1, '돼quot': 1, '공기업': 1, '곳간은': 1, '보수단체': 1, '쌈짓돈': 1, '지원': 1, '명목': 1, '39황당39': 1, '하수관': 1, '공사': 1, '중': 2, '30년': 1, '된': 1, '담벼락': 1, '붕괴70대': 1, '근로자': 1, '우발': 1, '아닌': 1, '계획범죄': 1, '윤송이': 1, '父': 1, '살해범': 1, '기록': 1, '보니': 1, 'MB국정원': 1, '보수단체공기업': 1, '39매칭39': 1, '5억4천만원': 1, '규모': 1, 'live': 3, 'JTBC': 1, '뉴스룸': 1, 'KBS': 1, '뉴스9': 1, '39극비39': 1, '탈북': 1, '루트인데매년': 1, '수천만': 1, '원': 1, '들여': 1, '공무원': 1, '견학': 1, 'quot문체부middot강릉시도': 1, '영재센터': 1, '후원quot': 1, '이재용': 1, '항소심': 1, '뇌물': 1, '공방': 1, '격화': 1, '민간단체라더니국정원': 1, '63억': 1, '투입해': 1, '39국발협39': 1, '운영': 1, 'quot집값': 1, '떨어질까': 1, '봐quot': 1, '활활': 1, '타는': 1, '외장재': 1, '위험': 1, '알고도': 1, '쉬쉬': 1, '강남': 1, '삼성동서': 1, '교통사고로': 1, '이범호': 1, '우승': 1, '향한': 1, '만루홈런': 1, '폭발': 1, '그리스로': 1, '날아간': 1, '피겨여왕': 1, '김연아': 1, '뉴스홈': 1, '연재': 1, '랭킹': 1, 'TV': 2, '포토': 4, '미디어랩': 1, 'KS': 1, 'KIA': 1, 'vs': 1, '두산': 1, '탭': 16, '1': 3, 'lt': 4, '이전': 6, 'gt': 4, '1위': 5, '2위': 5, '이유영': 5, '3위': 5, '4위': 5, '홍천': 5, '숯불닭갈비': 5, '5위': 5, '심근경색': 5, '6위': 5, '육각수': 5, '7위': 5, 'rip': 5, '8위': 5, '나무엑터스': 5, '9위': 5, '불콰하다': 5, '10위': 5, '이해진': 5, '증시': 2, '영국': 1, '748468': 1, '9662': 1, '전일대비': 2, '하락': 1, '2035': 1, '독일': 1, '1323408': 1, '9652': 1, '상승': 17, '1654': 1, '관련': 1, '링크모음': 1, '환율': 1, '운세': 1, 'uarr': 16, '999': 2, '454': 2, '269': 2, '신규진입': 4, '199': 2, '74': 2, '84': 2, '56': 2, '20171030': 1, '2121기준': 1, 'X닫기': 1, 'TV하이라이트': 2, '대박이': 2, '수난시대': 2, '명장면': 2, '운동': 2, '좀': 3, '배워볼까': 2, '미운': 1, '우리': 1, '새끼': 1, '동영상': 16, '샘': 1, '오취리': 1, '친구의': 1, '가나': 1, '원빈': 1, '칭찬에': 1, '폭풍': 1, '으쓱': 1, '전체관람가': 1, '봉만대': 1, '감독': 1, '걱정이': 1, '마를': 1, '날이': 1, '없는': 1, '권오중': 1, '나의': 1, '외사친': 1, '오연수': 1, '이탈리아에서': 1, '잘생긴': 1, '아들들과': 1, '영상통화': 1, '슈퍼맨이': 1, '돌아왔다': 1, '시안이': 2, '장난꾸러기': 1, '장난에': 2, '오열': 2, '똥': 1, '냄새나': 1, '은행의': 1, '습격': 1, 'quot똥': 1, '냄새나quot': 1, '간식': 1, '사수': 1, '미션': 1, '위해': 1, '달리는': 1, '39늘보': 1, '빠기39': 1, '언제나': 1, '여유': 1, '만만한': 1, 'quot찌아니': 2, '몰라quot': 1, '더': 1, '이상': 1, '무소유': 1, '시안이가': 1, '아니다': 1, '거예요quot': 1, '39절정의': 1, '타격감39': 1, '버나디나': 1, '선취': 1, '적시타': 2, '김선빈': 1, '니퍼트': 1, '강판시키는': 1, '감동의': 1, '유재학': 1, '드래프트': 1, '최초': 1, '5R': 1, '지명': 1, '커쇼': 1, '단일': 1, 'PS': 1, '최다': 1, '피홈런': 1, '불명예': 1, '프로가': 1, '전수하는': 1, '어프로치': 1, '잘하는': 1, '법': 1, '해설자도': 1, '감탄한': 1, '뒤': 1, '돌려치기': 1, '수영': 1, '호흡할': 1, '때': 1, '주의해야': 1, '할': 1, '점': 1, '족구': 1, '한다': 1, '소리': 1, '듣고': 1, '싶으면': 1, '4': 2, '1boon': 1, '3만': 1, '원대': 1, '드레스로': 1, '명품': 1, '기죽인': 1, '배우': 1, 'by': 4, '타임머신': 1, '녹즙': 1, '알바하며': 1, '생계': 1, '이어온': 1, '아이돌': 1, '맥심': 1, '가오나시': 1, '분장으로': 1, '친구': 1, '울린': 1, '어린이': 1, '근황': 2, '10잡스': 1, '명언제조기': 1, '토니': 1, '엄마의': 1, '70금': 1, '어록': 1, '삐끕연예': 1, '홈amp쿠킹': 1, '머니': 1, '동물': 3, '처음': 1, '만난': 1, '강아지와': 1, '인사하는': 1, '방법': 1, '멍멍이': 2, '가이드북': 3, '엉아야': 1, '주방으로': 1, '부탁해요': 1, '오구오구': 2, '귀요미': 2, '길고양이들에게': 1, '겨울': 1, '집을': 1, '선물했어요': 1, '고양이': 4, '이야기': 3, 'AD': 1, '기미': 1, '잡티': 1, '올킬': 1, '확실한': 1, '제거': 1, '효과': 1, '미구하라': 1, '멍멍아': 1, '춥다': 1, '옷': 1, '입자': 1, '강아지': 2, '아뵤': 1, '39고양이': 1, '닌자39': 1, '사진': 1, '찍는': 1, '일본': 1, '작가': 1, '전효성': 1, '반려묘와': 1, '함께': 1, '한': 1, '가족사진': 1, '동물과': 2, '스타': 2, '중국': 1, '가장': 1, '순하다는': 1, '이': 1, '견종': 1, '추천채널': 1, '집사': 1, '이색': 1, '친구들': 1, '공감': 1, '동물툰': 1, '이슈잇슈': 1, '베스트': 1, '현직': 1, '의사가': 1, '본': 1, '최시원': 1, '개': 2, '사건': 1, '2': 1, '일본에서': 1, '핫한': 1, '39망한': 1, '사진39': 1, '올리기': 1, '대회': 1, '3': 2, '강형욱': 1, 'quot최시원': 1, '안락사': 1, '포기하긴': 1, '싫다': 1, '다만quot': 1, '스핑크스': 1, '가슴에': 1, '문신': 1, '새긴': 1, '모델': 1, '27kg': 1, '나가던': 1, '초고도비만': 1, '원숭이': 1, '스타일': 1, 'Men': 1, '여행맛집': 1, '직장IN': 1, '뮤직': 1, '보기': 4, '추천갤러리': 2, '이미지': 2, '목록': 2, '공지사항': 1, '위치기반서비스': 1, '이용약관': 1, '변경': 1, '소개': 1, '및': 1, '약관': 1, '회사소개': 1, '·': 9, '광고안내': 1, '검색등록': 1, '제휴문의': 1, '인재채용': 1, '서비스약관': 1, '청소년보호정책': 1, '개인정보처리방침': 1, '웹접근성안내': 1, '고객센터': 1, 'Copyright': 1, '©': 1, 'Kakao': 1, 'Corp': 1, 'All': 1, 'rights': 1, 'reserved': 1}\n"
     ]
    },
    {
     "name": "stdout",
     "output_type": "stream",
     "text": [
      "{'The': 46, 'New': 18, 'York': 14, 'Times': 12, 'Breaking': 3, 'News': 7, 'World': 7, 'Multimedia': 2, 'var': 76, 'NYTDNYTDNYTDAbrafunctiontuse': 1, 'strictfunction': 1, 'ntvar': 1, 'nitreturn': 1, 'nn1nullfunction': 1, 'etniftvar': 1, 'eorn0in1u0c0if1ilength4294967296i0foreat': 1, 'r': 1, '0u0c0oiuife': 1, '2s': 1, '215p': 1, '27n4fss': 1, '311518500249en1on2ern3aieor341275144ieoeror882459459a15356943890s20te': 1, '2orifs3fs8fs14fs16fors5slslsns0return': 1, 'l0var': 1, 'iucsfreturn': 1, 'ninitfunctionnrvar': 1, 'acsflhptdocumentcookiematch': 1, 'nyta2dtdocumentcookiematch': 1, 'ab72mnew': 1, 'RegExpabragmexectlocationsearchifgg2ddg2dg2ithrow': 1, 'new': 11, 'Errorcant': 1, 'init': 1, 'twiceifuridforddecodeURIComponentdsplita0a': 1, 'NYTDAbrainitHOMEComingUp2147483648control12147483648comingup1HOMENewsEvent23865470567full1429496729control1HOMEElectionPrediction3865470567on1429496729control1HOMEgeoTrending1460288881Control11417339208Header11417339207NoHeader1wwwaddiagnostic21474837104273492459null0wwwsignupfavortest7730941140177309411311773094113217730941143177309411341429496729510null0wwwreadlatertest11073741824control1360777253controlHoldout11073741824variant11356482286variant1Holdout11073741824variant21356482285variant2Holdout1wwwsignupfavortestv312884901891112884901892142949673041128849018851wwwsignupfavortestv4214748365control18589934591185899346021644245094418589934595185899345961wwwfabrikoff429496729611Liftoff1952062701195206261119520627211952062631195206264119520627511483911201148391121114839112211483911231148391124114839112513435973881343597389134359739121343597381313435973916134359738171214748364822us11735166787null0HPAATest214748364801214748364811ECSampleTest2147483648variantA02147483648variantB0ECDigiAbandonmentTest4294967296sendAbandonmentEmail1ECHdAbandonmentTest4294967296sendAbandonmentEmail1ECCrosswordsUpsellTest2147483648control12147483648upsell1ECNewSubOnboardingTest2147483648control12147483648sov11': 1, 'etnytimescom': 1, 'function': 36, 'e': 8, 'if': 25, 'mobiletestwindowlocationhostname': 1, 'vi2': 1, 'documentcookiematch': 3, 'vi': 2, '1': 7, 'vi1': 1, 'nytnpvi': 1, 'b1testvi2': 1, 'WPProjectVivariantvi': 2, 'z1testvi2': 1, 'WPProjectVivariant0': 2, 'a2testvi2': 1, 'WPProjectVi2varianthpst': 1, 'b2testvi2': 1, 'WPProjectVi2varianthp': 1, 'c2testvi2': 1, 'WPProjectVi2variantst': 1, 'z2testvi2': 1, 'WPProjectVi2variant0': 1, '1testvi1': 1, '2testvi1': 1, 'else': 12, 'wwwtestwindowlocationhostname': 1, 'viwwwhp': 1, 'a2testvi': 1, 'WPProjectViwwwhpvarianthpst': 1, 'b2testvi': 1, 'WPProjectViwwwhpvarianthp': 1, 'c2testvi': 1, 'WPProjectViwwwhpvariantst': 1, 'z2testvi': 1, 'WPProjectViwwwhpvariant0': 1, 'x': 1, 'XMLHttpRequest': 1, 'xwithCredentials': 1, 'true': 2, 'xopenPOSTetnytimescom': 1, 'xsendsubjectaballoctest': 1, 'url': 2, 'encodeURIComponentwindowlocationhref': 1, 'instant1skipAugmenttruen': 1, 'documentaddEventListenerDOMContentLoaded': 1, 'windowNYTD': 3, 'windowNYTDGlobal': 1, 'displayBriefings': 1, 'time': 5, 'timedBriefings': 1, 'documentgetElementsByClassNametimedBriefing': 1, 'timedBriefingslength': 1, 'return': 8, 'attrClass': 3, 'attrStart': 1, 'attrEnd': 1, 'startTime': 3, 'endTime': 4, 'reFormat': 1, 'd2d2': 1, 'reHide': 1, 'timedBriefingHidei': 1, 'for': 31, 'i': 2, '0': 27, 'reHidetestattrClass': 2, 'timedBriefingsisetAttributeclass': 2, 'timedBriefingHide': 3, 'testTZ': 1, 'offset': 2, 'testTime': 1, 'Datenew': 1, 'DategetTime': 2, '3600': 1, '1000': 3, 'windowNYTDGlobaldisplayBriefingstestTimegetUTCHours': 1, '100': 3, 'testTimegetUTCMinutes': 1, 'testTimetoUTCStringreplace': 1, 'GMT': 1, 'now': 2, 'Date': 1, 'previewTime': 2, 'nowgetHours': 1, 'nowgetMinutes': 1, 'rePreviewTime': 1, 'previewTimed': 1, 'matches': 2, 'windowlocationsearchmatchrePreviewTime': 1, 'NumberparseIntmatches1': 1, 'windowNYTDGlobaldisplayBriefingspreviewTime': 1, 'googletaggoogletaggoogletagcmdgoogletagcmdfunctionvar': 1, 'tdocumentcreateElementscripttasync0ttypetextjavascriptvar': 1, 'ehttpsdocumentlocationprotocoltsrcehttpshttpwwwgoogletagservicescomtagjsgptjsvar': 1, 'odocumentgetElementsByTagNamescript0oparentNodeinsertBeforeto': 1, 'limitFabrikSavemoreFollowSuggestionsunfollowCommentsallTheEmphasesvideoVHSCovervideoVHSHomepageCovervideoVHSHomepageNewControlsvideoVHSNewControlsvideoVHSEmbeddedOnlyadditionalOpinionRegionshpViewabilityfreeTrialhpPrototypeuseCollectionApiForWellenableFlexFrameAdsweatherLocationfabrikWebsocketsOnlyNYTExperimenthpRealEstateAdjitterbugupdatedVideoPromoSmallvideoEmbed360PersonalizationApiUpdateglobalBriefingsremoveInternationalEditionclientSideABRAabraOverrideVersionsignupFavormapleFreeTrialpiiBlockDFPanchorsHttpssmarterLivingRecviDesktopTestcaslOptabraInCustomParamsblueKai': 1, 'require': 3, 'baseUrl': 1, 'httpsa1nytcomassets': 1, 'waitSeconds': 1, '20': 3, 'paths': 7, 'foundation': 1, 'homepage20171018133349jsfoundation': 1, 'shared': 1, 'homepage20171018133349jsshared': 1, 'homepage': 1, 'homepage20171018133349jshomepage': 2, 'application': 1, 'videoFactory': 1, 'httpsstatic01nytcomjs2buildvideo20videofactoryrequire': 1, 'videoPlaylist': 1, 'httpsstatic01nytcomjs2buildvideoplayersextended20appRequire': 1, 'authmtr': 1, 'httpsstatic01nytcomjsmtr': 1, 'authgrowl': 1, 'httpsstatic01nytcomjsauthgrowldefault': 1, 'vhs': 1, 'httpsstatic01nytcomvideovhsbuildvhs2xmin': 1, 'vhs3': 1, 'httpsstatic01nytcomvideostaticvhs3vhsmin': 1, 'requiremap': 1, 'foundationmain': 1, 'foundationlegacymain': 1, 'ltie10': 9, 'messengersuggestions': 5, 'display': 39, 'block': 15, 'important': 8, 'height': 7, '50px': 2, 'messagebed': 1, 'backgroundcolor': 3, 'f8e9d2': 1, 'borderbottom': 6, '1px': 9, 'solid': 12, 'ccc': 6, 'messagecontainer': 1, 'padding': 10, '11px': 3, '18px': 5, '30px': 2, 'actionlink': 1, 'fontfamily': 18, 'nytfranklin': 8, 'arial': 2, 'helvetica': 2, 'sansserif': 8, 'fontsize': 28, '10px': 9, 'fontweight': 16, 'bold': 2, 'color': 30, 'a81817': 3, 'texttransform': 6, 'uppercase': 5, 'alerticon': 1, 'background': 3, 'urlhttpsstatic01nytcomimagesiconsiconalert12x12a81817png': 1, 'norepeat': 1, 'width': 9, '12px': 12, 'inlineblock': 5, 'margintop': 17, '2px': 13, 'float': 5, 'none': 31, 'masthead': 1, 'navigation': 2, 'commentspanel': 1, 'ribbon': 1, '97px': 1, 'NYTimescom': 2, 'no': 1, 'longer': 1, 'supports': 1, 'Internet': 3, 'Explorer': 2, '9': 1, 'or': 4, 'earlier': 1, 'Please': 7, 'upgrade': 1, 'your': 15, 'browser': 1, 'LEARN': 1, 'MORE': 1, '»': 10, 'Sections': 4, 'Search': 5, 'Skip': 2, 'to': 70, 'content': 3, 'Subscribe': 5, 'Now': 5, 'Log': 1, 'In': 13, 'Settings': 1, 'English': 1, '中文': 1, 'Chinese': 1, 'Español': 1, 'Monday': 7, 'October': 1, '30': 1, '2017': 2, 'Today’s': 1, 'Paper': 2, 'Video': 6, 'Quick': 1, 'Site': 10, 'Navigation': 7, 'US': 5, 'Politics': 4, 'NY': 2, 'Business': 4, 'Opinion': 9, 'Tech': 4, 'Science': 3, 'Health': 4, 'Sports': 4, 'Arts': 6, 'Style': 5, 'Food': 7, 'Travel': 5, 'Magazine': 7, 'T': 5, 'Real': 9, 'Estate': 4, 'all': 4, 'Close': 1, 'search': 1, 'Clear': 1, 'this': 7, 'text': 7, 'input': 2, 'Go': 4, 'Mobile': 3, 'geoipresolver': 1, '20160630': 1, 'functionafunctiontypeof': 1, 'definedefineamddefinenytintgeoipawindownytintgeoipafunctionuse': 1, 'strictvar': 1, 'anytgeoipbdocumentgetElementsByTagNamehtmlc1dcontinentcodecountrycoderegiondmacodepostalcodetimezonezoneabbrefunctionbvar': 1, 'cnew': 1, 'XMLHttpRequestdnullenulltryifdJSONparsesessionStoragegetItemadvoid': 1, '0dcountrycodereturn': 1, 'gdbdcatchhconloadfunctionareturn': 1, 'atargetefatargetundefinedtypeof': 1, 'e1gebe1conreadystatechangefunction4creadyState200cstatusconsoleerrorcstatuscopenGEThttpsgeoipnewsdevnytimescom0trycresponseTypejsoncatchhcsendffunctionavar': 1, 'bnullswitch0casejsonaresponseTypebaresponsedatabreakcase': 1, 'nullaresponsebJSONparsearesponsedatabreakcase': 1, 'nullaresponseTextbJSONparsearesponseTextmessagereturn': 1, 'void': 1, '0bbnullgfunctionefifbreturn1trysessionStoragesetItemaJSONstringifyecatchgifvoid': 1, '0ecforvar': 1, 'ij0idjjifvoid': 1, '0eivar': 1, 'kgeohieijoinb0classListaddkc0returnfunctiontypeof': 1, 'ffeehfunctionavar': 1, 'baswitch0case': 1, 'aindexOfzoneabbr': 1, '0bareplacezoneabbrustimezonebreakcase': 1, 'aindexOfzone': 1, '0bareplacezonezonebreakcase': 1, 'aindexOfcode': 1, '0bareplacecodereturn': 1, 'breturn': 1, 'windowNYTINTTESTINGee': 1, 'requirenytintgeoip': 1, 'Fix': 2, 'Small': 2, 'Promo': 1, 'Heds': 1, 'storythemefeaturevideopromosmallupdatedvideopromosmall': 1, 'videopromosmallcontainer': 1, 'storyheading': 10, '0important': 1, 'MM': 1, 'icons': 1, 'in': 35, 'kickers': 1, 'kicker': 4, 'iconbefore': 1, 'top': 6, '0px': 16, 'mediaslideshow': 1, 'marginbottom': 14, 'Hiding': 1, 'Hacks': 1, 'nythpHideKickers': 1, 'nythpHideBylines': 1, 'byline': 2, 'nythpHideTimestamps': 1, 'timestamp': 2, 'banner': 1, 'hed': 1, 'modifications': 1, 'spanabtopregion': 4, 'storythemesummary': 3, 'lineheight': 22, '21rem': 1, 'spacing': 1, 'fixes': 1, 'collectionheadlines': 1, 'Alterations': 1, 'the': 78, 'Centered': 1, 'Feature': 1, 'Photo': 1, 'Spot': 1, 'Treatment': 1, 'bcolumn': 9, 'photospotregion': 3, 'storythemefeature': 4, '135rem': 1, '165rem': 1, '22px': 1, 'headline': 1, 'wrapping': 1, 'summary': 5, '1125rem': 2, '333': 1, 'margin': 9, '3px': 8, 'Bullet': 1, 'Treatments': 1, 'abcolumn': 12, 'collection': 11, 'article': 13, 'ul': 9, 'spanabcregion': 11, '8px': 6, 'ulrefer': 2, 'li': 3, 'position': 12, 'relative': 6, 'paddingleft': 4, '9px': 1, '13px': 6, '08125rem': 1, '400': 4, 'libefore': 2, 'borderradius': 1, '000': 6, 'absolute': 4, '7px': 1, 'left': 5, 'lilastchild': 2, 'articledatacollectionrenderstyleHpSumMediumMedia': 1, 'themenewsheadlines': 2, 'relativeimportant': 1, '4pximportant': 1, '8pximportant': 1, '2pximportant': 1, 'acolumn': 3, 'storythemesummaryheadlinemediumsummary': 5, 'mediumthumb': 1, 'clear': 4, 'marginleft': 2, 'firstcolumnregion': 2, 'aledepackageregion': 2, 'fontstyle': 3, 'italic': 1, 'collectionfirstchild': 2, '26px': 1, '1625rem': 1, '28px': 1, '175rem': 2, '700': 6, 'NewsDeveloping': 1, 'Headers': 1, 'nythpBreaking': 3, 'A81817': 2, 'bordertop': 4, 'paddingtop': 6, 'paddingbottom': 5, 'h6': 14, 'nytfranklinarialhelveticasansserif': 1, 'nythpDeveloping': 1, 'FD8249': 2, 'bordertopcolor': 1, 'nythpBreakingnythpNoRule': 1, 'border': 7, 'abovebannerregion': 3, 'BEGIN': 1, 'HPHEADER': 1, 'STYLING': 1, 'hpHeader': 22, 'h3collectionkicker': 5, 'nytfranklinhelveticaarialsansserif': 3, 'letterspacing': 3, '5px': 7, '15px': 6, '16px': 2, 'a': 65, 'avisited': 2, 'textdecoration': 7, 'h6hover': 3, 'h6active': 3, 'bordercolor': 7, '222222': 2, 'spanabledepackageregion': 3, 'ccolumn': 2, 'textalign': 6, 'center': 3, 'auto': 5, 'splitlayout': 2, 'nythpSplitCode': 2, 'hpLive': 3, 'hpDeveloping': 3, 'fd8249': 2, 'hpSingleRule': 1, 'e2e2e2': 3, 'added': 1, 'by': 20, 'matte': 1, 'fix': 1, 'slideshow': 1, 'bug': 1, 'loadercontainer': 1, 'Newsletter': 1, 'SignUp': 1, 'Modules': 1, 'updated': 1, '6282017': 1, 'divnotificationwidget': 1, 'minheight38px': 1, 'notificationsignup': 6, 'notificationstitle': 1, 'black': 4, 'nytcheltenhamshgeorgiatimes': 1, 'romantimesserif': 2, '200': 1, 'notificationtext': 2, '999': 3, 'notificationwidget': 25, 'button': 9, 'outline': 1, 'notifyemail': 1, '312px': 1, '14px': 8, 'a6a6a6': 1, 'rgba971361665': 1, 'bordertopleftradius': 3, 'borderbottomleftradius': 3, 'bordertoprightradius': 2, 'borderbottomrightradius': 2, 'boxshadow': 1, 'Helvetica': 6, 'notifyemailhover': 1, 'bordercolorrgba971361661': 1, 'borderwidth2px': 1, 'padding13px': 1, 'notifyemailerror': 1, 'FF9859': 2, '6288a5': 1, 'white': 1, '500': 3, 'capitalize': 1, 'dirtyform': 1, 'buttonhover': 2, 'signedin': 2, '326891': 5, 'diverror': 1, 'post': 1, 'subscribe': 3, 'notification': 2, 'span': 1, 'ffffff': 1, '600': 1, 'divdatastatusinitial': 5, 'displayinlineblock': 3, 'floatright': 1, 'divdatastatusworking': 2, 'opacity0': 1, 'already': 8, 'subscribed': 8, 'div': 10, 'divdatastatussubscribed': 2, '666': 1, '31px': 1, 'marginright8px': 1, 'accountname': 2, '6187a6important': 2, 'emailaddress': 1, 'viewportmedium10': 2, 'interactiveleadin': 1, 'maxwidth': 1, '375px': 1, 'paddingtop11px': 1, 'adatareactid002': 1, 'divdatastatusinitialdatashowdisclaimertrue': 3, 'divdisclaimer': 4, 'CCC': 2, 'divsignedindatastatusinitialdatashowdisclaimertrue': 1, '20px': 1, '70px': 1, 'right': 6, 'divnotsignedindatastatusinitialdatashowdisclaimertrue': 1, 'underline': 3, 'divwelcome': 1, 'Show': 2, 'All': 3, 'hack': 1, 'htmlshowAllGeoAb': 5, 'nythpElectionPredictionCCol': 1, 'nythpNYRegionPromo': 5, 'nythpGeoCanada': 1, 'nythpCAToday': 1, 'requirefoundationmain': 13, 'jquerynyt': 2, 'foundationhelpersutils': 1, 'foundationviewspagemanager': 3, 'utils': 1, 'pageManager': 4, 'documentreadyfunction': 2, 'param': 3, 'contentCollection': 2, 'smarterliving': 4, 'nythpSmarterLiving': 14, 'aeachfunction': 1, 'href': 5, 'thisattrhref': 2, 'utilsappendQueryParamshref': 1, 'zoom1': 1, 'nythpSmarterLivingafter': 2, 'nythpSmarterLivingbefore': 1, 'table': 1, 'both': 2, 'floatleft': 1, '177px': 1, 'articlestorythemesummary': 1, 'articlelastchild': 1, 'articlenthoftype2': 1, '21px': 1, 'themecomments': 1, 'refer': 1, '96px': 1, 'thumb': 1, '6px': 4, 'Top': 1, 'Manafort': 2, 'Told': 1, 'Surrender': 1, 'Special': 1, 'Counsel': 1, 'Investigation': 1, 'By': 22, 'MATT': 1, 'APUZZO': 1, '752': 2, 'AM': 7, 'ET': 7, 'Paul': 1, 'who': 5, 'is': 9, 'former': 3, 'campaign': 1, 'chairman': 1, 'President': 3, 'Trump': 7, 'and': 43, 'his': 5, 'business': 1, 'associate': 1, 'Rick': 1, 'Gates': 1, 'were': 1, 'told': 1, 'surrender': 1, 'federal': 1, 'authorities': 1, 'on': 14, 'morning': 1, 'according': 1, 'person': 1, 'involved': 1, 'case': 7, 'They': 2, 'face': 2, 'first': 4, 'charges': 1, 'special': 1, 'counsel': 1, 'investigation': 2, 'that': 12, 'has': 8, 'cast': 1, 'shadow': 2, 'over': 2, 'Mr': 3, 'Trump’s': 4, 'year': 2, 'office': 1, 'nbspComments': 8, 'Twitter': 5, 'Suspends': 1, 'Roger': 2, 'Stone': 2, 'After': 11, 'ExpletiveLaden': 2, 'Posts': 1, '‘Bedlam’': 1, 'Arizona': 1, 'Jeff': 1, 'Flake': 1, 'Departs': 1, 'Senate': 1, 'Race': 2, 'Russia': 4, 'Wields': 1, 'Oil': 2, 'Diplomacy': 1, 'Pushing': 1, 'Interests': 1, 'CLIFFORD': 1, 'KRAUSS': 1, 'Moscow': 2, 'forced': 1, 'sanctions': 1, 'find': 4, 'spheres': 1, 'of': 48, 'investment': 1, 'building': 1, 'influence': 1, 'places': 1, 'where': 1, 'United': 1, 'States': 1, 'stumbled': 1, '2': 4, 'Navy': 2, 'SEALs': 2, 'Under': 2, 'Suspicion': 2, 'Death': 1, 'Green': 2, 'Beret': 2, 'Mali': 2, 'ERIC': 1, 'SCHMITT': 1, 'Staff': 1, 'Sgt': 1, 'Logan': 1, 'J': 2, 'Melgar': 1, '34': 1, 'veteran': 1, 'two': 2, 'deployments': 1, 'Afghanistan': 1, 'was': 5, 'found': 1, 'dead': 1, 'June': 1, '4': 2, 'superiors': 1, 'almost': 1, 'immediately': 1, 'suspected': 2, 'foul': 1, 'play': 1, 'Niger': 1, 'Where': 1, 'Troops': 1, 'Died': 2, 'Lawless': 1, 'Shifting': 1, 'Landscape': 1, 'Puerto': 2, 'Rico': 2, 'Cancels': 2, 'Grid': 1, 'Contract': 2, 'With': 7, 'Montana': 1, 'Firm': 1, 'FRANCES': 1, 'ROBLES': 1, 'DEBORAH': 1, 'ACOSTA': 1, 'move': 1, 'came': 1, 'after': 1, 'members': 1, 'Congress': 1, 'FEMA': 1, 'questioned': 1, 'how': 2, 'Whitefish': 2, 'Energy': 2, 'with': 6, 'connections': 2, 'secretary': 1, 'interior': 1, 'but': 4, 'only': 1, 'fulltime': 1, 'employees': 1, 'won': 1, 'contract': 1, 'up': 10, '300': 2, 'million': 1, 'California': 6, 'Lechery': 1, 'Finds': 2, 'Safe': 1, 'Haven': 1, 'Women': 1, 'Say': 1, 'JESS': 1, 'BIDGOOD': 1, 'MIRIAM': 1, 'JORDAN': 1, 'ADAM': 1, 'NAGOURNEY': 1, 'Sacramento': 1, 'legislative': 1, 'seat': 1, 'country’s': 1, 'most': 2, 'populous': 1, 'state': 1, 'women': 1, 'describe': 1, 'culture': 1, 'rampant': 1, 'sexual': 1, 'harassment': 1, 'system': 1, 'does': 1, 'not': 2, 'take': 1, 'their': 3, 'complaints': 1, 'seriously': 1, 'Rose': 2, 'McGowan': 2, 'Refusing': 2, 'Weinstein’s': 2, 'Hush': 2, 'Money': 3, 'Speaks': 4, 'Out': 3, 'Female': 1, 'Artists': 1, 'Sign': 17, 'Letter': 1, 'Against': 1, 'Sexual': 6, 'Harassment': 1, 'Catalonia': 2, 'Separatist': 1, 'Leaders': 1, 'Face': 1, 'Prosecution': 1, 'RAPHAEL': 1, 'MINDER': 1, 'PATRICK': 2, 'KINGSLEY': 1, 'Carles': 1, 'Puigdemont': 1, 'Catalan': 1, 'president': 2, 'others': 4, 'will': 3, 'be': 4, 'summoned': 1, 'court': 2, 'attorney': 1, 'general': 1, 'said': 2, 'Daily': 3, '360': 3, '121': 1, 'Damage': 1, 'Deserted': 1, 'Barbuda': 1, 'Shannon': 1, 'StapletonReuters': 1, 'Technology': 2, 'Samsung': 1, 'More': 7, 'Kurdish': 1, 'Leader': 2, 'Quits': 1, 'Latest': 1, 'Fallout': 2, 'From': 7, 'MuchCriticized': 1, 'Independence': 1, 'Vote': 1, 'Choice': 2, 'Fed': 2, 'Chairman': 2, 'Downgrades': 2, 'Deregulation': 2, 'Egypt': 1, 'Shakes': 1, 'Up': 17, 'Security': 1, 'Forces': 1, 'Deadly': 1, 'Ambush': 1, 'Police': 1, 'tipspromo': 7, 'nytlogo': 1, '1rem': 2, '6rem': 2, 'svg': 1, 'textbubble': 4, 'h1': 1, 'nytcheltenham': 2, 'times': 6, 'serif': 4, '15rem': 1, '09': 1, 'webkitfontsmoothing': 2, 'antialiased': 2, 'zindex': 2, 'h2': 1, 'nytcheltenhamsh': 2, '13': 3, '05rem': 1, 'contact': 1, 'borderstyle': 1, 'transparent': 1, 'Got': 1, 'confidential': 1, 'news': 7, 'tip': 1, 'offers': 2, 'several': 1, 'ways': 1, 'get': 4, 'touch': 1, 'provide': 1, 'materials': 1, 'our': 1, 'journalists': 2, 'Learn': 1, 'more': 2, 'gaq': 2, 'definenytg20161031tipshpassets': 1, 'httpsstatic01nytcomnewsgraphics20161031tipshp00b5b741a6c5682e24f945c547f78fbe98f2c27f': 1, 'definenytg20161031tipshpbigassets': 1, 'httpsstatic01nytcomnewsgraphics20161031tipshpassets': 1, 'requirehttpsstatic01nytcomnewsgraphics20161031tipshp00b5b741a6c5682e24f945c547f78fbe98f2c27fbuildjs': 1, 'generated': 1, 'from': 6, 'srcscriptjs': 1, '796': 1, 'Irish': 1, 'Children': 6, 'Vanished': 1, 'Why': 3, 'Hear': 1, 'an': 6, 'amateur': 1, 'historian': 1, 'investigated': 1, 'people': 2, 'whose': 1, 'memories': 1, 'helped': 1, 'bring': 1, 'tragedy': 1, 'light': 1, 'KASSIE': 1, 'BRACKEN': 1, 'Lost': 4, 'Tuam': 4, 'DAN': 1, 'BARRY': 1, 'For': 3, 'decades': 1, 'bones': 1, 'lay': 1, 'near': 1, 'home': 2, 'unmarried': 1, 'mothers': 1, 'babies': 1, 'until': 1, 'woman': 2, 'made': 1, 'it': 4, 'her': 4, 'mission': 2, 'truth': 1, 'Your': 6, 'Briefing': 13, 'CHRIS': 1, 'STANFORD': 1, '800': 1, 'Here’s': 2, 'what': 1, 'you': 3, 'need': 1, 'know': 1, 'start': 1, 'day': 1, 'Today': 6, 'Preparing': 2, 'Next': 4, 'Sandy': 4, 'audiobrief': 8, 'image': 1, '75px': 2, '4px': 1, 'audio': 1, 'art19webplayer': 1, 'art19webplayerawpmicro': 2, 'awpleft': 1, 'borderright': 2, 'awpbrandlogo': 2, 'img': 1, 'awpembedbutton': 1, 'cursor': 2, 'pointer': 2, 'dailysublinks': 4, 'width100': 1, 'padding0': 1, 'margin10px': 1, 'p': 6, 'fontfamilynytfranklinarialhelveticasansserif': 1, 'fontweight400': 1, 'color000': 1, 'paddingright': 2, 'borderright1px': 1, 'alastchild': 1, 'borderrightnone': 1, 'Audio': 2, 'Listen': 1, '‘The': 1, 'Daily’': 1, 'We': 3, 'look': 1, 'at': 8, 'origins': 1, 'research': 1, 'into': 2, 'lawyer': 1, 'discusses': 1, 'Follow': 2, 'Apple': 1, 'Podcasts': 1, 'Radio': 1, 'Public': 3, 'Stitcher': 1, 'Smarter': 4, 'Living': 7, 'How': 5, 'Stop': 2, 'Robbing': 1, 'Yourself': 1, 'Good': 1, 'Sleep': 1, 'TIM': 1, 'HERRERA': 1, 'Welcome': 1, 'latest': 1, 'edition': 1, 'newsletter': 1, 'What': 2, 'Watch': 1, 'Halloween': 2, 'You': 6, 'can': 1, 'varieties': 1, 'ghosts': 1, 'monsters': 1, 'serial': 1, 'killers': 1, 'major': 1, 'streaming': 1, 'services': 1, 'main': 1, 'underscorenyt': 3, 'foundationviewsbaseview': 1, 'BaseView': 1, 'SmarterLiving': 2, 'BaseViewextend': 1, 'template': 2, 'datastoryid': 1, 'datacollectionrenderstyleHpSumSmallMediaHigh': 1, 'alt': 1, 'events': 1, 'click': 3, 'handleArticleLinkClick': 2, 'articles': 6, 'initialize': 3, 'const': 4, 'view': 5, 'thispageManagerflagsmarterLivingRec': 1, 'thisel': 2, 'thissetupImpressionTracking': 1, 'oncethissetupImpressionTracking': 1, 'ajax': 1, 'httpsrecapinytimescomsvcrecommendationsv4smarterlivingjson': 1, 'xhrFields': 1, 'withCredentials': 1, 'donefunctiondata': 1, 'viewsetupImpressionTracking': 1, 'eachdataassets': 1, 'functionitem': 1, 'viewarticlespushitemurl': 1, 'iterate': 1, 'existing': 1, 'viewelfindarticleeachfunction': 1, 'index': 1, 'replace': 1, 'rec': 1, 'service': 1, 'thisreplaceWithviewtemplatedataassetsindex': 1, 'alwaysfunction': 1, 'unhide': 1, 'viewelcssdisplay': 1, 'setupImpressionTracking': 1, 'thispageManagerisComponentVisiblethisel': 2, 'thisrecordTrackingImpression': 2, 'thissubscribenytpagescroll': 1, 'thishandleScroll': 1, 'ev': 1, 'el': 2, 'evcurrentTarget': 1, 'thistrackingAppendParamselattrhref': 1, 'action': 4, 'pgtype': 2, 'Homepage': 2, 'clickSource': 1, 'module': 4, 'region': 2, 'secondcolumnregion': 2, 'mData': 2, 'viewarticles': 2, 'elattrhref': 1, 'handleScroll': 1, 'thisstopSubscribingnytpagescroll': 1, 'recordTrackingImpression': 1, 'thistrackingTriggerImpressionImpression': 1, 'impression': 4, 'proxyEventType': 1, 'Get': 13, 'weekly': 1, 'roundup': 1, 'best': 1, 'advice': 1, 'living': 1, 'better': 1, 'smarter': 1, 'fulfilling': 1, 'life': 1, 'requireconfig': 6, 'nytintemailsubscriber': 6, 'httpsintnytcomapplicationsemailsubscriberclient': 6, 'requirenytintemailsubscriber': 6, 'functionSubscriber': 6, 'Subscribersetup': 6, 'containerId': 6, 'smarterlivingformonly': 1, 'productCode': 6, 'SL': 1, 'elementToHideOnSubscribe': 6, 'nythpsmarterlivingformonlyemailpromo': 1, 'unregisteredButton': 6, 'unregisteredPlaceholder': 6, 'email': 27, 'registeredButton': 6, 'alreadySubscribedMessage': 6, 'You’re': 7, 'thanksMessage': 6, 'You’ve': 6, 'signed': 6, 'as': 11, 'emailPreferencesLinkText': 6, 'Update': 6, 'mail': 6, 'preferences': 6, 'errorMessage': 6, 'Error': 6, 'submitting': 6, 'please': 6, 'try': 6, 'again': 7, 'registeredWelcome': 6, 'setTimeoutfunction': 8, 'widget': 6, 'documentgetElementByIdsmarterlivingformonly': 1, 'container': 7, 'widgetgetElementsByTagNamediv0': 6, 'form': 6, 'widgetgetElementsByTagNameform0': 6, 'status': 6, 'containergetAttributedatastatus': 6, 'notify': 6, 'widgetgetElementsByClassNamenotifyemail0': 6, 'ifnotify': 6, 'undefined': 12, 'origtext': 6, 'notifygetAttributeplaceholder': 6, 'newtext': 6, 'enter': 6, 'address': 6, 'containergetElementsByTagNamebutton0': 6, 'widgetsetAttributeclassclearfix': 6, 'notifyaddEventListenermouseoverfunction': 6, 'notifysetAttributeplaceholdernewtext': 6, 'notifyaddEventListenermouseoutfunction': 6, 'notifysetAttributeplaceholderorigtext': 6, 'notifyaddEventListenerfocusfunction': 6, 'notifysetAttributeplaceholder': 6, 'ifform': 6, 'notifyaddEventListenerkeyupfunction': 6, 'formsetAttributeclassdirtyform': 6, 'containersetAttributeclassnotsignedin': 6, 'containersetAttributeclasssignedin': 6, '2000': 7, 'signupfavor': 7, 'signupfavortopborder': 1, '32px': 1, 'signupfavorbottomborder': 1, '33px': 1, 'ahover': 2, 'tagline': 3, '125rem': 2, 'normal': 2, 'georgia': 1, 'roman': 1, '10625rem': 1, 'rgba501041452': 1, '04em': 1, 'moztransition': 1, '02s': 4, 'ease': 4, 'webkittransition': 1, 'mstransition': 1, 'transition': 1, 'support': 1, 'nobreak': 1, 'whitespace': 1, 'nowrap': 1, 'signupfavorhover': 1, 'rgba501041451': 1, 'nythpsubpromo': 1, 'Journalism': 2, 'matters': 2, 'essential': 3, 'than': 3, 'ever': 3, 'functionmain': 1, 'requirejquerynyt': 3, 'foundationmodelsuserdata': 1, 'foundationtrackingtrackingmixin': 1, 'foundationhosts': 1, 'userData': 2, 'trackingMixin': 2, 'hosts': 2, 'signupPromo': 1, 'taglines': 1, 'promo1': 3, 'promo2': 2, 'Independent': 2, 'journalism': 2, 'promo3': 2, 'reporting': 1, 'promo4': 2, 'Trusted': 1, 'promo5': 2, 'Like': 2, 'nowhere': 1, 'promo6': 2, 'Truth': 1, 'hard': 1, 'But': 1, 'easier': 1, 'looking': 1, 'Initialization': 1, 'called': 1, 'when': 2, 'instantiating': 1, 'method': 1, 'documentonclick': 1, 'ggraphicsubpromoclick': 1, 'functione': 1, 'epreventDefault': 2, 'signupPromohandleClick': 1, 'thisversion': 9, 'userDatareadyfunction': 1, 'signupPromohandleUserReady': 1, 'thislink': 3, 'httpswwwnytimescomDesktopHome': 1, 'trackImpression': 1, 'signupPromotrackingtrackingTriggerRaw': 1, 'signupPromoversion': 1, 'electionsubdesktophome': 2, 'handleUserReady': 1, 'consolelogabra': 1, 'windowNYTDAbrawwwsignupfavortestv4': 4, 'control': 1, 'userDataisHomeDeliverySubscriber': 1, 'userDataisWebSubscriber': 1, 'userDataisMobileSubscriber': 1, 'userDataisTabletSubscriber': 1, 'htmlhasClassgeocountryUS': 1, 'httpswwwnytimescomDesktopHomeINYT': 1, 'thiselfindsubscribelinkattrhref': 2, 'httpwwwnytimescomDesktopHomeINYT': 1, 'thisswitchText': 1, 'thiselfindtaglinehtml': 1, 'Support': 1, 'thiselfindsubscribehtmlSponsor': 1, 'student': 1, 'subscription': 1, 'today': 1, 'studentSponsor': 1, 'httpswwwnytimescomNativeSponsor': 2, 'user': 1, 'show': 1, 'element': 1, 'thiselremoveClasshidden': 1, 'thistrackImpression': 1, 'thiselclosestcolumnhasClassabcolumn': 1, 'thiseladdClasstopborder': 1, 'thiselclosestcolumnhasClassbcolumn': 1, 'thiseladdClasstopborderaddClassbottomborder': 1, 'switchText': 1, 'hasAbra': 3, 'false': 2, 'windowNYTDAbra': 1, 'check': 1, 'part': 1, 'AB': 1, 'test': 1, 'switch': 1, 'thiselfindtaglinehtmlthistaglinespromo1': 1, 'break': 6, 'thiselfindtaglinehtmlthistaglinespromo2': 1, '3': 1, 'thiselfindtaglinehtmlthistaglinespromo3': 1, 'thiselfindtaglinehtmlthistaglinespromo4': 1, '5': 4, 'thiselfindtaglinehtmlthistaglinespromo5': 1, '6': 1, 'thiselfindtaglinehtmlthistaglinespromo6': 1, 'handleClick': 1, 'thistrackingtrackingTriggerRaw': 1, 'eventName': 1, 'signup': 1, 'interaction': 1, 'windowlocationhref': 1, 'signupPromolink': 1, 'signupPromotracking': 1, 'signupPromopageManager': 1, 'signupPromohosts': 1, 'signupPromoinitialize': 1, 'Hamill': 2, 'Malibu': 1, 'family': 3, 'dog': 1, 'Millie': 1, 'Credit': 1, 'Ture': 1, 'Lillegraven': 1, 'Luke': 3, 'Skywalker': 3, 'Mark': 2, 'always': 1, 'embraced': 1, '“Star': 1, 'Wars”': 1, 'legacy': 1, 'he': 4, 'invited': 2, 'back': 1, '“The': 2, 'Force': 1, 'Awakens”': 1, 'Last': 2, 'Jedi”': 1, 'hesitated': 1, '“I': 1, 'just': 1, 'really': 1, 'scared”': 1, 'DAVE': 1, 'ITZKOFF': 1, 'Five': 2, 'Years': 5, 'Are': 5, 'Better': 2, 'Prepared': 2, 'McGEEHAN': 1, 'WINNIE': 1, 'HU': 1, 'While': 1, 'much': 1, 'City’s': 1, 'battered': 1, 'infrastructure': 1, 'been': 2, 'repaired': 1, 'even': 2, 'improved': 1, 'longterm': 1, 'resiliency': 1, 'measures': 1, 'are': 2, 'still': 1, 'years': 2, 'away': 1, 'Rebuilding': 2, 'On': 2, 'Staten': 1, 'Island': 1, 'Haunting': 1, 'Memories': 1, 'Warner': 1, 'Millionaire': 1, 'Who': 3, 'Became': 1, 'Tech’s': 1, 'Critic': 1, 'CECILIA': 1, 'KANG': 1, 'Democratic': 1, 'senator': 1, 'Virginia': 1, 'emblematic': 1, 'shifting': 1, 'politics': 1, 'big': 1, 'technology': 1, 'companies': 1, 'which': 1, 'congressional': 1, 'hearings': 1, 'week': 1, 'Facebook’s': 1, 'Most': 3, 'Disturbing': 1, 'Problems': 1, 'Abroad': 1, 'Series': 2, 'Astros': 4, 'Dodgers': 4, '12': 2, '10': 2, 'innings': 2, 'Outlast': 1, 'Dramatic': 2, 'Slugfest': 2, 'BILLY': 1, 'WITZ': 1, '541': 1, 'game': 1, 'lasted': 1, 'hours': 1, '17': 1, 'minutes': 1, 'featured': 1, '25': 1, 'runs': 1, 'seven': 1, 'homers': 1, 'Houston': 3, 'Astros’': 1, 'win': 1, 'put': 1, 'them': 1, 'brink': 1, 'title': 1, 'Monrovia': 1, 'Journal': 1, 'An': 1, 'Executive': 1, 'Mansion': 1, 'Fit': 1, '—': 3, 'Ghosts': 1, 'HELENE': 1, 'COOPER': 1, 'No': 3, 'slept': 1, 'mansion': 1, 'any': 2, 'extended': 1, 'period': 1, 'come': 1, 'decent': 1, 'end': 1, 'place': 1, 'Liberian': 1, 'tell': 1, 'haunted': 1, 'jinxed': 1, 'Virtual': 2, 'Reality': 2, 'Gets': 2, 'Naughty': 2, 'ALYSON': 1, 'KRUEGER': 1, '240degree': 1, 'views': 1, 'headsets': 1, '“sweet': 1, 'musty': 1, 'scents”': 1, 'kind': 1, 'pornography': 1, 'realism': 1, 'exciting': 1, 'some': 1, 'disturbing': 1, 'default': 2, 'conditions': 4, 'geocoded': 2, 'htmlgeodma501': 1, 'htmlgeoregionNJ': 1, 'Hitch': 1, 'Ride': 1, 'de': 2, 'Blasio’s': 1, 'Coattails': 1, 'A': 12, 'Democrat': 2, 'Says': 1, 'DAVID': 1, 'GOODMAN': 1, 'Justin': 1, 'Brannan': 1, 'Brooklyn': 1, 'seeking': 1, 'election': 1, 'City': 2, 'Council': 1, 'Mayor': 1, 'Blasio': 1, 'looms': 1, 'menacingly': 1, 'nythpGeoMBPromoAU': 3, 'nythpGeoMBPromoEU': 3, 'nythpGeoMBPromoAS': 2, 'nythpGeoCalTodayPromo': 2, 'htmlgeocontinentAS': 2, 'htmlgeocontinentOC': 2, 'htmlgeocountryAU': 10, 'htmlgeocontinentEU': 2, 'htmlgeocontinentAF': 2, 'htmlgeocontinentNAgeoregionCA': 2, 'nythpGeoMBPromo': 6, 'Morning': 12, 'Australia': 4, 'Edition': 4, 'stories': 5, 'matter': 5, 'readers': 4, 'through': 4, 'Friday': 4, 'morningbriefingwidgetau': 1, 'MBAU': 1, 'nythpmorningbriefingemailpromo': 5, 'documentgetElementByIdmorningbriefingwidgetau': 1, 'Asia': 2, 'morningbriefingwidgetas': 1, 'MBAE': 1, 'documentgetElementByIdmorningbriefingwidgetas': 1, 'Europe': 2, 'morningbriefingwidgeteu': 1, 'MBE': 1, 'documentgetElementByIdmorningbriefingwidgeteu': 1, 'Californians': 1, 'delivered': 1, 'weekday': 1, 'mornings': 1, 'californiatodaywidget': 1, 'CA': 1, 'documentgetElementByIdcaliforniatodaywidget': 1, 'Delivered': 1, 'inbox': 1, 'morningbriefingwidget': 1, 'NN': 1, 'documentgetElementByIdmorningbriefingwidget': 1, 'spanabbottomauregion': 1, 'visibility': 3, 'hidden': 2, 'spanabbottomregion': 13, 'columncolumnauregion': 3, 'column': 1, 'inherit': 1, 'visible': 1, 'spanablayout': 5, 'split3layout': 5, 'columnnthoftype1': 1, 'columnnthoftype4': 1, 'columnlastchild': 1, 'columnnthoftype3': 1, 'columnnthoftype6': 1, 'sectionheadingauregion': 5, 'sectionheading': 2, 'h2sectionheading': 1, 'h2sectionheadinghover': 1, 'h2sectionheadingactive': 1, 'divsplit3layoutappendspanabbottomauregion': 1, 'divsplit3layout': 3, 'divcolumnaddClasscolumnauregionremove': 1, 'divsplit3layoutprepend': 1, 'Picks': 1, 'auHeight': 1, 'maxspanabbottomregion': 1, 'articlemapfunctioni': 1, 'elheight': 1, 'columncolumnauregioncssminheight': 1, 'auHeight6px': 1, 'Australian': 2, 'Government': 1, 'Rejects': 1, 'Move': 2, 'Indigenous': 2, '‘Recognition’': 1, 'government': 1, 'proposal': 1, 'create': 1, 'body': 1, 'representing': 1, 'would': 1, 'have': 2, 'failed': 1, 'brought': 1, 'vote': 1, 'national': 1, 'referendum': 1, 'Deputy': 1, 'Among': 1, 'Lose': 1, 'Seats': 1, 'Over': 2, 'Citizenship': 1, 'high': 2, 'ruled': 1, 'Barnaby': 1, 'Joyce': 1, 'other': 1, 'lawmakers': 1, 'had': 2, 'ineligible': 1, 'run': 1, 'Parliament': 1, 'because': 2, 'they': 1, 'held': 1, 'dual': 1, 'citizenship': 1, 'Japanese': 2, 'Foodways': 1, 'Mix': 1, 'Off': 1, 'Winding': 1, 'Road': 1, 'small': 1, 'town': 1, 'South': 1, 'Wales': 1, 'rewards': 1, 'visitors': 1, 'locals': 1, 'charming': 1, 'cafe': 1, 'Sight': 1, 'Insight': 1, 'Desert': 1, 'artist': 1, 'Andrea': 1, 'Zittel': 1, 'spent': 1, 'nearly': 1, 'exploring': 1, 'solitude': 1, 'she’s': 1, 'inviting': 1, 'join': 2, '“Experimental': 1, 'Cabins”': 1, 'At': 1, 'Dinner': 2, 'Party': 4, 'When': 4, 'Bad': 3, 'Guest': 1, 'author': 1, 'too': 1, 'miserable': 1, 'polite': 1, 'dinner': 1, 'engagement': 1, 'didn’t': 1, 'want': 1, 'go': 1, 'rich': 1, 'man': 1, 'him': 1, 'MakeBelieve': 1, 'Is': 8, 'Too': 1, 'I': 5, 'my': 2, 'wife': 1, 'wasn’t': 1, 'going': 2, 'me': 1, 'son': 1, 'once': 1, 'she': 1, 'psychotic': 1, 'Silence': 2, 'Democrats': 3, 'MICHAEL': 1, 'TOMASKY': 1, 'aren’t': 1, 'potential': 1, '2020': 1, 'contenders': 1, 'taking': 1, 'stand': 1, 'way': 1, 'country': 1, 'heading': 1, 'Editorial': 2, 'Phil': 1, 'Murphy': 1, 'Governor': 2, 'Jersey': 1, 'Insect': 1, 'Armageddon': 1, 'Blow': 3, 'Checking': 2, 'My': 3, 'Male': 2, 'Privilege': 2, 'Leonhardt': 1, 'Donald': 2, 'Wants': 1, 'Raise': 1, 'Taxes': 1, 'Sex': 1, 'Love': 3, 'Aging': 1, 'Woman': 2, '451': 1, 'us': 1, 'Economy': 2, 'Can’t': 2, 'Grow': 2, 'Without': 2, 'Birth': 2, 'Control': 2, 'BRYCE': 1, 'COVERT': 1, 'promised': 1, 'growth': 1, 'He': 2, 'shouldn’t': 1, 'limit': 1, 'access': 1, 'contraception': 1, 'Neruda': 1, 'Pinochet': 1, 'Rumors': 1, 'Murder': 1, 'ARIEL': 1, 'DORFMAN': 1, '612': 1, 'Forensic': 1, 'investigations': 1, 'Pablo': 1, 'Neruda’s': 1, 'death': 1, '1973': 1, 'renewed': 1, 'speculation': 1, 'about': 1, 'actually': 1, 'died': 1, 'ccolumncolumn': 3, 'sectionopinion': 2, 'timetimestamp': 1, 'displaynone': 2, 'pthemecomments': 1, 'User': 1, 'Subscriptions': 5, 'To': 3, 'Find': 3, 'Story': 3, 'Needed': 3, 'Guide': 8, 'Fans': 2, 'Extra': 2, 'Innings': 2, 'LateGame': 2, 'Twists': 2, 'Reporters': 2, 'Less': 2, 'So': 2, 'Insider': 2, 'raquo': 33, 'Crossword': 4, 'Play': 2, 'Todayrsquos': 2, 'Puzzle': 2, 'Wordplay': 1, 'HIDE': 1, 'WATCHING': 1, 'HEADER': 1, 'portalcontainer': 1, 'header': 1, 'Watching': 1, 'requirehomepagemain': 2, 'httpsintnytcomappsportalsassetsportalapp31573ba689b023d9e52c26c6d6aa32abjs': 1, 'requireportalapp': 1, 'functionPortal': 1, 'opts': 2, 'env': 1, 'productionpublished': 1, 'matchHeight': 1, 'match': 1, 'spanablayoutlayout': 1, 'maxHeight': 1, 'windowlocationsearchindexOfportalvariantwatchingNoScroll': 1, 'optsvariation': 1, 'simple': 1, 'optspoll': 1, 'optslimit': 1, 'watching': 1, 'Portalcreatenytinthpwatching': 1, 'nythpNeediestCasesPromo': 4, 'storythemefeaturepromo': 1, 'georgiatimes': 1, 'Neediest': 2, 'Cases': 2, 'Her': 1, 'Peers': 1, 'Made': 1, 'School': 2, 'Look': 2, 'Easy': 1, 'Hard': 1, 'Work': 2, 'She’s': 1, 'Catching': 1, 'dropping': 1, 'out': 1, 'school': 1, 'Wendy': 1, 'Genao': 1, 'earned': 1, 'equivalency': 1, 'diploma': 1, 'enrolled': 1, 'college': 1, 'She': 2, 'finally': 1, 'feels': 1, 'like': 2, 'scholar': 1, 'its': 1, '106th': 1, 'Fund': 1, 'provided': 1, 'direct': 1, 'assistance': 1, 'those': 1, 'struggling': 1, 'beyond': 1, 'Donate': 1, 'Our': 3, 'Advertisers': 1, 'Loading': 2, 'video': 1, 'explore': 1, 'videos': 1, 'Player': 1, 'Inside': 1, 'Nytimescom': 1, 'previous': 1, 'story': 2, 'next': 1, 'Book': 1, 'Review': 5, 'Behind': 1, 'Bars': 1, 'Crime': 1, 'Didn’t': 1, 'Commit': 1, 'Behavior': 1, 'Great': 1, 'Art': 5, 'Citing': 1, 'Woody': 1, 'Allen': 1, 'Bill': 2, 'Cosby': 1, 'Wagner': 1, 'Caravaggio': 1, 'discuss': 1, 'whether': 1, 'artist’s': 1, 'misdeeds': 1, 'should': 1, 'taint': 1, 'work': 1, 'Live': 1, 'Outsmarting': 1, 'Primitive': 1, 'Responses': 1, 'Fear': 1, 'Build': 2, 'Skin': 1, 'Care': 1, 'Routine': 1, 'Sunday': 3, 'Breast': 1, 'Cancer': 1, 'Serious': 1, 'Pink': 1, 'Not': 1, 'Thinking': 1, 'Feet': 1, 'Design': 3, 'Dutch': 1, 'Treasure': 1, 'Trove': 1, 'Returns': 1, 'Perfect': 1, 'Paint': 1, 'Michelle': 1, 'Obama': 1, 'Amy': 1, 'Sherald’s': 1, 'artistic': 1, 'hands': 1, 'lady': 1, 'honored': 1, 'individual': 1, 'spectacular': 1, 'one': 1, 'deserves': 1, 'seen': 1, 'such': 1, 'Mind': 1, 'Mindfulness': 1, 'Chef': 1, 'Makes': 1, 'Case': 1, 'Local': 1, 'Alaskan': 1, 'Cuisine': 1, 'Yes': 2, 'Really': 1, 'Am': 1, 'This': 1, 'Beauty': 1, 'Pageant': 1, 'Sade’s': 1, 'Quiet': 1, 'Storm': 1, 'Cool': 1, 'Civil': 1, 'Servants': 1, 'Must': 1, 'Decide': 1, 'Resist': 1, 'Obey': 1, 'Madrid’s': 1, 'Rule': 1, 'Afghan': 1, 'Taliban': 1, 'Awash': 1, 'Heroin': 1, 'Cash': 1, 'Troubling': 1, 'Turn': 1, 'War': 3, 'Sixth': 1, 'Grade': 1, 'Straight': 1, 'Factory': 1, 'Day': 1, 'Uses': 1, 'Its': 1, 'Giant': 1, 'Rosneft': 1, 'Foreign': 1, 'Policy': 1, 'Tool': 1, 'France': 1, 'Land': 1, 'Croissants': 1, 'Butter': 1, 'Vanishing': 1, 'Shelves': 1, 'OpEd': 3, 'Contributor': 1, 'Bryce': 1, 'Covert': 1, 'Charles': 1, 'M': 1, 'Misconduct': 1, 'California’s': 1, 'Capitol': 1, 'Difficult': 1, 'Escape': 1, 'Calls': 1, 'Hollywood': 1, 'Rebuild': 1, 'Power': 1, 'Lines': 1, 'Worries': 1, 'Big': 2, 'Companies': 1, 'Post': 1, 'Glowing': 1, 'Quarterly': 1, 'Profits': 1, 'Fanned': 1, 'Flames': 1, 'Which': 2, 'Faces': 1, 'Blowback': 1, 'Bans': 1, 'Two': 1, 'KremlinBacked': 1, 'Outlets': 1, 'Advertising': 1, 'Kevin': 4, 'Spacey': 4, 'Apologizes': 4, 'Accusation': 4, 'Advance': 4, 'Reading': 1, 'Numbers': 1, 'Data': 1, 'Meets': 1, 'Literature': 1, 'Suspended': 1, 'Tweets': 1, 'Strangling': 1, 'Attack': 1, 'Tax': 1, '‘MiddleClass': 1, 'Con': 1, 'Job’': 1, 'Fashion': 2, 'Fall': 3, 'Dead': 1, '‘Terry': 1, 'Richardson': 1, 'Just': 3, 'Tip': 1, 'Iceberg’': 1, 'Movies': 2, '‘Jigsaw’': 1, 'Carves': 1, 'Clooney’s': 1, '‘Suburbicon’': 1, 'Box': 1, 'Office': 1, 'PostSandy': 1, 'leads': 1, 'series': 1, '32': 1, 'Down': 1, 'Dizzying': 1, 'BattleScarred': 1, 'West': 1, 'Wing': 1, 'Veteran': 1, 'Scripting': 1, 'NFL’s': 1, 'Anthem': 2, 'Message': 1, 'NFL': 1, 'Scores': 1, 'Texans': 1, 'Kneel': 1, 'During': 1, 'Protest': 1, 'Theater': 2, '‘Knives': 1, 'Hens’': 1, 'Wondrous': 1, 'Drama': 1, 'Lust': 1, 'Language': 1, 'Michael': 1, 'Moore': 1, 'Quarrel': 1, 'Broadway': 1, 'Trilobites': 3, 'Astronomers': 1, 'Study': 1, 'Mystery': 1, 'Object': 1, 'Outside': 1, 'Solar': 1, 'System': 1, 'TurkeySize': 1, 'Dinosaur': 1, 'RaccoonLike': 1, 'Bandit': 1, 'Mask': 1, 'Oysters': 1, 'Can': 2, '‘Hear’': 1, 'Probably': 1, 'Wish': 1, 'We’d': 1, 'Clam': 1, 'Obituaries': 2, 'Wopo': 1, 'Holup': 1, 'Adorned': 1, 'Spaces': 2, 'Dies': 3, '80': 1, 'Robert': 1, 'Blakeley': 1, 'Whose': 1, 'Shelter': 1, 'Symbolized': 1, 'Cold': 1, '95': 1, 'Fay': 1, 'Chiang': 1, '65': 1, 'Poet': 1, 'Championed': 1, 'AsianAmerican': 1, 'Culture': 1, 'Television': 2, '‘Stranger': 1, 'Things’': 1, 'Season': 1, 'Premiere': 1, 'Recap': 1, 'Lingering': 1, 'Effects': 1, 'Critic’s': 1, 'Notebook': 2, '‘TRL’': 1, 'Back': 2, 'MTV': 1, 'Undone': 1, 'Blocked': 1, 'Medicaid': 1, 'Expansion': 1, 'Maine': 1, 'Voters': 1, 'Could': 2, 'Overrule': 1, 'Him': 1, 'Old': 1, 'Age': 2, 'One': 1, 'Question': 1, 'Before': 1, 'Operation': 1, 'Frail': 1, 'Declares': 1, 'Opioid': 1, 'Crisis': 1, '‘Health': 1, 'Emergency’': 1, 'Requests': 1, 'Funds': 1, 'Ethiopia’s': 1, 'Imperiled': 1, 'Omo': 1, 'Valley': 1, 'Tribal': 1, 'Rituals': 1, 'AK47s': 1, 'Bargain': 1, 'Destinations': 1, 'SpiceLaden': 1, 'Kerala': 1, 'Break': 1, 'Urban': 1, 'India': 1, 'Books': 2, 'Nonfiction': 1, 'Stranger': 1, 'Than': 3, 'Fiction': 3, 'Best': 2, 'TrueCrime': 1, 'Stories': 1, 'Roundup': 2, 'Horror': 1, 'Indebted': 1, 'Early': 1, 'Master': 1, 'Villains': 1, 'Ourselves': 1, 'Thriller': 1, 'Education': 4, 'Campus': 2, 'Hate': 1, 'Lives': 1, 'Administrators': 1, 'Need': 1, 'Catch': 1, 'Classroom': 1, 'Setting': 1, 'Suits': 1, 'Game': 1, 'Help': 2, 'Students': 1, 'Pay': 1, 'Right': 2, 'Price': 1, 'College': 1, 'Kitchen': 1, 'Warming': 1, 'Curry': 1, 'Wine': 1, 'Lesson': 1, 'Savennières': 1, 'Matt': 1, 'Orlando': 1, 'Brings': 1, 'Sun': 1, 'Copenhagen': 1, 'Issue': 3, 'AllHandsOnDeck': 1, 'Dumpling': 1, 'Fondue': 1, 'Bedroom': 2, 'Rover': 2, 'Maybe': 2, 'Even': 2, 'Condo': 2, 'View': 2, 'Be': 1, 'Illegal': 1, 'Apartment': 1, 'Shopping': 2, 'Wingback': 1, 'Chairs': 1, 'Upshot': 1, 'Silver': 1, 'Costs': 1, 'Gold': 1, 'Actions': 1, 'Have': 1, 'Scrambled': 1, 'Insurance': 1, 'Prices': 1, 'Draw': 1, 'It': 1, 'Drug': 2, 'Overdose': 1, 'Epidemic': 1, 'Deaths': 1, 'America': 1, 'Rising': 1, 'Faster': 1, 'Ever': 1, 'Send': 1, 'Journalist': 1, '52Week': 1, 'Trot': 1, 'Around': 1, 'Globe': 1, 'Reporter’s': 1, 'Automobiles': 2, 'Automakers': 1, 'Chests': 1, 'Finance': 1, 'SelfDriving': 1, 'Future': 1, 'Subaru': 1, 'Admits': 1, 'Inspection': 1, 'Failings': 1, 'Another': 1, 'Japan’s': 1, 'Carmakers': 1, 'Wheels': 1, 'Forgetting': 1, 'Child': 1, 'Seat': 1, 'Kill': 1, 'Cars': 1, 'May': 1, 'Soon': 1, 'Warn': 1, 'Man': 1, 'Designing': 1, 'Instagram': 1, 'Some': 1, 'Things': 1, 'Editors': 1, 'Helsinki’s': 1, 'Saunas': 1, 'CAROLINE': 1, 'BIGGS': 1, 'serious': 1, 'animal': 1, 'lovers': 1, 'pets': 1, 'And': 1, 'doesn’t': 1, 'every': 1, 'member': 1, 'deserve': 1, 'own': 1, 'space': 1, 'Homes': 1, 'Sale': 2, 'Rent': 1, 'Mortgage': 1, 'Calculator': 1, 'Emailed': 1, 'Viewed': 1, 'Trending': 1, 'Recommended': 1, 'Home': 2, 'Page': 1, 'Index': 2, 'windowmagnumwriteLogosmall': 1, 'httpsa1nytcomassetshomepage20171018133349imagesfoundationlogos': 1, 'standard': 1, 'siteindexbrandinglink': 1, 'Todays': 3, 'Corrections': 1, 'Columnists': 1, 'Editorials': 1, 'Contributors': 1, 'Letters': 1, 'Dance': 1, 'Music': 1, 'NYC': 3, 'Events': 3, 'Jobs': 1, 'Weddings': 1, 'Celebrations': 1, 'Listings': 1, 'Reader': 1, 'Center': 1, 'Classifieds': 1, 'Tools': 1, 'Services': 1, 'Photography': 1, 'NYT': 1, 'Store': 1, 'Journeys': 1, 'Manage': 1, 'Account': 1, 'NYTCo': 1, 'Delivery': 1, 'Digital': 1, 'Email': 1, 'Newsletters': 1, 'Alerts': 1, 'Gift': 1, 'Corporate': 1, 'Rate': 1, 'Applications': 1, 'Replica': 1, 'Information': 2, 'copy': 1, 'Company': 1, 'Contact': 1, 'Us': 2, 'Advertise': 1, 'Ad': 1, 'Choices': 1, 'Privacy': 1, 'Terms': 2, 'Service': 1, 'Map': 1, 'Feedback': 1, 'Version': 1, 'windowlocationsearchindexOfdisabletagx': 1, 'requirehttpsa1nytcomanalyticstagxsimpleminjs': 1, 'pageManagertrackingFireEventQueue': 1}\n"
     ]
    }
   ],
   "source": [
    "from urllib import request\n",
    "def sourcecode(source) :\n",
    "    import string\n",
    "    url = source\n",
    "    f = request.urlopen(url)\n",
    "    source_bytes = f.read()\n",
    "    source = source_bytes.decode('utf-8')\n",
    "    source.strip()\n",
    "    l = len(source)\n",
    "    num = []\n",
    "    sw= True\n",
    "    count = 0\n",
    "\n",
    "    for c in range(l) :\n",
    "        if source[c] == '<' :\n",
    "            sw = False\n",
    "            continue\n",
    "        if source[c] == '>' :\n",
    "            sw = True\n",
    "            num.append(' ')\n",
    "            continue\n",
    "        if sw == True:\n",
    "            num.append(source[c])\n",
    "    c = 0\n",
    "    i = 0\n",
    "    string1=string.punctuation\n",
    "    for c in range(num.count('\\t')):\n",
    "        num.remove('\\t')\n",
    "    for i in range(len(num)):\n",
    "        for j in string1:\n",
    "            num[i]=num[i].replace(j,'')\n",
    "    i = 0\n",
    "    blank_count = num.count('')\n",
    "    for i in range(blank_count):\n",
    "        num.remove('')\n",
    "    st = ''.join(num)\n",
    "    #print(st)\n",
    "    key  =st.replace('//', ' ')\n",
    "    key = st.replace('--', ' ')\n",
    "    num=key.split()\n",
    "    v = []\n",
    "    num1 = num\n",
    "\n",
    "    for i in num:\n",
    "        dcount = 0\n",
    "        for j in num1:\n",
    "            if (i ==j):\n",
    "                dcount+=1\n",
    "        v.append(dcount)\n",
    "        \n",
    "    key = dict(zip(num,v))\n",
    "    return key\n",
    "    \n",
    "print(sourcecode('http://www.naver.com'))\n",
    "print(sourcecode('http://www.daum.net'))\n",
    "print(sourcecode('http://www.nytimes.com'))"
   ]
  },
  {
   "cell_type": "markdown",
   "metadata": {},
   "source": [
    "저번 과제에 덧붙여서 특수문자들을 for문을 사용하여 있는지 없는지 검사하여 있는 부분을 ''로 replace함수를 사용해여 대체했고 num과 같은 배열 num1을 만들어서 같은 단어가 몇번 반복됐는지 이중for문을 사용하여 알아내어 dcount로 구분하여 새로운배열 v에 넣어주었다\n",
    "그뒤 dict(zip())을 이용하여 사전으로 만들었다. key부분은 num배열 그리고 value부분은 v배열을 넣어 사전으로 출력했다."
   ]
  },
  {
   "cell_type": "markdown",
   "metadata": {},
   "source": [
    "## 소감\n",
    "- 시험기간 중에 과제여서 할 시간이 너무 빠듯해서 아쉬웠다. 사전을 이용하여 어떤 문자가 얼마나 나왔는지 나오는게 코딩해서 결과로 보니까 신기했다. 수업시간에 배운 내용을 활용해서 유익했다"
   ]
  },
  {
   "cell_type": "code",
   "execution_count": null,
   "metadata": {
    "collapsed": true
   },
   "outputs": [],
   "source": []
  }
 ],
 "metadata": {
  "kernelspec": {
   "display_name": "Python 3",
   "language": "python",
   "name": "python3"
  },
  "language_info": {
   "codemirror_mode": {
    "name": "ipython",
    "version": 3
   },
   "file_extension": ".py",
   "mimetype": "text/x-python",
   "name": "python",
   "nbconvert_exporter": "python",
   "pygments_lexer": "ipython3",
   "version": "3.6.1"
  }
 },
 "nbformat": 4,
 "nbformat_minor": 2
}
